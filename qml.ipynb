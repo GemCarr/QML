{
 "cells": [
  {
   "cell_type": "markdown",
   "id": "73349bb2-01fb-44a4-b725-251eca576c71",
   "metadata": {},
   "source": [
    "# QML Project"
   ]
  },
  {
   "cell_type": "markdown",
   "id": "48166b94-d8d7-4d64-8352-129c2c2ed737",
   "metadata": {},
   "source": [
    "```\n",
    "AUTHORS\n",
    "Charlie BROSSE  \n",
    "Guillaume CARRIERE  \n",
    "Marius DUBOSC\n",
    "```"
   ]
  },
  {
   "cell_type": "markdown",
   "id": "73f36b46",
   "metadata": {
    "id": "73f36b46"
   },
   "source": [
    "L'objectif du projet et de reproduire les circuits et les résultats obtenus dans le papier \"Polyadic Quantum Classifier\" (https://arxiv.org/abs/2007.14044)"
   ]
  },
  {
   "cell_type": "code",
   "execution_count": 3,
   "id": "wvj_1vHtjBbB",
   "metadata": {
    "id": "wvj_1vHtjBbB"
   },
   "outputs": [
    {
     "name": "stdout",
     "output_type": "stream",
     "text": [
      "Defaulting to user installation because normal site-packages is not writeable\n",
      "Requirement already satisfied: qiskit in /home/guillaume/.local/lib/python3.10/site-packages (0.39.5)\n",
      "Collecting qiskit\n",
      "  Downloading qiskit-0.40.0.tar.gz (14 kB)\n",
      "  Preparing metadata (setup.py) ... \u001b[?25ldone\n",
      "\u001b[?25hCollecting qiskit-terra==0.23.0\n",
      "  Downloading qiskit_terra-0.23.0-cp310-cp310-manylinux_2_17_x86_64.manylinux2014_x86_64.whl (5.1 MB)\n",
      "\u001b[2K     \u001b[90m━━━━━━━━━━━━━━━━━━━━━━━━━━━━━━━━━━━━━━━━\u001b[0m \u001b[32m5.1/5.1 MB\u001b[0m \u001b[31m2.0 MB/s\u001b[0m eta \u001b[36m0:00:00\u001b[0m00:01\u001b[0m00:01\u001b[0m\n",
      "\u001b[?25hRequirement already satisfied: qiskit-aer==0.11.2 in /home/guillaume/.local/lib/python3.10/site-packages (from qiskit) (0.11.2)\n",
      "Requirement already satisfied: qiskit-ibmq-provider==0.19.2 in /home/guillaume/.local/lib/python3.10/site-packages (from qiskit) (0.19.2)\n",
      "Requirement already satisfied: numpy>=1.16.3 in /home/guillaume/.local/lib/python3.10/site-packages (from qiskit-aer==0.11.2->qiskit) (1.23.4)\n",
      "Requirement already satisfied: scipy>=1.0 in /home/guillaume/.local/lib/python3.10/site-packages (from qiskit-aer==0.11.2->qiskit) (1.9.3)\n",
      "Requirement already satisfied: websockets>=10.0 in /home/guillaume/.local/lib/python3.10/site-packages (from qiskit-ibmq-provider==0.19.2->qiskit) (10.4)\n",
      "Requirement already satisfied: requests>=2.19 in /home/guillaume/.local/lib/python3.10/site-packages (from qiskit-ibmq-provider==0.19.2->qiskit) (2.28.1)\n",
      "Requirement already satisfied: requests-ntlm>=1.1.0 in /home/guillaume/.local/lib/python3.10/site-packages (from qiskit-ibmq-provider==0.19.2->qiskit) (1.1.0)\n",
      "Requirement already satisfied: urllib3>=1.21.1 in /home/guillaume/.local/lib/python3.10/site-packages (from qiskit-ibmq-provider==0.19.2->qiskit) (1.26.12)\n",
      "Requirement already satisfied: python-dateutil>=2.8.0 in /home/guillaume/.local/lib/python3.10/site-packages (from qiskit-ibmq-provider==0.19.2->qiskit) (2.8.2)\n",
      "Requirement already satisfied: websocket-client>=1.0.1 in /home/guillaume/.local/lib/python3.10/site-packages (from qiskit-ibmq-provider==0.19.2->qiskit) (1.4.2)\n",
      "Requirement already satisfied: stevedore>=3.0.0 in /home/guillaume/.local/lib/python3.10/site-packages (from qiskit-terra==0.23.0->qiskit) (4.1.1)\n",
      "Requirement already satisfied: psutil>=5 in /home/guillaume/.local/lib/python3.10/site-packages (from qiskit-terra==0.23.0->qiskit) (5.9.4)\n",
      "Requirement already satisfied: symengine>=0.9 in /home/guillaume/.local/lib/python3.10/site-packages (from qiskit-terra==0.23.0->qiskit) (0.9.2)\n",
      "Requirement already satisfied: rustworkx>=0.12.0 in /home/guillaume/.local/lib/python3.10/site-packages (from qiskit-terra==0.23.0->qiskit) (0.12.0)\n",
      "Requirement already satisfied: sympy>=1.3 in /home/guillaume/.local/lib/python3.10/site-packages (from qiskit-terra==0.23.0->qiskit) (1.11.1)\n",
      "Requirement already satisfied: ply>=3.10 in /usr/lib/python3.10/site-packages (from qiskit-terra==0.23.0->qiskit) (3.11)\n",
      "Requirement already satisfied: dill>=0.3 in /home/guillaume/.local/lib/python3.10/site-packages (from qiskit-terra==0.23.0->qiskit) (0.3.6)\n",
      "Requirement already satisfied: six>=1.5 in /home/guillaume/.local/lib/python3.10/site-packages (from python-dateutil>=2.8.0->qiskit-ibmq-provider==0.19.2->qiskit) (1.16.0)\n",
      "Requirement already satisfied: idna<4,>=2.5 in /home/guillaume/.local/lib/python3.10/site-packages (from requests>=2.19->qiskit-ibmq-provider==0.19.2->qiskit) (3.4)\n",
      "Requirement already satisfied: charset-normalizer<3,>=2 in /home/guillaume/.local/lib/python3.10/site-packages (from requests>=2.19->qiskit-ibmq-provider==0.19.2->qiskit) (2.1.1)\n",
      "Requirement already satisfied: certifi>=2017.4.17 in /home/guillaume/.local/lib/python3.10/site-packages (from requests>=2.19->qiskit-ibmq-provider==0.19.2->qiskit) (2022.9.24)\n",
      "Requirement already satisfied: ntlm-auth>=1.0.2 in /home/guillaume/.local/lib/python3.10/site-packages (from requests-ntlm>=1.1.0->qiskit-ibmq-provider==0.19.2->qiskit) (1.5.0)\n",
      "Requirement already satisfied: cryptography>=1.3 in /home/guillaume/.local/lib/python3.10/site-packages (from requests-ntlm>=1.1.0->qiskit-ibmq-provider==0.19.2->qiskit) (38.0.3)\n",
      "Requirement already satisfied: pbr!=2.1.0,>=2.0.0 in /home/guillaume/.local/lib/python3.10/site-packages (from stevedore>=3.0.0->qiskit-terra==0.23.0->qiskit) (5.11.0)\n",
      "Requirement already satisfied: mpmath>=0.19 in /home/guillaume/.local/lib/python3.10/site-packages (from sympy>=1.3->qiskit-terra==0.23.0->qiskit) (1.2.1)\n",
      "Requirement already satisfied: cffi>=1.12 in /usr/lib/python3.10/site-packages (from cryptography>=1.3->requests-ntlm>=1.1.0->qiskit-ibmq-provider==0.19.2->qiskit) (1.15.1)\n",
      "Requirement already satisfied: pycparser in /usr/lib/python3.10/site-packages (from cffi>=1.12->cryptography>=1.3->requests-ntlm>=1.1.0->qiskit-ibmq-provider==0.19.2->qiskit) (2.21)\n",
      "Building wheels for collected packages: qiskit\n",
      "  Building wheel for qiskit (setup.py) ... \u001b[?25ldone\n",
      "\u001b[?25h  Created wheel for qiskit: filename=qiskit-0.40.0-py3-none-any.whl size=12823 sha256=ad5a1a912619c030e3f8d46c08a9e9b1be29b54b11a389ca3ee7ac2a9e654d7d\n",
      "  Stored in directory: /home/guillaume/.cache/pip/wheels/c5/00/ef/b840aa2b1f36f5d392fc563ce3c992fb54d1a4d6ea0c29dc00\n",
      "Successfully built qiskit\n",
      "Installing collected packages: qiskit-terra, qiskit\n",
      "  Attempting uninstall: qiskit-terra\n",
      "    Found existing installation: qiskit-terra 0.22.4\n",
      "    Uninstalling qiskit-terra-0.22.4:\n",
      "      Successfully uninstalled qiskit-terra-0.22.4\n",
      "  Attempting uninstall: qiskit\n",
      "    Found existing installation: qiskit 0.39.5\n",
      "    Uninstalling qiskit-0.39.5:\n",
      "      Successfully uninstalled qiskit-0.39.5\n",
      "Successfully installed qiskit-0.40.0 qiskit-terra-0.23.0\n"
     ]
    }
   ],
   "source": [
    "!pip3 install qiskit --upgrade"
   ]
  },
  {
   "cell_type": "code",
   "execution_count": 4,
   "id": "ee7f8b50",
   "metadata": {
    "id": "ee7f8b50"
   },
   "outputs": [],
   "source": [
    "import qiskit\n",
    "from scipy.special import erfinv\n",
    "import numpy as np\n",
    "import pandas as pd\n",
    "import scipy as sp\n",
    "from sklearn.model_selection import train_test_split\n",
    "import time\n",
    "from qiskit.providers.ibmq.managed import IBMQJobManager\n",
    "\n",
    "qs = qiskit.Aer.get_backend('qasm_simulator')"
   ]
  },
  {
   "cell_type": "markdown",
   "id": "801e5e59-f8a7-4088-bc0a-9f454353d6cf",
   "metadata": {},
   "source": [
    "# Useful functions"
   ]
  },
  {
   "cell_type": "markdown",
   "id": "c36a7a73-13c8-4e34-a07b-fd60f783f630",
   "metadata": {},
   "source": [
    "## Preprocessing functions"
   ]
  },
  {
   "cell_type": "markdown",
   "id": "71e43bd2-ce9c-49f7-8503-4a4ca519ab01",
   "metadata": {},
   "source": [
    "These functions correspond to the data encoding functions from the original paper."
   ]
  },
  {
   "cell_type": "code",
   "execution_count": 5,
   "id": "a37e0fb4-d140-4e14-9698-eaea02edcda6",
   "metadata": {
    "tags": []
   },
   "outputs": [],
   "source": [
    "def standardise(x):\n",
    "    return (x - np.mean(x)) / np.std(x)\n",
    "\n",
    "def rescaleFeature(x, alpha, q):\n",
    "    return (1-alpha/2) * (np.pi/q) * standardise(x)"
   ]
  },
  {
   "cell_type": "markdown",
   "id": "f24482ee-0bea-4a78-952c-5d737c316ac0",
   "metadata": {},
   "source": [
    "## Circuit functions"
   ]
  },
  {
   "cell_type": "markdown",
   "id": "b5323bef-fa08-44b8-bd3a-4187e5a4eb80",
   "metadata": {},
   "source": [
    "This is a function to construct a basic psi gate, as described in the paper."
   ]
  },
  {
   "cell_type": "code",
   "execution_count": 6,
   "id": "3632e066-2792-4b8d-9f1e-7de5580c4c3e",
   "metadata": {},
   "outputs": [],
   "source": [
    "def psiGate(qc, param, bit):\n",
    "    qc.rx(np.pi/2, bit)\n",
    "    qc.rz(param, bit)\n",
    "    qc.rx(np.pi/2, bit)"
   ]
  },
  {
   "cell_type": "markdown",
   "id": "a37df251-b80f-4622-bd67-98ac74536e9e",
   "metadata": {},
   "source": [
    "# Quantum Classifier Class"
   ]
  },
  {
   "cell_type": "markdown",
   "id": "f946d9ab-52b0-4dc4-814d-e0ba1ad3a031",
   "metadata": {},
   "source": [
    "This is the loss function described in the paper. Only relevant bitstrings are taken into account."
   ]
  },
  {
   "cell_type": "code",
   "execution_count": 7,
   "id": "2b6dcbe3-4e17-4cb5-a37f-1304194f0986",
   "metadata": {},
   "outputs": [],
   "source": [
    "def logSoftmax(label, job_results, bitstrings, nshots) :\n",
    "    if label in job_results :\n",
    "        e = np.exp(job_results[label] / nshots)\n",
    "    else :\n",
    "        e = 1\n",
    "        \n",
    "    s = 0\n",
    "    for bitstring in bitstrings :\n",
    "        if bitstring in job_results :\n",
    "            s += np.exp(job_results[bitstring] / nshots)\n",
    "        else :\n",
    "            s += 1 \n",
    "            \n",
    "    return -np.log(e / s)\n"
   ]
  },
  {
   "cell_type": "markdown",
   "id": "ca7e226d-2081-4ac5-a699-89cf321ff98e",
   "metadata": {},
   "source": [
    "This is our main class which we will use to train an predict. By default we will use COBYLA and our previously defined loss to train."
   ]
  },
  {
   "cell_type": "code",
   "execution_count": 8,
   "id": "59165a3f-58b4-496a-8e0c-6f80c7a72f71",
   "metadata": {},
   "outputs": [],
   "source": [
    "class QuantumClassifier:\n",
    "\n",
    "    def __init__(self, circuit_builder, bitstrings, theta_size, loss_function = logSoftmax, optimizer_method = \"COBYLA\"):\n",
    "        self.circuit_builder = circuit_builder\n",
    "        self.circuit=None\n",
    "        self.bitstrings = bitstrings\n",
    "        self.theta_size = theta_size\n",
    "        self.loss_function = loss_function\n",
    "        self.optimizer_method = optimizer_method\n",
    "        self.theta = None\n",
    "        self.nshots = 100\n",
    "        \n",
    "    \n",
    "    # Training functions\n",
    "    def executeJob(self, circuit):\n",
    "        job = qiskit.execute(circuit, shots=self.nshots, backend=qs)\n",
    "        return job.result().get_counts()\n",
    "    \n",
    "    def build_circuit(self, theta, X):\n",
    "        omega = X\n",
    "        self.circuit = self.circuit_builder(theta, omega)\n",
    "        return self.circuit\n",
    "\n",
    "    def runCircuit(self, theta, X, y):\n",
    "        self.build_circuit(theta, X)\n",
    "        job_results = self.executeJob(self.circuit)\n",
    "        label = y\n",
    "        return self.loss_function(label, job_results, self.bitstrings, self.nshots)\n",
    "    \n",
    "    def runIBM(self, X, theta, backend):\n",
    "        circuit_list=[self.build_circuit(theta, X_el) for X_el in X]\n",
    "        circs = qiskit.transpile(circuit_list, backend=backend)\n",
    "        job_manager = IBMQJobManager()\n",
    "        job_set = job_manager.run(circs, backend=backend, nam='iris')\n",
    "        while(job_set.statuses()[0].name != 'DONE'):\n",
    "            time.sleep(0.1)\n",
    "            \n",
    "        return job_set.results()\n",
    "        \n",
    "    def lossBatch(self, theta, X, y, backend=None):\n",
    "    \n",
    "        total_loss = 0\n",
    "\n",
    "        batch = list(zip(X, y))\n",
    "\n",
    "        if backend is None:\n",
    "            for X_el, y_el in zip(X, y) :\n",
    "                total_loss += self.runCircuit(theta, X_el, y_el)\n",
    "        else:\n",
    "            results = self.runIBM(X, theta, backend)\n",
    "            for i in range(len(y)):\n",
    "                total_loss+=self.loss_function(y[i], results.get_counts(i), self.bitstrings, self.nshots)\n",
    "\n",
    "        total_loss /= len(y)\n",
    "        print(\"loss: \" + str(total_loss))\n",
    "        return total_loss\n",
    "        \n",
    "    def fit(self, X, y, nshots=100, maxiter=20, theta=None, backend=None):\n",
    "        \n",
    "        if theta is not None:\n",
    "            self.theta = theta\n",
    "            \n",
    "        if self.theta is None:\n",
    "            self.theta = np.random.uniform(0, 2 * np.pi, self.theta_size)            \n",
    "            \n",
    "        self.nshots = nshots\n",
    "\n",
    "        opt = sp.optimize.minimize(\n",
    "            fun=lambda params : self.lossBatch(params, X, y, backend),\n",
    "            x0=self.theta,\n",
    "            method=self.optimizer_method,\n",
    "            options={'maxiter': maxiter}\n",
    "        )\n",
    "        \n",
    "        self.theta = opt.x\n",
    "        \n",
    "        return opt\n",
    "    \n",
    "    # Testing functions\n",
    "    def argmaxJobResults(self, job_results):\n",
    "        max_label_value = None\n",
    "        max_label = None\n",
    "    \n",
    "        for label in job_results :\n",
    "            if label in self.bitstrings and (max_label_value is None or job_results[label] >= max_label_value) :\n",
    "                max_label = label\n",
    "                max_label_value = job_results[label]\n",
    "        return max_label\n",
    "    \n",
    "    def predict(self, X, theta=None, nshots=100, backend=None):\n",
    "        \n",
    "        if theta is not None:\n",
    "            self.theta = theta\n",
    "            \n",
    "        self.nshots = nshots\n",
    "        \n",
    "        y_pred = []\n",
    "        \n",
    "        if backend is None:\n",
    "            for omega in X :    \n",
    "                self.circuit = self.circuit_builder(self.theta, omega)\n",
    "                job_results = self.executeJob(self.circuit)\n",
    "                y_pred.append(self.argmaxJobResults(job_results))\n",
    "        else :\n",
    "            results = self.runIBM(X, self.theta, backend)\n",
    "            y_pred = [self.argmaxJobResults(results.get_counts(i)) for i in range(len(X))]\n",
    "\n",
    "        return y_pred\n",
    "\n",
    "    def compute_accuracy(self, y_pred, y) :\n",
    "        correct = 0\n",
    "\n",
    "        for y_pred_el, y_el in zip(y_pred, y) :\n",
    "            if y_pred_el == y_el :\n",
    "                correct += 1\n",
    "        \n",
    "        return correct / len(y)"
   ]
  },
  {
   "cell_type": "markdown",
   "id": "a1b906b7",
   "metadata": {},
   "source": [
    "# I - IRIS"
   ]
  },
  {
   "cell_type": "markdown",
   "id": "39ec5b24",
   "metadata": {
    "id": "39ec5b24"
   },
   "source": [
    "## Construct dataset"
   ]
  },
  {
   "cell_type": "markdown",
   "id": "6f8ead7e-1123-4902-98df-6fcb5c2e5559",
   "metadata": {},
   "source": [
    "### Import dataset"
   ]
  },
  {
   "cell_type": "code",
   "execution_count": 68,
   "id": "e7b1fdae-a728-4d14-ae01-b8a6fb56d215",
   "metadata": {},
   "outputs": [
    {
     "data": {
      "text/html": [
       "<div>\n",
       "<style scoped>\n",
       "    .dataframe tbody tr th:only-of-type {\n",
       "        vertical-align: middle;\n",
       "    }\n",
       "\n",
       "    .dataframe tbody tr th {\n",
       "        vertical-align: top;\n",
       "    }\n",
       "\n",
       "    .dataframe thead th {\n",
       "        text-align: right;\n",
       "    }\n",
       "</style>\n",
       "<table border=\"1\" class=\"dataframe\">\n",
       "  <thead>\n",
       "    <tr style=\"text-align: right;\">\n",
       "      <th></th>\n",
       "      <th>sepal-length</th>\n",
       "      <th>sepal-width</th>\n",
       "      <th>petal-length</th>\n",
       "      <th>petal-width</th>\n",
       "      <th>class</th>\n",
       "    </tr>\n",
       "  </thead>\n",
       "  <tbody>\n",
       "    <tr>\n",
       "      <th>0</th>\n",
       "      <td>5.1</td>\n",
       "      <td>3.5</td>\n",
       "      <td>1.4</td>\n",
       "      <td>0.2</td>\n",
       "      <td>Iris-setosa</td>\n",
       "    </tr>\n",
       "    <tr>\n",
       "      <th>1</th>\n",
       "      <td>4.9</td>\n",
       "      <td>3.0</td>\n",
       "      <td>1.4</td>\n",
       "      <td>0.2</td>\n",
       "      <td>Iris-setosa</td>\n",
       "    </tr>\n",
       "    <tr>\n",
       "      <th>2</th>\n",
       "      <td>4.7</td>\n",
       "      <td>3.2</td>\n",
       "      <td>1.3</td>\n",
       "      <td>0.2</td>\n",
       "      <td>Iris-setosa</td>\n",
       "    </tr>\n",
       "    <tr>\n",
       "      <th>3</th>\n",
       "      <td>4.6</td>\n",
       "      <td>3.1</td>\n",
       "      <td>1.5</td>\n",
       "      <td>0.2</td>\n",
       "      <td>Iris-setosa</td>\n",
       "    </tr>\n",
       "    <tr>\n",
       "      <th>4</th>\n",
       "      <td>5.0</td>\n",
       "      <td>3.6</td>\n",
       "      <td>1.4</td>\n",
       "      <td>0.2</td>\n",
       "      <td>Iris-setosa</td>\n",
       "    </tr>\n",
       "    <tr>\n",
       "      <th>...</th>\n",
       "      <td>...</td>\n",
       "      <td>...</td>\n",
       "      <td>...</td>\n",
       "      <td>...</td>\n",
       "      <td>...</td>\n",
       "    </tr>\n",
       "    <tr>\n",
       "      <th>145</th>\n",
       "      <td>6.7</td>\n",
       "      <td>3.0</td>\n",
       "      <td>5.2</td>\n",
       "      <td>2.3</td>\n",
       "      <td>Iris-virginica</td>\n",
       "    </tr>\n",
       "    <tr>\n",
       "      <th>146</th>\n",
       "      <td>6.3</td>\n",
       "      <td>2.5</td>\n",
       "      <td>5.0</td>\n",
       "      <td>1.9</td>\n",
       "      <td>Iris-virginica</td>\n",
       "    </tr>\n",
       "    <tr>\n",
       "      <th>147</th>\n",
       "      <td>6.5</td>\n",
       "      <td>3.0</td>\n",
       "      <td>5.2</td>\n",
       "      <td>2.0</td>\n",
       "      <td>Iris-virginica</td>\n",
       "    </tr>\n",
       "    <tr>\n",
       "      <th>148</th>\n",
       "      <td>6.2</td>\n",
       "      <td>3.4</td>\n",
       "      <td>5.4</td>\n",
       "      <td>2.3</td>\n",
       "      <td>Iris-virginica</td>\n",
       "    </tr>\n",
       "    <tr>\n",
       "      <th>149</th>\n",
       "      <td>5.9</td>\n",
       "      <td>3.0</td>\n",
       "      <td>5.1</td>\n",
       "      <td>1.8</td>\n",
       "      <td>Iris-virginica</td>\n",
       "    </tr>\n",
       "  </tbody>\n",
       "</table>\n",
       "<p>150 rows × 5 columns</p>\n",
       "</div>"
      ],
      "text/plain": [
       "     sepal-length  sepal-width  petal-length  petal-width           class\n",
       "0             5.1          3.5           1.4          0.2     Iris-setosa\n",
       "1             4.9          3.0           1.4          0.2     Iris-setosa\n",
       "2             4.7          3.2           1.3          0.2     Iris-setosa\n",
       "3             4.6          3.1           1.5          0.2     Iris-setosa\n",
       "4             5.0          3.6           1.4          0.2     Iris-setosa\n",
       "..            ...          ...           ...          ...             ...\n",
       "145           6.7          3.0           5.2          2.3  Iris-virginica\n",
       "146           6.3          2.5           5.0          1.9  Iris-virginica\n",
       "147           6.5          3.0           5.2          2.0  Iris-virginica\n",
       "148           6.2          3.4           5.4          2.3  Iris-virginica\n",
       "149           5.9          3.0           5.1          1.8  Iris-virginica\n",
       "\n",
       "[150 rows x 5 columns]"
      ]
     },
     "execution_count": 68,
     "metadata": {},
     "output_type": "execute_result"
    }
   ],
   "source": [
    "df_iris = pd.read_csv(\"iris.data\")\n",
    "df_iris"
   ]
  },
  {
   "cell_type": "markdown",
   "id": "cf73ca45-ee64-48a5-a42e-edfaf8d11946",
   "metadata": {},
   "source": [
    "### Preprocess"
   ]
  },
  {
   "cell_type": "markdown",
   "id": "a5f70a9f-3644-4441-ac63-bc7e251411d5",
   "metadata": {},
   "source": [
    "Preprocessing consists in computing the encoding function of the paper. We will use a fixed q value of 3 and alpha value of 1/10 as done in the paper."
   ]
  },
  {
   "cell_type": "code",
   "execution_count": 69,
   "id": "1401a0fe-cff1-4d5e-85dc-56e9b4b088f5",
   "metadata": {
    "id": "57aae14e"
   },
   "outputs": [
    {
     "data": {
      "text/html": [
       "<div>\n",
       "<style scoped>\n",
       "    .dataframe tbody tr th:only-of-type {\n",
       "        vertical-align: middle;\n",
       "    }\n",
       "\n",
       "    .dataframe tbody tr th {\n",
       "        vertical-align: top;\n",
       "    }\n",
       "\n",
       "    .dataframe thead th {\n",
       "        text-align: right;\n",
       "    }\n",
       "</style>\n",
       "<table border=\"1\" class=\"dataframe\">\n",
       "  <thead>\n",
       "    <tr style=\"text-align: right;\">\n",
       "      <th></th>\n",
       "      <th>sepal-length</th>\n",
       "      <th>sepal-width</th>\n",
       "      <th>petal-length</th>\n",
       "      <th>petal-width</th>\n",
       "      <th>class</th>\n",
       "    </tr>\n",
       "  </thead>\n",
       "  <tbody>\n",
       "    <tr>\n",
       "      <th>0</th>\n",
       "      <td>-0.896032</td>\n",
       "      <td>1.026729</td>\n",
       "      <td>-1.334348</td>\n",
       "      <td>-1.306199</td>\n",
       "      <td>Iris-setosa</td>\n",
       "    </tr>\n",
       "    <tr>\n",
       "      <th>1</th>\n",
       "      <td>-1.137116</td>\n",
       "      <td>-0.124313</td>\n",
       "      <td>-1.334348</td>\n",
       "      <td>-1.306199</td>\n",
       "      <td>Iris-setosa</td>\n",
       "    </tr>\n",
       "    <tr>\n",
       "      <th>2</th>\n",
       "      <td>-1.378201</td>\n",
       "      <td>0.336104</td>\n",
       "      <td>-1.390920</td>\n",
       "      <td>-1.306199</td>\n",
       "      <td>Iris-setosa</td>\n",
       "    </tr>\n",
       "    <tr>\n",
       "      <th>3</th>\n",
       "      <td>-1.498743</td>\n",
       "      <td>0.105896</td>\n",
       "      <td>-1.277776</td>\n",
       "      <td>-1.306199</td>\n",
       "      <td>Iris-setosa</td>\n",
       "    </tr>\n",
       "    <tr>\n",
       "      <th>4</th>\n",
       "      <td>-1.016574</td>\n",
       "      <td>1.256938</td>\n",
       "      <td>-1.334348</td>\n",
       "      <td>-1.306199</td>\n",
       "      <td>Iris-setosa</td>\n",
       "    </tr>\n",
       "    <tr>\n",
       "      <th>...</th>\n",
       "      <td>...</td>\n",
       "      <td>...</td>\n",
       "      <td>...</td>\n",
       "      <td>...</td>\n",
       "      <td>...</td>\n",
       "    </tr>\n",
       "    <tr>\n",
       "      <th>145</th>\n",
       "      <td>1.032646</td>\n",
       "      <td>-0.124313</td>\n",
       "      <td>0.815393</td>\n",
       "      <td>1.440481</td>\n",
       "      <td>Iris-virginica</td>\n",
       "    </tr>\n",
       "    <tr>\n",
       "      <th>146</th>\n",
       "      <td>0.550477</td>\n",
       "      <td>-1.275354</td>\n",
       "      <td>0.702249</td>\n",
       "      <td>0.917304</td>\n",
       "      <td>Iris-virginica</td>\n",
       "    </tr>\n",
       "    <tr>\n",
       "      <th>147</th>\n",
       "      <td>0.791562</td>\n",
       "      <td>-0.124313</td>\n",
       "      <td>0.815393</td>\n",
       "      <td>1.048098</td>\n",
       "      <td>Iris-virginica</td>\n",
       "    </tr>\n",
       "    <tr>\n",
       "      <th>148</th>\n",
       "      <td>0.429934</td>\n",
       "      <td>0.796521</td>\n",
       "      <td>0.928537</td>\n",
       "      <td>1.440481</td>\n",
       "      <td>Iris-virginica</td>\n",
       "    </tr>\n",
       "    <tr>\n",
       "      <th>149</th>\n",
       "      <td>0.068307</td>\n",
       "      <td>-0.124313</td>\n",
       "      <td>0.758821</td>\n",
       "      <td>0.786510</td>\n",
       "      <td>Iris-virginica</td>\n",
       "    </tr>\n",
       "  </tbody>\n",
       "</table>\n",
       "<p>150 rows × 5 columns</p>\n",
       "</div>"
      ],
      "text/plain": [
       "     sepal-length  sepal-width  petal-length  petal-width           class\n",
       "0       -0.896032     1.026729     -1.334348    -1.306199     Iris-setosa\n",
       "1       -1.137116    -0.124313     -1.334348    -1.306199     Iris-setosa\n",
       "2       -1.378201     0.336104     -1.390920    -1.306199     Iris-setosa\n",
       "3       -1.498743     0.105896     -1.277776    -1.306199     Iris-setosa\n",
       "4       -1.016574     1.256938     -1.334348    -1.306199     Iris-setosa\n",
       "..            ...          ...           ...          ...             ...\n",
       "145      1.032646    -0.124313      0.815393     1.440481  Iris-virginica\n",
       "146      0.550477    -1.275354      0.702249     0.917304  Iris-virginica\n",
       "147      0.791562    -0.124313      0.815393     1.048098  Iris-virginica\n",
       "148      0.429934     0.796521      0.928537     1.440481  Iris-virginica\n",
       "149      0.068307    -0.124313      0.758821     0.786510  Iris-virginica\n",
       "\n",
       "[150 rows x 5 columns]"
      ]
     },
     "execution_count": 69,
     "metadata": {},
     "output_type": "execute_result"
    }
   ],
   "source": [
    "alpha = 0.1\n",
    "q = 3\n",
    "\n",
    "attributes = df_iris.columns[:-1]\n",
    "\n",
    "for x in attributes:\n",
    "    df_iris[x] = rescaleFeature(df_iris[x], alpha, q)\n",
    "\n",
    "df_iris"
   ]
  },
  {
   "cell_type": "markdown",
   "id": "b604a259-7d50-44e6-960e-442415412f35",
   "metadata": {},
   "source": [
    "We will attribute each class to the bistrings 00, 01 and 10. Thus, 11 will remain unused."
   ]
  },
  {
   "cell_type": "code",
   "execution_count": 70,
   "id": "2212a6e4-ba2c-4c7e-907b-5ed60bea3b53",
   "metadata": {
    "id": "57aae14e"
   },
   "outputs": [
    {
     "data": {
      "text/html": [
       "<div>\n",
       "<style scoped>\n",
       "    .dataframe tbody tr th:only-of-type {\n",
       "        vertical-align: middle;\n",
       "    }\n",
       "\n",
       "    .dataframe tbody tr th {\n",
       "        vertical-align: top;\n",
       "    }\n",
       "\n",
       "    .dataframe thead th {\n",
       "        text-align: right;\n",
       "    }\n",
       "</style>\n",
       "<table border=\"1\" class=\"dataframe\">\n",
       "  <thead>\n",
       "    <tr style=\"text-align: right;\">\n",
       "      <th></th>\n",
       "      <th>sepal-length</th>\n",
       "      <th>sepal-width</th>\n",
       "      <th>petal-length</th>\n",
       "      <th>petal-width</th>\n",
       "      <th>class</th>\n",
       "    </tr>\n",
       "  </thead>\n",
       "  <tbody>\n",
       "    <tr>\n",
       "      <th>0</th>\n",
       "      <td>-0.896032</td>\n",
       "      <td>1.026729</td>\n",
       "      <td>-1.334348</td>\n",
       "      <td>-1.306199</td>\n",
       "      <td>00</td>\n",
       "    </tr>\n",
       "    <tr>\n",
       "      <th>1</th>\n",
       "      <td>-1.137116</td>\n",
       "      <td>-0.124313</td>\n",
       "      <td>-1.334348</td>\n",
       "      <td>-1.306199</td>\n",
       "      <td>00</td>\n",
       "    </tr>\n",
       "    <tr>\n",
       "      <th>2</th>\n",
       "      <td>-1.378201</td>\n",
       "      <td>0.336104</td>\n",
       "      <td>-1.390920</td>\n",
       "      <td>-1.306199</td>\n",
       "      <td>00</td>\n",
       "    </tr>\n",
       "    <tr>\n",
       "      <th>3</th>\n",
       "      <td>-1.498743</td>\n",
       "      <td>0.105896</td>\n",
       "      <td>-1.277776</td>\n",
       "      <td>-1.306199</td>\n",
       "      <td>00</td>\n",
       "    </tr>\n",
       "    <tr>\n",
       "      <th>4</th>\n",
       "      <td>-1.016574</td>\n",
       "      <td>1.256938</td>\n",
       "      <td>-1.334348</td>\n",
       "      <td>-1.306199</td>\n",
       "      <td>00</td>\n",
       "    </tr>\n",
       "    <tr>\n",
       "      <th>...</th>\n",
       "      <td>...</td>\n",
       "      <td>...</td>\n",
       "      <td>...</td>\n",
       "      <td>...</td>\n",
       "      <td>...</td>\n",
       "    </tr>\n",
       "    <tr>\n",
       "      <th>145</th>\n",
       "      <td>1.032646</td>\n",
       "      <td>-0.124313</td>\n",
       "      <td>0.815393</td>\n",
       "      <td>1.440481</td>\n",
       "      <td>10</td>\n",
       "    </tr>\n",
       "    <tr>\n",
       "      <th>146</th>\n",
       "      <td>0.550477</td>\n",
       "      <td>-1.275354</td>\n",
       "      <td>0.702249</td>\n",
       "      <td>0.917304</td>\n",
       "      <td>10</td>\n",
       "    </tr>\n",
       "    <tr>\n",
       "      <th>147</th>\n",
       "      <td>0.791562</td>\n",
       "      <td>-0.124313</td>\n",
       "      <td>0.815393</td>\n",
       "      <td>1.048098</td>\n",
       "      <td>10</td>\n",
       "    </tr>\n",
       "    <tr>\n",
       "      <th>148</th>\n",
       "      <td>0.429934</td>\n",
       "      <td>0.796521</td>\n",
       "      <td>0.928537</td>\n",
       "      <td>1.440481</td>\n",
       "      <td>10</td>\n",
       "    </tr>\n",
       "    <tr>\n",
       "      <th>149</th>\n",
       "      <td>0.068307</td>\n",
       "      <td>-0.124313</td>\n",
       "      <td>0.758821</td>\n",
       "      <td>0.786510</td>\n",
       "      <td>10</td>\n",
       "    </tr>\n",
       "  </tbody>\n",
       "</table>\n",
       "<p>150 rows × 5 columns</p>\n",
       "</div>"
      ],
      "text/plain": [
       "     sepal-length  sepal-width  petal-length  petal-width class\n",
       "0       -0.896032     1.026729     -1.334348    -1.306199    00\n",
       "1       -1.137116    -0.124313     -1.334348    -1.306199    00\n",
       "2       -1.378201     0.336104     -1.390920    -1.306199    00\n",
       "3       -1.498743     0.105896     -1.277776    -1.306199    00\n",
       "4       -1.016574     1.256938     -1.334348    -1.306199    00\n",
       "..            ...          ...           ...          ...   ...\n",
       "145      1.032646    -0.124313      0.815393     1.440481    10\n",
       "146      0.550477    -1.275354      0.702249     0.917304    10\n",
       "147      0.791562    -0.124313      0.815393     1.048098    10\n",
       "148      0.429934     0.796521      0.928537     1.440481    10\n",
       "149      0.068307    -0.124313      0.758821     0.786510    10\n",
       "\n",
       "[150 rows x 5 columns]"
      ]
     },
     "execution_count": 70,
     "metadata": {},
     "output_type": "execute_result"
    }
   ],
   "source": [
    "diconvert = {\n",
    "    \"Iris-setosa\" : \"00\",\n",
    "    \"Iris-versicolor\" : \"01\",\n",
    "    \"Iris-virginica\" : \"10\"\n",
    "}\n",
    "\n",
    "df_iris = df_iris.replace({\"class\": diconvert})\n",
    "df_iris"
   ]
  },
  {
   "cell_type": "code",
   "execution_count": 71,
   "id": "af4fb61b-167e-4aa4-a590-86f2a51ee501",
   "metadata": {
    "id": "57aae14e"
   },
   "outputs": [],
   "source": [
    "X_iris = df_iris[attributes].values\n",
    "y_iris = df_iris[\"class\"].values"
   ]
  },
  {
   "cell_type": "markdown",
   "id": "31fe2a8a-b57b-42f3-8e5c-842df05a0081",
   "metadata": {},
   "source": [
    "### Split"
   ]
  },
  {
   "cell_type": "markdown",
   "id": "2be94dbc-cb75-41c8-84ed-b222e6f6b692",
   "metadata": {},
   "source": [
    "We will use a training size of 90 samples and a test size of 60 samples as done in the paper."
   ]
  },
  {
   "cell_type": "code",
   "execution_count": 72,
   "id": "a6781711-4d52-43a8-8b21-7cb0f6ab419a",
   "metadata": {
    "id": "57aae14e"
   },
   "outputs": [],
   "source": [
    "train_size = 90\n",
    "test_size = 60\n",
    "\n",
    "X_train_iris, X_test_iris, y_train_iris, y_test_iris = train_test_split(X_iris, y_iris, test_size=test_size, train_size=train_size, stratify=y_iris)"
   ]
  },
  {
   "cell_type": "markdown",
   "id": "954e97a9-b134-4246-91e3-357e7699d789",
   "metadata": {},
   "source": [
    "## Circuit"
   ]
  },
  {
   "cell_type": "code",
   "execution_count": 73,
   "id": "eb6b2bdd",
   "metadata": {
    "id": "eb6b2bdd"
   },
   "outputs": [],
   "source": [
    "def irisCircuit(theta, omega):\n",
    "    qc = qiskit.QuantumCircuit(2, 2)\n",
    "    \n",
    "    iris_circuit = qiskit.QuantumCircuit(2)\n",
    "    for i in range(4):\n",
    "        if i : iris_circuit.cz(0, 1)\n",
    "        psiGate(iris_circuit, omega[(2*i) % 4], 0)\n",
    "        psiGate(iris_circuit, omega[(2*i+1) % 4], 1)\n",
    "        \n",
    "        iris_circuit.cz(0, 1)\n",
    "        \n",
    "        psiGate(iris_circuit, theta[(2*i)], 0)\n",
    "        psiGate(iris_circuit, theta[(2*i+1)], 1)\n",
    "        \n",
    "    qc.append(iris_circuit, range(2))\n",
    "    qc.measure(range(2), range(2))\n",
    "    \n",
    "    return qc"
   ]
  },
  {
   "cell_type": "code",
   "execution_count": 74,
   "id": "d7d5ccff-01e0-4456-9768-9f4723c1bdf1",
   "metadata": {},
   "outputs": [
    {
     "data": {
      "image/png": "[encoded data removed]",
      "text/plain": [
       "<Figure size 2879.24x284.278 with 1 Axes>"
      ]
     },
     "execution_count": 74,
     "metadata": {},
     "output_type": "execute_result"
    }
   ],
   "source": [
    "irisCircuit(np.zeros(8), np.zeros(4)).decompose().draw(\"mpl\", fold=40)"
   ]
  },
  {
   "cell_type": "markdown",
   "id": "c5a49de3-7c4b-4a76-bcaf-ee3f42dd03ad",
   "metadata": {},
   "source": [
    "## Train"
   ]
  },
  {
   "cell_type": "code",
   "execution_count": 80,
   "id": "8db45951-258f-4e0e-84fb-1535e4153541",
   "metadata": {},
   "outputs": [],
   "source": [
    "iris_classifier = QuantumClassifier(irisCircuit, ['00', '01', '10'], 8)"
   ]
  },
  {
   "cell_type": "code",
   "execution_count": 81,
   "id": "18debf5b",
   "metadata": {},
   "outputs": [
    {
     "name": "stdout",
     "output_type": "stream",
     "text": [
      "loss: 1.2735323887045151\n",
      "loss: 1.1718801236186907\n",
      "loss: 1.2324405340367024\n",
      "loss: 1.2664346979741157\n",
      "loss: 1.1175406555889311\n",
      "loss: 1.0622498453135347\n",
      "loss: 1.0151486614861684\n",
      "loss: 1.0900066905803163\n",
      "loss: 1.1250377506786045\n",
      "loss: 1.072620888236843\n",
      "loss: 1.0501957989193778\n",
      "loss: 1.0094022336828274\n",
      "loss: 1.0103526952067445\n",
      "loss: 1.0052971009731828\n",
      "loss: 0.9878345183303362\n",
      "loss: 0.9903551566248611\n",
      "loss: 1.0402254418535222\n",
      "loss: 0.9618354100470838\n",
      "loss: 0.9607524617519037\n",
      "loss: 0.9679968865653854\n"
     ]
    }
   ],
   "source": [
    "opt_iris = iris_classifier.fit(X_train_iris, y_train_iris, nshots=250, maxiter=20)"
   ]
  },
  {
   "cell_type": "code",
   "execution_count": 82,
   "id": "f8f6895d",
   "metadata": {},
   "outputs": [
    {
     "name": "stdout",
     "output_type": "stream",
     "text": [
      "loss: 0.9582465901801178\n",
      "loss: 1.0749028486341663\n",
      "loss: 0.9225626244540264\n",
      "loss: 0.9756631756863803\n",
      "loss: 0.8941148847725875\n",
      "loss: 0.9974574588160832\n",
      "loss: 0.9207587440156678\n",
      "loss: 0.952636218491907\n",
      "loss: 0.972632147152224\n",
      "loss: 0.9213298321935598\n",
      "loss: 0.8948012494546044\n",
      "loss: 0.9092861114082177\n",
      "loss: 0.9225709160238295\n",
      "loss: 0.8959439697128706\n",
      "loss: 0.9016683857201802\n",
      "loss: 0.8952412853696875\n",
      "loss: 0.8939307737628386\n",
      "loss: 0.8839615049469335\n",
      "loss: 0.8861760824655706\n",
      "loss: 0.886726441271685\n",
      "loss: 0.8814864336914114\n",
      "loss: 0.8856103238641917\n",
      "loss: 0.8754753700558717\n",
      "loss: 0.8783047197799196\n",
      "loss: 0.8738613866808768\n",
      "loss: 0.8876659097431598\n",
      "loss: 0.8899400979426036\n",
      "loss: 0.8762545708943167\n",
      "loss: 0.88116571935026\n",
      "loss: 0.8779008366868327\n"
     ]
    }
   ],
   "source": [
    "opt_iris = iris_classifier.fit(X_train_iris, y_train_iris, nshots=500, maxiter=30)"
   ]
  },
  {
   "cell_type": "code",
   "execution_count": 83,
   "id": "3bd95424",
   "metadata": {},
   "outputs": [
    {
     "name": "stdout",
     "output_type": "stream",
     "text": [
      "loss: 0.876087515889859\n",
      "loss: 0.9597645831695871\n",
      "loss: 0.9232370550543325\n",
      "loss: 0.9770083615475934\n",
      "loss: 0.9514096450230225\n",
      "loss: 0.9825744968415844\n",
      "loss: 0.939544385807174\n",
      "loss: 0.909012848569127\n",
      "loss: 0.9325982462654478\n",
      "loss: 0.8839914774612132\n",
      "loss: 0.8808756725655738\n",
      "loss: 0.8832185742613766\n",
      "loss: 0.8771032150065217\n",
      "loss: 0.8816933938312472\n",
      "loss: 0.8783723917710413\n",
      "loss: 0.8879624058368214\n",
      "loss: 0.8851629078513827\n",
      "loss: 0.8696139982143529\n",
      "loss: 0.8718292404512002\n",
      "loss: 0.8709858145089162\n",
      "loss: 0.872345472016939\n",
      "loss: 0.8703716739403131\n",
      "loss: 0.8634314748415421\n",
      "loss: 0.8665661379366972\n",
      "loss: 0.8718919387615423\n",
      "loss: 0.8597393437424097\n",
      "loss: 0.8679341581692708\n",
      "loss: 0.8617380900317626\n",
      "loss: 0.8557310420140997\n",
      "loss: 0.8644489629426474\n",
      "loss: 0.8559947734671935\n",
      "loss: 0.8522501792626871\n",
      "loss: 0.8543380157373588\n",
      "loss: 0.854031093395401\n",
      "loss: 0.8505953248897408\n",
      "loss: 0.8538295574063759\n",
      "loss: 0.858256278489285\n",
      "loss: 0.8531383809742759\n",
      "loss: 0.8528479946353666\n",
      "loss: 0.8531001510212997\n",
      "loss: 0.8536125484627483\n",
      "loss: 0.8506473078372606\n",
      "loss: 0.8513799184881999\n",
      "loss: 0.853951513594944\n",
      "loss: 0.8531365827703586\n",
      "loss: 0.851448343058329\n",
      "loss: 0.8543166033010575\n",
      "loss: 0.8508007313497568\n",
      "loss: 0.8523640379190125\n",
      "loss: 0.8493702211437909\n",
      "loss: 0.8526201551094857\n",
      "loss: 0.8498618217380793\n",
      "loss: 0.8491544039644002\n",
      "loss: 0.8541260311332617\n",
      "loss: 0.8530168777350714\n",
      "loss: 0.8519277319147402\n",
      "loss: 0.8510400837651932\n",
      "loss: 0.8506392582140121\n",
      "loss: 0.8522458902745277\n",
      "loss: 0.8545187936054126\n",
      "loss: 0.8528220415727605\n",
      "loss: 0.851460902051251\n",
      "loss: 0.8526630602169666\n",
      "loss: 0.8512059780896911\n",
      "loss: 0.8516541755794299\n",
      "loss: 0.8513496913521168\n",
      "loss: 0.8503664048033936\n",
      "loss: 0.8517716035676255\n",
      "loss: 0.8512883710143028\n",
      "loss: 0.8523053463854656\n"
     ]
    }
   ],
   "source": [
    "opt_iris = iris_classifier.fit(X_train_iris, y_train_iris, nshots=750, maxiter=70)"
   ]
  },
  {
   "cell_type": "markdown",
   "id": "b518ffea-ca72-4822-ba89-b94ca822a88b",
   "metadata": {},
   "source": [
    "## Compute results"
   ]
  },
  {
   "cell_type": "code",
   "execution_count": 84,
   "id": "c9ee17ee-6ab8-46fc-b332-adc2bf602ffa",
   "metadata": {},
   "outputs": [
    {
     "data": {
      "text/plain": [
       "0.7555555555555555"
      ]
     },
     "execution_count": 84,
     "metadata": {},
     "output_type": "execute_result"
    }
   ],
   "source": [
    "y_pred_iris = iris_classifier.predict(X_train_iris, nshots=1000)\n",
    "iris_classifier.compute_accuracy(y_pred_iris, y_train_iris)"
   ]
  },
  {
   "cell_type": "code",
   "execution_count": 88,
   "id": "63ce36fe",
   "metadata": {
    "id": "63ce36fe"
   },
   "outputs": [
    {
     "data": {
      "text/plain": [
       "0.8833333333333333"
      ]
     },
     "execution_count": 88,
     "metadata": {},
     "output_type": "execute_result"
    }
   ],
   "source": [
    "y_pred_iris = iris_classifier.predict(X_test_iris, nshots=1000)\n",
    "iris_classifier.compute_accuracy(y_pred_iris, y_test_iris)"
   ]
  },
  {
   "cell_type": "markdown",
   "id": "4ed8cfdd-4787-46ea-ad35-d5204f6a403c",
   "metadata": {},
   "source": [
    "We obtain a precision of 88,3%, which is pretty good, but this result can fluctuate."
   ]
  },
  {
   "cell_type": "markdown",
   "id": "594a00a8",
   "metadata": {},
   "source": [
    "# II - Gaussian XOR"
   ]
  },
  {
   "cell_type": "markdown",
   "id": "a29b036d-f86c-4858-95ba-1919b481bde2",
   "metadata": {},
   "source": [
    "## Construct dataset"
   ]
  },
  {
   "cell_type": "markdown",
   "id": "f4880313-5115-43e7-a127-1f03bd9932ed",
   "metadata": {},
   "source": [
    "### Generate dataset"
   ]
  },
  {
   "cell_type": "markdown",
   "id": "172225b9-9b74-46fc-a8e0-7e3bb1c53653",
   "metadata": {},
   "source": [
    "The training dataset is generated by sampling points from 2D gaussian distributions centered around key points. These key points will be on the cartesian axes. Points from the x-axis will have label 0 and points from the y-axis will have label 1.\n",
    "\n",
    "The testing dataset will simply be the whole space."
   ]
  },
  {
   "cell_type": "code",
   "execution_count": 39,
   "id": "1b4a5dfd-756d-472c-8c76-67ad03f51b29",
   "metadata": {},
   "outputs": [],
   "source": [
    "import numpy as np\n",
    "import math"
   ]
  },
  {
   "cell_type": "code",
   "execution_count": 40,
   "id": "ed504155-5c7b-4a49-82f9-36230dc58e91",
   "metadata": {},
   "outputs": [],
   "source": [
    "def generate_gaussian_point(x, y) :\n",
    "    pick_x = np.random.normal(loc=x, scale = 0.5)\n",
    "    pick_y = np.random.normal(loc=y, scale = 0.5)\n",
    "    return [pick_x, pick_y]"
   ]
  },
  {
   "cell_type": "code",
   "execution_count": 41,
   "id": "3557a9fa-08ee-427d-ad1d-3e4d95ec704a",
   "metadata": {},
   "outputs": [],
   "source": [
    "center1 = (-np.pi / 2, 0)\n",
    "center2 = (np.pi / 2, 0)\n",
    "center3 = (0, -np.pi / 2)\n",
    "center4 = (0, np.pi / 2)\n",
    "\n",
    "centers = [center1, center2, center3, center4]\n"
   ]
  },
  {
   "cell_type": "code",
   "execution_count": 42,
   "id": "cd7cd6a7-ee55-479f-953c-ca177528195a",
   "metadata": {},
   "outputs": [],
   "source": [
    "X_train_xor = []\n",
    "y_train_xor = []\n",
    "\n",
    "for i in range(20) :\n",
    "    X_train_xor.append(generate_gaussian_point(*center1))\n",
    "    y_train_xor.append(0)\n",
    "    \n",
    "    X_train_xor.append(generate_gaussian_point(*center2))\n",
    "    y_train_xor.append(0)\n",
    "    \n",
    "    X_train_xor.append(generate_gaussian_point(*center3))\n",
    "    y_train_xor.append(1)\n",
    "    \n",
    "    X_train_xor.append(generate_gaussian_point(*center4))\n",
    "    y_train_xor.append(1)\n",
    "    \n",
    "X_train_xor = np.array(X_train_xor)\n",
    "y_train_xor = np.array(y_train_xor)"
   ]
  },
  {
   "cell_type": "code",
   "execution_count": 43,
   "id": "7e20849e-fa00-4529-bcd8-98b82b6c5c91",
   "metadata": {},
   "outputs": [],
   "source": [
    "lin = np.linspace(-np.pi, np.pi, num = 50)\n",
    "X_test_xor = np.array([[x, y] for x in lin for y in lin])\n",
    "\n",
    "y_test_xor = [1 if abs(el[0]) < abs(el[1]) else 0 for el in X_test_xor]"
   ]
  },
  {
   "cell_type": "code",
   "execution_count": 44,
   "id": "da085843-21ee-4f8d-9659-a35efa02eeea",
   "metadata": {},
   "outputs": [
    {
     "data": {
      "text/plain": [
       "(-3.141592653589793, 3.141592653589793)"
      ]
     },
     "execution_count": 44,
     "metadata": {},
     "output_type": "execute_result"
    },
    {
     "data": {
      "image/png": "[encoded data removed]",
      "text/plain": [
       "<Figure size 360x360 with 1 Axes>"
      ]
     },
     "metadata": {
      "needs_background": "light"
     },
     "output_type": "display_data"
    }
   ],
   "source": [
    "import matplotlib.pyplot as plt\n",
    "\n",
    "plt.rcParams['figure.figsize'] = [5,5]\n",
    "\n",
    "c = [\"blue\" if el==0 else \"red\" for el in y_train_xor]\n",
    "\n",
    "plt.scatter(X_train_xor[:, 0], X_train_xor[:, 1], color=c)\n",
    "\n",
    "x,y = zip(*centers)\n",
    "plt.scatter(x, y, color='green')\n",
    "\n",
    "\n",
    "\n",
    "x = np.linspace(-np.pi, np.pi, 100)\n",
    "y = x\n",
    "y2 = - x\n",
    "\n",
    "plt.plot(x,y)\n",
    "plt.plot(x,y2)\n",
    "\n",
    "plt.xlim([-np.pi, np.pi])\n",
    "plt.ylim([-np.pi, np.pi])"
   ]
  },
  {
   "cell_type": "markdown",
   "id": "be653f45-5374-416f-8523-23d20d13e76e",
   "metadata": {},
   "source": [
    "### Preprocess"
   ]
  },
  {
   "cell_type": "markdown",
   "id": "581a1718-135a-488a-8924-1fff7ccc0511",
   "metadata": {},
   "source": [
    "We will attribute each class to the bistrings 00 and 10. Thus, 01 and 11 will remain unused."
   ]
  },
  {
   "cell_type": "code",
   "execution_count": 45,
   "id": "4b899521-2e4f-4506-ac17-7d91799d1a4e",
   "metadata": {},
   "outputs": [
    {
     "data": {
      "text/plain": [
       "['00', '00', '10', '10', '00', '00', '10', '10', '00', '00']"
      ]
     },
     "execution_count": 45,
     "metadata": {},
     "output_type": "execute_result"
    }
   ],
   "source": [
    "diconvert = {\n",
    "    0 : \"00\",\n",
    "    1 : \"10\",\n",
    "}\n",
    "\n",
    "new_y_train_xor = [diconvert[x] for x in y_train_xor]\n",
    "new_y_test_xor = [diconvert[x] for x in y_test_xor]\n",
    "\n",
    "y_train_xor = new_y_train_xor\n",
    "y_test_xor = new_y_test_xor\n",
    "\n",
    "y_train_xor[:10]"
   ]
  },
  {
   "cell_type": "markdown",
   "id": "12164653-08fd-4ac3-9127-86598882d3ec",
   "metadata": {},
   "source": [
    "## Circuit"
   ]
  },
  {
   "cell_type": "code",
   "execution_count": 46,
   "id": "1210de68-21a9-4e47-b9b3-c74e3f636826",
   "metadata": {},
   "outputs": [],
   "source": [
    "def xorCircuit(theta, omega):\n",
    "    qc = qiskit.QuantumCircuit(2, 2)\n",
    "    \n",
    "    xor_circuit = qiskit.QuantumCircuit(2)\n",
    "    \n",
    "    psiGate(xor_circuit, omega[0], 0)\n",
    "    psiGate(xor_circuit, omega[1], 1)\n",
    "    \n",
    "    for i in range(2):\n",
    "        xor_circuit.cz(0, 1)\n",
    "        psiGate(xor_circuit, theta[2*i], 0)\n",
    "        psiGate(xor_circuit, theta[2*i+1], 1)\n",
    "        \n",
    "    \n",
    "    qc.append(xor_circuit, range(2))\n",
    "    qc.measure(range(2), range(2))\n",
    "    return qc"
   ]
  },
  {
   "cell_type": "code",
   "execution_count": 47,
   "id": "6463dcfa-ea6d-41ec-9270-80b725cae6c5",
   "metadata": {},
   "outputs": [
    {
     "data": {
      "image/png": "[encoded data removed]",
      "text/plain": [
       "<Figure size 869.052x204.68 with 1 Axes>"
      ]
     },
     "execution_count": 47,
     "metadata": {},
     "output_type": "execute_result"
    }
   ],
   "source": [
    "xorCircuit(np.zeros(8), np.zeros(4)).decompose().draw(\"mpl\", fold=40)"
   ]
  },
  {
   "cell_type": "markdown",
   "id": "f3f4ba1d-0841-454a-995c-9c0b6c7d84ab",
   "metadata": {},
   "source": [
    "## Train"
   ]
  },
  {
   "cell_type": "code",
   "execution_count": 48,
   "id": "06b82f55-5806-45d4-aa7b-839cc99bf82e",
   "metadata": {},
   "outputs": [],
   "source": [
    "xor_classifier = QuantumClassifier(xorCircuit, ['00', '10'], 4)"
   ]
  },
  {
   "cell_type": "code",
   "execution_count": 49,
   "id": "83080e8f",
   "metadata": {},
   "outputs": [
    {
     "name": "stdout",
     "output_type": "stream",
     "text": [
      "loss: 0.7258457305201179\n",
      "loss: 0.6577982315198929\n",
      "loss: 0.6208488846070925\n",
      "loss: 0.6731241301079912\n",
      "loss: 0.664806747621615\n",
      "loss: 0.5862289066318775\n",
      "loss: 0.607732042243055\n",
      "loss: 0.55781323357923\n",
      "loss: 0.5397164853359713\n",
      "loss: 0.5346650813535125\n",
      "loss: 0.5221365439977059\n",
      "loss: 0.554938353109352\n",
      "loss: 0.518467925793018\n",
      "loss: 0.5118523284247681\n",
      "loss: 0.5339804163210923\n",
      "loss: 0.5172506169110445\n",
      "loss: 0.5208285262857524\n",
      "loss: 0.5129082301774803\n",
      "loss: 0.5104780020135531\n",
      "loss: 0.5144783199389562\n",
      "loss: 0.5087814431429829\n",
      "loss: 0.5116065608964562\n",
      "loss: 0.513524971848329\n",
      "loss: 0.5105337115994203\n",
      "loss: 0.5094860267769701\n",
      "loss: 0.5093445344190037\n",
      "loss: 0.510285718875054\n",
      "loss: 0.5105418658201838\n",
      "loss: 0.5110383984523172\n",
      "loss: 0.5098688408108125\n",
      "loss: 0.5107305288859396\n",
      "loss: 0.5124210419711661\n",
      "loss: 0.5091949798243057\n",
      "loss: 0.5100179021563832\n",
      "loss: 0.5123897549164438\n",
      "loss: 0.5102960861684803\n",
      "loss: 0.5115018496143354\n",
      "loss: 0.5085178184522583\n",
      "loss: 0.5106540511164247\n",
      "loss: 0.5105232831093257\n",
      "loss: 0.5131967220439947\n",
      "loss: 0.509562933229611\n",
      "loss: 0.5098182345331952\n",
      "loss: 0.5103712879355827\n",
      "loss: 0.5100002053945029\n",
      "loss: 0.5122957747702046\n",
      "loss: 0.5102841231296352\n",
      "loss: 0.5110779701758598\n",
      "loss: 0.5117942174678719\n",
      "loss: 0.5086224735872512\n",
      "loss: 0.5100209868278792\n",
      "loss: 0.5097965599759207\n",
      "loss: 0.5115081166024869\n"
     ]
    },
    {
     "data": {
      "text/plain": [
       "     fun: 0.5115081166024869\n",
       "   maxcv: 0.0\n",
       " message: 'Optimization terminated successfully.'\n",
       "    nfev: 53\n",
       "  status: 1\n",
       " success: True\n",
       "       x: array([7.95974666, 6.45291286, 1.54828324, 3.24947226])"
      ]
     },
     "execution_count": 49,
     "metadata": {},
     "output_type": "execute_result"
    }
   ],
   "source": [
    "xor_opt = xor_classifier.fit(X_train_xor, y_train_xor, nshots=250, maxiter=80)\n",
    "xor_opt"
   ]
  },
  {
   "cell_type": "markdown",
   "id": "d96cafbc-bd77-429a-b5df-736332b0ee93",
   "metadata": {},
   "source": [
    "## Compute results"
   ]
  },
  {
   "cell_type": "code",
   "execution_count": 50,
   "id": "8c527cb7-3e5e-4e23-b26f-0f5a3a49f593",
   "metadata": {},
   "outputs": [
    {
     "data": {
      "text/plain": [
       "0.9625"
      ]
     },
     "execution_count": 50,
     "metadata": {},
     "output_type": "execute_result"
    }
   ],
   "source": [
    "y_pred_xor = xor_classifier.predict(X_train_xor)\n",
    "xor_classifier.compute_accuracy(y_pred_xor, y_train_xor)"
   ]
  },
  {
   "cell_type": "code",
   "execution_count": 51,
   "id": "6cd3cff5-963d-4cb8-89a8-c37e7301ee4c",
   "metadata": {},
   "outputs": [],
   "source": [
    "y_pred_xor = xor_classifier.predict(X_test_xor)"
   ]
  },
  {
   "cell_type": "code",
   "execution_count": 52,
   "id": "e9172fc7-455c-4e77-ac7c-0a33e129fdd7",
   "metadata": {},
   "outputs": [
    {
     "data": {
      "text/plain": [
       "(-3.141592653589793, 3.141592653589793)"
      ]
     },
     "execution_count": 52,
     "metadata": {},
     "output_type": "execute_result"
    },
    {
     "data": {
      "image/png": "[encoded data removed]",
      "text/plain": [
       "<Figure size 360x360 with 1 Axes>"
      ]
     },
     "metadata": {
      "needs_background": "light"
     },
     "output_type": "display_data"
    }
   ],
   "source": [
    "plt.rcParams['figure.figsize'] = [5,5]\n",
    "\n",
    "\n",
    "c = [\"blue\" if el==\"00\" else \"red\" for el in y_pred_xor]\n",
    "plt.scatter(X_test_xor[:, 0], X_test_xor[:, 1], color=c)\n",
    "\n",
    "x = np.linspace(-np.pi, np.pi, 100)\n",
    "y = x\n",
    "y2 = - x\n",
    "\n",
    "plt.plot(x,y)\n",
    "plt.plot(x,y2)\n",
    "\n",
    "plt.xlim([-np.pi, np.pi])\n",
    "plt.ylim([-np.pi, np.pi])"
   ]
  },
  {
   "cell_type": "code",
   "execution_count": 53,
   "id": "93652479-2d63-434b-b98f-4981d9f4f4e5",
   "metadata": {},
   "outputs": [
    {
     "data": {
      "text/plain": [
       "0.9372"
      ]
     },
     "execution_count": 53,
     "metadata": {},
     "output_type": "execute_result"
    }
   ],
   "source": [
    "xor_classifier.compute_accuracy(y_pred_xor, y_test_xor)"
   ]
  },
  {
   "cell_type": "markdown",
   "id": "0893ebed-4f33-4034-946a-ab189a739a16",
   "metadata": {
    "tags": []
   },
   "source": [
    "## Compare with GaussianNB"
   ]
  },
  {
   "cell_type": "code",
   "execution_count": 54,
   "id": "17d19981",
   "metadata": {},
   "outputs": [],
   "source": [
    "from sklearn.naive_bayes import GaussianNB"
   ]
  },
  {
   "cell_type": "code",
   "execution_count": 55,
   "id": "3b5eaa7f",
   "metadata": {},
   "outputs": [],
   "source": [
    "gaussianNb = GaussianNB()\n",
    "\n",
    "y_train_bayes = [1 if abs(el[0]) < abs(el[1]) else 0 for el in X_train_xor]\n",
    "\n",
    "gaussianNb.fit(X_train_xor, y_train_bayes)\n",
    "\n",
    "y_test_bayes = [1 if abs(el[0]) < abs(el[1]) else 0 for el in X_test_xor]\n",
    "\n",
    "score = gaussianNb.score(X_test_xor, y_test_bayes)"
   ]
  },
  {
   "cell_type": "code",
   "execution_count": 56,
   "id": "af20f30d",
   "metadata": {},
   "outputs": [
    {
     "data": {
      "text/plain": [
       "0.9252"
      ]
     },
     "execution_count": 56,
     "metadata": {},
     "output_type": "execute_result"
    }
   ],
   "source": [
    "score"
   ]
  },
  {
   "cell_type": "markdown",
   "id": "5d5e357a-8e81-4a6e-b230-b426ecd2c788",
   "metadata": {},
   "source": [
    "We obtained a precision of 94,7%, on par with the Bayes classifier's precision of 94.7%. This result can also fluctuate."
   ]
  },
  {
   "cell_type": "markdown",
   "id": "ce1db633",
   "metadata": {
    "tags": []
   },
   "source": [
    "# III - Skin segmentation"
   ]
  },
  {
   "cell_type": "markdown",
   "id": "a62411e2-5434-4ab1-bcf6-b2ab7c3aa87c",
   "metadata": {},
   "source": [
    "## Construct dataset"
   ]
  },
  {
   "cell_type": "markdown",
   "id": "a806873e-a831-43a6-97e2-5e13b643f7e1",
   "metadata": {},
   "source": [
    "### Import dataset"
   ]
  },
  {
   "cell_type": "code",
   "execution_count": 57,
   "id": "b746d70f-04bc-40a8-91b2-0afd872eaf39",
   "metadata": {},
   "outputs": [
    {
     "data": {
      "text/html": [
       "<div>\n",
       "<style scoped>\n",
       "    .dataframe tbody tr th:only-of-type {\n",
       "        vertical-align: middle;\n",
       "    }\n",
       "\n",
       "    .dataframe tbody tr th {\n",
       "        vertical-align: top;\n",
       "    }\n",
       "\n",
       "    .dataframe thead th {\n",
       "        text-align: right;\n",
       "    }\n",
       "</style>\n",
       "<table border=\"1\" class=\"dataframe\">\n",
       "  <thead>\n",
       "    <tr style=\"text-align: right;\">\n",
       "      <th></th>\n",
       "      <th>0</th>\n",
       "      <th>1</th>\n",
       "      <th>2</th>\n",
       "      <th>3</th>\n",
       "    </tr>\n",
       "  </thead>\n",
       "  <tbody>\n",
       "    <tr>\n",
       "      <th>0</th>\n",
       "      <td>74</td>\n",
       "      <td>85</td>\n",
       "      <td>123</td>\n",
       "      <td>1</td>\n",
       "    </tr>\n",
       "    <tr>\n",
       "      <th>1</th>\n",
       "      <td>73</td>\n",
       "      <td>84</td>\n",
       "      <td>122</td>\n",
       "      <td>1</td>\n",
       "    </tr>\n",
       "    <tr>\n",
       "      <th>2</th>\n",
       "      <td>72</td>\n",
       "      <td>83</td>\n",
       "      <td>121</td>\n",
       "      <td>1</td>\n",
       "    </tr>\n",
       "    <tr>\n",
       "      <th>3</th>\n",
       "      <td>70</td>\n",
       "      <td>81</td>\n",
       "      <td>119</td>\n",
       "      <td>1</td>\n",
       "    </tr>\n",
       "    <tr>\n",
       "      <th>4</th>\n",
       "      <td>70</td>\n",
       "      <td>81</td>\n",
       "      <td>119</td>\n",
       "      <td>1</td>\n",
       "    </tr>\n",
       "    <tr>\n",
       "      <th>...</th>\n",
       "      <td>...</td>\n",
       "      <td>...</td>\n",
       "      <td>...</td>\n",
       "      <td>...</td>\n",
       "    </tr>\n",
       "    <tr>\n",
       "      <th>245052</th>\n",
       "      <td>163</td>\n",
       "      <td>162</td>\n",
       "      <td>112</td>\n",
       "      <td>2</td>\n",
       "    </tr>\n",
       "    <tr>\n",
       "      <th>245053</th>\n",
       "      <td>163</td>\n",
       "      <td>162</td>\n",
       "      <td>112</td>\n",
       "      <td>2</td>\n",
       "    </tr>\n",
       "    <tr>\n",
       "      <th>245054</th>\n",
       "      <td>163</td>\n",
       "      <td>162</td>\n",
       "      <td>112</td>\n",
       "      <td>2</td>\n",
       "    </tr>\n",
       "    <tr>\n",
       "      <th>245055</th>\n",
       "      <td>163</td>\n",
       "      <td>162</td>\n",
       "      <td>112</td>\n",
       "      <td>2</td>\n",
       "    </tr>\n",
       "    <tr>\n",
       "      <th>245056</th>\n",
       "      <td>255</td>\n",
       "      <td>255</td>\n",
       "      <td>255</td>\n",
       "      <td>2</td>\n",
       "    </tr>\n",
       "  </tbody>\n",
       "</table>\n",
       "<p>245057 rows × 4 columns</p>\n",
       "</div>"
      ],
      "text/plain": [
       "          0    1    2  3\n",
       "0        74   85  123  1\n",
       "1        73   84  122  1\n",
       "2        72   83  121  1\n",
       "3        70   81  119  1\n",
       "4        70   81  119  1\n",
       "...     ...  ...  ... ..\n",
       "245052  163  162  112  2\n",
       "245053  163  162  112  2\n",
       "245054  163  162  112  2\n",
       "245055  163  162  112  2\n",
       "245056  255  255  255  2\n",
       "\n",
       "[245057 rows x 4 columns]"
      ]
     },
     "execution_count": 57,
     "metadata": {},
     "output_type": "execute_result"
    }
   ],
   "source": [
    "df_skin = pd.read_csv(\"Skin_NonSkin.txt\", sep='\\t', header=None)\n",
    "df_skin"
   ]
  },
  {
   "cell_type": "markdown",
   "id": "a47f2640-509d-45c3-ab4d-85a52774166d",
   "metadata": {},
   "source": [
    "### Preprocess"
   ]
  },
  {
   "cell_type": "code",
   "execution_count": 58,
   "id": "57e59a3c-0a4c-4bd3-abee-b080ba0fe86e",
   "metadata": {},
   "outputs": [
    {
     "data": {
      "text/html": [
       "<div>\n",
       "<style scoped>\n",
       "    .dataframe tbody tr th:only-of-type {\n",
       "        vertical-align: middle;\n",
       "    }\n",
       "\n",
       "    .dataframe tbody tr th {\n",
       "        vertical-align: top;\n",
       "    }\n",
       "\n",
       "    .dataframe thead th {\n",
       "        text-align: right;\n",
       "    }\n",
       "</style>\n",
       "<table border=\"1\" class=\"dataframe\">\n",
       "  <thead>\n",
       "    <tr style=\"text-align: right;\">\n",
       "      <th></th>\n",
       "      <th>0</th>\n",
       "      <th>1</th>\n",
       "      <th>2</th>\n",
       "      <th>3</th>\n",
       "    </tr>\n",
       "  </thead>\n",
       "  <tbody>\n",
       "    <tr>\n",
       "      <th>0</th>\n",
       "      <td>-0.816021</td>\n",
       "      <td>-0.788476</td>\n",
       "      <td>-0.002429</td>\n",
       "      <td>1</td>\n",
       "    </tr>\n",
       "    <tr>\n",
       "      <th>1</th>\n",
       "      <td>-0.832001</td>\n",
       "      <td>-0.805073</td>\n",
       "      <td>-0.016139</td>\n",
       "      <td>1</td>\n",
       "    </tr>\n",
       "    <tr>\n",
       "      <th>2</th>\n",
       "      <td>-0.847981</td>\n",
       "      <td>-0.821670</td>\n",
       "      <td>-0.029849</td>\n",
       "      <td>1</td>\n",
       "    </tr>\n",
       "    <tr>\n",
       "      <th>3</th>\n",
       "      <td>-0.879941</td>\n",
       "      <td>-0.854863</td>\n",
       "      <td>-0.057269</td>\n",
       "      <td>1</td>\n",
       "    </tr>\n",
       "    <tr>\n",
       "      <th>4</th>\n",
       "      <td>-0.879941</td>\n",
       "      <td>-0.854863</td>\n",
       "      <td>-0.057269</td>\n",
       "      <td>1</td>\n",
       "    </tr>\n",
       "    <tr>\n",
       "      <th>...</th>\n",
       "      <td>...</td>\n",
       "      <td>...</td>\n",
       "      <td>...</td>\n",
       "      <td>...</td>\n",
       "    </tr>\n",
       "    <tr>\n",
       "      <th>245052</th>\n",
       "      <td>0.606191</td>\n",
       "      <td>0.489488</td>\n",
       "      <td>-0.153241</td>\n",
       "      <td>2</td>\n",
       "    </tr>\n",
       "    <tr>\n",
       "      <th>245053</th>\n",
       "      <td>0.606191</td>\n",
       "      <td>0.489488</td>\n",
       "      <td>-0.153241</td>\n",
       "      <td>2</td>\n",
       "    </tr>\n",
       "    <tr>\n",
       "      <th>245054</th>\n",
       "      <td>0.606191</td>\n",
       "      <td>0.489488</td>\n",
       "      <td>-0.153241</td>\n",
       "      <td>2</td>\n",
       "    </tr>\n",
       "    <tr>\n",
       "      <th>245055</th>\n",
       "      <td>0.606191</td>\n",
       "      <td>0.489488</td>\n",
       "      <td>-0.153241</td>\n",
       "      <td>2</td>\n",
       "    </tr>\n",
       "    <tr>\n",
       "      <th>245056</th>\n",
       "      <td>2.076342</td>\n",
       "      <td>2.033002</td>\n",
       "      <td>1.807314</td>\n",
       "      <td>2</td>\n",
       "    </tr>\n",
       "  </tbody>\n",
       "</table>\n",
       "<p>245057 rows × 4 columns</p>\n",
       "</div>"
      ],
      "text/plain": [
       "               0         1         2  3\n",
       "0      -0.816021 -0.788476 -0.002429  1\n",
       "1      -0.832001 -0.805073 -0.016139  1\n",
       "2      -0.847981 -0.821670 -0.029849  1\n",
       "3      -0.879941 -0.854863 -0.057269  1\n",
       "4      -0.879941 -0.854863 -0.057269  1\n",
       "...          ...       ...       ... ..\n",
       "245052  0.606191  0.489488 -0.153241  2\n",
       "245053  0.606191  0.489488 -0.153241  2\n",
       "245054  0.606191  0.489488 -0.153241  2\n",
       "245055  0.606191  0.489488 -0.153241  2\n",
       "245056  2.076342  2.033002  1.807314  2\n",
       "\n",
       "[245057 rows x 4 columns]"
      ]
     },
     "execution_count": 58,
     "metadata": {},
     "output_type": "execute_result"
    }
   ],
   "source": [
    "alpha = 0.1\n",
    "q = 3\n",
    "\n",
    "attributes = df_skin.columns[:-1]\n",
    "\n",
    "for x in attributes:\n",
    "    df_skin[x] = rescaleFeature(df_skin[x], alpha, q)\n",
    "\n",
    "df_skin"
   ]
  },
  {
   "cell_type": "markdown",
   "id": "178434d4-a787-40e9-9cb7-ba8fff17d82c",
   "metadata": {},
   "source": [
    "We will attribute each class to the bistrings 000, 111. Every other bitstring will remain unused."
   ]
  },
  {
   "cell_type": "code",
   "execution_count": 59,
   "id": "c00141ec-9719-487d-acb9-391bbed36483",
   "metadata": {},
   "outputs": [
    {
     "data": {
      "text/html": [
       "<div>\n",
       "<style scoped>\n",
       "    .dataframe tbody tr th:only-of-type {\n",
       "        vertical-align: middle;\n",
       "    }\n",
       "\n",
       "    .dataframe tbody tr th {\n",
       "        vertical-align: top;\n",
       "    }\n",
       "\n",
       "    .dataframe thead th {\n",
       "        text-align: right;\n",
       "    }\n",
       "</style>\n",
       "<table border=\"1\" class=\"dataframe\">\n",
       "  <thead>\n",
       "    <tr style=\"text-align: right;\">\n",
       "      <th></th>\n",
       "      <th>0</th>\n",
       "      <th>1</th>\n",
       "      <th>2</th>\n",
       "      <th>3</th>\n",
       "    </tr>\n",
       "  </thead>\n",
       "  <tbody>\n",
       "    <tr>\n",
       "      <th>0</th>\n",
       "      <td>-0.816021</td>\n",
       "      <td>-0.788476</td>\n",
       "      <td>-0.002429</td>\n",
       "      <td>000</td>\n",
       "    </tr>\n",
       "    <tr>\n",
       "      <th>1</th>\n",
       "      <td>-0.832001</td>\n",
       "      <td>-0.805073</td>\n",
       "      <td>-0.016139</td>\n",
       "      <td>000</td>\n",
       "    </tr>\n",
       "    <tr>\n",
       "      <th>2</th>\n",
       "      <td>-0.847981</td>\n",
       "      <td>-0.821670</td>\n",
       "      <td>-0.029849</td>\n",
       "      <td>000</td>\n",
       "    </tr>\n",
       "    <tr>\n",
       "      <th>3</th>\n",
       "      <td>-0.879941</td>\n",
       "      <td>-0.854863</td>\n",
       "      <td>-0.057269</td>\n",
       "      <td>000</td>\n",
       "    </tr>\n",
       "    <tr>\n",
       "      <th>4</th>\n",
       "      <td>-0.879941</td>\n",
       "      <td>-0.854863</td>\n",
       "      <td>-0.057269</td>\n",
       "      <td>000</td>\n",
       "    </tr>\n",
       "    <tr>\n",
       "      <th>...</th>\n",
       "      <td>...</td>\n",
       "      <td>...</td>\n",
       "      <td>...</td>\n",
       "      <td>...</td>\n",
       "    </tr>\n",
       "    <tr>\n",
       "      <th>245052</th>\n",
       "      <td>0.606191</td>\n",
       "      <td>0.489488</td>\n",
       "      <td>-0.153241</td>\n",
       "      <td>111</td>\n",
       "    </tr>\n",
       "    <tr>\n",
       "      <th>245053</th>\n",
       "      <td>0.606191</td>\n",
       "      <td>0.489488</td>\n",
       "      <td>-0.153241</td>\n",
       "      <td>111</td>\n",
       "    </tr>\n",
       "    <tr>\n",
       "      <th>245054</th>\n",
       "      <td>0.606191</td>\n",
       "      <td>0.489488</td>\n",
       "      <td>-0.153241</td>\n",
       "      <td>111</td>\n",
       "    </tr>\n",
       "    <tr>\n",
       "      <th>245055</th>\n",
       "      <td>0.606191</td>\n",
       "      <td>0.489488</td>\n",
       "      <td>-0.153241</td>\n",
       "      <td>111</td>\n",
       "    </tr>\n",
       "    <tr>\n",
       "      <th>245056</th>\n",
       "      <td>2.076342</td>\n",
       "      <td>2.033002</td>\n",
       "      <td>1.807314</td>\n",
       "      <td>111</td>\n",
       "    </tr>\n",
       "  </tbody>\n",
       "</table>\n",
       "<p>245057 rows × 4 columns</p>\n",
       "</div>"
      ],
      "text/plain": [
       "               0         1         2    3\n",
       "0      -0.816021 -0.788476 -0.002429  000\n",
       "1      -0.832001 -0.805073 -0.016139  000\n",
       "2      -0.847981 -0.821670 -0.029849  000\n",
       "3      -0.879941 -0.854863 -0.057269  000\n",
       "4      -0.879941 -0.854863 -0.057269  000\n",
       "...          ...       ...       ...  ...\n",
       "245052  0.606191  0.489488 -0.153241  111\n",
       "245053  0.606191  0.489488 -0.153241  111\n",
       "245054  0.606191  0.489488 -0.153241  111\n",
       "245055  0.606191  0.489488 -0.153241  111\n",
       "245056  2.076342  2.033002  1.807314  111\n",
       "\n",
       "[245057 rows x 4 columns]"
      ]
     },
     "execution_count": 59,
     "metadata": {},
     "output_type": "execute_result"
    }
   ],
   "source": [
    "diconvert = {\n",
    "    1 : \"000\",\n",
    "    2 : \"111\"\n",
    "}\n",
    "\n",
    "df_skin = df_skin.replace({3: diconvert})\n",
    "df_skin"
   ]
  },
  {
   "cell_type": "code",
   "execution_count": 60,
   "id": "c6279e6b-8150-4925-aca3-d700cc862e43",
   "metadata": {},
   "outputs": [],
   "source": [
    "X_skin = df_skin[attributes].values\n",
    "y_skin = df_skin[3].values"
   ]
  },
  {
   "cell_type": "markdown",
   "id": "ddd39ecb-4c42-436f-a4ea-12370d56eade",
   "metadata": {},
   "source": [
    "### Split"
   ]
  },
  {
   "cell_type": "markdown",
   "id": "8cebb473-2bae-4397-bbdc-b355e42c1bec",
   "metadata": {},
   "source": [
    "We will use a training size of 600 samples and a test size of 400 samples as done in the paper."
   ]
  },
  {
   "cell_type": "code",
   "execution_count": 61,
   "id": "1459c192-1dc0-4b81-bf53-91d2265e59f9",
   "metadata": {},
   "outputs": [],
   "source": [
    "train_size = 600\n",
    "test_size = 400\n",
    "\n",
    "X_train_skin, X_test_skin, y_train_skin, y_test_skin = train_test_split(X_skin, y_skin, test_size=test_size, train_size=train_size, stratify=y_skin)"
   ]
  },
  {
   "cell_type": "markdown",
   "id": "c3dc42f2-e578-47d4-9e71-d6ab05bf551f",
   "metadata": {},
   "source": [
    "## Circuit"
   ]
  },
  {
   "cell_type": "code",
   "execution_count": 62,
   "id": "b7e4a6f5",
   "metadata": {},
   "outputs": [],
   "source": [
    "def skinSegCircuit(theta, omega):\n",
    "    qc = qiskit.QuantumCircuit(3, 3)\n",
    "    \n",
    "    skin_seg_circuit = qiskit.QuantumCircuit(3)\n",
    "    psiGate(skin_seg_circuit, omega[0], 0)\n",
    "    psiGate(skin_seg_circuit, omega[1], 1)\n",
    "    psiGate(skin_seg_circuit, omega[2], 2)\n",
    "    \n",
    "    skin_seg_circuit.cz(0, 2)\n",
    "    \n",
    "    psiGate(skin_seg_circuit, theta[0], 0)\n",
    "    psiGate(skin_seg_circuit, theta[1], 2)\n",
    "    \n",
    "    skin_seg_circuit.cz(0, 1)\n",
    "    \n",
    "    psiGate(skin_seg_circuit, theta[2], 0)\n",
    "    psiGate(skin_seg_circuit, theta[3], 1)\n",
    "    \n",
    "    skin_seg_circuit.cz(1, 2)\n",
    "    \n",
    "    psiGate(skin_seg_circuit, theta[4], 1)\n",
    "    psiGate(skin_seg_circuit, theta[5], 2)\n",
    "    \n",
    "    qc.append(skin_seg_circuit, range(3))\n",
    "    qc.measure(range(3), range(3))\n",
    "    \n",
    "    return qc"
   ]
  },
  {
   "cell_type": "code",
   "execution_count": 63,
   "id": "8328d2d2-3081-475c-852a-bfc851b10447",
   "metadata": {},
   "outputs": [
    {
     "data": {
      "image/png": "[encoded data removed]",
      "text/plain": [
       "<Figure size 1170.2x264.88 with 1 Axes>"
      ]
     },
     "execution_count": 63,
     "metadata": {},
     "output_type": "execute_result"
    }
   ],
   "source": [
    "skinSegCircuit(np.zeros(6), np.zeros(3)).decompose().draw(\"mpl\", fold=40)"
   ]
  },
  {
   "cell_type": "markdown",
   "id": "72112546-bb45-420b-9d3c-e35680d48e3d",
   "metadata": {},
   "source": [
    "## Train"
   ]
  },
  {
   "cell_type": "markdown",
   "id": "9298a5f9-0203-4a80-aa5f-1400573a2c10",
   "metadata": {},
   "source": [
    "We will use COBYLA as optimizer for this training. BFGS was used in the original paper instead, but without exact gradients this optimizer would require a very high number of shots to be efficient which would make the training too slow."
   ]
  },
  {
   "cell_type": "code",
   "execution_count": 64,
   "id": "d6220966-501a-46a6-9a79-f9e315f6a155",
   "metadata": {},
   "outputs": [],
   "source": [
    "skin_classifier = QuantumClassifier(skinSegCircuit, ['000', '111'], 6, optimizer_method = \"COBYLA\")"
   ]
  },
  {
   "cell_type": "code",
   "execution_count": 66,
   "id": "7f3dc839-2ff7-4579-a2be-590ebadb9bcf",
   "metadata": {},
   "outputs": [],
   "source": [
    "opt_skin = skin_classifier.fit(X_train_skin, y_train_skin, nshots=250, maxiter=30)\n",
    "opt_skin"
   ]
  },
  {
   "cell_type": "markdown",
   "id": "ae836b3c-61b3-4f6a-a8d4-54fb4a86d50e",
   "metadata": {},
   "source": [
    "## Compute results"
   ]
  },
  {
   "cell_type": "code",
   "execution_count": 67,
   "id": "670b08b1-06c3-4b14-9e59-3bd6df9137ad",
   "metadata": {},
   "outputs": [
    {
     "data": {
      "text/plain": [
       "0.7366666666666667"
      ]
     },
     "execution_count": 67,
     "metadata": {},
     "output_type": "execute_result"
    }
   ],
   "source": [
    "y_pred_skin = skin_classifier.predict(X_train_skin)\n",
    "skin_classifier.compute_accuracy(y_pred_skin, y_train_skin)"
   ]
  },
  {
   "cell_type": "code",
   "execution_count": 68,
   "id": "105af9f8-c92c-4467-b448-5e5d1b26efe2",
   "metadata": {},
   "outputs": [
    {
     "data": {
      "text/plain": [
       "0.6825"
      ]
     },
     "execution_count": 68,
     "metadata": {},
     "output_type": "execute_result"
    }
   ],
   "source": [
    "y_pred_skin = skin_classifier.predict(X_test_skin)\n",
    "skin_classifier.compute_accuracy(y_pred_skin, y_test_skin)"
   ]
  },
  {
   "cell_type": "markdown",
   "id": "9e1e4866-530e-480b-b0da-19a9e4968e70",
   "metadata": {},
   "source": [
    "We obtain a precision of 68,25%. This is not bad but it could be improved by using BFGS as in the paper."
   ]
  },
  {
   "cell_type": "markdown",
   "id": "c72282df",
   "metadata": {},
   "source": [
    "# IV - Synthetic dataset with 4 classes"
   ]
  },
  {
   "cell_type": "markdown",
   "id": "28ee9433-f509-4da6-8bf8-603397c7f27b",
   "metadata": {},
   "source": [
    "## Construct dataset"
   ]
  },
  {
   "cell_type": "markdown",
   "id": "f3396b6b-b0c6-46f7-9225-be4c2e85da76",
   "metadata": {},
   "source": [
    "### Generate dataset"
   ]
  },
  {
   "cell_type": "markdown",
   "id": "008ef8d5-46db-438c-b1b6-e13545fbaaf2",
   "metadata": {},
   "source": [
    "We generate the dataset with sklearn, with only 2 informative features, 1 cluster per class and 4 classes."
   ]
  },
  {
   "cell_type": "code",
   "execution_count": 89,
   "id": "af39fec1-63cc-49e8-ab35-bd4c49dbbe61",
   "metadata": {},
   "outputs": [],
   "source": [
    "from sklearn.datasets import make_classification\n",
    "\n",
    "X_synth, y_synth = make_classification(n_samples=5000, n_features=2, n_informative=2, n_redundant=0, n_clusters_per_class=1, n_classes=4)"
   ]
  },
  {
   "cell_type": "markdown",
   "id": "9d5bc927-d579-43fc-a350-3d81bdcffc82",
   "metadata": {},
   "source": [
    "### Preprocess"
   ]
  },
  {
   "cell_type": "code",
   "execution_count": 90,
   "id": "84695d82-e54b-4a2d-a361-e7ee849a76c6",
   "metadata": {},
   "outputs": [
    {
     "data": {
      "text/plain": [
       "array([[-0.48105927, -0.94012249],\n",
       "       [ 1.82432392,  1.29209659],\n",
       "       [-0.64114358,  1.81674148],\n",
       "       [-0.35054608, -0.76026123],\n",
       "       [ 0.56049085,  0.64096446],\n",
       "       [ 0.23999089,  0.63096973],\n",
       "       [-0.01753069, -0.16814032],\n",
       "       [ 1.67697975, -1.528278  ],\n",
       "       [-1.31424283, -0.67963376],\n",
       "       [-0.70409178,  1.04484101]])"
      ]
     },
     "execution_count": 90,
     "metadata": {},
     "output_type": "execute_result"
    }
   ],
   "source": [
    "alpha = 0.1\n",
    "q = 3\n",
    "\n",
    "\n",
    "X_synth[:, 0] = rescaleFeature(X_synth[:, 0], alpha, q)\n",
    "X_synth[:, 1] = rescaleFeature(X_synth[:, 1], alpha, q)\n",
    "\n",
    "X_synth[:10]"
   ]
  },
  {
   "cell_type": "markdown",
   "id": "d073e208-7497-49fc-9a48-fcce96350f22",
   "metadata": {},
   "source": [
    "We will attribute each class to the bistrings 00, 01, 10 and 11. No bitstring is unused."
   ]
  },
  {
   "cell_type": "code",
   "execution_count": 91,
   "id": "ba9631f6-962e-4eb3-9504-bf16f2de65f9",
   "metadata": {},
   "outputs": [
    {
     "data": {
      "text/plain": [
       "['00', '11', '10', '00', '11', '11', '00', '01', '00', '10']"
      ]
     },
     "execution_count": 91,
     "metadata": {},
     "output_type": "execute_result"
    }
   ],
   "source": [
    "new_y_synth = []\n",
    "\n",
    "diconvert = {\n",
    "    0 : \"00\",\n",
    "    1 : \"01\",\n",
    "    2 : '10',\n",
    "    3 : '11'\n",
    "}\n",
    "\n",
    "for el in y_synth:\n",
    "    new_y_synth.append(diconvert[el])\n",
    "\n",
    "y_synth = new_y_synth\n",
    "\n",
    "y_synth[:10]"
   ]
  },
  {
   "cell_type": "markdown",
   "id": "91221c6c-51b7-4e3b-80cf-72f9cc7f437e",
   "metadata": {},
   "source": [
    "### Split"
   ]
  },
  {
   "cell_type": "markdown",
   "id": "84624e6a-117b-47b9-8196-ef01f3a38f00",
   "metadata": {},
   "source": [
    "We will use a train/test ratio of 60%/40% as done in the paper."
   ]
  },
  {
   "cell_type": "code",
   "execution_count": 92,
   "id": "6277c260-9f49-473d-8c85-0d3898a54d90",
   "metadata": {},
   "outputs": [],
   "source": [
    "train_size = 0.6\n",
    "test_size = 0.4\n",
    "\n",
    "X_train_synth, X_test_synth, y_train_synth, y_test_synth = train_test_split(X_synth, y_synth, test_size=test_size, train_size=train_size, stratify=y_synth)"
   ]
  },
  {
   "cell_type": "markdown",
   "id": "4ce15c85-6328-4545-8eca-6b9caf8bc47f",
   "metadata": {},
   "source": [
    "## Circuit"
   ]
  },
  {
   "cell_type": "code",
   "execution_count": 93,
   "id": "a70ab528",
   "metadata": {},
   "outputs": [],
   "source": [
    "def syntheticCircuit(theta, omega):\n",
    "    qc = qiskit.QuantumCircuit(2, 2)\n",
    "\n",
    "    synthetic_circuit = qiskit.QuantumCircuit(2)\n",
    "    for i in range(2):\n",
    "        if i : synthetic_circuit.cz(0, 1)\n",
    "        \n",
    "        psiGate(synthetic_circuit, omega[0], 0)\n",
    "        psiGate(synthetic_circuit, omega[1], 1)\n",
    "        synthetic_circuit.cz(0, 1)\n",
    "        \n",
    "        psiGate(synthetic_circuit, theta[(6*i)], 0)\n",
    "        psiGate(synthetic_circuit, theta[(6*i+1)], 1)\n",
    "        synthetic_circuit.cz(0, 1)\n",
    "        \n",
    "        psiGate(synthetic_circuit, omega[0], 0)\n",
    "        psiGate(synthetic_circuit, omega[1], 1)\n",
    "        synthetic_circuit.cz(0, 1)\n",
    "        \n",
    "        psiGate(synthetic_circuit, theta[(6*i+2)], 0)\n",
    "        psiGate(synthetic_circuit, theta[(6*i+3)], 1)\n",
    "        synthetic_circuit.cz(0, 1)\n",
    "        \n",
    "        psiGate(synthetic_circuit, theta[(6*i+4)], 0)\n",
    "        psiGate(synthetic_circuit, theta[(6*i+5)], 1)\n",
    "    \n",
    "    qc.append(synthetic_circuit, range(2))\n",
    "    qc.measure(range(2), range(2))\n",
    "    \n",
    "    return qc"
   ]
  },
  {
   "cell_type": "code",
   "execution_count": 94,
   "id": "10ca6433",
   "metadata": {},
   "outputs": [
    {
     "data": {
      "image/png": "[encoded data removed]",
      "text/plain": [
       "<Figure size 3548.13x284.278 with 1 Axes>"
      ]
     },
     "execution_count": 94,
     "metadata": {},
     "output_type": "execute_result"
    }
   ],
   "source": [
    "syntheticCircuit(np.zeros(12), np.zeros(2)).decompose().draw(\"mpl\", fold=50)"
   ]
  },
  {
   "cell_type": "markdown",
   "id": "38ae20d8-dbdc-43b0-8ac0-884e11164b3f",
   "metadata": {},
   "source": [
    "## Train"
   ]
  },
  {
   "cell_type": "markdown",
   "id": "fcf221a0-5e8c-4d6b-ac4b-f525f126ca03",
   "metadata": {},
   "source": [
    "We will use COBYLA as optimizer for this training. As for the skin dataset, BFGS would be better but would require too many shots."
   ]
  },
  {
   "cell_type": "code",
   "execution_count": 95,
   "id": "79d6cef6-1823-43a9-928f-4b2527c02485",
   "metadata": {},
   "outputs": [],
   "source": [
    "synthetic_classifier = QuantumClassifier(syntheticCircuit, ['00', '01', '10', '11'], 12, optimizer_method = \"COBYLA\")"
   ]
  },
  {
   "cell_type": "code",
   "execution_count": 96,
   "id": "b5f837a7-2c6a-4951-ab4f-fb4e2705a62a",
   "metadata": {},
   "outputs": [
    {
     "name": "stdout",
     "output_type": "stream",
     "text": [
      "loss: 1.4871223246173728\n",
      "loss: 1.4210641598127753\n",
      "loss: 1.3063556890093992\n",
      "loss: 1.3452629676540522\n",
      "loss: 1.3858179181811339\n",
      "loss: 1.3020274039525834\n",
      "loss: 1.3222149667010876\n",
      "loss: 1.3622520516851049\n",
      "loss: 1.3291663944241858\n",
      "loss: 1.2459230680006481\n",
      "loss: 1.3737820669263845\n",
      "loss: 1.316444554805441\n",
      "loss: 1.3608410209168214\n",
      "loss: 1.2189819252462595\n",
      "loss: 1.157942189609667\n",
      "loss: 1.1655953039324776\n",
      "loss: 1.3097536346240544\n",
      "loss: 1.2235889033400897\n",
      "loss: 1.1650479047644\n",
      "loss: 1.2063455900118774\n",
      "loss: 1.1759814912224618\n",
      "loss: 1.2234566685112553\n",
      "loss: 1.2316910812311528\n",
      "loss: 1.1525267526661702\n",
      "loss: 1.1823715496842095\n",
      "loss: 1.179470289544929\n",
      "loss: 1.17009436807286\n",
      "loss: 1.1249108462484099\n",
      "loss: 1.1168902244942396\n",
      "loss: 1.1222848344425524\n",
      "loss: 1.1601900306589563\n",
      "loss: 1.1109672503581924\n",
      "loss: 1.1265762879836616\n",
      "loss: 1.1264779152114377\n",
      "loss: 1.1016645613540035\n",
      "loss: 1.1108316035429486\n",
      "loss: 1.0916840289493208\n",
      "loss: 1.096546963755504\n",
      "loss: 1.101899940613543\n",
      "loss: 1.1135420208000428\n"
     ]
    },
    {
     "data": {
      "text/plain": [
       "     fun: 1.0916840289493208\n",
       "   maxcv: 0.0\n",
       " message: 'Maximum number of function evaluations has been exceeded.'\n",
       "    nfev: 40\n",
       "  status: 2\n",
       " success: False\n",
       "       x: array([ 4.44825143,  4.23248732,  4.0832701 ,  0.74946064,  6.34959451,\n",
       "        2.82910597,  2.09313152,  3.31518235,  6.84195882,  1.60020483,\n",
       "       -0.6278217 ,  3.0467222 ])"
      ]
     },
     "execution_count": 96,
     "metadata": {},
     "output_type": "execute_result"
    }
   ],
   "source": [
    "opt_synth = synthetic_classifier.fit(X_train_synth, y_train_synth, nshots=250, maxiter=40)\n",
    "opt_synth"
   ]
  },
  {
   "cell_type": "markdown",
   "id": "03ae5122-cc8b-4fc7-9098-fbfec9a234da",
   "metadata": {},
   "source": [
    "## Compute results"
   ]
  },
  {
   "cell_type": "code",
   "execution_count": 97,
   "id": "4e885cdd-b176-4f5d-8cd2-723b8fa31773",
   "metadata": {},
   "outputs": [
    {
     "data": {
      "text/plain": [
       "0.695"
      ]
     },
     "execution_count": 97,
     "metadata": {},
     "output_type": "execute_result"
    }
   ],
   "source": [
    "y_pred_synth = synthetic_classifier.predict(X_train_synth)\n",
    "synthetic_classifier.compute_accuracy(y_pred_synth, y_train_synth)"
   ]
  },
  {
   "cell_type": "code",
   "execution_count": 98,
   "id": "a3f695c9-4592-432e-b838-637992870670",
   "metadata": {},
   "outputs": [
    {
     "data": {
      "text/plain": [
       "0.695"
      ]
     },
     "execution_count": 98,
     "metadata": {},
     "output_type": "execute_result"
    }
   ],
   "source": [
    "y_pred_synth = synthetic_classifier.predict(X_test_synth)\n",
    "synthetic_classifier.compute_accuracy(y_pred_synth, y_test_synth)"
   ]
  },
  {
   "cell_type": "markdown",
   "id": "6818952d-265c-4746-a110-3ffa5834ffb6",
   "metadata": {},
   "source": [
    "We obtain 69,5%, which is not bad. As for the skin dataset, performance could be improved by using BFGS."
   ]
  },
  {
   "cell_type": "markdown",
   "id": "298bacf2-bf15-4810-b9ea-cc6a6c460f82",
   "metadata": {
    "tags": []
   },
   "source": [
    "# V - Run on IBM Quantum Computer"
   ]
  },
  {
   "cell_type": "markdown",
   "id": "249dc309",
   "metadata": {},
   "source": [
    "Let's now run our circuits on simulated quantum computer, by using the IMBQ API. After registering an account, we can access the API with a Token."
   ]
  },
  {
   "cell_type": "code",
   "execution_count": 99,
   "id": "4cd250c0",
   "metadata": {
    "id": "4cd250c0"
   },
   "outputs": [
    {
     "name": "stderr",
     "output_type": "stream",
     "text": [
      "/tmp/ipykernel_22522/2595094723.py:2: DeprecationWarning: The qiskit.IBMQ entrypoint and the qiskit-ibmq-provider package (accessible from 'qiskit.providers.ibmq`) are deprecated and will be removed in a future release. Instead you should use the qiskit-ibm-provider package which is accessible from 'qiskit_ibm_provider'. You can install it with 'pip install qiskit_ibm_provider'. Just replace 'qiskit.IBMQ' with 'qiskit_ibm_provider.IBMProvider'\n",
      "  qiskit.IBMQ.save_account(TOKEN, overwrite=True)\n"
     ]
    }
   ],
   "source": [
    "TOKEN = \"a9e80916023230fb39159420e5dd02f5b990b0b0b6de16364350b822082c4c8b2fefa2195d742c878f71f8d7771c103c2204729cffbf56145670d539c15e9dda\"\n",
    "qiskit.IBMQ.save_account(TOKEN, overwrite=True) \n",
    "provider = qiskit.IBMQ.load_account()\n",
    "backend = qiskit.providers.ibmq.least_busy(provider.backends())\n",
    "# backend = provider.get_backend('ibmq_qasm_simulator')"
   ]
  },
  {
   "cell_type": "markdown",
   "id": "676b6cba",
   "metadata": {},
   "source": [
    "Once we obtain a provider as backend, we can run jobs on it. These jobs must be quantum circuits. Since we need to go through the entire dataset at each epoch, we can't submit a job for each sample, it would be way too long ; instead, we use a Tob Manager."
   ]
  },
  {
   "cell_type": "markdown",
   "id": "f1b83944",
   "metadata": {},
   "source": [
    "The Job Manager is a higher level mechanism for handling jobs composed of multiple circuits or pulse schedules. It splits the experiments into multiple jobs based on backend restrictions. When the jobs are finished, it collects and presents the results in a unified view."
   ]
  },
  {
   "cell_type": "markdown",
   "id": "3d460acb",
   "metadata": {},
   "source": [
    "As you can see in the *runIBM* method of the *QuantumClassifier* class, we begin by appending each circuit (for each sample) into a list, which we transpile and run as jobs with the job manager. When each job has ended, we can retrieve the result of each circuit, to compute the total loss."
   ]
  },
  {
   "cell_type": "markdown",
   "id": "ec3f65aa",
   "metadata": {},
   "source": [
    "## IRIS"
   ]
  },
  {
   "cell_type": "code",
   "execution_count": 77,
   "id": "bdfeddcf",
   "metadata": {},
   "outputs": [],
   "source": [
    "iris_ibm_classifier = QuantumClassifier(irisCircuit, ['00', '01', '10'], 8)"
   ]
  },
  {
   "cell_type": "code",
   "execution_count": 78,
   "id": "b017e675",
   "metadata": {},
   "outputs": [
    {
     "name": "stdout",
     "output_type": "stream",
     "text": [
      "loss: 4.3432731499152375\n",
      "loss: 7.106845242708028\n",
      "loss: 4.748980323617045\n",
      "loss: 2.734088358411447\n",
      "loss: 1.1741608002113495\n",
      "loss: 2.3964203144751717\n",
      "loss: 2.126426575991026\n",
      "loss: 1.7850628534850308\n",
      "loss: 1.9843705450735971\n",
      "loss: 1.0596032847869952\n",
      "loss: 1.0775144029694108\n",
      "loss: 1.151930591456416\n",
      "loss: 0.8256277486638354\n",
      "loss: 0.7163466490088382\n",
      "loss: 0.6201073092729932\n",
      "loss: 0.714060766964724\n",
      "loss: 0.5291756803290667\n",
      "loss: 0.7371780232686089\n",
      "loss: 0.7878848130843072\n",
      "loss: 0.37207902382358315\n"
     ]
    }
   ],
   "source": [
    "opt_iris = iris_ibm_classifier.fit(X_train_iris, y_train_iris, nshots=250, maxiter=20, backend=backend)"
   ]
  },
  {
   "cell_type": "code",
   "execution_count": 79,
   "id": "272059dd",
   "metadata": {},
   "outputs": [],
   "source": [
    "y_pred_iris_ibm = iris_ibm_classifier.predict(X_test_iris, backend=backend)"
   ]
  },
  {
   "cell_type": "code",
   "execution_count": 80,
   "id": "568b2ade",
   "metadata": {},
   "outputs": [
    {
     "data": {
      "text/plain": [
       "0.8"
      ]
     },
     "execution_count": 80,
     "metadata": {},
     "output_type": "execute_result"
    }
   ],
   "source": [
    "iris_ibm_classifier.compute_accuracy(y_pred_iris_ibm, y_test_iris)"
   ]
  },
  {
   "cell_type": "markdown",
   "id": "247998fd",
   "metadata": {},
   "source": [
    "## Gaussian XOR"
   ]
  },
  {
   "cell_type": "code",
   "execution_count": 81,
   "id": "cf6207d6",
   "metadata": {},
   "outputs": [
    {
     "name": "stdout",
     "output_type": "stream",
     "text": [
      "loss: 5.097687497671986\n",
      "loss: 5.236543594450237\n",
      "loss: 5.690676489185129\n",
      "loss: 3.8254182618349204\n",
      "loss: 4.533040506378329\n",
      "loss: 0.9597576245724447\n",
      "loss: 0.4705396062217962\n",
      "loss: 0.6709041471930132\n",
      "loss: 0.30561469178930467\n",
      "loss: 1.217456741995727\n"
     ]
    },
    {
     "data": {
      "text/plain": [
       "0.742"
      ]
     },
     "execution_count": 81,
     "metadata": {},
     "output_type": "execute_result"
    }
   ],
   "source": [
    "xor_ibm_classifier = QuantumClassifier(xorCircuit, ['00', '10'], 4)\n",
    "xor_opt = xor_ibm_classifier.fit(X_train_xor, y_train_xor, nshots=250, maxiter=10, backend=backend)\n",
    "y_pred_xor_ibm = xor_ibm_classifier.predict(X_test_xor, backend=backend)\n",
    "xor_ibm_classifier.compute_accuracy(y_pred_xor_ibm, y_test_xor)"
   ]
  },
  {
   "cell_type": "markdown",
   "id": "f1d58b86",
   "metadata": {},
   "source": [
    "## Skin segmentation"
   ]
  },
  {
   "cell_type": "code",
   "execution_count": 82,
   "id": "cccdc39f",
   "metadata": {},
   "outputs": [
    {
     "name": "stdout",
     "output_type": "stream",
     "text": [
      "loss: 0.7480281928436373\n",
      "loss: 0.5783341316461119\n",
      "loss: 1.0076225865839437\n",
      "loss: 0.7086335300036699\n",
      "loss: 0.8688176669782598\n",
      "loss: 0.35831097894665476\n",
      "loss: 1.0186275007555825\n",
      "loss: 0.1288008619049882\n",
      "loss: 0.6713306241216792\n",
      "loss: 0.12348671773918231\n"
     ]
    },
    {
     "data": {
      "text/plain": [
       "0.9525"
      ]
     },
     "execution_count": 82,
     "metadata": {},
     "output_type": "execute_result"
    }
   ],
   "source": [
    "skin_ibm_classifier = QuantumClassifier(skinSegCircuit, ['000', '111'], 6, optimizer_method = \"COBYLA\")\n",
    "skin_opt = skin_ibm_classifier.fit(X_train_skin, y_train_skin, nshots=250, maxiter=10, backend=backend)\n",
    "y_pred_skin_ibm = skin_ibm_classifier.predict(X_test_skin, backend=backend)\n",
    "skin_ibm_classifier.compute_accuracy(y_pred_skin_ibm, y_test_skin)"
   ]
  },
  {
   "cell_type": "markdown",
   "id": "accf15b3",
   "metadata": {},
   "source": [
    "## Synthetic dataset"
   ]
  },
  {
   "cell_type": "code",
   "execution_count": 100,
   "id": "829dedc1",
   "metadata": {},
   "outputs": [
    {
     "name": "stdout",
     "output_type": "stream",
     "text": [
      "loss: 5.182830278130025\n",
      "loss: 6.698176554580974\n",
      "loss: 4.519735644634265\n",
      "loss: 3.6426189762432064\n",
      "loss: 4.38586826423794\n",
      "loss: 4.422782706542913\n",
      "loss: 5.5978562370453275\n",
      "loss: 5.359397159753346\n",
      "loss: 3.7008508390884534\n",
      "loss: 4.996379823300864\n"
     ]
    },
    {
     "data": {
      "text/plain": [
       "0.492"
      ]
     },
     "execution_count": 100,
     "metadata": {},
     "output_type": "execute_result"
    }
   ],
   "source": [
    "synth_ibm_classifier = QuantumClassifier(syntheticCircuit, ['00', '01', '10', '11'], 12, optimizer_method = \"COBYLA\")\n",
    "synth_opt = synth_ibm_classifier.fit(X_train_synth, y_train_synth, nshots=250, maxiter=10, backend=backend)\n",
    "y_pred_synth_ibm = synth_ibm_classifier.predict(X_test_synth, backend=backend)\n",
    "synth_ibm_classifier.compute_accuracy(y_pred_synth_ibm, y_test_synth)"
   ]
  },
  {
   "cell_type": "code",
   "execution_count": null,
   "id": "f15832b1-deff-4cbe-bee8-1a53ec7a46ac",
   "metadata": {},
   "outputs": [],
   "source": []
  }
 ],
 "metadata": {
  "colab": {
   "provenance": []
  },
  "kernelspec": {
   "display_name": "Python 3 (ipykernel)",
   "language": "python",
   "name": "python3"
  },
  "language_info": {
   "codemirror_mode": {
    "name": "ipython",
    "version": 3
   },
   "file_extension": ".py",
   "mimetype": "text/x-python",
   "name": "python",
   "nbconvert_exporter": "python",
   "pygments_lexer": "ipython3",
   "version": "3.10.9"
  },
  "vscode": {
   "interpreter": {
    "hash": "51b4e9700471eaf1a5d76c11bef0601667b05397081ebf41f03a2cf9585ff4ea"
   }
  }
 },
 "nbformat": 4,
 "nbformat_minor": 5
}
