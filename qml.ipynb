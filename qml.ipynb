{
 "cells": [
  {
   "cell_type": "markdown",
   "id": "73349bb2-01fb-44a4-b725-251eca576c71",
   "metadata": {},
   "source": [
    "# QML Project"
   ]
  },
  {
   "cell_type": "markdown",
   "id": "48166b94-d8d7-4d64-8352-129c2c2ed737",
   "metadata": {},
   "source": [
    "```\n",
    "AUTHORS\n",
    "Charlie BROSSE  \n",
    "Guillaume CARRIERE  \n",
    "Marius DUBOSC\n",
    "```"
   ]
  },
  {
   "cell_type": "markdown",
   "id": "73f36b46",
   "metadata": {
    "id": "73f36b46"
   },
   "source": [
    "L'objectif du projet et de reproduire les circuits et les résultats obtenus dans le papier \"Polyadic Quantum Classifier\" (https://arxiv.org/abs/2007.14044)"
   ]
  },
  {
   "cell_type": "code",
   "execution_count": 1,
   "id": "wvj_1vHtjBbB",
   "metadata": {
    "id": "wvj_1vHtjBbB"
   },
   "outputs": [
    {
     "name": "stdout",
     "output_type": "stream",
     "text": [
      "Defaulting to user installation because normal site-packages is not writeable\n",
      "Requirement already satisfied: qiskit in /home/guillaume/.local/lib/python3.10/site-packages (0.39.5)\n",
      "Requirement already satisfied: qiskit-aer==0.11.2 in /home/guillaume/.local/lib/python3.10/site-packages (from qiskit) (0.11.2)\n",
      "Requirement already satisfied: qiskit-terra==0.22.4 in /home/guillaume/.local/lib/python3.10/site-packages (from qiskit) (0.22.4)\n",
      "Requirement already satisfied: qiskit-ibmq-provider==0.19.2 in /home/guillaume/.local/lib/python3.10/site-packages (from qiskit) (0.19.2)\n",
      "Requirement already satisfied: numpy>=1.16.3 in /home/guillaume/.local/lib/python3.10/site-packages (from qiskit-aer==0.11.2->qiskit) (1.23.4)\n",
      "Requirement already satisfied: scipy>=1.0 in /home/guillaume/.local/lib/python3.10/site-packages (from qiskit-aer==0.11.2->qiskit) (1.9.3)\n",
      "Requirement already satisfied: requests-ntlm>=1.1.0 in /home/guillaume/.local/lib/python3.10/site-packages (from qiskit-ibmq-provider==0.19.2->qiskit) (1.1.0)\n",
      "Requirement already satisfied: requests>=2.19 in /home/guillaume/.local/lib/python3.10/site-packages (from qiskit-ibmq-provider==0.19.2->qiskit) (2.28.1)\n",
      "Requirement already satisfied: websockets>=10.0 in /home/guillaume/.local/lib/python3.10/site-packages (from qiskit-ibmq-provider==0.19.2->qiskit) (10.4)\n",
      "Requirement already satisfied: python-dateutil>=2.8.0 in /home/guillaume/.local/lib/python3.10/site-packages (from qiskit-ibmq-provider==0.19.2->qiskit) (2.8.2)\n",
      "Requirement already satisfied: urllib3>=1.21.1 in /home/guillaume/.local/lib/python3.10/site-packages (from qiskit-ibmq-provider==0.19.2->qiskit) (1.26.12)\n",
      "Requirement already satisfied: websocket-client>=1.0.1 in /home/guillaume/.local/lib/python3.10/site-packages (from qiskit-ibmq-provider==0.19.2->qiskit) (1.4.2)\n",
      "Requirement already satisfied: psutil>=5 in /home/guillaume/.local/lib/python3.10/site-packages (from qiskit-terra==0.22.4->qiskit) (5.9.4)\n",
      "Requirement already satisfied: dill>=0.3 in /home/guillaume/.local/lib/python3.10/site-packages (from qiskit-terra==0.22.4->qiskit) (0.3.6)\n",
      "Requirement already satisfied: tweedledum<2.0,>=1.1 in /home/guillaume/.local/lib/python3.10/site-packages (from qiskit-terra==0.22.4->qiskit) (1.1.1)\n",
      "Requirement already satisfied: symengine>=0.9 in /home/guillaume/.local/lib/python3.10/site-packages (from qiskit-terra==0.22.4->qiskit) (0.9.2)\n",
      "Requirement already satisfied: ply>=3.10 in /usr/lib/python3.10/site-packages (from qiskit-terra==0.22.4->qiskit) (3.11)\n",
      "Requirement already satisfied: sympy>=1.3 in /home/guillaume/.local/lib/python3.10/site-packages (from qiskit-terra==0.22.4->qiskit) (1.11.1)\n",
      "Requirement already satisfied: stevedore>=3.0.0 in /home/guillaume/.local/lib/python3.10/site-packages (from qiskit-terra==0.22.4->qiskit) (4.1.1)\n",
      "Requirement already satisfied: retworkx>=0.11.0 in /home/guillaume/.local/lib/python3.10/site-packages (from qiskit-terra==0.22.4->qiskit) (0.12.0)\n",
      "Requirement already satisfied: six>=1.5 in /home/guillaume/.local/lib/python3.10/site-packages (from python-dateutil>=2.8.0->qiskit-ibmq-provider==0.19.2->qiskit) (1.16.0)\n",
      "Requirement already satisfied: charset-normalizer<3,>=2 in /home/guillaume/.local/lib/python3.10/site-packages (from requests>=2.19->qiskit-ibmq-provider==0.19.2->qiskit) (2.1.1)\n",
      "Requirement already satisfied: idna<4,>=2.5 in /home/guillaume/.local/lib/python3.10/site-packages (from requests>=2.19->qiskit-ibmq-provider==0.19.2->qiskit) (3.4)\n",
      "Requirement already satisfied: certifi>=2017.4.17 in /home/guillaume/.local/lib/python3.10/site-packages (from requests>=2.19->qiskit-ibmq-provider==0.19.2->qiskit) (2022.9.24)\n",
      "Requirement already satisfied: ntlm-auth>=1.0.2 in /home/guillaume/.local/lib/python3.10/site-packages (from requests-ntlm>=1.1.0->qiskit-ibmq-provider==0.19.2->qiskit) (1.5.0)\n",
      "Requirement already satisfied: cryptography>=1.3 in /home/guillaume/.local/lib/python3.10/site-packages (from requests-ntlm>=1.1.0->qiskit-ibmq-provider==0.19.2->qiskit) (38.0.3)\n",
      "Requirement already satisfied: rustworkx==0.12.0 in /home/guillaume/.local/lib/python3.10/site-packages (from retworkx>=0.11.0->qiskit-terra==0.22.4->qiskit) (0.12.0)\n",
      "Requirement already satisfied: pbr!=2.1.0,>=2.0.0 in /home/guillaume/.local/lib/python3.10/site-packages (from stevedore>=3.0.0->qiskit-terra==0.22.4->qiskit) (5.11.0)\n",
      "Requirement already satisfied: mpmath>=0.19 in /home/guillaume/.local/lib/python3.10/site-packages (from sympy>=1.3->qiskit-terra==0.22.4->qiskit) (1.2.1)\n",
      "Requirement already satisfied: cffi>=1.12 in /usr/lib/python3.10/site-packages (from cryptography>=1.3->requests-ntlm>=1.1.0->qiskit-ibmq-provider==0.19.2->qiskit) (1.15.1)\n",
      "Requirement already satisfied: pycparser in /usr/lib/python3.10/site-packages (from cffi>=1.12->cryptography>=1.3->requests-ntlm>=1.1.0->qiskit-ibmq-provider==0.19.2->qiskit) (2.21)\n"
     ]
    }
   ],
   "source": [
    "!pip3 install qiskit --upgrade"
   ]
  },
  {
   "cell_type": "code",
   "execution_count": 2,
   "id": "ee7f8b50",
   "metadata": {
    "id": "ee7f8b50"
   },
   "outputs": [],
   "source": [
    "import qiskit\n",
    "from scipy.special import erfinv\n",
    "import numpy as np\n",
    "import pandas as pd\n",
    "import scipy as sp\n",
    "from sklearn.model_selection import train_test_split\n",
    "import time\n",
    "from qiskit.providers.ibmq.managed import IBMQJobManager\n",
    "\n",
    "qs = qiskit.Aer.get_backend('qasm_simulator')"
   ]
  },
  {
   "cell_type": "markdown",
   "id": "801e5e59-f8a7-4088-bc0a-9f454353d6cf",
   "metadata": {},
   "source": [
    "# Useful functions"
   ]
  },
  {
   "cell_type": "markdown",
   "id": "c36a7a73-13c8-4e34-a07b-fd60f783f630",
   "metadata": {},
   "source": [
    "## Preprocessing functions"
   ]
  },
  {
   "cell_type": "markdown",
   "id": "71e43bd2-ce9c-49f7-8503-4a4ca519ab01",
   "metadata": {},
   "source": [
    "These functions correspond to the data encoding functions from the original paper."
   ]
  },
  {
   "cell_type": "code",
   "execution_count": 3,
   "id": "a37e0fb4-d140-4e14-9698-eaea02edcda6",
   "metadata": {
    "tags": []
   },
   "outputs": [],
   "source": [
    "def standardise(x):\n",
    "    return (x - np.mean(x)) / np.std(x)\n",
    "\n",
    "def rescaleFeature(x, alpha, q):\n",
    "    return (1-alpha/2) * (np.pi/q) * standardise(x)"
   ]
  },
  {
   "cell_type": "markdown",
   "id": "f24482ee-0bea-4a78-952c-5d737c316ac0",
   "metadata": {},
   "source": [
    "## Circuit functions"
   ]
  },
  {
   "cell_type": "markdown",
   "id": "b5323bef-fa08-44b8-bd3a-4187e5a4eb80",
   "metadata": {},
   "source": [
    "This is a function to construct a basic psi gate, as described in the paper."
   ]
  },
  {
   "cell_type": "code",
   "execution_count": 4,
   "id": "3632e066-2792-4b8d-9f1e-7de5580c4c3e",
   "metadata": {},
   "outputs": [],
   "source": [
    "def psiGate(qc, param, bit):\n",
    "    qc.rx(np.pi/2, bit)\n",
    "    qc.rz(param, bit)\n",
    "    qc.rx(np.pi/2, bit)"
   ]
  },
  {
   "cell_type": "markdown",
   "id": "a37df251-b80f-4622-bd67-98ac74536e9e",
   "metadata": {},
   "source": [
    "# Quantum Classifier Class"
   ]
  },
  {
   "cell_type": "markdown",
   "id": "f946d9ab-52b0-4dc4-814d-e0ba1ad3a031",
   "metadata": {},
   "source": [
    "This is the loss function described in the paper. Only relevant bitstrings are taken into account."
   ]
  },
  {
   "cell_type": "code",
   "execution_count": 5,
   "id": "2b6dcbe3-4e17-4cb5-a37f-1304194f0986",
   "metadata": {},
   "outputs": [],
   "source": [
    "def logSoftmax(label, job_results, bitstrings, nshots) :\n",
    "    if label in job_results :\n",
    "        e = np.exp(job_results[label] / nshots)\n",
    "    else :\n",
    "        e = 1\n",
    "        \n",
    "    s = 0\n",
    "    for bitstring in bitstrings :\n",
    "        if bitstring in job_results :\n",
    "            s += np.exp(job_results[bitstring] / nshots)\n",
    "        else :\n",
    "            s += 1 \n",
    "            \n",
    "    return -np.log(e / s)\n"
   ]
  },
  {
   "cell_type": "markdown",
   "id": "ca7e226d-2081-4ac5-a699-89cf321ff98e",
   "metadata": {},
   "source": [
    "This is our main class which we will use to train an predict. By default we will use COBYLA and our previously defined loss to train."
   ]
  },
  {
   "cell_type": "code",
   "execution_count": 6,
   "id": "59165a3f-58b4-496a-8e0c-6f80c7a72f71",
   "metadata": {},
   "outputs": [],
   "source": [
    "class QuantumClassifier:\n",
    "\n",
    "    def __init__(self, circuit_builder, bitstrings, theta_size, loss_function = logSoftmax, optimizer_method = \"COBYLA\"):\n",
    "        self.circuit_builder = circuit_builder\n",
    "        self.circuit=None\n",
    "        self.bitstrings = bitstrings\n",
    "        self.theta_size = theta_size\n",
    "        self.loss_function = loss_function\n",
    "        self.optimizer_method = optimizer_method\n",
    "        self.theta = None\n",
    "        self.nshots = 100\n",
    "        \n",
    "    \n",
    "    # Training functions\n",
    "    def executeJob(self, circuit):\n",
    "        job = qiskit.execute(circuit, shots=self.nshots, backend=qs)\n",
    "        return  job.result().get_counts()\n",
    "    \n",
    "    def build_circuit(self, theta, X, y):\n",
    "        omega = X\n",
    "        self.circuit = self.circuit_builder(theta, omega)\n",
    "        return self.circuit\n",
    "\n",
    "    def runCircuit(self, theta, X, y):#, backend=None):\n",
    "        self.build_circuit(theta, X, y)\n",
    "        job_results = self.executeJob(self.circuit)\n",
    "        label = y\n",
    "        \n",
    "        # if backend is not None:\n",
    "        #     mapped_circuit = qiskit.transpile(self.circuit, backend=backend)\n",
    "        #     qobj = qiskit.assemble(mapped_circuit, backend=backend, shots=self.nshots)\n",
    "        #     job = backend.run(qobj)\n",
    "        #     while(job.status().name != 'DONE'):\n",
    "        #         time.sleep(0.1)\n",
    "        #     ID = job.job_id()\n",
    "        #     job = backend.retrieve_job(ID)\n",
    "        #     job_results = job.result().get_counts()\n",
    "        return self.loss_function(label, job_results, self.bitstrings, self.nshots)\n",
    "        \n",
    "        \n",
    "    def lossBatch(self, theta, X, y, backend=None):\n",
    "    \n",
    "        total_loss = 0\n",
    "\n",
    "        batch = list(zip(X, y))\n",
    "\n",
    "        if backend is None:\n",
    "            for X_el, y_el in zip(X, y) :\n",
    "                total_loss += self.runCircuit(theta, X_el, y_el)\n",
    "        else:\n",
    "            circuit_list=[self.build_circuit(theta,X_el, y_el) for (X_el, y_el) in zip(X, y)]\n",
    "            circs = qiskit.transpile(circuit_list, backend=backend)\n",
    "            job_manager = IBMQJobManager()\n",
    "            job_set = job_manager.run(circs, backend=backend, nam='iris')\n",
    "            while(job_set.statuses()[0].name != 'DONE'):\n",
    "                time.sleep(0.1)\n",
    "                \n",
    "            results = job_set.results()\n",
    "            for i in range(len(y)):\n",
    "                total_loss+=self.loss_function(y[i], results.get_counts(i), self.bitstrings, self.nshots)\n",
    "\n",
    "        total_loss /= len(y)\n",
    "        print(\"loss: \" + str(total_loss))\n",
    "        return total_loss\n",
    "        \n",
    "    def fit(self, X, y, nshots=100, maxiter=20, theta=None, backend=None):\n",
    "        \n",
    "        if theta is not None:\n",
    "            self.theta = theta\n",
    "            \n",
    "        if self.theta is None:\n",
    "            self.theta = np.random.uniform(0, 2 * np.pi, self.theta_size)            \n",
    "            \n",
    "        self.nshots = nshots\n",
    "\n",
    "        opt = sp.optimize.minimize(\n",
    "            fun=lambda params : self.lossBatch(params, X, y, backend),\n",
    "            x0=self.theta,\n",
    "            method=self.optimizer_method,\n",
    "            options={'maxiter': maxiter}\n",
    "        )\n",
    "        \n",
    "        self.theta = opt.x\n",
    "        \n",
    "        return opt\n",
    "    \n",
    "    # Testing functions\n",
    "    def argmaxJobResults(self, job_results):\n",
    "        max_label_value = None\n",
    "        max_label = None\n",
    "    \n",
    "        for label in job_results :\n",
    "            if label in self.bitstrings and (max_label_value is None or job_results[label] >= max_label_value) :\n",
    "                max_label = label\n",
    "                max_label_value = job_results[label]\n",
    "        return max_label\n",
    "    \n",
    "    def predict(self, X, theta=None, nshots=100):\n",
    "        \n",
    "        if theta is not None:\n",
    "            self.theta = theta\n",
    "            \n",
    "        self.nshots = nshots\n",
    "        \n",
    "        y_pred = []\n",
    "        \n",
    "        for omega in X :    \n",
    "            self.circuit = self.circuit_builder(self.theta, omega)\n",
    "            job_results = self.executeJob(self.circuit)\n",
    "            y_pred.append(self.argmaxJobResults(job_results))\n",
    "\n",
    "        return y_pred\n",
    "\n",
    "    def compute_accuracy(self, y_pred, y) :\n",
    "        correct = 0\n",
    "\n",
    "        for y_pred_el, y_el in zip(y_pred, y) :\n",
    "            if y_pred_el == y_el :\n",
    "                correct += 1\n",
    "        \n",
    "        return correct / len(y)"
   ]
  },
  {
   "cell_type": "markdown",
   "id": "a1b906b7",
   "metadata": {},
   "source": [
    "# I - IRIS"
   ]
  },
  {
   "cell_type": "markdown",
   "id": "39ec5b24",
   "metadata": {
    "id": "39ec5b24"
   },
   "source": [
    "## Construct dataset"
   ]
  },
  {
   "cell_type": "markdown",
   "id": "6f8ead7e-1123-4902-98df-6fcb5c2e5559",
   "metadata": {},
   "source": [
    "### Import dataset"
   ]
  },
  {
   "cell_type": "code",
   "execution_count": 7,
   "id": "e7b1fdae-a728-4d14-ae01-b8a6fb56d215",
   "metadata": {},
   "outputs": [
    {
     "data": {
      "text/html": [
       "<div>\n",
       "<style scoped>\n",
       "    .dataframe tbody tr th:only-of-type {\n",
       "        vertical-align: middle;\n",
       "    }\n",
       "\n",
       "    .dataframe tbody tr th {\n",
       "        vertical-align: top;\n",
       "    }\n",
       "\n",
       "    .dataframe thead th {\n",
       "        text-align: right;\n",
       "    }\n",
       "</style>\n",
       "<table border=\"1\" class=\"dataframe\">\n",
       "  <thead>\n",
       "    <tr style=\"text-align: right;\">\n",
       "      <th></th>\n",
       "      <th>sepal-length</th>\n",
       "      <th>sepal-width</th>\n",
       "      <th>petal-length</th>\n",
       "      <th>petal-width</th>\n",
       "      <th>class</th>\n",
       "    </tr>\n",
       "  </thead>\n",
       "  <tbody>\n",
       "    <tr>\n",
       "      <th>0</th>\n",
       "      <td>5.1</td>\n",
       "      <td>3.5</td>\n",
       "      <td>1.4</td>\n",
       "      <td>0.2</td>\n",
       "      <td>Iris-setosa</td>\n",
       "    </tr>\n",
       "    <tr>\n",
       "      <th>1</th>\n",
       "      <td>4.9</td>\n",
       "      <td>3.0</td>\n",
       "      <td>1.4</td>\n",
       "      <td>0.2</td>\n",
       "      <td>Iris-setosa</td>\n",
       "    </tr>\n",
       "    <tr>\n",
       "      <th>2</th>\n",
       "      <td>4.7</td>\n",
       "      <td>3.2</td>\n",
       "      <td>1.3</td>\n",
       "      <td>0.2</td>\n",
       "      <td>Iris-setosa</td>\n",
       "    </tr>\n",
       "    <tr>\n",
       "      <th>3</th>\n",
       "      <td>4.6</td>\n",
       "      <td>3.1</td>\n",
       "      <td>1.5</td>\n",
       "      <td>0.2</td>\n",
       "      <td>Iris-setosa</td>\n",
       "    </tr>\n",
       "    <tr>\n",
       "      <th>4</th>\n",
       "      <td>5.0</td>\n",
       "      <td>3.6</td>\n",
       "      <td>1.4</td>\n",
       "      <td>0.2</td>\n",
       "      <td>Iris-setosa</td>\n",
       "    </tr>\n",
       "    <tr>\n",
       "      <th>...</th>\n",
       "      <td>...</td>\n",
       "      <td>...</td>\n",
       "      <td>...</td>\n",
       "      <td>...</td>\n",
       "      <td>...</td>\n",
       "    </tr>\n",
       "    <tr>\n",
       "      <th>145</th>\n",
       "      <td>6.7</td>\n",
       "      <td>3.0</td>\n",
       "      <td>5.2</td>\n",
       "      <td>2.3</td>\n",
       "      <td>Iris-virginica</td>\n",
       "    </tr>\n",
       "    <tr>\n",
       "      <th>146</th>\n",
       "      <td>6.3</td>\n",
       "      <td>2.5</td>\n",
       "      <td>5.0</td>\n",
       "      <td>1.9</td>\n",
       "      <td>Iris-virginica</td>\n",
       "    </tr>\n",
       "    <tr>\n",
       "      <th>147</th>\n",
       "      <td>6.5</td>\n",
       "      <td>3.0</td>\n",
       "      <td>5.2</td>\n",
       "      <td>2.0</td>\n",
       "      <td>Iris-virginica</td>\n",
       "    </tr>\n",
       "    <tr>\n",
       "      <th>148</th>\n",
       "      <td>6.2</td>\n",
       "      <td>3.4</td>\n",
       "      <td>5.4</td>\n",
       "      <td>2.3</td>\n",
       "      <td>Iris-virginica</td>\n",
       "    </tr>\n",
       "    <tr>\n",
       "      <th>149</th>\n",
       "      <td>5.9</td>\n",
       "      <td>3.0</td>\n",
       "      <td>5.1</td>\n",
       "      <td>1.8</td>\n",
       "      <td>Iris-virginica</td>\n",
       "    </tr>\n",
       "  </tbody>\n",
       "</table>\n",
       "<p>150 rows × 5 columns</p>\n",
       "</div>"
      ],
      "text/plain": [
       "     sepal-length  sepal-width  petal-length  petal-width           class\n",
       "0             5.1          3.5           1.4          0.2     Iris-setosa\n",
       "1             4.9          3.0           1.4          0.2     Iris-setosa\n",
       "2             4.7          3.2           1.3          0.2     Iris-setosa\n",
       "3             4.6          3.1           1.5          0.2     Iris-setosa\n",
       "4             5.0          3.6           1.4          0.2     Iris-setosa\n",
       "..            ...          ...           ...          ...             ...\n",
       "145           6.7          3.0           5.2          2.3  Iris-virginica\n",
       "146           6.3          2.5           5.0          1.9  Iris-virginica\n",
       "147           6.5          3.0           5.2          2.0  Iris-virginica\n",
       "148           6.2          3.4           5.4          2.3  Iris-virginica\n",
       "149           5.9          3.0           5.1          1.8  Iris-virginica\n",
       "\n",
       "[150 rows x 5 columns]"
      ]
     },
     "execution_count": 7,
     "metadata": {},
     "output_type": "execute_result"
    }
   ],
   "source": [
    "df_iris = pd.read_csv(\"iris.data\")\n",
    "df_iris"
   ]
  },
  {
   "cell_type": "markdown",
   "id": "cf73ca45-ee64-48a5-a42e-edfaf8d11946",
   "metadata": {},
   "source": [
    "### Preprocess"
   ]
  },
  {
   "cell_type": "markdown",
   "id": "a5f70a9f-3644-4441-ac63-bc7e251411d5",
   "metadata": {},
   "source": [
    "Preprocessing consists in computing the encoding function of the paper. We will use a fixed q value of 3 and alpha value of 1/10 as done in the paper."
   ]
  },
  {
   "cell_type": "code",
   "execution_count": 8,
   "id": "1401a0fe-cff1-4d5e-85dc-56e9b4b088f5",
   "metadata": {
    "id": "57aae14e"
   },
   "outputs": [
    {
     "data": {
      "text/html": [
       "<div>\n",
       "<style scoped>\n",
       "    .dataframe tbody tr th:only-of-type {\n",
       "        vertical-align: middle;\n",
       "    }\n",
       "\n",
       "    .dataframe tbody tr th {\n",
       "        vertical-align: top;\n",
       "    }\n",
       "\n",
       "    .dataframe thead th {\n",
       "        text-align: right;\n",
       "    }\n",
       "</style>\n",
       "<table border=\"1\" class=\"dataframe\">\n",
       "  <thead>\n",
       "    <tr style=\"text-align: right;\">\n",
       "      <th></th>\n",
       "      <th>sepal-length</th>\n",
       "      <th>sepal-width</th>\n",
       "      <th>petal-length</th>\n",
       "      <th>petal-width</th>\n",
       "      <th>class</th>\n",
       "    </tr>\n",
       "  </thead>\n",
       "  <tbody>\n",
       "    <tr>\n",
       "      <th>0</th>\n",
       "      <td>-0.896032</td>\n",
       "      <td>1.026729</td>\n",
       "      <td>-1.334348</td>\n",
       "      <td>-1.306199</td>\n",
       "      <td>Iris-setosa</td>\n",
       "    </tr>\n",
       "    <tr>\n",
       "      <th>1</th>\n",
       "      <td>-1.137116</td>\n",
       "      <td>-0.124313</td>\n",
       "      <td>-1.334348</td>\n",
       "      <td>-1.306199</td>\n",
       "      <td>Iris-setosa</td>\n",
       "    </tr>\n",
       "    <tr>\n",
       "      <th>2</th>\n",
       "      <td>-1.378201</td>\n",
       "      <td>0.336104</td>\n",
       "      <td>-1.390920</td>\n",
       "      <td>-1.306199</td>\n",
       "      <td>Iris-setosa</td>\n",
       "    </tr>\n",
       "    <tr>\n",
       "      <th>3</th>\n",
       "      <td>-1.498743</td>\n",
       "      <td>0.105896</td>\n",
       "      <td>-1.277776</td>\n",
       "      <td>-1.306199</td>\n",
       "      <td>Iris-setosa</td>\n",
       "    </tr>\n",
       "    <tr>\n",
       "      <th>4</th>\n",
       "      <td>-1.016574</td>\n",
       "      <td>1.256938</td>\n",
       "      <td>-1.334348</td>\n",
       "      <td>-1.306199</td>\n",
       "      <td>Iris-setosa</td>\n",
       "    </tr>\n",
       "    <tr>\n",
       "      <th>...</th>\n",
       "      <td>...</td>\n",
       "      <td>...</td>\n",
       "      <td>...</td>\n",
       "      <td>...</td>\n",
       "      <td>...</td>\n",
       "    </tr>\n",
       "    <tr>\n",
       "      <th>145</th>\n",
       "      <td>1.032646</td>\n",
       "      <td>-0.124313</td>\n",
       "      <td>0.815393</td>\n",
       "      <td>1.440481</td>\n",
       "      <td>Iris-virginica</td>\n",
       "    </tr>\n",
       "    <tr>\n",
       "      <th>146</th>\n",
       "      <td>0.550477</td>\n",
       "      <td>-1.275354</td>\n",
       "      <td>0.702249</td>\n",
       "      <td>0.917304</td>\n",
       "      <td>Iris-virginica</td>\n",
       "    </tr>\n",
       "    <tr>\n",
       "      <th>147</th>\n",
       "      <td>0.791562</td>\n",
       "      <td>-0.124313</td>\n",
       "      <td>0.815393</td>\n",
       "      <td>1.048098</td>\n",
       "      <td>Iris-virginica</td>\n",
       "    </tr>\n",
       "    <tr>\n",
       "      <th>148</th>\n",
       "      <td>0.429934</td>\n",
       "      <td>0.796521</td>\n",
       "      <td>0.928537</td>\n",
       "      <td>1.440481</td>\n",
       "      <td>Iris-virginica</td>\n",
       "    </tr>\n",
       "    <tr>\n",
       "      <th>149</th>\n",
       "      <td>0.068307</td>\n",
       "      <td>-0.124313</td>\n",
       "      <td>0.758821</td>\n",
       "      <td>0.786510</td>\n",
       "      <td>Iris-virginica</td>\n",
       "    </tr>\n",
       "  </tbody>\n",
       "</table>\n",
       "<p>150 rows × 5 columns</p>\n",
       "</div>"
      ],
      "text/plain": [
       "     sepal-length  sepal-width  petal-length  petal-width           class\n",
       "0       -0.896032     1.026729     -1.334348    -1.306199     Iris-setosa\n",
       "1       -1.137116    -0.124313     -1.334348    -1.306199     Iris-setosa\n",
       "2       -1.378201     0.336104     -1.390920    -1.306199     Iris-setosa\n",
       "3       -1.498743     0.105896     -1.277776    -1.306199     Iris-setosa\n",
       "4       -1.016574     1.256938     -1.334348    -1.306199     Iris-setosa\n",
       "..            ...          ...           ...          ...             ...\n",
       "145      1.032646    -0.124313      0.815393     1.440481  Iris-virginica\n",
       "146      0.550477    -1.275354      0.702249     0.917304  Iris-virginica\n",
       "147      0.791562    -0.124313      0.815393     1.048098  Iris-virginica\n",
       "148      0.429934     0.796521      0.928537     1.440481  Iris-virginica\n",
       "149      0.068307    -0.124313      0.758821     0.786510  Iris-virginica\n",
       "\n",
       "[150 rows x 5 columns]"
      ]
     },
     "execution_count": 8,
     "metadata": {},
     "output_type": "execute_result"
    }
   ],
   "source": [
    "alpha = 0.1\n",
    "q = 3\n",
    "\n",
    "attributes = df_iris.columns[:-1]\n",
    "\n",
    "for x in attributes:\n",
    "    df_iris[x] = rescaleFeature(df_iris[x], alpha, q)\n",
    "\n",
    "df_iris"
   ]
  },
  {
   "cell_type": "markdown",
   "id": "b604a259-7d50-44e6-960e-442415412f35",
   "metadata": {},
   "source": [
    "We will attribute each class to the bistrings 00, 01 and 10. Thus, 11 will remain unused."
   ]
  },
  {
   "cell_type": "code",
   "execution_count": 9,
   "id": "2212a6e4-ba2c-4c7e-907b-5ed60bea3b53",
   "metadata": {
    "id": "57aae14e"
   },
   "outputs": [
    {
     "data": {
      "text/html": [
       "<div>\n",
       "<style scoped>\n",
       "    .dataframe tbody tr th:only-of-type {\n",
       "        vertical-align: middle;\n",
       "    }\n",
       "\n",
       "    .dataframe tbody tr th {\n",
       "        vertical-align: top;\n",
       "    }\n",
       "\n",
       "    .dataframe thead th {\n",
       "        text-align: right;\n",
       "    }\n",
       "</style>\n",
       "<table border=\"1\" class=\"dataframe\">\n",
       "  <thead>\n",
       "    <tr style=\"text-align: right;\">\n",
       "      <th></th>\n",
       "      <th>sepal-length</th>\n",
       "      <th>sepal-width</th>\n",
       "      <th>petal-length</th>\n",
       "      <th>petal-width</th>\n",
       "      <th>class</th>\n",
       "    </tr>\n",
       "  </thead>\n",
       "  <tbody>\n",
       "    <tr>\n",
       "      <th>0</th>\n",
       "      <td>-0.896032</td>\n",
       "      <td>1.026729</td>\n",
       "      <td>-1.334348</td>\n",
       "      <td>-1.306199</td>\n",
       "      <td>00</td>\n",
       "    </tr>\n",
       "    <tr>\n",
       "      <th>1</th>\n",
       "      <td>-1.137116</td>\n",
       "      <td>-0.124313</td>\n",
       "      <td>-1.334348</td>\n",
       "      <td>-1.306199</td>\n",
       "      <td>00</td>\n",
       "    </tr>\n",
       "    <tr>\n",
       "      <th>2</th>\n",
       "      <td>-1.378201</td>\n",
       "      <td>0.336104</td>\n",
       "      <td>-1.390920</td>\n",
       "      <td>-1.306199</td>\n",
       "      <td>00</td>\n",
       "    </tr>\n",
       "    <tr>\n",
       "      <th>3</th>\n",
       "      <td>-1.498743</td>\n",
       "      <td>0.105896</td>\n",
       "      <td>-1.277776</td>\n",
       "      <td>-1.306199</td>\n",
       "      <td>00</td>\n",
       "    </tr>\n",
       "    <tr>\n",
       "      <th>4</th>\n",
       "      <td>-1.016574</td>\n",
       "      <td>1.256938</td>\n",
       "      <td>-1.334348</td>\n",
       "      <td>-1.306199</td>\n",
       "      <td>00</td>\n",
       "    </tr>\n",
       "    <tr>\n",
       "      <th>...</th>\n",
       "      <td>...</td>\n",
       "      <td>...</td>\n",
       "      <td>...</td>\n",
       "      <td>...</td>\n",
       "      <td>...</td>\n",
       "    </tr>\n",
       "    <tr>\n",
       "      <th>145</th>\n",
       "      <td>1.032646</td>\n",
       "      <td>-0.124313</td>\n",
       "      <td>0.815393</td>\n",
       "      <td>1.440481</td>\n",
       "      <td>10</td>\n",
       "    </tr>\n",
       "    <tr>\n",
       "      <th>146</th>\n",
       "      <td>0.550477</td>\n",
       "      <td>-1.275354</td>\n",
       "      <td>0.702249</td>\n",
       "      <td>0.917304</td>\n",
       "      <td>10</td>\n",
       "    </tr>\n",
       "    <tr>\n",
       "      <th>147</th>\n",
       "      <td>0.791562</td>\n",
       "      <td>-0.124313</td>\n",
       "      <td>0.815393</td>\n",
       "      <td>1.048098</td>\n",
       "      <td>10</td>\n",
       "    </tr>\n",
       "    <tr>\n",
       "      <th>148</th>\n",
       "      <td>0.429934</td>\n",
       "      <td>0.796521</td>\n",
       "      <td>0.928537</td>\n",
       "      <td>1.440481</td>\n",
       "      <td>10</td>\n",
       "    </tr>\n",
       "    <tr>\n",
       "      <th>149</th>\n",
       "      <td>0.068307</td>\n",
       "      <td>-0.124313</td>\n",
       "      <td>0.758821</td>\n",
       "      <td>0.786510</td>\n",
       "      <td>10</td>\n",
       "    </tr>\n",
       "  </tbody>\n",
       "</table>\n",
       "<p>150 rows × 5 columns</p>\n",
       "</div>"
      ],
      "text/plain": [
       "     sepal-length  sepal-width  petal-length  petal-width class\n",
       "0       -0.896032     1.026729     -1.334348    -1.306199    00\n",
       "1       -1.137116    -0.124313     -1.334348    -1.306199    00\n",
       "2       -1.378201     0.336104     -1.390920    -1.306199    00\n",
       "3       -1.498743     0.105896     -1.277776    -1.306199    00\n",
       "4       -1.016574     1.256938     -1.334348    -1.306199    00\n",
       "..            ...          ...           ...          ...   ...\n",
       "145      1.032646    -0.124313      0.815393     1.440481    10\n",
       "146      0.550477    -1.275354      0.702249     0.917304    10\n",
       "147      0.791562    -0.124313      0.815393     1.048098    10\n",
       "148      0.429934     0.796521      0.928537     1.440481    10\n",
       "149      0.068307    -0.124313      0.758821     0.786510    10\n",
       "\n",
       "[150 rows x 5 columns]"
      ]
     },
     "execution_count": 9,
     "metadata": {},
     "output_type": "execute_result"
    }
   ],
   "source": [
    "diconvert = {\n",
    "    \"Iris-setosa\" : \"00\",\n",
    "    \"Iris-versicolor\" : \"01\",\n",
    "    \"Iris-virginica\" : \"10\"\n",
    "}\n",
    "\n",
    "df_iris = df_iris.replace({\"class\": diconvert})\n",
    "df_iris"
   ]
  },
  {
   "cell_type": "code",
   "execution_count": 10,
   "id": "af4fb61b-167e-4aa4-a590-86f2a51ee501",
   "metadata": {
    "id": "57aae14e"
   },
   "outputs": [],
   "source": [
    "X_iris = df_iris[attributes].values\n",
    "y_iris = df_iris[\"class\"].values"
   ]
  },
  {
   "cell_type": "markdown",
   "id": "31fe2a8a-b57b-42f3-8e5c-842df05a0081",
   "metadata": {},
   "source": [
    "### Split"
   ]
  },
  {
   "cell_type": "markdown",
   "id": "2be94dbc-cb75-41c8-84ed-b222e6f6b692",
   "metadata": {},
   "source": [
    "We will use a training size of 90 samples and a test size of 60 samples as done in the paper."
   ]
  },
  {
   "cell_type": "code",
   "execution_count": 11,
   "id": "a6781711-4d52-43a8-8b21-7cb0f6ab419a",
   "metadata": {
    "id": "57aae14e"
   },
   "outputs": [],
   "source": [
    "train_size = 90\n",
    "test_size = 60\n",
    "\n",
    "X_train_iris, X_test_iris, y_train_iris, y_test_iris = train_test_split(X_iris, y_iris, test_size=test_size, train_size=train_size, stratify=y_iris)"
   ]
  },
  {
   "cell_type": "markdown",
   "id": "954e97a9-b134-4246-91e3-357e7699d789",
   "metadata": {},
   "source": [
    "## Circuit"
   ]
  },
  {
   "cell_type": "code",
   "execution_count": 12,
   "id": "eb6b2bdd",
   "metadata": {
    "id": "eb6b2bdd"
   },
   "outputs": [],
   "source": [
    "def irisCircuit(theta, omega):\n",
    "    qc = qiskit.QuantumCircuit(2, 2)\n",
    "    \n",
    "    iris_circuit = qiskit.QuantumCircuit(2)\n",
    "    for i in range(4):\n",
    "        if i : iris_circuit.cz(0, 1)\n",
    "        psiGate(iris_circuit, omega[(2*i) % 4], 0)\n",
    "        psiGate(iris_circuit, omega[(2*i+1) % 4], 1)\n",
    "        \n",
    "        iris_circuit.cz(0, 1)\n",
    "        \n",
    "        psiGate(iris_circuit, theta[(2*i)], 0)\n",
    "        psiGate(iris_circuit, theta[(2*i+1)], 1)\n",
    "        \n",
    "    qc.append(iris_circuit, range(2))\n",
    "    qc.measure(range(2), range(2))\n",
    "    \n",
    "    return qc"
   ]
  },
  {
   "cell_type": "code",
   "execution_count": 13,
   "id": "d7d5ccff-01e0-4456-9768-9f4723c1bdf1",
   "metadata": {},
   "outputs": [
    {
     "data": {
      "image/png": "[encoded data removed]",
      "text/plain": [
       "<Figure size 2879.24x284.278 with 1 Axes>"
      ]
     },
     "execution_count": 13,
     "metadata": {},
     "output_type": "execute_result"
    }
   ],
   "source": [
    "irisCircuit(np.zeros(8), np.zeros(4)).decompose().draw(\"mpl\", fold=40)"
   ]
  },
  {
   "cell_type": "markdown",
   "id": "c5a49de3-7c4b-4a76-bcaf-ee3f42dd03ad",
   "metadata": {},
   "source": [
    "## Train"
   ]
  },
  {
   "cell_type": "code",
   "execution_count": 14,
   "id": "8db45951-258f-4e0e-84fb-1535e4153541",
   "metadata": {},
   "outputs": [],
   "source": [
    "iris_classifier = QuantumClassifier(irisCircuit, ['00', '01', '10'], 8)"
   ]
  },
  {
   "cell_type": "code",
   "execution_count": 15,
   "id": "18debf5b",
   "metadata": {},
   "outputs": [
    {
     "name": "stdout",
     "output_type": "stream",
     "text": [
      "loss: 1.1967238664736461\n",
      "loss: 1.2015648452988157\n",
      "loss: 1.1949883367340821\n",
      "loss: 1.1629170367248878\n",
      "loss: 1.1203749500088764\n",
      "loss: 1.1709312319880394\n",
      "loss: 1.1714489028614217\n",
      "loss: 1.1193281259437702\n",
      "loss: 1.0841621641337795\n",
      "loss: 1.068788519998829\n",
      "loss: 1.0336985936633505\n",
      "loss: 1.0496605684651814\n",
      "loss: 1.0237512388380021\n",
      "loss: 1.0987710658435605\n",
      "loss: 0.9887841525691403\n",
      "loss: 0.9723025454835843\n",
      "loss: 0.9865755006568361\n",
      "loss: 1.0160552576068498\n",
      "loss: 1.0140428846448926\n",
      "loss: 1.0019121261840607\n"
     ]
    }
   ],
   "source": [
    "opt_iris = iris_classifier.fit(X_train_iris, y_train_iris, nshots=250, maxiter=20)"
   ]
  },
  {
   "cell_type": "code",
   "execution_count": 16,
   "id": "f8f6895d",
   "metadata": {},
   "outputs": [
    {
     "name": "stdout",
     "output_type": "stream",
     "text": [
      "loss: 0.9715883730080195\n",
      "loss: 0.9932708136836145\n",
      "loss: 1.056440015415381\n",
      "loss: 0.9981752712524201\n",
      "loss: 0.9640626470051029\n",
      "loss: 0.9672214893967078\n",
      "loss: 1.0039690552318703\n",
      "loss: 1.1006180085076673\n",
      "loss: 1.0391930406121648\n",
      "loss: 0.8870566838066531\n",
      "loss: 0.930377531422052\n",
      "loss: 1.0347087460648894\n",
      "loss: 0.8757577021226859\n",
      "loss: 0.9087392883963457\n",
      "loss: 0.8558226913762139\n",
      "loss: 0.8810262807997532\n",
      "loss: 0.8044113831154988\n",
      "loss: 0.8016832362475935\n",
      "loss: 0.8015404672511329\n",
      "loss: 0.8328908966745527\n",
      "loss: 0.7907257854901366\n",
      "loss: 0.8216334054122071\n",
      "loss: 0.790157287656535\n",
      "loss: 0.8085233663547259\n",
      "loss: 0.7966022297470442\n",
      "loss: 0.798696674556693\n",
      "loss: 0.7913376715771056\n",
      "loss: 0.7964823826371417\n",
      "loss: 0.7915989449996876\n",
      "loss: 0.7868515099547881\n"
     ]
    }
   ],
   "source": [
    "opt_iris = iris_classifier.fit(X_train_iris, y_train_iris, nshots=500, maxiter=30)"
   ]
  },
  {
   "cell_type": "code",
   "execution_count": 17,
   "id": "3bd95424",
   "metadata": {},
   "outputs": [
    {
     "name": "stdout",
     "output_type": "stream",
     "text": [
      "loss: 0.7867753270840214\n",
      "loss: 0.8882880086745115\n",
      "loss: 0.8996908743330058\n",
      "loss: 0.9127234276168731\n",
      "loss: 0.8595669382959159\n",
      "loss: 0.8633443817253397\n",
      "loss: 0.8824114102412852\n",
      "loss: 0.9132697716007755\n",
      "loss: 0.9023560486896557\n",
      "loss: 0.7790072756248958\n",
      "loss: 0.7950336430320778\n",
      "loss: 0.7784669606038321\n",
      "loss: 0.8067798700535929\n",
      "loss: 0.8008705233555277\n",
      "loss: 0.7942889365030593\n",
      "loss: 0.7946646030686029\n",
      "loss: 0.8175860662305591\n",
      "loss: 0.7966501338057091\n",
      "loss: 0.7775729781116537\n",
      "loss: 0.7719540171048007\n",
      "loss: 0.7807872746768764\n",
      "loss: 0.7723661980412777\n",
      "loss: 0.7791908046184061\n",
      "loss: 0.7743358437789952\n",
      "loss: 0.7732848212893464\n",
      "loss: 0.7760579697358025\n",
      "loss: 0.7779587205734615\n",
      "loss: 0.7759093991969647\n",
      "loss: 0.7743582506760986\n",
      "loss: 0.7729627172978432\n",
      "loss: 0.7723458462502091\n",
      "loss: 0.7741582356691556\n",
      "loss: 0.7753258223039532\n",
      "loss: 0.7765538257992898\n",
      "loss: 0.7733394640857317\n",
      "loss: 0.7758032625655891\n",
      "loss: 0.7734608386026938\n",
      "loss: 0.7717061707324707\n",
      "loss: 0.7744127897151434\n",
      "loss: 0.7739834229493522\n",
      "loss: 0.7745056130781504\n",
      "loss: 0.7729497106938232\n",
      "loss: 0.7737258674043143\n",
      "loss: 0.7751157700414796\n",
      "loss: 0.7728740868875827\n",
      "loss: 0.7751041644313175\n",
      "loss: 0.7721238181386791\n",
      "loss: 0.7743831700040466\n",
      "loss: 0.7754155551195574\n",
      "loss: 0.7768973509155058\n",
      "loss: 0.7750754262982102\n",
      "loss: 0.7730910436774412\n",
      "loss: 0.7732302472358781\n",
      "loss: 0.7750916338149736\n",
      "loss: 0.774781930381603\n",
      "loss: 0.7750446659808442\n",
      "loss: 0.7721240522999014\n",
      "loss: 0.7747273518132661\n",
      "loss: 0.7739300443329187\n",
      "loss: 0.7742751513114658\n",
      "loss: 0.7733544760792387\n",
      "loss: 0.7750076216780918\n",
      "loss: 0.7724946118314742\n",
      "loss: 0.7744702680034957\n",
      "loss: 0.7726770841745021\n",
      "loss: 0.7729665812953367\n",
      "loss: 0.7738886969242297\n",
      "loss: 0.7736854913608238\n",
      "loss: 0.7774749582279505\n",
      "loss: 0.7749328585913305\n"
     ]
    }
   ],
   "source": [
    "opt_iris = iris_classifier.fit(X_train_iris, y_train_iris, nshots=750, maxiter=70)"
   ]
  },
  {
   "cell_type": "markdown",
   "id": "b518ffea-ca72-4822-ba89-b94ca822a88b",
   "metadata": {},
   "source": [
    "## Compute results"
   ]
  },
  {
   "cell_type": "code",
   "execution_count": 18,
   "id": "c9ee17ee-6ab8-46fc-b332-adc2bf602ffa",
   "metadata": {},
   "outputs": [
    {
     "data": {
      "text/plain": [
       "0.8888888888888888"
      ]
     },
     "execution_count": 18,
     "metadata": {},
     "output_type": "execute_result"
    }
   ],
   "source": [
    "y_pred_iris = iris_classifier.predict(X_train_iris)\n",
    "iris_classifier.compute_accuracy(y_pred_iris, y_train_iris)"
   ]
  },
  {
   "cell_type": "code",
   "execution_count": 19,
   "id": "63ce36fe",
   "metadata": {
    "id": "63ce36fe"
   },
   "outputs": [
    {
     "data": {
      "text/plain": [
       "0.8833333333333333"
      ]
     },
     "execution_count": 19,
     "metadata": {},
     "output_type": "execute_result"
    }
   ],
   "source": [
    "y_pred_iris = iris_classifier.predict(X_test_iris)\n",
    "iris_classifier.compute_accuracy(y_pred_iris, y_test_iris)"
   ]
  },
  {
   "cell_type": "markdown",
   "id": "4ed8cfdd-4787-46ea-ad35-d5204f6a403c",
   "metadata": {},
   "source": [
    "We obtain a precision of 88,3%, which is pretty good."
   ]
  },
  {
   "cell_type": "markdown",
   "id": "594a00a8",
   "metadata": {},
   "source": [
    "# II - Gaussian XOR"
   ]
  },
  {
   "cell_type": "markdown",
   "id": "a29b036d-f86c-4858-95ba-1919b481bde2",
   "metadata": {},
   "source": [
    "## Construct dataset"
   ]
  },
  {
   "cell_type": "markdown",
   "id": "f4880313-5115-43e7-a127-1f03bd9932ed",
   "metadata": {},
   "source": [
    "### Generate dataset"
   ]
  },
  {
   "cell_type": "markdown",
   "id": "172225b9-9b74-46fc-a8e0-7e3bb1c53653",
   "metadata": {},
   "source": [
    "The training dataset is generated by sampling points from 2D gaussian distributions centered around key points. These key points will be on the cartesian axes. Points from the x-axis will have label 0 and points from the y-axis will have label 1.\n",
    "\n",
    "The testing dataset will simply be the whole space."
   ]
  },
  {
   "cell_type": "code",
   "execution_count": 106,
   "id": "1b4a5dfd-756d-472c-8c76-67ad03f51b29",
   "metadata": {},
   "outputs": [],
   "source": [
    "import numpy as np\n",
    "import math"
   ]
  },
  {
   "cell_type": "code",
   "execution_count": 107,
   "id": "ed504155-5c7b-4a49-82f9-36230dc58e91",
   "metadata": {},
   "outputs": [],
   "source": [
    "def generate_gaussian_point(x, y) :\n",
    "    pick_x = np.random.normal(loc=x, scale = 0.5)\n",
    "    pick_y = np.random.normal(loc=y, scale = 0.5)\n",
    "    return [pick_x, pick_y]"
   ]
  },
  {
   "cell_type": "code",
   "execution_count": 108,
   "id": "3557a9fa-08ee-427d-ad1d-3e4d95ec704a",
   "metadata": {},
   "outputs": [],
   "source": [
    "center1 = (-np.pi / 2, 0)\n",
    "center2 = (np.pi / 2, 0)\n",
    "center3 = (0, -np.pi / 2)\n",
    "center4 = (0, np.pi / 2)\n",
    "\n",
    "centers = [center1, center2, center3, center4]\n"
   ]
  },
  {
   "cell_type": "code",
   "execution_count": 109,
   "id": "cd7cd6a7-ee55-479f-953c-ca177528195a",
   "metadata": {},
   "outputs": [],
   "source": [
    "X_train_xor = []\n",
    "y_train_xor = []\n",
    "\n",
    "for i in range(20) :\n",
    "    X_train_xor.append(generate_gaussian_point(*center1))\n",
    "    y_train_xor.append(0)\n",
    "    \n",
    "    X_train_xor.append(generate_gaussian_point(*center2))\n",
    "    y_train_xor.append(0)\n",
    "    \n",
    "    X_train_xor.append(generate_gaussian_point(*center3))\n",
    "    y_train_xor.append(1)\n",
    "    \n",
    "    X_train_xor.append(generate_gaussian_point(*center4))\n",
    "    y_train_xor.append(1)\n",
    "    \n",
    "X_train_xor = np.array(X_train_xor)\n",
    "y_train_xor = np.array(y_train_xor)"
   ]
  },
  {
   "cell_type": "code",
   "execution_count": 110,
   "id": "7e20849e-fa00-4529-bcd8-98b82b6c5c91",
   "metadata": {},
   "outputs": [],
   "source": [
    "lin = np.linspace(-np.pi, np.pi, num = 50)\n",
    "X_test_xor = np.array([[x, y] for x in lin for y in lin])\n",
    "\n",
    "y_test_xor = [1 if abs(el[0]) < abs(el[1]) else 0 for el in X_test_xor]"
   ]
  },
  {
   "cell_type": "code",
   "execution_count": 111,
   "id": "da085843-21ee-4f8d-9659-a35efa02eeea",
   "metadata": {},
   "outputs": [
    {
     "data": {
      "text/plain": [
       "(-3.141592653589793, 3.141592653589793)"
      ]
     },
     "execution_count": 111,
     "metadata": {},
     "output_type": "execute_result"
    },
    {
     "data": {
      "image/png": "[encoded data removed]",
      "text/plain": [
       "<Figure size 500x500 with 1 Axes>"
      ]
     },
     "metadata": {},
     "output_type": "display_data"
    }
   ],
   "source": [
    "import matplotlib.pyplot as plt\n",
    "\n",
    "plt.rcParams['figure.figsize'] = [5,5]\n",
    "\n",
    "c = [\"blue\" if el==0 else \"red\" for el in y_train_xor]\n",
    "\n",
    "plt.scatter(X_train_xor[:, 0], X_train_xor[:, 1], color=c)\n",
    "\n",
    "x,y = zip(*centers)\n",
    "plt.scatter(x, y, color='green')\n",
    "\n",
    "\n",
    "\n",
    "x = np.linspace(-np.pi, np.pi, 100)\n",
    "y = x\n",
    "y2 = - x\n",
    "\n",
    "plt.plot(x,y)\n",
    "plt.plot(x,y2)\n",
    "\n",
    "plt.xlim([-np.pi, np.pi])\n",
    "plt.ylim([-np.pi, np.pi])"
   ]
  },
  {
   "cell_type": "markdown",
   "id": "be653f45-5374-416f-8523-23d20d13e76e",
   "metadata": {},
   "source": [
    "### Preprocess"
   ]
  },
  {
   "cell_type": "markdown",
   "id": "581a1718-135a-488a-8924-1fff7ccc0511",
   "metadata": {},
   "source": [
    "We will attribute each class to the bistrings 00 and 10. Thus, 01 and 11 will remain unused."
   ]
  },
  {
   "cell_type": "code",
   "execution_count": 112,
   "id": "4b899521-2e4f-4506-ac17-7d91799d1a4e",
   "metadata": {},
   "outputs": [
    {
     "data": {
      "text/plain": [
       "['00', '00', '10', '10', '00', '00', '10', '10', '00', '00']"
      ]
     },
     "execution_count": 112,
     "metadata": {},
     "output_type": "execute_result"
    }
   ],
   "source": [
    "diconvert = {\n",
    "    0 : \"00\",\n",
    "    1 : \"10\",\n",
    "}\n",
    "\n",
    "new_y_train_xor = [diconvert[x] for x in y_train_xor]\n",
    "new_y_test_xor = [diconvert[x] for x in y_test_xor]\n",
    "\n",
    "y_train_xor = new_y_train_xor\n",
    "y_test_xor = new_y_test_xor\n",
    "\n",
    "y_train_xor[:10]"
   ]
  },
  {
   "cell_type": "markdown",
   "id": "12164653-08fd-4ac3-9127-86598882d3ec",
   "metadata": {},
   "source": [
    "## Circuit"
   ]
  },
  {
   "cell_type": "code",
   "execution_count": 113,
   "id": "1210de68-21a9-4e47-b9b3-c74e3f636826",
   "metadata": {},
   "outputs": [],
   "source": [
    "def xorCircuit(theta, omega):\n",
    "    qc = qiskit.QuantumCircuit(2, 2)\n",
    "    \n",
    "    xor_circuit = qiskit.QuantumCircuit(2)\n",
    "    \n",
    "    psiGate(xor_circuit, omega[0], 0)\n",
    "    psiGate(xor_circuit, omega[1], 1)\n",
    "    \n",
    "    for i in range(2):\n",
    "        xor_circuit.cz(0, 1)\n",
    "        psiGate(xor_circuit, theta[2*i], 0)\n",
    "        psiGate(xor_circuit, theta[2*i+1], 1)\n",
    "        \n",
    "    \n",
    "    qc.append(xor_circuit, range(2))\n",
    "    qc.measure(range(2), range(2))\n",
    "    return qc"
   ]
  },
  {
   "cell_type": "code",
   "execution_count": 114,
   "id": "6463dcfa-ea6d-41ec-9270-80b725cae6c5",
   "metadata": {},
   "outputs": [
    {
     "data": {
      "image/png": "[encoded data removed]",
      "text/plain": [
       "<Figure size 1207.02x284.278 with 1 Axes>"
      ]
     },
     "execution_count": 114,
     "metadata": {},
     "output_type": "execute_result"
    }
   ],
   "source": [
    "xorCircuit(np.zeros(8), np.zeros(4)).decompose().draw(\"mpl\", fold=40)"
   ]
  },
  {
   "cell_type": "markdown",
   "id": "f3f4ba1d-0841-454a-995c-9c0b6c7d84ab",
   "metadata": {},
   "source": [
    "## Train"
   ]
  },
  {
   "cell_type": "code",
   "execution_count": 115,
   "id": "06b82f55-5806-45d4-aa7b-839cc99bf82e",
   "metadata": {},
   "outputs": [],
   "source": [
    "xor_classifier = QuantumClassifier(xorCircuit, ['00', '10'], 4)"
   ]
  },
  {
   "cell_type": "code",
   "execution_count": 116,
   "id": "83080e8f",
   "metadata": {},
   "outputs": [
    {
     "name": "stdout",
     "output_type": "stream",
     "text": [
      "loss: 0.7213456028491645\n",
      "loss: 0.716560138309579\n",
      "loss: 0.6594954808801858\n",
      "loss: 0.6339452763594107\n",
      "loss: 0.599477957838993\n",
      "loss: 0.6659511481752506\n",
      "loss: 0.592534413209985\n",
      "loss: 0.5808000481913962\n",
      "loss: 0.5983191707896711\n",
      "loss: 0.5759695541986872\n",
      "loss: 0.5563977102199333\n",
      "loss: 0.5943419955880296\n",
      "loss: 0.5244452641196553\n",
      "loss: 0.5066535958249381\n",
      "loss: 0.4959340800466087\n",
      "loss: 0.5036794310706293\n",
      "loss: 0.5056418268018255\n",
      "loss: 0.5101431714725545\n",
      "loss: 0.49581812626137534\n",
      "loss: 0.4933983047522828\n",
      "loss: 0.49451424574160835\n",
      "loss: 0.49048659183771\n",
      "loss: 0.49424476080950575\n",
      "loss: 0.49671909312675117\n",
      "loss: 0.4912044099862548\n",
      "loss: 0.49450694923998045\n",
      "loss: 0.4934156279988725\n",
      "loss: 0.49374019445706424\n",
      "loss: 0.49517935191967205\n",
      "loss: 0.492851297480013\n",
      "loss: 0.49101283670778634\n",
      "loss: 0.4932060745804989\n",
      "loss: 0.4929059806986138\n",
      "loss: 0.49359460593136184\n",
      "loss: 0.4946132424980199\n",
      "loss: 0.4935529830059352\n",
      "loss: 0.494888940464498\n",
      "loss: 0.4949699844480085\n",
      "loss: 0.49033065964599604\n",
      "loss: 0.4920677013691354\n",
      "loss: 0.4914511454838572\n",
      "loss: 0.4941002541126817\n",
      "loss: 0.4946545799257584\n",
      "loss: 0.49475492178042985\n",
      "loss: 0.4910921752799931\n",
      "loss: 0.49553607143819123\n",
      "loss: 0.4933130184018661\n",
      "loss: 0.4902023675655861\n",
      "loss: 0.49311175676644714\n",
      "loss: 0.49418215680277167\n",
      "loss: 0.4925214298651592\n",
      "loss: 0.4936117906983951\n",
      "loss: 0.49075912096996366\n",
      "loss: 0.4929556744346793\n",
      "loss: 0.49273281421083925\n",
      "loss: 0.4945871598627156\n",
      "loss: 0.4932615530041177\n",
      "loss: 0.495519795764645\n"
     ]
    },
    {
     "data": {
      "text/plain": [
       "     fun: 0.495519795764645\n",
       "   maxcv: 0.0\n",
       " message: 'Optimization terminated successfully.'\n",
       "    nfev: 58\n",
       "  status: 1\n",
       " success: True\n",
       "       x: array([7.8553357 , 6.10667164, 7.87674292, 3.13669887])"
      ]
     },
     "execution_count": 116,
     "metadata": {},
     "output_type": "execute_result"
    }
   ],
   "source": [
    "xor_opt = xor_classifier.fit(X_train_xor, y_train_xor, nshots=250, maxiter=80)\n",
    "xor_opt"
   ]
  },
  {
   "cell_type": "markdown",
   "id": "d96cafbc-bd77-429a-b5df-736332b0ee93",
   "metadata": {},
   "source": [
    "## Compute results"
   ]
  },
  {
   "cell_type": "code",
   "execution_count": 117,
   "id": "8c527cb7-3e5e-4e23-b26f-0f5a3a49f593",
   "metadata": {},
   "outputs": [
    {
     "data": {
      "text/plain": [
       "0.9875"
      ]
     },
     "execution_count": 117,
     "metadata": {},
     "output_type": "execute_result"
    }
   ],
   "source": [
    "y_pred_xor = xor_classifier.predict(X_train_xor)\n",
    "xor_classifier.compute_accuracy(y_pred_xor, y_train_xor)"
   ]
  },
  {
   "cell_type": "code",
   "execution_count": 118,
   "id": "6cd3cff5-963d-4cb8-89a8-c37e7301ee4c",
   "metadata": {},
   "outputs": [],
   "source": [
    "y_pred_xor = xor_classifier.predict(X_test_xor)"
   ]
  },
  {
   "cell_type": "code",
   "execution_count": 119,
   "id": "e9172fc7-455c-4e77-ac7c-0a33e129fdd7",
   "metadata": {},
   "outputs": [
    {
     "data": {
      "text/plain": [
       "(-3.141592653589793, 3.141592653589793)"
      ]
     },
     "execution_count": 119,
     "metadata": {},
     "output_type": "execute_result"
    },
    {
     "data": {
      "image/png": "[encoded data removed]",
      "text/plain": [
       "<Figure size 500x500 with 1 Axes>"
      ]
     },
     "metadata": {},
     "output_type": "display_data"
    }
   ],
   "source": [
    "plt.rcParams['figure.figsize'] = [5,5]\n",
    "\n",
    "\n",
    "c = [\"blue\" if el==\"00\" else \"red\" for el in y_pred_xor]\n",
    "plt.scatter(X_test_xor[:, 0], X_test_xor[:, 1], color=c)\n",
    "\n",
    "x = np.linspace(-np.pi, np.pi, 100)\n",
    "y = x\n",
    "y2 = - x\n",
    "\n",
    "plt.plot(x,y)\n",
    "plt.plot(x,y2)\n",
    "\n",
    "plt.xlim([-np.pi, np.pi])\n",
    "plt.ylim([-np.pi, np.pi])"
   ]
  },
  {
   "cell_type": "code",
   "execution_count": 120,
   "id": "93652479-2d63-434b-b98f-4981d9f4f4e5",
   "metadata": {},
   "outputs": [
    {
     "data": {
      "text/plain": [
       "0.9472"
      ]
     },
     "execution_count": 120,
     "metadata": {},
     "output_type": "execute_result"
    }
   ],
   "source": [
    "xor_classifier.compute_accuracy(y_pred_xor, y_test_xor)"
   ]
  },
  {
   "cell_type": "markdown",
   "id": "0893ebed-4f33-4034-946a-ab189a739a16",
   "metadata": {
    "tags": []
   },
   "source": [
    "## Compare with GaussianNB"
   ]
  },
  {
   "cell_type": "code",
   "execution_count": 121,
   "id": "17d19981",
   "metadata": {},
   "outputs": [],
   "source": [
    "from sklearn.naive_bayes import GaussianNB"
   ]
  },
  {
   "cell_type": "code",
   "execution_count": 122,
   "id": "3b5eaa7f",
   "metadata": {},
   "outputs": [],
   "source": [
    "gaussianNb = GaussianNB()\n",
    "\n",
    "y_train_bayes = [1 if abs(el[0]) < abs(el[1]) else 0 for el in X_train_xor]\n",
    "\n",
    "gaussianNb.fit(X_train_xor, y_train_bayes)\n",
    "\n",
    "y_test_bayes = [1 if abs(el[0]) < abs(el[1]) else 0 for el in X_test_xor]\n",
    "\n",
    "score = gaussianNb.score(X_test_xor, y_test_bayes)"
   ]
  },
  {
   "cell_type": "code",
   "execution_count": 123,
   "id": "af20f30d",
   "metadata": {},
   "outputs": [
    {
     "data": {
      "text/plain": [
       "0.9468"
      ]
     },
     "execution_count": 123,
     "metadata": {},
     "output_type": "execute_result"
    }
   ],
   "source": [
    "score"
   ]
  },
  {
   "cell_type": "markdown",
   "id": "5d5e357a-8e81-4a6e-b230-b426ecd2c788",
   "metadata": {},
   "source": [
    "We obtained a precision of 94,7%, on par with the Bayes classifier's precision of 94.7%."
   ]
  },
  {
   "cell_type": "markdown",
   "id": "ce1db633",
   "metadata": {
    "tags": []
   },
   "source": [
    "# III - Skin segmentation"
   ]
  },
  {
   "cell_type": "markdown",
   "id": "a62411e2-5434-4ab1-bcf6-b2ab7c3aa87c",
   "metadata": {},
   "source": [
    "## Construct dataset"
   ]
  },
  {
   "cell_type": "markdown",
   "id": "a806873e-a831-43a6-97e2-5e13b643f7e1",
   "metadata": {},
   "source": [
    "### Import dataset"
   ]
  },
  {
   "cell_type": "code",
   "execution_count": 38,
   "id": "b746d70f-04bc-40a8-91b2-0afd872eaf39",
   "metadata": {},
   "outputs": [
    {
     "data": {
      "text/html": [
       "<div>\n",
       "<style scoped>\n",
       "    .dataframe tbody tr th:only-of-type {\n",
       "        vertical-align: middle;\n",
       "    }\n",
       "\n",
       "    .dataframe tbody tr th {\n",
       "        vertical-align: top;\n",
       "    }\n",
       "\n",
       "    .dataframe thead th {\n",
       "        text-align: right;\n",
       "    }\n",
       "</style>\n",
       "<table border=\"1\" class=\"dataframe\">\n",
       "  <thead>\n",
       "    <tr style=\"text-align: right;\">\n",
       "      <th></th>\n",
       "      <th>0</th>\n",
       "      <th>1</th>\n",
       "      <th>2</th>\n",
       "      <th>3</th>\n",
       "    </tr>\n",
       "  </thead>\n",
       "  <tbody>\n",
       "    <tr>\n",
       "      <th>0</th>\n",
       "      <td>74</td>\n",
       "      <td>85</td>\n",
       "      <td>123</td>\n",
       "      <td>1</td>\n",
       "    </tr>\n",
       "    <tr>\n",
       "      <th>1</th>\n",
       "      <td>73</td>\n",
       "      <td>84</td>\n",
       "      <td>122</td>\n",
       "      <td>1</td>\n",
       "    </tr>\n",
       "    <tr>\n",
       "      <th>2</th>\n",
       "      <td>72</td>\n",
       "      <td>83</td>\n",
       "      <td>121</td>\n",
       "      <td>1</td>\n",
       "    </tr>\n",
       "    <tr>\n",
       "      <th>3</th>\n",
       "      <td>70</td>\n",
       "      <td>81</td>\n",
       "      <td>119</td>\n",
       "      <td>1</td>\n",
       "    </tr>\n",
       "    <tr>\n",
       "      <th>4</th>\n",
       "      <td>70</td>\n",
       "      <td>81</td>\n",
       "      <td>119</td>\n",
       "      <td>1</td>\n",
       "    </tr>\n",
       "    <tr>\n",
       "      <th>...</th>\n",
       "      <td>...</td>\n",
       "      <td>...</td>\n",
       "      <td>...</td>\n",
       "      <td>...</td>\n",
       "    </tr>\n",
       "    <tr>\n",
       "      <th>245052</th>\n",
       "      <td>163</td>\n",
       "      <td>162</td>\n",
       "      <td>112</td>\n",
       "      <td>2</td>\n",
       "    </tr>\n",
       "    <tr>\n",
       "      <th>245053</th>\n",
       "      <td>163</td>\n",
       "      <td>162</td>\n",
       "      <td>112</td>\n",
       "      <td>2</td>\n",
       "    </tr>\n",
       "    <tr>\n",
       "      <th>245054</th>\n",
       "      <td>163</td>\n",
       "      <td>162</td>\n",
       "      <td>112</td>\n",
       "      <td>2</td>\n",
       "    </tr>\n",
       "    <tr>\n",
       "      <th>245055</th>\n",
       "      <td>163</td>\n",
       "      <td>162</td>\n",
       "      <td>112</td>\n",
       "      <td>2</td>\n",
       "    </tr>\n",
       "    <tr>\n",
       "      <th>245056</th>\n",
       "      <td>255</td>\n",
       "      <td>255</td>\n",
       "      <td>255</td>\n",
       "      <td>2</td>\n",
       "    </tr>\n",
       "  </tbody>\n",
       "</table>\n",
       "<p>245057 rows × 4 columns</p>\n",
       "</div>"
      ],
      "text/plain": [
       "          0    1    2  3\n",
       "0        74   85  123  1\n",
       "1        73   84  122  1\n",
       "2        72   83  121  1\n",
       "3        70   81  119  1\n",
       "4        70   81  119  1\n",
       "...     ...  ...  ... ..\n",
       "245052  163  162  112  2\n",
       "245053  163  162  112  2\n",
       "245054  163  162  112  2\n",
       "245055  163  162  112  2\n",
       "245056  255  255  255  2\n",
       "\n",
       "[245057 rows x 4 columns]"
      ]
     },
     "execution_count": 38,
     "metadata": {},
     "output_type": "execute_result"
    }
   ],
   "source": [
    "df_skin = pd.read_csv(\"Skin_NonSkin.txt\", sep='\\t', header=None)\n",
    "df_skin"
   ]
  },
  {
   "cell_type": "markdown",
   "id": "a47f2640-509d-45c3-ab4d-85a52774166d",
   "metadata": {},
   "source": [
    "### Preprocess"
   ]
  },
  {
   "cell_type": "code",
   "execution_count": 39,
   "id": "57e59a3c-0a4c-4bd3-abee-b080ba0fe86e",
   "metadata": {},
   "outputs": [
    {
     "data": {
      "text/html": [
       "<div>\n",
       "<style scoped>\n",
       "    .dataframe tbody tr th:only-of-type {\n",
       "        vertical-align: middle;\n",
       "    }\n",
       "\n",
       "    .dataframe tbody tr th {\n",
       "        vertical-align: top;\n",
       "    }\n",
       "\n",
       "    .dataframe thead th {\n",
       "        text-align: right;\n",
       "    }\n",
       "</style>\n",
       "<table border=\"1\" class=\"dataframe\">\n",
       "  <thead>\n",
       "    <tr style=\"text-align: right;\">\n",
       "      <th></th>\n",
       "      <th>0</th>\n",
       "      <th>1</th>\n",
       "      <th>2</th>\n",
       "      <th>3</th>\n",
       "    </tr>\n",
       "  </thead>\n",
       "  <tbody>\n",
       "    <tr>\n",
       "      <th>0</th>\n",
       "      <td>-0.816021</td>\n",
       "      <td>-0.788476</td>\n",
       "      <td>-0.002429</td>\n",
       "      <td>1</td>\n",
       "    </tr>\n",
       "    <tr>\n",
       "      <th>1</th>\n",
       "      <td>-0.832001</td>\n",
       "      <td>-0.805073</td>\n",
       "      <td>-0.016139</td>\n",
       "      <td>1</td>\n",
       "    </tr>\n",
       "    <tr>\n",
       "      <th>2</th>\n",
       "      <td>-0.847981</td>\n",
       "      <td>-0.821670</td>\n",
       "      <td>-0.029849</td>\n",
       "      <td>1</td>\n",
       "    </tr>\n",
       "    <tr>\n",
       "      <th>3</th>\n",
       "      <td>-0.879941</td>\n",
       "      <td>-0.854863</td>\n",
       "      <td>-0.057269</td>\n",
       "      <td>1</td>\n",
       "    </tr>\n",
       "    <tr>\n",
       "      <th>4</th>\n",
       "      <td>-0.879941</td>\n",
       "      <td>-0.854863</td>\n",
       "      <td>-0.057269</td>\n",
       "      <td>1</td>\n",
       "    </tr>\n",
       "    <tr>\n",
       "      <th>...</th>\n",
       "      <td>...</td>\n",
       "      <td>...</td>\n",
       "      <td>...</td>\n",
       "      <td>...</td>\n",
       "    </tr>\n",
       "    <tr>\n",
       "      <th>245052</th>\n",
       "      <td>0.606191</td>\n",
       "      <td>0.489488</td>\n",
       "      <td>-0.153241</td>\n",
       "      <td>2</td>\n",
       "    </tr>\n",
       "    <tr>\n",
       "      <th>245053</th>\n",
       "      <td>0.606191</td>\n",
       "      <td>0.489488</td>\n",
       "      <td>-0.153241</td>\n",
       "      <td>2</td>\n",
       "    </tr>\n",
       "    <tr>\n",
       "      <th>245054</th>\n",
       "      <td>0.606191</td>\n",
       "      <td>0.489488</td>\n",
       "      <td>-0.153241</td>\n",
       "      <td>2</td>\n",
       "    </tr>\n",
       "    <tr>\n",
       "      <th>245055</th>\n",
       "      <td>0.606191</td>\n",
       "      <td>0.489488</td>\n",
       "      <td>-0.153241</td>\n",
       "      <td>2</td>\n",
       "    </tr>\n",
       "    <tr>\n",
       "      <th>245056</th>\n",
       "      <td>2.076342</td>\n",
       "      <td>2.033002</td>\n",
       "      <td>1.807314</td>\n",
       "      <td>2</td>\n",
       "    </tr>\n",
       "  </tbody>\n",
       "</table>\n",
       "<p>245057 rows × 4 columns</p>\n",
       "</div>"
      ],
      "text/plain": [
       "               0         1         2  3\n",
       "0      -0.816021 -0.788476 -0.002429  1\n",
       "1      -0.832001 -0.805073 -0.016139  1\n",
       "2      -0.847981 -0.821670 -0.029849  1\n",
       "3      -0.879941 -0.854863 -0.057269  1\n",
       "4      -0.879941 -0.854863 -0.057269  1\n",
       "...          ...       ...       ... ..\n",
       "245052  0.606191  0.489488 -0.153241  2\n",
       "245053  0.606191  0.489488 -0.153241  2\n",
       "245054  0.606191  0.489488 -0.153241  2\n",
       "245055  0.606191  0.489488 -0.153241  2\n",
       "245056  2.076342  2.033002  1.807314  2\n",
       "\n",
       "[245057 rows x 4 columns]"
      ]
     },
     "execution_count": 39,
     "metadata": {},
     "output_type": "execute_result"
    }
   ],
   "source": [
    "alpha = 0.1\n",
    "q = 3\n",
    "\n",
    "attributes = df_skin.columns[:-1]\n",
    "\n",
    "for x in attributes:\n",
    "    df_skin[x] = rescaleFeature(df_skin[x], alpha, q)\n",
    "\n",
    "df_skin"
   ]
  },
  {
   "cell_type": "markdown",
   "id": "178434d4-a787-40e9-9cb7-ba8fff17d82c",
   "metadata": {},
   "source": [
    "We will attribute each class to the bistrings 000, 111. Every other bitstring will remain unused."
   ]
  },
  {
   "cell_type": "code",
   "execution_count": 40,
   "id": "c00141ec-9719-487d-acb9-391bbed36483",
   "metadata": {},
   "outputs": [
    {
     "data": {
      "text/html": [
       "<div>\n",
       "<style scoped>\n",
       "    .dataframe tbody tr th:only-of-type {\n",
       "        vertical-align: middle;\n",
       "    }\n",
       "\n",
       "    .dataframe tbody tr th {\n",
       "        vertical-align: top;\n",
       "    }\n",
       "\n",
       "    .dataframe thead th {\n",
       "        text-align: right;\n",
       "    }\n",
       "</style>\n",
       "<table border=\"1\" class=\"dataframe\">\n",
       "  <thead>\n",
       "    <tr style=\"text-align: right;\">\n",
       "      <th></th>\n",
       "      <th>0</th>\n",
       "      <th>1</th>\n",
       "      <th>2</th>\n",
       "      <th>3</th>\n",
       "    </tr>\n",
       "  </thead>\n",
       "  <tbody>\n",
       "    <tr>\n",
       "      <th>0</th>\n",
       "      <td>-0.816021</td>\n",
       "      <td>-0.788476</td>\n",
       "      <td>-0.002429</td>\n",
       "      <td>000</td>\n",
       "    </tr>\n",
       "    <tr>\n",
       "      <th>1</th>\n",
       "      <td>-0.832001</td>\n",
       "      <td>-0.805073</td>\n",
       "      <td>-0.016139</td>\n",
       "      <td>000</td>\n",
       "    </tr>\n",
       "    <tr>\n",
       "      <th>2</th>\n",
       "      <td>-0.847981</td>\n",
       "      <td>-0.821670</td>\n",
       "      <td>-0.029849</td>\n",
       "      <td>000</td>\n",
       "    </tr>\n",
       "    <tr>\n",
       "      <th>3</th>\n",
       "      <td>-0.879941</td>\n",
       "      <td>-0.854863</td>\n",
       "      <td>-0.057269</td>\n",
       "      <td>000</td>\n",
       "    </tr>\n",
       "    <tr>\n",
       "      <th>4</th>\n",
       "      <td>-0.879941</td>\n",
       "      <td>-0.854863</td>\n",
       "      <td>-0.057269</td>\n",
       "      <td>000</td>\n",
       "    </tr>\n",
       "    <tr>\n",
       "      <th>...</th>\n",
       "      <td>...</td>\n",
       "      <td>...</td>\n",
       "      <td>...</td>\n",
       "      <td>...</td>\n",
       "    </tr>\n",
       "    <tr>\n",
       "      <th>245052</th>\n",
       "      <td>0.606191</td>\n",
       "      <td>0.489488</td>\n",
       "      <td>-0.153241</td>\n",
       "      <td>111</td>\n",
       "    </tr>\n",
       "    <tr>\n",
       "      <th>245053</th>\n",
       "      <td>0.606191</td>\n",
       "      <td>0.489488</td>\n",
       "      <td>-0.153241</td>\n",
       "      <td>111</td>\n",
       "    </tr>\n",
       "    <tr>\n",
       "      <th>245054</th>\n",
       "      <td>0.606191</td>\n",
       "      <td>0.489488</td>\n",
       "      <td>-0.153241</td>\n",
       "      <td>111</td>\n",
       "    </tr>\n",
       "    <tr>\n",
       "      <th>245055</th>\n",
       "      <td>0.606191</td>\n",
       "      <td>0.489488</td>\n",
       "      <td>-0.153241</td>\n",
       "      <td>111</td>\n",
       "    </tr>\n",
       "    <tr>\n",
       "      <th>245056</th>\n",
       "      <td>2.076342</td>\n",
       "      <td>2.033002</td>\n",
       "      <td>1.807314</td>\n",
       "      <td>111</td>\n",
       "    </tr>\n",
       "  </tbody>\n",
       "</table>\n",
       "<p>245057 rows × 4 columns</p>\n",
       "</div>"
      ],
      "text/plain": [
       "               0         1         2    3\n",
       "0      -0.816021 -0.788476 -0.002429  000\n",
       "1      -0.832001 -0.805073 -0.016139  000\n",
       "2      -0.847981 -0.821670 -0.029849  000\n",
       "3      -0.879941 -0.854863 -0.057269  000\n",
       "4      -0.879941 -0.854863 -0.057269  000\n",
       "...          ...       ...       ...  ...\n",
       "245052  0.606191  0.489488 -0.153241  111\n",
       "245053  0.606191  0.489488 -0.153241  111\n",
       "245054  0.606191  0.489488 -0.153241  111\n",
       "245055  0.606191  0.489488 -0.153241  111\n",
       "245056  2.076342  2.033002  1.807314  111\n",
       "\n",
       "[245057 rows x 4 columns]"
      ]
     },
     "execution_count": 40,
     "metadata": {},
     "output_type": "execute_result"
    }
   ],
   "source": [
    "diconvert = {\n",
    "    1 : \"000\",\n",
    "    2 : \"111\"\n",
    "}\n",
    "\n",
    "df_skin = df_skin.replace({3: diconvert})\n",
    "df_skin"
   ]
  },
  {
   "cell_type": "code",
   "execution_count": 41,
   "id": "c6279e6b-8150-4925-aca3-d700cc862e43",
   "metadata": {},
   "outputs": [],
   "source": [
    "X_skin = df_skin[attributes].values\n",
    "y_skin = df_skin[3].values"
   ]
  },
  {
   "cell_type": "markdown",
   "id": "ddd39ecb-4c42-436f-a4ea-12370d56eade",
   "metadata": {},
   "source": [
    "### Split"
   ]
  },
  {
   "cell_type": "markdown",
   "id": "8cebb473-2bae-4397-bbdc-b355e42c1bec",
   "metadata": {},
   "source": [
    "We will use a training size of 600 samples and a test size of 400 samples as done in the paper."
   ]
  },
  {
   "cell_type": "code",
   "execution_count": 42,
   "id": "1459c192-1dc0-4b81-bf53-91d2265e59f9",
   "metadata": {},
   "outputs": [],
   "source": [
    "train_size = 600\n",
    "test_size = 400\n",
    "\n",
    "X_train_skin, X_test_skin, y_train_skin, y_test_skin = train_test_split(X_skin, y_skin, test_size=test_size, train_size=train_size, stratify=y_skin)"
   ]
  },
  {
   "cell_type": "markdown",
   "id": "c3dc42f2-e578-47d4-9e71-d6ab05bf551f",
   "metadata": {},
   "source": [
    "## Circuit"
   ]
  },
  {
   "cell_type": "code",
   "execution_count": 43,
   "id": "b7e4a6f5",
   "metadata": {},
   "outputs": [],
   "source": [
    "def skinSegCircuit(theta, omega):\n",
    "    qc = qiskit.QuantumCircuit(3, 3)\n",
    "    \n",
    "    skin_seg_circuit = qiskit.QuantumCircuit(3)\n",
    "    psiGate(skin_seg_circuit, omega[0], 0)\n",
    "    psiGate(skin_seg_circuit, omega[1], 1)\n",
    "    psiGate(skin_seg_circuit, omega[2], 2)\n",
    "    \n",
    "    skin_seg_circuit.cz(0, 2)\n",
    "    \n",
    "    psiGate(skin_seg_circuit, theta[0], 0)\n",
    "    psiGate(skin_seg_circuit, theta[1], 2)\n",
    "    \n",
    "    skin_seg_circuit.cz(0, 1)\n",
    "    \n",
    "    psiGate(skin_seg_circuit, theta[2], 0)\n",
    "    psiGate(skin_seg_circuit, theta[3], 1)\n",
    "    \n",
    "    skin_seg_circuit.cz(1, 2)\n",
    "    \n",
    "    psiGate(skin_seg_circuit, theta[4], 1)\n",
    "    psiGate(skin_seg_circuit, theta[5], 2)\n",
    "    \n",
    "    qc.append(skin_seg_circuit, range(3))\n",
    "    qc.measure(range(3), range(3))\n",
    "    \n",
    "    return qc"
   ]
  },
  {
   "cell_type": "code",
   "execution_count": 44,
   "id": "8328d2d2-3081-475c-852a-bfc851b10447",
   "metadata": {},
   "outputs": [
    {
     "data": {
      "image/png": "[encoded data removed]",
      "text/plain": [
       "<Figure size 1170.2x264.88 with 1 Axes>"
      ]
     },
     "execution_count": 44,
     "metadata": {},
     "output_type": "execute_result"
    }
   ],
   "source": [
    "skinSegCircuit(np.zeros(6), np.zeros(3)).decompose().draw(\"mpl\", fold=40)"
   ]
  },
  {
   "cell_type": "markdown",
   "id": "72112546-bb45-420b-9d3c-e35680d48e3d",
   "metadata": {},
   "source": [
    "## Train"
   ]
  },
  {
   "cell_type": "markdown",
   "id": "9298a5f9-0203-4a80-aa5f-1400573a2c10",
   "metadata": {},
   "source": [
    "We will use COBYLA as optimizer for this training. BFGS was used in the original paper instead, but without exact gradients this optimizer would require a very high number of shots to be efficient which would make the training too slow."
   ]
  },
  {
   "cell_type": "code",
   "execution_count": 45,
   "id": "d6220966-501a-46a6-9a79-f9e315f6a155",
   "metadata": {},
   "outputs": [],
   "source": [
    "skin_classifier = QuantumClassifier(skinSegCircuit, ['000', '111'], 6, optimizer_method = \"COBYLA\")"
   ]
  },
  {
   "cell_type": "code",
   "execution_count": 46,
   "id": "7f3dc839-2ff7-4579-a2be-590ebadb9bcf",
   "metadata": {},
   "outputs": [
    {
     "name": "stdout",
     "output_type": "stream",
     "text": [
      "loss: 0.6701361485099194\n",
      "loss: 0.6482730147870641\n",
      "loss: 0.5829088211264652\n",
      "loss: 0.6309382330952783\n",
      "loss: 0.6395877818963921\n",
      "loss: 0.5903789543382211\n",
      "loss: 0.6262598320391334\n",
      "loss: 0.5764247744457908\n",
      "loss: 0.5679844543346729\n",
      "loss: 0.5642782923318688\n",
      "loss: 0.5669398653145312\n",
      "loss: 0.572713512602962\n",
      "loss: 0.5691537577214733\n",
      "loss: 0.571046981009535\n",
      "loss: 0.5772067696496066\n",
      "loss: 0.5595190344687692\n",
      "loss: 0.5685152913180402\n",
      "loss: 0.561653108088007\n",
      "loss: 0.5682708880674517\n",
      "loss: 0.5597626013703754\n",
      "loss: 0.5595769625534134\n",
      "loss: 0.5624875364496943\n",
      "loss: 0.5601247000952102\n",
      "loss: 0.5592298039554486\n",
      "loss: 0.5585982535574996\n",
      "loss: 0.5613000945852242\n",
      "loss: 0.5594929419046305\n",
      "loss: 0.5578073083580053\n",
      "loss: 0.5576594412255238\n",
      "loss: 0.5578505407434711\n",
      "loss: 0.5568443171432278\n",
      "loss: 0.5571327459411247\n",
      "loss: 0.5573131273021399\n",
      "loss: 0.5593087722191082\n",
      "loss: 0.5583451699242923\n",
      "loss: 0.5580916510439434\n",
      "loss: 0.5582757272242604\n",
      "loss: 0.5568193218627963\n",
      "loss: 0.5578139245526358\n",
      "loss: 0.557346251262718\n",
      "loss: 0.5569108914461759\n",
      "loss: 0.557533059416095\n",
      "loss: 0.5581334352517\n",
      "loss: 0.5572244980144244\n",
      "loss: 0.5568439716490255\n",
      "loss: 0.5573109502494765\n",
      "loss: 0.5577938484383957\n",
      "loss: 0.5576484906882453\n",
      "loss: 0.5567293329447264\n",
      "loss: 0.557136674002104\n",
      "loss: 0.5563209222016805\n",
      "loss: 0.5579651726241696\n",
      "loss: 0.5580147739197641\n",
      "loss: 0.5570209982939286\n",
      "loss: 0.5577945005723347\n",
      "loss: 0.5563829660654848\n",
      "loss: 0.557283397975281\n",
      "loss: 0.5568578319191021\n",
      "loss: 0.5567841592675492\n",
      "loss: 0.5598135633232713\n"
     ]
    },
    {
     "data": {
      "text/plain": [
       "     fun: 0.5563209222016805\n",
       "   maxcv: 0.0\n",
       " message: 'Maximum number of function evaluations has been exceeded.'\n",
       "    nfev: 60\n",
       "  status: 2\n",
       " success: False\n",
       "       x: array([3.77551162, 1.76634907, 1.84893081, 0.42331581, 6.36559731,\n",
       "       1.21957303])"
      ]
     },
     "execution_count": 46,
     "metadata": {},
     "output_type": "execute_result"
    }
   ],
   "source": [
    "opt_skin = skin_classifier.fit(X_train_skin, y_train_skin, nshots=250, maxiter=60)\n",
    "opt_skin"
   ]
  },
  {
   "cell_type": "markdown",
   "id": "ae836b3c-61b3-4f6a-a8d4-54fb4a86d50e",
   "metadata": {},
   "source": [
    "## Compute results"
   ]
  },
  {
   "cell_type": "code",
   "execution_count": 47,
   "id": "670b08b1-06c3-4b14-9e59-3bd6df9137ad",
   "metadata": {},
   "outputs": [
    {
     "data": {
      "text/plain": [
       "0.7633333333333333"
      ]
     },
     "execution_count": 47,
     "metadata": {},
     "output_type": "execute_result"
    }
   ],
   "source": [
    "y_pred_skin = skin_classifier.predict(X_train_skin)\n",
    "skin_classifier.compute_accuracy(y_pred_skin, y_train_skin)"
   ]
  },
  {
   "cell_type": "code",
   "execution_count": 48,
   "id": "105af9f8-c92c-4467-b448-5e5d1b26efe2",
   "metadata": {},
   "outputs": [
    {
     "data": {
      "text/plain": [
       "0.765"
      ]
     },
     "execution_count": 48,
     "metadata": {},
     "output_type": "execute_result"
    }
   ],
   "source": [
    "y_pred_skin = skin_classifier.predict(X_test_skin)\n",
    "skin_classifier.compute_accuracy(y_pred_skin, y_test_skin)"
   ]
  },
  {
   "cell_type": "markdown",
   "id": "9e1e4866-530e-480b-b0da-19a9e4968e70",
   "metadata": {},
   "source": [
    "We obtain a precision of 76,5%. This is not bad but it could be improved by using BFGS as in the paper."
   ]
  },
  {
   "cell_type": "markdown",
   "id": "c72282df",
   "metadata": {},
   "source": [
    "# IV - Synthetic dataset with 4 classes"
   ]
  },
  {
   "cell_type": "markdown",
   "id": "28ee9433-f509-4da6-8bf8-603397c7f27b",
   "metadata": {},
   "source": [
    "## Construct dataset"
   ]
  },
  {
   "cell_type": "markdown",
   "id": "f3396b6b-b0c6-46f7-9225-be4c2e85da76",
   "metadata": {},
   "source": [
    "### Generate dataset"
   ]
  },
  {
   "cell_type": "markdown",
   "id": "008ef8d5-46db-438c-b1b6-e13545fbaaf2",
   "metadata": {},
   "source": [
    "We generate the dataset with sklearn, with only 2 informative features, 1 cluster per class and 4 classes."
   ]
  },
  {
   "cell_type": "code",
   "execution_count": 38,
   "id": "af39fec1-63cc-49e8-ab35-bd4c49dbbe61",
   "metadata": {},
   "outputs": [],
   "source": [
    "from sklearn.datasets import make_classification\n",
    "\n",
    "X_synth, y_synth = make_classification(n_samples=5000, n_features=2, n_informative=2, n_redundant=0, n_clusters_per_class=1, n_classes=4)"
   ]
  },
  {
   "cell_type": "markdown",
   "id": "9d5bc927-d579-43fc-a350-3d81bdcffc82",
   "metadata": {},
   "source": [
    "### Preprocess"
   ]
  },
  {
   "cell_type": "code",
   "execution_count": 39,
   "id": "84695d82-e54b-4a2d-a361-e7ee849a76c6",
   "metadata": {},
   "outputs": [
    {
     "data": {
      "text/plain": [
       "array([[-1.13485074,  0.73598807],\n",
       "       [ 1.72751524,  0.86289636],\n",
       "       [-0.80719852,  0.70549979],\n",
       "       [ 1.72659796, -1.31617907],\n",
       "       [-0.67268606, -2.28454995],\n",
       "       [ 1.19107119,  1.41312104],\n",
       "       [-0.97042303,  0.86880267],\n",
       "       [ 0.81759542, -0.96795413],\n",
       "       [-0.93103325, -1.92154602],\n",
       "       [ 0.31942468, -0.29665426]])"
      ]
     },
     "execution_count": 39,
     "metadata": {},
     "output_type": "execute_result"
    }
   ],
   "source": [
    "alpha = 0.1\n",
    "q = 3\n",
    "\n",
    "\n",
    "X_synth[:, 0] = rescaleFeature(X_synth[:, 0], alpha, q)\n",
    "X_synth[:, 1] = rescaleFeature(X_synth[:, 1], alpha, q)\n",
    "\n",
    "X_synth[:10]"
   ]
  },
  {
   "cell_type": "markdown",
   "id": "d073e208-7497-49fc-9a48-fcce96350f22",
   "metadata": {},
   "source": [
    "We will attribute each class to the bistrings 00, 01, 10 and 11. No bitstring is unused."
   ]
  },
  {
   "cell_type": "code",
   "execution_count": 40,
   "id": "ba9631f6-962e-4eb3-9504-bf16f2de65f9",
   "metadata": {},
   "outputs": [
    {
     "data": {
      "text/plain": [
       "['01', '11', '10', '01', '00', '11', '10', '01', '00', '01']"
      ]
     },
     "execution_count": 40,
     "metadata": {},
     "output_type": "execute_result"
    }
   ],
   "source": [
    "new_y_synth = []\n",
    "\n",
    "diconvert = {\n",
    "    0 : \"00\",\n",
    "    1 : \"01\",\n",
    "    2 : '10',\n",
    "    3 : '11'\n",
    "}\n",
    "\n",
    "for el in y_synth:\n",
    "    new_y_synth.append(diconvert[el])\n",
    "\n",
    "y_synth = new_y_synth\n",
    "\n",
    "y_synth[:10]"
   ]
  },
  {
   "cell_type": "markdown",
   "id": "91221c6c-51b7-4e3b-80cf-72f9cc7f437e",
   "metadata": {},
   "source": [
    "### Split"
   ]
  },
  {
   "cell_type": "markdown",
   "id": "84624e6a-117b-47b9-8196-ef01f3a38f00",
   "metadata": {},
   "source": [
    "We will use a train/test ratio of 60%/40% as done in the paper."
   ]
  },
  {
   "cell_type": "code",
   "execution_count": 41,
   "id": "6277c260-9f49-473d-8c85-0d3898a54d90",
   "metadata": {},
   "outputs": [],
   "source": [
    "train_size = 0.6\n",
    "test_size = 0.4\n",
    "\n",
    "X_train_synth, X_test_synth, y_train_synth, y_test_synth = train_test_split(X_synth, y_synth, test_size=test_size, train_size=train_size, stratify=y_synth)"
   ]
  },
  {
   "cell_type": "markdown",
   "id": "4ce15c85-6328-4545-8eca-6b9caf8bc47f",
   "metadata": {},
   "source": [
    "## Circuit"
   ]
  },
  {
   "cell_type": "code",
   "execution_count": 42,
   "id": "a70ab528",
   "metadata": {},
   "outputs": [],
   "source": [
    "def syntheticCircuit(theta, omega):\n",
    "    qc = qiskit.QuantumCircuit(2, 2)\n",
    "\n",
    "    synthetic_circuit = qiskit.QuantumCircuit(2)\n",
    "    for i in range(2):\n",
    "        if i : synthetic_circuit.cz(0, 1)\n",
    "        \n",
    "        psiGate(synthetic_circuit, omega[0], 0)\n",
    "        psiGate(synthetic_circuit, omega[1], 1)\n",
    "        synthetic_circuit.cz(0, 1)\n",
    "        \n",
    "        psiGate(synthetic_circuit, theta[(6*i)], 0)\n",
    "        psiGate(synthetic_circuit, theta[(6*i+1)], 1)\n",
    "        synthetic_circuit.cz(0, 1)\n",
    "        \n",
    "        psiGate(synthetic_circuit, omega[0], 0)\n",
    "        psiGate(synthetic_circuit, omega[1], 1)\n",
    "        synthetic_circuit.cz(0, 1)\n",
    "        \n",
    "        psiGate(synthetic_circuit, theta[(6*i+2)], 0)\n",
    "        psiGate(synthetic_circuit, theta[(6*i+3)], 1)\n",
    "        synthetic_circuit.cz(0, 1)\n",
    "        \n",
    "        psiGate(synthetic_circuit, theta[(6*i+4)], 0)\n",
    "        psiGate(synthetic_circuit, theta[(6*i+5)], 1)\n",
    "    \n",
    "    qc.append(synthetic_circuit, range(2))\n",
    "    qc.measure(range(2), range(2))\n",
    "    \n",
    "    return qc"
   ]
  },
  {
   "cell_type": "code",
   "execution_count": 43,
   "id": "10ca6433",
   "metadata": {},
   "outputs": [
    {
     "data": {
      "image/png": "[encoded data removed]",
      "text/plain": [
       "<Figure size 3548.13x284.278 with 1 Axes>"
      ]
     },
     "execution_count": 43,
     "metadata": {},
     "output_type": "execute_result"
    }
   ],
   "source": [
    "syntheticCircuit(np.zeros(12), np.zeros(2)).decompose().draw(\"mpl\", fold=50)"
   ]
  },
  {
   "cell_type": "markdown",
   "id": "38ae20d8-dbdc-43b0-8ac0-884e11164b3f",
   "metadata": {},
   "source": [
    "## Train"
   ]
  },
  {
   "cell_type": "markdown",
   "id": "fcf221a0-5e8c-4d6b-ac4b-f525f126ca03",
   "metadata": {},
   "source": [
    "We will use COBYLA as optimizer for this training. As for the skin dataset, BFGS would be better but would require too many shots."
   ]
  },
  {
   "cell_type": "code",
   "execution_count": 44,
   "id": "79d6cef6-1823-43a9-928f-4b2527c02485",
   "metadata": {},
   "outputs": [],
   "source": [
    "synthetic_classifier = QuantumClassifier(syntheticCircuit, ['00', '01', '10', '11'], 12, optimizer_method = \"COBYLA\")"
   ]
  },
  {
   "cell_type": "code",
   "execution_count": 45,
   "id": "b5f837a7-2c6a-4951-ab4f-fb4e2705a62a",
   "metadata": {},
   "outputs": [
    {
     "name": "stdout",
     "output_type": "stream",
     "text": [
      "loss: 1.3976800791310704\n"
     ]
    },
    {
     "name": "stderr",
     "output_type": "stream",
     "text": [
      "capi_return is NULL\n",
      "Call-back cb_calcfc_in__cobyla__user__routines failed.\n"
     ]
    },
    {
     "ename": "KeyboardInterrupt",
     "evalue": "",
     "output_type": "error",
     "traceback": [
      "\u001b[0;31m---------------------------------------------------------------------------\u001b[0m",
      "\u001b[0;31mKeyboardInterrupt\u001b[0m                         Traceback (most recent call last)",
      "Cell \u001b[0;32mIn [45], line 1\u001b[0m\n\u001b[0;32m----> 1\u001b[0m opt_synth \u001b[38;5;241m=\u001b[39m \u001b[43msynthetic_classifier\u001b[49m\u001b[38;5;241;43m.\u001b[39;49m\u001b[43mfit\u001b[49m\u001b[43m(\u001b[49m\u001b[43mX_train_synth\u001b[49m\u001b[43m,\u001b[49m\u001b[43m \u001b[49m\u001b[43my_train_synth\u001b[49m\u001b[43m,\u001b[49m\u001b[43m \u001b[49m\u001b[43mnshots\u001b[49m\u001b[38;5;241;43m=\u001b[39;49m\u001b[38;5;241;43m250\u001b[39;49m\u001b[43m,\u001b[49m\u001b[43m \u001b[49m\u001b[43mmaxiter\u001b[49m\u001b[38;5;241;43m=\u001b[39;49m\u001b[38;5;241;43m60\u001b[39;49m\u001b[43m)\u001b[49m\n\u001b[1;32m      2\u001b[0m opt_synth\n",
      "Cell \u001b[0;32mIn [6], line 76\u001b[0m, in \u001b[0;36mQuantumClassifier.fit\u001b[0;34m(self, X, y, nshots, maxiter, theta, backend)\u001b[0m\n\u001b[1;32m     72\u001b[0m     \u001b[38;5;28mself\u001b[39m\u001b[38;5;241m.\u001b[39mtheta \u001b[38;5;241m=\u001b[39m np\u001b[38;5;241m.\u001b[39mrandom\u001b[38;5;241m.\u001b[39muniform(\u001b[38;5;241m0\u001b[39m, \u001b[38;5;241m2\u001b[39m \u001b[38;5;241m*\u001b[39m np\u001b[38;5;241m.\u001b[39mpi, \u001b[38;5;28mself\u001b[39m\u001b[38;5;241m.\u001b[39mtheta_size)            \n\u001b[1;32m     74\u001b[0m \u001b[38;5;28mself\u001b[39m\u001b[38;5;241m.\u001b[39mnshots \u001b[38;5;241m=\u001b[39m nshots\n\u001b[0;32m---> 76\u001b[0m opt \u001b[38;5;241m=\u001b[39m \u001b[43msp\u001b[49m\u001b[38;5;241;43m.\u001b[39;49m\u001b[43moptimize\u001b[49m\u001b[38;5;241;43m.\u001b[39;49m\u001b[43mminimize\u001b[49m\u001b[43m(\u001b[49m\n\u001b[1;32m     77\u001b[0m \u001b[43m    \u001b[49m\u001b[43mfun\u001b[49m\u001b[38;5;241;43m=\u001b[39;49m\u001b[38;5;28;43;01mlambda\u001b[39;49;00m\u001b[43m \u001b[49m\u001b[43mparams\u001b[49m\u001b[43m \u001b[49m\u001b[43m:\u001b[49m\u001b[43m \u001b[49m\u001b[38;5;28;43mself\u001b[39;49m\u001b[38;5;241;43m.\u001b[39;49m\u001b[43mlossBatch\u001b[49m\u001b[43m(\u001b[49m\u001b[43mparams\u001b[49m\u001b[43m,\u001b[49m\u001b[43m \u001b[49m\u001b[43mX\u001b[49m\u001b[43m,\u001b[49m\u001b[43m \u001b[49m\u001b[43my\u001b[49m\u001b[43m,\u001b[49m\u001b[43m \u001b[49m\u001b[43mbackend\u001b[49m\u001b[43m)\u001b[49m\u001b[43m,\u001b[49m\n\u001b[1;32m     78\u001b[0m \u001b[43m    \u001b[49m\u001b[43mx0\u001b[49m\u001b[38;5;241;43m=\u001b[39;49m\u001b[38;5;28;43mself\u001b[39;49m\u001b[38;5;241;43m.\u001b[39;49m\u001b[43mtheta\u001b[49m\u001b[43m,\u001b[49m\n\u001b[1;32m     79\u001b[0m \u001b[43m    \u001b[49m\u001b[43mmethod\u001b[49m\u001b[38;5;241;43m=\u001b[39;49m\u001b[38;5;28;43mself\u001b[39;49m\u001b[38;5;241;43m.\u001b[39;49m\u001b[43moptimizer_method\u001b[49m\u001b[43m,\u001b[49m\n\u001b[1;32m     80\u001b[0m \u001b[43m    \u001b[49m\u001b[43moptions\u001b[49m\u001b[38;5;241;43m=\u001b[39;49m\u001b[43m{\u001b[49m\u001b[38;5;124;43m'\u001b[39;49m\u001b[38;5;124;43mmaxiter\u001b[39;49m\u001b[38;5;124;43m'\u001b[39;49m\u001b[43m:\u001b[49m\u001b[43m \u001b[49m\u001b[43mmaxiter\u001b[49m\u001b[43m}\u001b[49m\n\u001b[1;32m     81\u001b[0m \u001b[43m\u001b[49m\u001b[43m)\u001b[49m\n\u001b[1;32m     83\u001b[0m \u001b[38;5;28mself\u001b[39m\u001b[38;5;241m.\u001b[39mtheta \u001b[38;5;241m=\u001b[39m opt\u001b[38;5;241m.\u001b[39mx\n\u001b[1;32m     85\u001b[0m \u001b[38;5;28;01mreturn\u001b[39;00m opt\n",
      "File \u001b[0;32m~/.local/lib/python3.10/site-packages/scipy/optimize/_minimize.py:705\u001b[0m, in \u001b[0;36mminimize\u001b[0;34m(fun, x0, args, method, jac, hess, hessp, bounds, constraints, tol, callback, options)\u001b[0m\n\u001b[1;32m    702\u001b[0m     res \u001b[38;5;241m=\u001b[39m _minimize_tnc(fun, x0, args, jac, bounds, callback\u001b[38;5;241m=\u001b[39mcallback,\n\u001b[1;32m    703\u001b[0m                         \u001b[38;5;241m*\u001b[39m\u001b[38;5;241m*\u001b[39moptions)\n\u001b[1;32m    704\u001b[0m \u001b[38;5;28;01melif\u001b[39;00m meth \u001b[38;5;241m==\u001b[39m \u001b[38;5;124m'\u001b[39m\u001b[38;5;124mcobyla\u001b[39m\u001b[38;5;124m'\u001b[39m:\n\u001b[0;32m--> 705\u001b[0m     res \u001b[38;5;241m=\u001b[39m \u001b[43m_minimize_cobyla\u001b[49m\u001b[43m(\u001b[49m\u001b[43mfun\u001b[49m\u001b[43m,\u001b[49m\u001b[43m \u001b[49m\u001b[43mx0\u001b[49m\u001b[43m,\u001b[49m\u001b[43m \u001b[49m\u001b[43margs\u001b[49m\u001b[43m,\u001b[49m\u001b[43m \u001b[49m\u001b[43mconstraints\u001b[49m\u001b[43m,\u001b[49m\u001b[43m \u001b[49m\u001b[43mcallback\u001b[49m\u001b[38;5;241;43m=\u001b[39;49m\u001b[43mcallback\u001b[49m\u001b[43m,\u001b[49m\n\u001b[1;32m    706\u001b[0m \u001b[43m                            \u001b[49m\u001b[38;5;241;43m*\u001b[39;49m\u001b[38;5;241;43m*\u001b[39;49m\u001b[43moptions\u001b[49m\u001b[43m)\u001b[49m\n\u001b[1;32m    707\u001b[0m \u001b[38;5;28;01melif\u001b[39;00m meth \u001b[38;5;241m==\u001b[39m \u001b[38;5;124m'\u001b[39m\u001b[38;5;124mslsqp\u001b[39m\u001b[38;5;124m'\u001b[39m:\n\u001b[1;32m    708\u001b[0m     res \u001b[38;5;241m=\u001b[39m _minimize_slsqp(fun, x0, args, jac, bounds,\n\u001b[1;32m    709\u001b[0m                           constraints, callback\u001b[38;5;241m=\u001b[39mcallback, \u001b[38;5;241m*\u001b[39m\u001b[38;5;241m*\u001b[39moptions)\n",
      "File \u001b[0;32m~/.local/lib/python3.10/site-packages/scipy/optimize/_cobyla_py.py:34\u001b[0m, in \u001b[0;36msynchronized.<locals>.wrapper\u001b[0;34m(*args, **kwargs)\u001b[0m\n\u001b[1;32m     31\u001b[0m \u001b[38;5;129m@functools\u001b[39m\u001b[38;5;241m.\u001b[39mwraps(func)\n\u001b[1;32m     32\u001b[0m \u001b[38;5;28;01mdef\u001b[39;00m \u001b[38;5;21mwrapper\u001b[39m(\u001b[38;5;241m*\u001b[39margs, \u001b[38;5;241m*\u001b[39m\u001b[38;5;241m*\u001b[39mkwargs):\n\u001b[1;32m     33\u001b[0m     \u001b[38;5;28;01mwith\u001b[39;00m _module_lock:\n\u001b[0;32m---> 34\u001b[0m         \u001b[38;5;28;01mreturn\u001b[39;00m \u001b[43mfunc\u001b[49m\u001b[43m(\u001b[49m\u001b[38;5;241;43m*\u001b[39;49m\u001b[43margs\u001b[49m\u001b[43m,\u001b[49m\u001b[43m \u001b[49m\u001b[38;5;241;43m*\u001b[39;49m\u001b[38;5;241;43m*\u001b[39;49m\u001b[43mkwargs\u001b[49m\u001b[43m)\u001b[49m\n",
      "File \u001b[0;32m~/.local/lib/python3.10/site-packages/scipy/optimize/_cobyla_py.py:273\u001b[0m, in \u001b[0;36m_minimize_cobyla\u001b[0;34m(fun, x0, args, constraints, rhobeg, tol, maxiter, disp, catol, callback, **unknown_options)\u001b[0m\n\u001b[1;32m    270\u001b[0m         callback(np\u001b[38;5;241m.\u001b[39mcopy(x))\n\u001b[1;32m    272\u001b[0m info \u001b[38;5;241m=\u001b[39m np\u001b[38;5;241m.\u001b[39mzeros(\u001b[38;5;241m4\u001b[39m, np\u001b[38;5;241m.\u001b[39mfloat64)\n\u001b[0;32m--> 273\u001b[0m xopt, info \u001b[38;5;241m=\u001b[39m \u001b[43mcobyla\u001b[49m\u001b[38;5;241;43m.\u001b[39;49m\u001b[43mminimize\u001b[49m\u001b[43m(\u001b[49m\u001b[43mcalcfc\u001b[49m\u001b[43m,\u001b[49m\u001b[43m \u001b[49m\u001b[43mm\u001b[49m\u001b[38;5;241;43m=\u001b[39;49m\u001b[43mm\u001b[49m\u001b[43m,\u001b[49m\u001b[43m \u001b[49m\u001b[43mx\u001b[49m\u001b[38;5;241;43m=\u001b[39;49m\u001b[43mnp\u001b[49m\u001b[38;5;241;43m.\u001b[39;49m\u001b[43mcopy\u001b[49m\u001b[43m(\u001b[49m\u001b[43mx0\u001b[49m\u001b[43m)\u001b[49m\u001b[43m,\u001b[49m\u001b[43m \u001b[49m\u001b[43mrhobeg\u001b[49m\u001b[38;5;241;43m=\u001b[39;49m\u001b[43mrhobeg\u001b[49m\u001b[43m,\u001b[49m\n\u001b[1;32m    274\u001b[0m \u001b[43m                              \u001b[49m\u001b[43mrhoend\u001b[49m\u001b[38;5;241;43m=\u001b[39;49m\u001b[43mrhoend\u001b[49m\u001b[43m,\u001b[49m\u001b[43m \u001b[49m\u001b[43miprint\u001b[49m\u001b[38;5;241;43m=\u001b[39;49m\u001b[43miprint\u001b[49m\u001b[43m,\u001b[49m\u001b[43m \u001b[49m\u001b[43mmaxfun\u001b[49m\u001b[38;5;241;43m=\u001b[39;49m\u001b[43mmaxfun\u001b[49m\u001b[43m,\u001b[49m\n\u001b[1;32m    275\u001b[0m \u001b[43m                              \u001b[49m\u001b[43mdinfo\u001b[49m\u001b[38;5;241;43m=\u001b[39;49m\u001b[43minfo\u001b[49m\u001b[43m,\u001b[49m\u001b[43m \u001b[49m\u001b[43mcallback\u001b[49m\u001b[38;5;241;43m=\u001b[39;49m\u001b[43mwrapped_callback\u001b[49m\u001b[43m)\u001b[49m\n\u001b[1;32m    277\u001b[0m \u001b[38;5;28;01mif\u001b[39;00m info[\u001b[38;5;241m3\u001b[39m] \u001b[38;5;241m>\u001b[39m catol:\n\u001b[1;32m    278\u001b[0m     \u001b[38;5;66;03m# Check constraint violation\u001b[39;00m\n\u001b[1;32m    279\u001b[0m     info[\u001b[38;5;241m0\u001b[39m] \u001b[38;5;241m=\u001b[39m \u001b[38;5;241m4\u001b[39m\n",
      "File \u001b[0;32m~/.local/lib/python3.10/site-packages/scipy/optimize/_cobyla_py.py:261\u001b[0m, in \u001b[0;36m_minimize_cobyla.<locals>.calcfc\u001b[0;34m(x, con)\u001b[0m\n\u001b[1;32m    260\u001b[0m \u001b[38;5;28;01mdef\u001b[39;00m \u001b[38;5;21mcalcfc\u001b[39m(x, con):\n\u001b[0;32m--> 261\u001b[0m     f \u001b[38;5;241m=\u001b[39m \u001b[43mfun\u001b[49m\u001b[43m(\u001b[49m\u001b[43mnp\u001b[49m\u001b[38;5;241;43m.\u001b[39;49m\u001b[43mcopy\u001b[49m\u001b[43m(\u001b[49m\u001b[43mx\u001b[49m\u001b[43m)\u001b[49m\u001b[43m,\u001b[49m\u001b[43m \u001b[49m\u001b[38;5;241;43m*\u001b[39;49m\u001b[43margs\u001b[49m\u001b[43m)\u001b[49m\n\u001b[1;32m    262\u001b[0m     i \u001b[38;5;241m=\u001b[39m \u001b[38;5;241m0\u001b[39m\n\u001b[1;32m    263\u001b[0m     \u001b[38;5;28;01mfor\u001b[39;00m size, c \u001b[38;5;129;01min\u001b[39;00m izip(cons_lengths, constraints):\n",
      "Cell \u001b[0;32mIn [6], line 77\u001b[0m, in \u001b[0;36mQuantumClassifier.fit.<locals>.<lambda>\u001b[0;34m(params)\u001b[0m\n\u001b[1;32m     72\u001b[0m     \u001b[38;5;28mself\u001b[39m\u001b[38;5;241m.\u001b[39mtheta \u001b[38;5;241m=\u001b[39m np\u001b[38;5;241m.\u001b[39mrandom\u001b[38;5;241m.\u001b[39muniform(\u001b[38;5;241m0\u001b[39m, \u001b[38;5;241m2\u001b[39m \u001b[38;5;241m*\u001b[39m np\u001b[38;5;241m.\u001b[39mpi, \u001b[38;5;28mself\u001b[39m\u001b[38;5;241m.\u001b[39mtheta_size)            \n\u001b[1;32m     74\u001b[0m \u001b[38;5;28mself\u001b[39m\u001b[38;5;241m.\u001b[39mnshots \u001b[38;5;241m=\u001b[39m nshots\n\u001b[1;32m     76\u001b[0m opt \u001b[38;5;241m=\u001b[39m sp\u001b[38;5;241m.\u001b[39moptimize\u001b[38;5;241m.\u001b[39mminimize(\n\u001b[0;32m---> 77\u001b[0m     fun\u001b[38;5;241m=\u001b[39m\u001b[38;5;28;01mlambda\u001b[39;00m params : \u001b[38;5;28;43mself\u001b[39;49m\u001b[38;5;241;43m.\u001b[39;49m\u001b[43mlossBatch\u001b[49m\u001b[43m(\u001b[49m\u001b[43mparams\u001b[49m\u001b[43m,\u001b[49m\u001b[43m \u001b[49m\u001b[43mX\u001b[49m\u001b[43m,\u001b[49m\u001b[43m \u001b[49m\u001b[43my\u001b[49m\u001b[43m,\u001b[49m\u001b[43m \u001b[49m\u001b[43mbackend\u001b[49m\u001b[43m)\u001b[49m,\n\u001b[1;32m     78\u001b[0m     x0\u001b[38;5;241m=\u001b[39m\u001b[38;5;28mself\u001b[39m\u001b[38;5;241m.\u001b[39mtheta,\n\u001b[1;32m     79\u001b[0m     method\u001b[38;5;241m=\u001b[39m\u001b[38;5;28mself\u001b[39m\u001b[38;5;241m.\u001b[39moptimizer_method,\n\u001b[1;32m     80\u001b[0m     options\u001b[38;5;241m=\u001b[39m{\u001b[38;5;124m'\u001b[39m\u001b[38;5;124mmaxiter\u001b[39m\u001b[38;5;124m'\u001b[39m: maxiter}\n\u001b[1;32m     81\u001b[0m )\n\u001b[1;32m     83\u001b[0m \u001b[38;5;28mself\u001b[39m\u001b[38;5;241m.\u001b[39mtheta \u001b[38;5;241m=\u001b[39m opt\u001b[38;5;241m.\u001b[39mx\n\u001b[1;32m     85\u001b[0m \u001b[38;5;28;01mreturn\u001b[39;00m opt\n",
      "Cell \u001b[0;32mIn [6], line 49\u001b[0m, in \u001b[0;36mQuantumClassifier.lossBatch\u001b[0;34m(self, theta, X, y, backend)\u001b[0m\n\u001b[1;32m     47\u001b[0m \u001b[38;5;28;01mif\u001b[39;00m backend \u001b[38;5;129;01mis\u001b[39;00m \u001b[38;5;28;01mNone\u001b[39;00m:\n\u001b[1;32m     48\u001b[0m     \u001b[38;5;28;01mfor\u001b[39;00m X_el, y_el \u001b[38;5;129;01min\u001b[39;00m \u001b[38;5;28mzip\u001b[39m(X, y) :\n\u001b[0;32m---> 49\u001b[0m         total_loss \u001b[38;5;241m+\u001b[39m\u001b[38;5;241m=\u001b[39m \u001b[38;5;28;43mself\u001b[39;49m\u001b[38;5;241;43m.\u001b[39;49m\u001b[43mrunCircuit\u001b[49m\u001b[43m(\u001b[49m\u001b[43mtheta\u001b[49m\u001b[43m,\u001b[49m\u001b[43m \u001b[49m\u001b[43mX_el\u001b[49m\u001b[43m,\u001b[49m\u001b[43m \u001b[49m\u001b[43my_el\u001b[49m\u001b[43m)\u001b[49m\n\u001b[1;32m     50\u001b[0m \u001b[38;5;28;01melse\u001b[39;00m:\n\u001b[1;32m     51\u001b[0m     circuit_list\u001b[38;5;241m=\u001b[39m[\u001b[38;5;28mself\u001b[39m\u001b[38;5;241m.\u001b[39mbuild_circuit(theta,X_el, y_el) \u001b[38;5;28;01mfor\u001b[39;00m (X_el, y_el) \u001b[38;5;129;01min\u001b[39;00m \u001b[38;5;28mzip\u001b[39m(X, y)]\n",
      "Cell \u001b[0;32mIn [6], line 25\u001b[0m, in \u001b[0;36mQuantumClassifier.runCircuit\u001b[0;34m(self, theta, X, y)\u001b[0m\n\u001b[1;32m     24\u001b[0m \u001b[38;5;28;01mdef\u001b[39;00m \u001b[38;5;21mrunCircuit\u001b[39m(\u001b[38;5;28mself\u001b[39m, theta, X, y):\u001b[38;5;66;03m#, backend=None):\u001b[39;00m\n\u001b[0;32m---> 25\u001b[0m     \u001b[38;5;28;43mself\u001b[39;49m\u001b[38;5;241;43m.\u001b[39;49m\u001b[43mbuild_circuit\u001b[49m\u001b[43m(\u001b[49m\u001b[43mtheta\u001b[49m\u001b[43m,\u001b[49m\u001b[43m \u001b[49m\u001b[43mX\u001b[49m\u001b[43m,\u001b[49m\u001b[43m \u001b[49m\u001b[43my\u001b[49m\u001b[43m)\u001b[49m\n\u001b[1;32m     26\u001b[0m     job_results \u001b[38;5;241m=\u001b[39m \u001b[38;5;28mself\u001b[39m\u001b[38;5;241m.\u001b[39mexecuteJob(\u001b[38;5;28mself\u001b[39m\u001b[38;5;241m.\u001b[39mcircuit)\n\u001b[1;32m     27\u001b[0m     label \u001b[38;5;241m=\u001b[39m y\n",
      "Cell \u001b[0;32mIn [6], line 21\u001b[0m, in \u001b[0;36mQuantumClassifier.build_circuit\u001b[0;34m(self, theta, X, y)\u001b[0m\n\u001b[1;32m     19\u001b[0m \u001b[38;5;28;01mdef\u001b[39;00m \u001b[38;5;21mbuild_circuit\u001b[39m(\u001b[38;5;28mself\u001b[39m, theta, X, y):\n\u001b[1;32m     20\u001b[0m     omega \u001b[38;5;241m=\u001b[39m X\n\u001b[0;32m---> 21\u001b[0m     \u001b[38;5;28mself\u001b[39m\u001b[38;5;241m.\u001b[39mcircuit \u001b[38;5;241m=\u001b[39m \u001b[38;5;28;43mself\u001b[39;49m\u001b[38;5;241;43m.\u001b[39;49m\u001b[43mcircuit_builder\u001b[49m\u001b[43m(\u001b[49m\u001b[43mtheta\u001b[49m\u001b[43m,\u001b[49m\u001b[43m \u001b[49m\u001b[43momega\u001b[49m\u001b[43m)\u001b[49m\n\u001b[1;32m     22\u001b[0m     \u001b[38;5;28;01mreturn\u001b[39;00m \u001b[38;5;28mself\u001b[39m\u001b[38;5;241m.\u001b[39mcircuit\n",
      "Cell \u001b[0;32mIn [42], line 8\u001b[0m, in \u001b[0;36msyntheticCircuit\u001b[0;34m(theta, omega)\u001b[0m\n\u001b[1;32m      5\u001b[0m \u001b[38;5;28;01mfor\u001b[39;00m i \u001b[38;5;129;01min\u001b[39;00m \u001b[38;5;28mrange\u001b[39m(\u001b[38;5;241m2\u001b[39m):\n\u001b[1;32m      6\u001b[0m     \u001b[38;5;28;01mif\u001b[39;00m i : synthetic_circuit\u001b[38;5;241m.\u001b[39mcz(\u001b[38;5;241m0\u001b[39m, \u001b[38;5;241m1\u001b[39m)\n\u001b[0;32m----> 8\u001b[0m     \u001b[43mpsiGate\u001b[49m\u001b[43m(\u001b[49m\u001b[43msynthetic_circuit\u001b[49m\u001b[43m,\u001b[49m\u001b[43m \u001b[49m\u001b[43momega\u001b[49m\u001b[43m[\u001b[49m\u001b[38;5;241;43m0\u001b[39;49m\u001b[43m]\u001b[49m\u001b[43m,\u001b[49m\u001b[43m \u001b[49m\u001b[38;5;241;43m0\u001b[39;49m\u001b[43m)\u001b[49m\n\u001b[1;32m      9\u001b[0m     psiGate(synthetic_circuit, omega[\u001b[38;5;241m1\u001b[39m], \u001b[38;5;241m1\u001b[39m)\n\u001b[1;32m     10\u001b[0m     synthetic_circuit\u001b[38;5;241m.\u001b[39mcz(\u001b[38;5;241m0\u001b[39m, \u001b[38;5;241m1\u001b[39m)\n",
      "Cell \u001b[0;32mIn [4], line 2\u001b[0m, in \u001b[0;36mpsiGate\u001b[0;34m(qc, param, bit)\u001b[0m\n\u001b[1;32m      1\u001b[0m \u001b[38;5;28;01mdef\u001b[39;00m \u001b[38;5;21mpsiGate\u001b[39m(qc, param, bit):\n\u001b[0;32m----> 2\u001b[0m     \u001b[43mqc\u001b[49m\u001b[38;5;241;43m.\u001b[39;49m\u001b[43mrx\u001b[49m\u001b[43m(\u001b[49m\u001b[43mnp\u001b[49m\u001b[38;5;241;43m.\u001b[39;49m\u001b[43mpi\u001b[49m\u001b[38;5;241;43m/\u001b[39;49m\u001b[38;5;241;43m2\u001b[39;49m\u001b[43m,\u001b[49m\u001b[43m \u001b[49m\u001b[43mbit\u001b[49m\u001b[43m)\u001b[49m\n\u001b[1;32m      3\u001b[0m     qc\u001b[38;5;241m.\u001b[39mrz(param, bit)\n\u001b[1;32m      4\u001b[0m     qc\u001b[38;5;241m.\u001b[39mrx(np\u001b[38;5;241m.\u001b[39mpi\u001b[38;5;241m/\u001b[39m\u001b[38;5;241m2\u001b[39m, bit)\n",
      "File \u001b[0;32m~/.local/lib/python3.10/site-packages/qiskit/circuit/quantumcircuit.py:3218\u001b[0m, in \u001b[0;36mQuantumCircuit.rx\u001b[0;34m(self, theta, qubit, label)\u001b[0m\n\u001b[1;32m   3204\u001b[0m \u001b[38;5;124;03m\"\"\"Apply :class:`~qiskit.circuit.library.RXGate`.\u001b[39;00m\n\u001b[1;32m   3205\u001b[0m \n\u001b[1;32m   3206\u001b[0m \u001b[38;5;124;03mFor the full matrix form of this gate, see the underlying gate documentation.\u001b[39;00m\n\u001b[0;32m   (...)\u001b[0m\n\u001b[1;32m   3214\u001b[0m \u001b[38;5;124;03m    A handle to the instructions created.\u001b[39;00m\n\u001b[1;32m   3215\u001b[0m \u001b[38;5;124;03m\"\"\"\u001b[39;00m\n\u001b[1;32m   3216\u001b[0m \u001b[38;5;28;01mfrom\u001b[39;00m \u001b[38;5;21;01m.\u001b[39;00m\u001b[38;5;21;01mlibrary\u001b[39;00m\u001b[38;5;21;01m.\u001b[39;00m\u001b[38;5;21;01mstandard_gates\u001b[39;00m\u001b[38;5;21;01m.\u001b[39;00m\u001b[38;5;21;01mrx\u001b[39;00m \u001b[38;5;28;01mimport\u001b[39;00m RXGate\n\u001b[0;32m-> 3218\u001b[0m \u001b[38;5;28;01mreturn\u001b[39;00m \u001b[38;5;28;43mself\u001b[39;49m\u001b[38;5;241;43m.\u001b[39;49m\u001b[43mappend\u001b[49m\u001b[43m(\u001b[49m\u001b[43mRXGate\u001b[49m\u001b[43m(\u001b[49m\u001b[43mtheta\u001b[49m\u001b[43m,\u001b[49m\u001b[43m \u001b[49m\u001b[43mlabel\u001b[49m\u001b[38;5;241;43m=\u001b[39;49m\u001b[43mlabel\u001b[49m\u001b[43m)\u001b[49m\u001b[43m,\u001b[49m\u001b[43m \u001b[49m\u001b[43m[\u001b[49m\u001b[43mqubit\u001b[49m\u001b[43m]\u001b[49m\u001b[43m,\u001b[49m\u001b[43m \u001b[49m\u001b[43m[\u001b[49m\u001b[43m]\u001b[49m\u001b[43m)\u001b[49m\n",
      "File \u001b[0;32m~/.local/lib/python3.10/site-packages/qiskit/circuit/quantumcircuit.py:1298\u001b[0m, in \u001b[0;36mQuantumCircuit.append\u001b[0;34m(self, instruction, qargs, cargs)\u001b[0m\n\u001b[1;32m   1295\u001b[0m     \u001b[38;5;28;01mif\u001b[39;00m is_parameter:\n\u001b[1;32m   1296\u001b[0m         operation \u001b[38;5;241m=\u001b[39m copy\u001b[38;5;241m.\u001b[39mdeepcopy(operation)\n\u001b[0;32m-> 1298\u001b[0m expanded_qargs \u001b[38;5;241m=\u001b[39m [\u001b[38;5;28mself\u001b[39m\u001b[38;5;241m.\u001b[39mqbit_argument_conversion(qarg) \u001b[38;5;28;01mfor\u001b[39;00m qarg \u001b[38;5;129;01min\u001b[39;00m qargs \u001b[38;5;129;01mor\u001b[39;00m []]\n\u001b[1;32m   1299\u001b[0m expanded_cargs \u001b[38;5;241m=\u001b[39m [\u001b[38;5;28mself\u001b[39m\u001b[38;5;241m.\u001b[39mcbit_argument_conversion(carg) \u001b[38;5;28;01mfor\u001b[39;00m carg \u001b[38;5;129;01min\u001b[39;00m cargs \u001b[38;5;129;01mor\u001b[39;00m []]\n\u001b[1;32m   1301\u001b[0m \u001b[38;5;28;01mif\u001b[39;00m \u001b[38;5;28mself\u001b[39m\u001b[38;5;241m.\u001b[39m_control_flow_scopes:\n",
      "File \u001b[0;32m~/.local/lib/python3.10/site-packages/qiskit/circuit/quantumcircuit.py:1298\u001b[0m, in \u001b[0;36m<listcomp>\u001b[0;34m(.0)\u001b[0m\n\u001b[1;32m   1295\u001b[0m     \u001b[38;5;28;01mif\u001b[39;00m is_parameter:\n\u001b[1;32m   1296\u001b[0m         operation \u001b[38;5;241m=\u001b[39m copy\u001b[38;5;241m.\u001b[39mdeepcopy(operation)\n\u001b[0;32m-> 1298\u001b[0m expanded_qargs \u001b[38;5;241m=\u001b[39m [\u001b[38;5;28;43mself\u001b[39;49m\u001b[38;5;241;43m.\u001b[39;49m\u001b[43mqbit_argument_conversion\u001b[49m\u001b[43m(\u001b[49m\u001b[43mqarg\u001b[49m\u001b[43m)\u001b[49m \u001b[38;5;28;01mfor\u001b[39;00m qarg \u001b[38;5;129;01min\u001b[39;00m qargs \u001b[38;5;129;01mor\u001b[39;00m []]\n\u001b[1;32m   1299\u001b[0m expanded_cargs \u001b[38;5;241m=\u001b[39m [\u001b[38;5;28mself\u001b[39m\u001b[38;5;241m.\u001b[39mcbit_argument_conversion(carg) \u001b[38;5;28;01mfor\u001b[39;00m carg \u001b[38;5;129;01min\u001b[39;00m cargs \u001b[38;5;129;01mor\u001b[39;00m []]\n\u001b[1;32m   1301\u001b[0m \u001b[38;5;28;01mif\u001b[39;00m \u001b[38;5;28mself\u001b[39m\u001b[38;5;241m.\u001b[39m_control_flow_scopes:\n",
      "File \u001b[0;32m~/.local/lib/python3.10/site-packages/qiskit/circuit/quantumcircuit.py:1180\u001b[0m, in \u001b[0;36mQuantumCircuit.qbit_argument_conversion\u001b[0;34m(self, qubit_representation)\u001b[0m\n\u001b[1;32m   1169\u001b[0m \u001b[38;5;28;01mdef\u001b[39;00m \u001b[38;5;21mqbit_argument_conversion\u001b[39m(\u001b[38;5;28mself\u001b[39m, qubit_representation: QubitSpecifier) \u001b[38;5;241m-\u001b[39m\u001b[38;5;241m>\u001b[39m List[Qubit]:\n\u001b[1;32m   1170\u001b[0m     \u001b[38;5;124;03m\"\"\"\u001b[39;00m\n\u001b[1;32m   1171\u001b[0m \u001b[38;5;124;03m    Converts several qubit representations (such as indexes, range, etc.)\u001b[39;00m\n\u001b[1;32m   1172\u001b[0m \u001b[38;5;124;03m    into a list of qubits.\u001b[39;00m\n\u001b[0;32m   (...)\u001b[0m\n\u001b[1;32m   1178\u001b[0m \u001b[38;5;124;03m        List(Qubit): the resolved instances of the qubits.\u001b[39;00m\n\u001b[1;32m   1179\u001b[0m \u001b[38;5;124;03m    \"\"\"\u001b[39;00m\n\u001b[0;32m-> 1180\u001b[0m     \u001b[38;5;28;01mreturn\u001b[39;00m \u001b[43m_bit_argument_conversion\u001b[49m\u001b[43m(\u001b[49m\n\u001b[1;32m   1181\u001b[0m \u001b[43m        \u001b[49m\u001b[43mqubit_representation\u001b[49m\u001b[43m,\u001b[49m\u001b[43m \u001b[49m\u001b[38;5;28;43mself\u001b[39;49m\u001b[38;5;241;43m.\u001b[39;49m\u001b[43mqubits\u001b[49m\u001b[43m,\u001b[49m\u001b[43m \u001b[49m\u001b[38;5;28;43mself\u001b[39;49m\u001b[38;5;241;43m.\u001b[39;49m\u001b[43m_qubit_indices\u001b[49m\u001b[43m,\u001b[49m\u001b[43m \u001b[49m\u001b[43mQubit\u001b[49m\n\u001b[1;32m   1182\u001b[0m \u001b[43m    \u001b[49m\u001b[43m)\u001b[49m\n",
      "File \u001b[0;32m~/.local/lib/python3.10/site-packages/qiskit/circuit/quantumcircuit.py:5128\u001b[0m, in \u001b[0;36m_bit_argument_conversion\u001b[0;34m(specifier, bit_sequence, bit_set, type_)\u001b[0m\n\u001b[1;32m   5126\u001b[0m         \u001b[38;5;28;01mreturn\u001b[39;00m [specifier]\n\u001b[1;32m   5127\u001b[0m     \u001b[38;5;28;01mraise\u001b[39;00m CircuitError(\u001b[38;5;124mf\u001b[39m\u001b[38;5;124m\"\u001b[39m\u001b[38;5;124mBit \u001b[39m\u001b[38;5;124m'\u001b[39m\u001b[38;5;132;01m{\u001b[39;00mspecifier\u001b[38;5;132;01m}\u001b[39;00m\u001b[38;5;124m'\u001b[39m\u001b[38;5;124m is not in the circuit.\u001b[39m\u001b[38;5;124m\"\u001b[39m)\n\u001b[0;32m-> 5128\u001b[0m \u001b[38;5;28;01mif\u001b[39;00m \u001b[38;5;28;43misinstance\u001b[39;49m\u001b[43m(\u001b[49m\u001b[43mspecifier\u001b[49m\u001b[43m,\u001b[49m\u001b[43m \u001b[49m\u001b[43m(\u001b[49m\u001b[38;5;28;43mint\u001b[39;49m\u001b[43m,\u001b[49m\u001b[43m \u001b[49m\u001b[43mnp\u001b[49m\u001b[38;5;241;43m.\u001b[39;49m\u001b[43minteger\u001b[49m\u001b[43m)\u001b[49m\u001b[43m)\u001b[49m:\n\u001b[1;32m   5129\u001b[0m     \u001b[38;5;28;01mtry\u001b[39;00m:\n\u001b[1;32m   5130\u001b[0m         \u001b[38;5;28;01mreturn\u001b[39;00m [bit_sequence[specifier]]\n",
      "\u001b[0;31mKeyboardInterrupt\u001b[0m: "
     ]
    }
   ],
   "source": [
    "opt_synth = synthetic_classifier.fit(X_train_synth, y_train_synth, nshots=250, maxiter=60)\n",
    "opt_synth"
   ]
  },
  {
   "cell_type": "markdown",
   "id": "03ae5122-cc8b-4fc7-9098-fbfec9a234da",
   "metadata": {},
   "source": [
    "## Compute results"
   ]
  },
  {
   "cell_type": "code",
   "execution_count": null,
   "id": "4e885cdd-b176-4f5d-8cd2-723b8fa31773",
   "metadata": {},
   "outputs": [],
   "source": [
    "y_pred_synth = synthetic_classifier.predict(X_train_synth)\n",
    "synthetic_classifier.compute_accuracy(y_pred_synth, y_train_synth)"
   ]
  },
  {
   "cell_type": "code",
   "execution_count": null,
   "id": "a3f695c9-4592-432e-b838-637992870670",
   "metadata": {},
   "outputs": [],
   "source": [
    "y_pred_synth = synthetic_classifier.predict(X_test_synth)\n",
    "synthetic_classifier.compute_accuracy(y_pred_synth, y_test_synth)"
   ]
  },
  {
   "cell_type": "markdown",
   "id": "6818952d-265c-4746-a110-3ffa5834ffb6",
   "metadata": {},
   "source": [
    "We obtain 67,1%, which is not bad. As for the skin dataset, performance could be improved by using BFGS."
   ]
  },
  {
   "cell_type": "markdown",
   "id": "298bacf2-bf15-4810-b9ea-cc6a6c460f82",
   "metadata": {
    "tags": []
   },
   "source": [
    "# V - Run on IBM Quantum Computer"
   ]
  },
  {
   "cell_type": "code",
   "execution_count": 111,
   "id": "4cd250c0",
   "metadata": {
    "id": "4cd250c0"
   },
   "outputs": [
    {
     "name": "stderr",
     "output_type": "stream",
     "text": [
      "ibmqfactory.load_account:WARNING:2023-01-20 21:52:21,522: Credentials are already in use. The existing account in the session will be replaced.\n"
     ]
    }
   ],
   "source": [
    "TOKEN = \"a9e80916023230fb39159420e5dd02f5b990b0b0b6de16364350b822082c4c8b2fefa2195d742c878f71f8d7771c103c2204729cffbf56145670d539c15e9dda\"\n",
    "qiskit.IBMQ.save_account(TOKEN, overwrite=True) \n",
    "provider = qiskit.IBMQ.load_account()\n",
    "backend = qiskit.providers.ibmq.least_busy(provider.backends())\n",
    "# backend = provider.get_backend('ibmq_qasm_simulator')"
   ]
  },
  {
   "cell_type": "markdown",
   "id": "ec3f65aa",
   "metadata": {},
   "source": [
    "## IRIS"
   ]
  },
  {
   "cell_type": "code",
   "execution_count": 163,
   "id": "bdfeddcf",
   "metadata": {},
   "outputs": [],
   "source": [
    "iris_classifier = QuantumClassifier(irisCircuit, ['00', '01', '10'], 8)\n"
   ]
  },
  {
   "cell_type": "code",
   "execution_count": 164,
   "id": "b017e675",
   "metadata": {},
   "outputs": [
    {
     "name": "stdout",
     "output_type": "stream",
     "text": [
      "loss: 4.251313164485948\n",
      "loss: 2.8896047651923658\n",
      "loss: 4.257516165983766\n",
      "loss: 4.804427558562162\n",
      "loss: 4.036089449958713\n",
      "loss: 2.0910323144621015\n",
      "loss: 3.186667598693079\n",
      "loss: 2.4149131942956665\n",
      "loss: 1.6302902117206979\n",
      "loss: 3.443870333125019\n",
      "loss: 1.1969088301900697\n",
      "loss: 1.3991346551422161\n",
      "loss: 1.3470176232400297\n",
      "loss: 1.6368378255853586\n",
      "loss: 0.742849940906313\n",
      "loss: 1.1355607697739092\n",
      "loss: 0.9086087311890021\n",
      "loss: 0.7560336157394774\n",
      "loss: 0.807268024551553\n",
      "loss: 0.3616025167024722\n"
     ]
    }
   ],
   "source": [
    "opt_iris = iris_classifier.fit(X_train_iris, y_train_iris, nshots=250, maxiter=20, backend=backend)"
   ]
  },
  {
   "cell_type": "code",
   "execution_count": 129,
   "id": "47cb76ee",
   "metadata": {},
   "outputs": [],
   "source": [
    "mapped_circuit = qiskit.transpile(iris_classifier.circuit, backend=backend)\n",
    "qobj = qiskit.assemble(mapped_circuit, backend=backend, shots=1024)"
   ]
  },
  {
   "cell_type": "code",
   "execution_count": 39,
   "id": "28QMhcWdjscr",
   "metadata": {
    "id": "28QMhcWdjscr"
   },
   "outputs": [],
   "source": [
    "# execute the circuit\n",
    "job = backend.run(qobj)\n"
   ]
  },
  {
   "cell_type": "code",
   "execution_count": 48,
   "id": "GYnzFJyMkGLt",
   "metadata": {
    "colab": {
     "base_uri": "https://localhost:8080/"
    },
    "id": "GYnzFJyMkGLt",
    "outputId": "10499c52-276c-4261-9106-ab92827e821b"
   },
   "outputs": [
    {
     "data": {
      "text/plain": [
       "<JobStatus.DONE: 'job has successfully run'>"
      ]
     },
     "execution_count": 48,
     "metadata": {},
     "output_type": "execute_result"
    }
   ],
   "source": [
    "status = job.status()\n",
    "status\n"
   ]
  },
  {
   "cell_type": "code",
   "execution_count": 49,
   "id": "cf12c45e",
   "metadata": {},
   "outputs": [
    {
     "data": {
      "text/plain": [
       "'DONE'"
      ]
     },
     "execution_count": 49,
     "metadata": {},
     "output_type": "execute_result"
    }
   ],
   "source": [
    "status.name"
   ]
  },
  {
   "cell_type": "code",
   "execution_count": 42,
   "id": "J-lZKs9wkRX5",
   "metadata": {
    "id": "J-lZKs9wkRX5"
   },
   "outputs": [],
   "source": [
    "ID = job.job_id()"
   ]
  },
  {
   "cell_type": "code",
   "execution_count": 34,
   "id": "z7xJye4aoULQ",
   "metadata": {
    "id": "z7xJye4aoULQ"
   },
   "outputs": [],
   "source": [
    "job = backend.retrieve_job(ID)"
   ]
  },
  {
   "cell_type": "code",
   "execution_count": 35,
   "id": "tZ5hsNGCnjgc",
   "metadata": {
    "id": "tZ5hsNGCnjgc"
   },
   "outputs": [],
   "source": [
    "result = job.result()"
   ]
  },
  {
   "cell_type": "code",
   "execution_count": 36,
   "id": "aAtWad3Dkuz4",
   "metadata": {
    "id": "aAtWad3Dkuz4"
   },
   "outputs": [],
   "source": [
    "counts = result.get_counts()"
   ]
  },
  {
   "cell_type": "code",
   "execution_count": 37,
   "id": "-qmEcVexnn4W",
   "metadata": {
    "colab": {
     "base_uri": "https://localhost:8080/"
    },
    "id": "-qmEcVexnn4W",
    "outputId": "790f4bab-7be6-4171-f976-8b67d2b2f945"
   },
   "outputs": [
    {
     "data": {
      "text/plain": [
       "{'00': 141, '01': 370, '10': 509, '11': 4}"
      ]
     },
     "execution_count": 37,
     "metadata": {},
     "output_type": "execute_result"
    }
   ],
   "source": [
    "counts"
   ]
  },
  {
   "cell_type": "code",
   "execution_count": null,
   "id": "f7662695",
   "metadata": {},
   "outputs": [],
   "source": []
  }
 ],
 "metadata": {
  "colab": {
   "provenance": []
  },
  "kernelspec": {
   "display_name": "Python 3 (ipykernel)",
   "language": "python",
   "name": "python3"
  },
  "language_info": {
   "codemirror_mode": {
    "name": "ipython",
    "version": 3
   },
   "file_extension": ".py",
   "mimetype": "text/x-python",
   "name": "python",
   "nbconvert_exporter": "python",
   "pygments_lexer": "ipython3",
   "version": "3.10.8"
  },
  "vscode": {
   "interpreter": {
    "hash": "51b4e9700471eaf1a5d76c11bef0601667b05397081ebf41f03a2cf9585ff4ea"
   }
  }
 },
 "nbformat": 4,
 "nbformat_minor": 5
}
