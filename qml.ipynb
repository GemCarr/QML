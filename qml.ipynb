{
 "cells": [
  {
   "cell_type": "markdown",
   "id": "73349bb2-01fb-44a4-b725-251eca576c71",
   "metadata": {},
   "source": [
    "# QML Project"
   ]
  },
  {
   "cell_type": "markdown",
   "id": "48166b94-d8d7-4d64-8352-129c2c2ed737",
   "metadata": {},
   "source": [
    "```\n",
    "AUTHORS\n",
    "Charlie BROSSE  \n",
    "Guillaume CARRIERE  \n",
    "Marius DUBOSC\n",
    "```"
   ]
  },
  {
   "cell_type": "markdown",
   "id": "73f36b46",
   "metadata": {
    "id": "73f36b46"
   },
   "source": [
    "invisibleL'objectif du projet et de reproduire les circuits et les résultats obtenus dans le papier \"Polyadic Quantum Classifier\" (https://arxiv.org/abs/2007.14044)"
   ]
  },
  {
   "cell_type": "code",
   "execution_count": 226,
   "id": "wvj_1vHtjBbB",
   "metadata": {
    "id": "wvj_1vHtjBbB"
   },
   "outputs": [
    {
     "name": "stdout",
     "output_type": "stream",
     "text": [
      "Defaulting to user installation because normal site-packages is not writeable\n",
      "Requirement already satisfied: qiskit in /home/guillaume/.local/lib/python3.10/site-packages (0.39.5)\n",
      "Requirement already satisfied: qiskit-aer==0.11.2 in /home/guillaume/.local/lib/python3.10/site-packages (from qiskit) (0.11.2)\n",
      "Requirement already satisfied: qiskit-ibmq-provider==0.19.2 in /home/guillaume/.local/lib/python3.10/site-packages (from qiskit) (0.19.2)\n",
      "Requirement already satisfied: qiskit-terra==0.22.4 in /home/guillaume/.local/lib/python3.10/site-packages (from qiskit) (0.22.4)\n",
      "Requirement already satisfied: scipy>=1.0 in /home/guillaume/.local/lib/python3.10/site-packages (from qiskit-aer==0.11.2->qiskit) (1.9.3)\n",
      "Requirement already satisfied: numpy>=1.16.3 in /home/guillaume/.local/lib/python3.10/site-packages (from qiskit-aer==0.11.2->qiskit) (1.23.4)\n",
      "Requirement already satisfied: requests-ntlm>=1.1.0 in /home/guillaume/.local/lib/python3.10/site-packages (from qiskit-ibmq-provider==0.19.2->qiskit) (1.1.0)\n",
      "Requirement already satisfied: python-dateutil>=2.8.0 in /home/guillaume/.local/lib/python3.10/site-packages (from qiskit-ibmq-provider==0.19.2->qiskit) (2.8.2)\n",
      "Requirement already satisfied: websockets>=10.0 in /home/guillaume/.local/lib/python3.10/site-packages (from qiskit-ibmq-provider==0.19.2->qiskit) (10.4)\n",
      "Requirement already satisfied: websocket-client>=1.0.1 in /home/guillaume/.local/lib/python3.10/site-packages (from qiskit-ibmq-provider==0.19.2->qiskit) (1.4.2)\n",
      "Requirement already satisfied: requests>=2.19 in /home/guillaume/.local/lib/python3.10/site-packages (from qiskit-ibmq-provider==0.19.2->qiskit) (2.28.1)\n",
      "Requirement already satisfied: urllib3>=1.21.1 in /home/guillaume/.local/lib/python3.10/site-packages (from qiskit-ibmq-provider==0.19.2->qiskit) (1.26.12)\n",
      "Requirement already satisfied: ply>=3.10 in /usr/lib/python3.10/site-packages (from qiskit-terra==0.22.4->qiskit) (3.11)\n",
      "Requirement already satisfied: tweedledum<2.0,>=1.1 in /home/guillaume/.local/lib/python3.10/site-packages (from qiskit-terra==0.22.4->qiskit) (1.1.1)\n",
      "Requirement already satisfied: retworkx>=0.11.0 in /home/guillaume/.local/lib/python3.10/site-packages (from qiskit-terra==0.22.4->qiskit) (0.12.0)\n",
      "Requirement already satisfied: stevedore>=3.0.0 in /home/guillaume/.local/lib/python3.10/site-packages (from qiskit-terra==0.22.4->qiskit) (4.1.1)\n",
      "Requirement already satisfied: dill>=0.3 in /home/guillaume/.local/lib/python3.10/site-packages (from qiskit-terra==0.22.4->qiskit) (0.3.6)\n",
      "Requirement already satisfied: sympy>=1.3 in /home/guillaume/.local/lib/python3.10/site-packages (from qiskit-terra==0.22.4->qiskit) (1.11.1)\n",
      "Requirement already satisfied: symengine>=0.9 in /home/guillaume/.local/lib/python3.10/site-packages (from qiskit-terra==0.22.4->qiskit) (0.9.2)\n",
      "Requirement already satisfied: psutil>=5 in /home/guillaume/.local/lib/python3.10/site-packages (from qiskit-terra==0.22.4->qiskit) (5.9.4)\n",
      "Requirement already satisfied: six>=1.5 in /home/guillaume/.local/lib/python3.10/site-packages (from python-dateutil>=2.8.0->qiskit-ibmq-provider==0.19.2->qiskit) (1.16.0)\n",
      "Requirement already satisfied: charset-normalizer<3,>=2 in /home/guillaume/.local/lib/python3.10/site-packages (from requests>=2.19->qiskit-ibmq-provider==0.19.2->qiskit) (2.1.1)\n",
      "Requirement already satisfied: idna<4,>=2.5 in /home/guillaume/.local/lib/python3.10/site-packages (from requests>=2.19->qiskit-ibmq-provider==0.19.2->qiskit) (3.4)\n",
      "Requirement already satisfied: certifi>=2017.4.17 in /home/guillaume/.local/lib/python3.10/site-packages (from requests>=2.19->qiskit-ibmq-provider==0.19.2->qiskit) (2022.9.24)\n",
      "Requirement already satisfied: ntlm-auth>=1.0.2 in /home/guillaume/.local/lib/python3.10/site-packages (from requests-ntlm>=1.1.0->qiskit-ibmq-provider==0.19.2->qiskit) (1.5.0)\n",
      "Requirement already satisfied: cryptography>=1.3 in /home/guillaume/.local/lib/python3.10/site-packages (from requests-ntlm>=1.1.0->qiskit-ibmq-provider==0.19.2->qiskit) (38.0.3)\n",
      "Requirement already satisfied: rustworkx==0.12.0 in /home/guillaume/.local/lib/python3.10/site-packages (from retworkx>=0.11.0->qiskit-terra==0.22.4->qiskit) (0.12.0)\n",
      "Requirement already satisfied: pbr!=2.1.0,>=2.0.0 in /home/guillaume/.local/lib/python3.10/site-packages (from stevedore>=3.0.0->qiskit-terra==0.22.4->qiskit) (5.11.0)\n",
      "Requirement already satisfied: mpmath>=0.19 in /home/guillaume/.local/lib/python3.10/site-packages (from sympy>=1.3->qiskit-terra==0.22.4->qiskit) (1.2.1)\n",
      "Requirement already satisfied: cffi>=1.12 in /usr/lib/python3.10/site-packages (from cryptography>=1.3->requests-ntlm>=1.1.0->qiskit-ibmq-provider==0.19.2->qiskit) (1.15.1)\n",
      "Requirement already satisfied: pycparser in /usr/lib/python3.10/site-packages (from cffi>=1.12->cryptography>=1.3->requests-ntlm>=1.1.0->qiskit-ibmq-provider==0.19.2->qiskit) (2.21)\n"
     ]
    }
   ],
   "source": [
    "!pip3 install qiskit --upgrade"
   ]
  },
  {
   "cell_type": "code",
   "execution_count": 227,
   "id": "ee7f8b50",
   "metadata": {
    "id": "ee7f8b50"
   },
   "outputs": [],
   "source": [
    "import qiskit\n",
    "from scipy.special import erfinv\n",
    "import numpy as np\n",
    "import pandas as pd\n",
    "import scipy as sp\n",
    "from sklearn.model_selection import train_test_split\n",
    "\n",
    "qs = qiskit.Aer.get_backend('qasm_simulator')"
   ]
  },
  {
   "cell_type": "markdown",
   "id": "801e5e59-f8a7-4088-bc0a-9f454353d6cf",
   "metadata": {},
   "source": [
    "# Useful functions"
   ]
  },
  {
   "cell_type": "markdown",
   "id": "c36a7a73-13c8-4e34-a07b-fd60f783f630",
   "metadata": {},
   "source": [
    "## Preprocessing functions"
   ]
  },
  {
   "cell_type": "code",
   "execution_count": 228,
   "id": "a37e0fb4-d140-4e14-9698-eaea02edcda6",
   "metadata": {
    "tags": []
   },
   "outputs": [],
   "source": [
    "def standardise(x):\n",
    "    return (x - np.mean(x)) / np.std(x)\n",
    "\n",
    "def rescaleFeature(x, alpha, q):\n",
    "    return (1-alpha/2) * (np.pi/q) * standardise(x)"
   ]
  },
  {
   "cell_type": "markdown",
   "id": "f24482ee-0bea-4a78-952c-5d737c316ac0",
   "metadata": {},
   "source": [
    "## Circuit functions"
   ]
  },
  {
   "cell_type": "code",
   "execution_count": 229,
   "id": "3632e066-2792-4b8d-9f1e-7de5580c4c3e",
   "metadata": {},
   "outputs": [],
   "source": [
    "def psiGate(qc, param, bit):\n",
    "    qc.rx(np.pi/2, bit)\n",
    "    qc.rz(param, bit)\n",
    "    qc.rx(np.pi/2, bit)"
   ]
  },
  {
   "cell_type": "markdown",
   "id": "a37df251-b80f-4622-bd67-98ac74536e9e",
   "metadata": {},
   "source": [
    "# Quantum Classifier Class"
   ]
  },
  {
   "cell_type": "code",
   "execution_count": 230,
   "id": "2b6dcbe3-4e17-4cb5-a37f-1304194f0986",
   "metadata": {},
   "outputs": [],
   "source": [
    "def logSoftmax(label, job_results, bitstrings, nshots) :\n",
    "    if label in job_results :\n",
    "        e = np.exp(job_results[label] / nshots)\n",
    "    else :\n",
    "        e = 1\n",
    "        \n",
    "    s = 0\n",
    "    for bitstring in bitstrings :\n",
    "        if bitstring in job_results :\n",
    "            s += np.exp(job_results[bitstring] / nshots)\n",
    "        else :\n",
    "            s += 1 \n",
    "            \n",
    "    return -np.log(e / s)\n"
   ]
  },
  {
   "cell_type": "code",
   "execution_count": 231,
   "id": "59165a3f-58b4-496a-8e0c-6f80c7a72f71",
   "metadata": {},
   "outputs": [],
   "source": [
    "class QuantumClassifier:\n",
    "\n",
    "    def __init__(self, circuit_builder, bitstrings, theta_size, loss_function = logSoftmax, optimizer_method = \"COBYLA\"):\n",
    "        self.circuit_builder = circuit_builder\n",
    "        self.bitstrings = bitstrings\n",
    "        self.theta_size = theta_size\n",
    "        self.loss_function = loss_function\n",
    "        self.optimizer_method = optimizer_method\n",
    "        self.theta = None\n",
    "        self.nshots = 100\n",
    "        \n",
    "    \n",
    "    # Training functions\n",
    "    def executeJob(self, circuit):\n",
    "        job = qiskit.execute(circuit, shots=self.nshots, backend=qs)\n",
    "        job_results = job.result().get_counts()\n",
    "        return job_results\n",
    "\n",
    "    def runCircuit(self, theta, X, y):\n",
    "        omega = X\n",
    "        label = y\n",
    "\n",
    "        circuit = self.circuit_builder(theta, omega)\n",
    "        job_results = self.executeJob(circuit)\n",
    "        return self.loss_function(label, job_results, self.bitstrings, self.nshots)\n",
    "        \n",
    "        \n",
    "    def lossBatch(self, theta, X, y):\n",
    "    \n",
    "        total_loss = 0\n",
    "\n",
    "        batch = list(zip(X, y))\n",
    "\n",
    "        for X_el, y_el in zip(X, y) :\n",
    "            total_loss += self.runCircuit(theta, X_el, y_el)\n",
    "\n",
    "        total_loss /= len(y)\n",
    "        \n",
    "        print(\"loss: \" + str(total_loss))\n",
    "        \n",
    "        return total_loss\n",
    "\n",
    "        \n",
    "    def fit(self, X, y, nshots=100, maxiter=20, theta=None):\n",
    "        \n",
    "        if theta is not None:\n",
    "            self.theta = theta\n",
    "            \n",
    "        if self.theta is None:\n",
    "            self.theta = np.random.uniform(0, 2 * np.pi, self.theta_size)\n",
    "            \n",
    "        self.nshots = nshots\n",
    "\n",
    "        opt = sp.optimize.minimize(\n",
    "            fun=lambda params : self.lossBatch(params, X, y),\n",
    "            x0=self.theta,\n",
    "            method=self.optimizer_method,\n",
    "            options={'maxiter': maxiter}\n",
    "        )\n",
    "        \n",
    "        self.theta = opt.x\n",
    "        \n",
    "        return opt\n",
    "    \n",
    "    # Testing functions\n",
    "    def argmaxJobResults(self, job_results):\n",
    "        max_label_value = None\n",
    "        max_label = None\n",
    "    \n",
    "        for label in job_results :\n",
    "            if label in self.bitstrings and (max_label_value is None or job_results[label] >= max_label_value) :\n",
    "                max_label = label\n",
    "                max_label_value = job_results[label]\n",
    "        return max_label\n",
    "    \n",
    "    def predict(self, X, theta=None, nshots=100):\n",
    "        \n",
    "        if theta is not None:\n",
    "            self.theta = theta\n",
    "            \n",
    "        self.nshots = nshots\n",
    "        \n",
    "        y_pred = []\n",
    "        \n",
    "        for omega in X :    \n",
    "            circuit = self.circuit_builder(self.theta, omega)\n",
    "            job_results = self.executeJob(circuit)\n",
    "            y_pred.append(self.argmaxJobResults(job_results))\n",
    "\n",
    "        return y_pred\n",
    "\n",
    "    def compute_accuracy(self, y_pred, y) :\n",
    "        correct = 0\n",
    "\n",
    "        for y_pred_el, y_el in zip(y_pred, y) :\n",
    "            if y_pred_el == y_el :\n",
    "                correct += 1\n",
    "        \n",
    "        return correct / len(y)"
   ]
  },
  {
   "cell_type": "markdown",
   "id": "a1b906b7",
   "metadata": {},
   "source": [
    "# IRIS"
   ]
  },
  {
   "cell_type": "markdown",
   "id": "39ec5b24",
   "metadata": {
    "id": "39ec5b24"
   },
   "source": [
    "## Construct dataset"
   ]
  },
  {
   "cell_type": "markdown",
   "id": "6f8ead7e-1123-4902-98df-6fcb5c2e5559",
   "metadata": {},
   "source": [
    "### Import dataset"
   ]
  },
  {
   "cell_type": "code",
   "execution_count": 232,
   "id": "e7b1fdae-a728-4d14-ae01-b8a6fb56d215",
   "metadata": {},
   "outputs": [
    {
     "data": {
      "text/html": [
       "<div>\n",
       "<style scoped>\n",
       "    .dataframe tbody tr th:only-of-type {\n",
       "        vertical-align: middle;\n",
       "    }\n",
       "\n",
       "    .dataframe tbody tr th {\n",
       "        vertical-align: top;\n",
       "    }\n",
       "\n",
       "    .dataframe thead th {\n",
       "        text-align: right;\n",
       "    }\n",
       "</style>\n",
       "<table border=\"1\" class=\"dataframe\">\n",
       "  <thead>\n",
       "    <tr style=\"text-align: right;\">\n",
       "      <th></th>\n",
       "      <th>sepal-length</th>\n",
       "      <th>sepal-width</th>\n",
       "      <th>petal-length</th>\n",
       "      <th>petal-width</th>\n",
       "      <th>class</th>\n",
       "    </tr>\n",
       "  </thead>\n",
       "  <tbody>\n",
       "    <tr>\n",
       "      <th>0</th>\n",
       "      <td>5.1</td>\n",
       "      <td>3.5</td>\n",
       "      <td>1.4</td>\n",
       "      <td>0.2</td>\n",
       "      <td>Iris-setosa</td>\n",
       "    </tr>\n",
       "    <tr>\n",
       "      <th>1</th>\n",
       "      <td>4.9</td>\n",
       "      <td>3.0</td>\n",
       "      <td>1.4</td>\n",
       "      <td>0.2</td>\n",
       "      <td>Iris-setosa</td>\n",
       "    </tr>\n",
       "    <tr>\n",
       "      <th>2</th>\n",
       "      <td>4.7</td>\n",
       "      <td>3.2</td>\n",
       "      <td>1.3</td>\n",
       "      <td>0.2</td>\n",
       "      <td>Iris-setosa</td>\n",
       "    </tr>\n",
       "    <tr>\n",
       "      <th>3</th>\n",
       "      <td>4.6</td>\n",
       "      <td>3.1</td>\n",
       "      <td>1.5</td>\n",
       "      <td>0.2</td>\n",
       "      <td>Iris-setosa</td>\n",
       "    </tr>\n",
       "    <tr>\n",
       "      <th>4</th>\n",
       "      <td>5.0</td>\n",
       "      <td>3.6</td>\n",
       "      <td>1.4</td>\n",
       "      <td>0.2</td>\n",
       "      <td>Iris-setosa</td>\n",
       "    </tr>\n",
       "    <tr>\n",
       "      <th>...</th>\n",
       "      <td>...</td>\n",
       "      <td>...</td>\n",
       "      <td>...</td>\n",
       "      <td>...</td>\n",
       "      <td>...</td>\n",
       "    </tr>\n",
       "    <tr>\n",
       "      <th>145</th>\n",
       "      <td>6.7</td>\n",
       "      <td>3.0</td>\n",
       "      <td>5.2</td>\n",
       "      <td>2.3</td>\n",
       "      <td>Iris-virginica</td>\n",
       "    </tr>\n",
       "    <tr>\n",
       "      <th>146</th>\n",
       "      <td>6.3</td>\n",
       "      <td>2.5</td>\n",
       "      <td>5.0</td>\n",
       "      <td>1.9</td>\n",
       "      <td>Iris-virginica</td>\n",
       "    </tr>\n",
       "    <tr>\n",
       "      <th>147</th>\n",
       "      <td>6.5</td>\n",
       "      <td>3.0</td>\n",
       "      <td>5.2</td>\n",
       "      <td>2.0</td>\n",
       "      <td>Iris-virginica</td>\n",
       "    </tr>\n",
       "    <tr>\n",
       "      <th>148</th>\n",
       "      <td>6.2</td>\n",
       "      <td>3.4</td>\n",
       "      <td>5.4</td>\n",
       "      <td>2.3</td>\n",
       "      <td>Iris-virginica</td>\n",
       "    </tr>\n",
       "    <tr>\n",
       "      <th>149</th>\n",
       "      <td>5.9</td>\n",
       "      <td>3.0</td>\n",
       "      <td>5.1</td>\n",
       "      <td>1.8</td>\n",
       "      <td>Iris-virginica</td>\n",
       "    </tr>\n",
       "  </tbody>\n",
       "</table>\n",
       "<p>150 rows × 5 columns</p>\n",
       "</div>"
      ],
      "text/plain": [
       "     sepal-length  sepal-width  petal-length  petal-width           class\n",
       "0             5.1          3.5           1.4          0.2     Iris-setosa\n",
       "1             4.9          3.0           1.4          0.2     Iris-setosa\n",
       "2             4.7          3.2           1.3          0.2     Iris-setosa\n",
       "3             4.6          3.1           1.5          0.2     Iris-setosa\n",
       "4             5.0          3.6           1.4          0.2     Iris-setosa\n",
       "..            ...          ...           ...          ...             ...\n",
       "145           6.7          3.0           5.2          2.3  Iris-virginica\n",
       "146           6.3          2.5           5.0          1.9  Iris-virginica\n",
       "147           6.5          3.0           5.2          2.0  Iris-virginica\n",
       "148           6.2          3.4           5.4          2.3  Iris-virginica\n",
       "149           5.9          3.0           5.1          1.8  Iris-virginica\n",
       "\n",
       "[150 rows x 5 columns]"
      ]
     },
     "execution_count": 232,
     "metadata": {},
     "output_type": "execute_result"
    }
   ],
   "source": [
    "df = pd.read_csv(\"iris.data\")\n",
    "df"
   ]
  },
  {
   "cell_type": "markdown",
   "id": "cf73ca45-ee64-48a5-a42e-edfaf8d11946",
   "metadata": {},
   "source": [
    "### Preprocess"
   ]
  },
  {
   "cell_type": "code",
   "execution_count": 233,
   "id": "1401a0fe-cff1-4d5e-85dc-56e9b4b088f5",
   "metadata": {
    "id": "57aae14e"
   },
   "outputs": [
    {
     "data": {
      "text/html": [
       "<div>\n",
       "<style scoped>\n",
       "    .dataframe tbody tr th:only-of-type {\n",
       "        vertical-align: middle;\n",
       "    }\n",
       "\n",
       "    .dataframe tbody tr th {\n",
       "        vertical-align: top;\n",
       "    }\n",
       "\n",
       "    .dataframe thead th {\n",
       "        text-align: right;\n",
       "    }\n",
       "</style>\n",
       "<table border=\"1\" class=\"dataframe\">\n",
       "  <thead>\n",
       "    <tr style=\"text-align: right;\">\n",
       "      <th></th>\n",
       "      <th>sepal-length</th>\n",
       "      <th>sepal-width</th>\n",
       "      <th>petal-length</th>\n",
       "      <th>petal-width</th>\n",
       "      <th>class</th>\n",
       "    </tr>\n",
       "  </thead>\n",
       "  <tbody>\n",
       "    <tr>\n",
       "      <th>0</th>\n",
       "      <td>-0.896032</td>\n",
       "      <td>1.026729</td>\n",
       "      <td>-1.334348</td>\n",
       "      <td>-1.306199</td>\n",
       "      <td>Iris-setosa</td>\n",
       "    </tr>\n",
       "    <tr>\n",
       "      <th>1</th>\n",
       "      <td>-1.137116</td>\n",
       "      <td>-0.124313</td>\n",
       "      <td>-1.334348</td>\n",
       "      <td>-1.306199</td>\n",
       "      <td>Iris-setosa</td>\n",
       "    </tr>\n",
       "    <tr>\n",
       "      <th>2</th>\n",
       "      <td>-1.378201</td>\n",
       "      <td>0.336104</td>\n",
       "      <td>-1.390920</td>\n",
       "      <td>-1.306199</td>\n",
       "      <td>Iris-setosa</td>\n",
       "    </tr>\n",
       "    <tr>\n",
       "      <th>3</th>\n",
       "      <td>-1.498743</td>\n",
       "      <td>0.105896</td>\n",
       "      <td>-1.277776</td>\n",
       "      <td>-1.306199</td>\n",
       "      <td>Iris-setosa</td>\n",
       "    </tr>\n",
       "    <tr>\n",
       "      <th>4</th>\n",
       "      <td>-1.016574</td>\n",
       "      <td>1.256938</td>\n",
       "      <td>-1.334348</td>\n",
       "      <td>-1.306199</td>\n",
       "      <td>Iris-setosa</td>\n",
       "    </tr>\n",
       "    <tr>\n",
       "      <th>...</th>\n",
       "      <td>...</td>\n",
       "      <td>...</td>\n",
       "      <td>...</td>\n",
       "      <td>...</td>\n",
       "      <td>...</td>\n",
       "    </tr>\n",
       "    <tr>\n",
       "      <th>145</th>\n",
       "      <td>1.032646</td>\n",
       "      <td>-0.124313</td>\n",
       "      <td>0.815393</td>\n",
       "      <td>1.440481</td>\n",
       "      <td>Iris-virginica</td>\n",
       "    </tr>\n",
       "    <tr>\n",
       "      <th>146</th>\n",
       "      <td>0.550477</td>\n",
       "      <td>-1.275354</td>\n",
       "      <td>0.702249</td>\n",
       "      <td>0.917304</td>\n",
       "      <td>Iris-virginica</td>\n",
       "    </tr>\n",
       "    <tr>\n",
       "      <th>147</th>\n",
       "      <td>0.791562</td>\n",
       "      <td>-0.124313</td>\n",
       "      <td>0.815393</td>\n",
       "      <td>1.048098</td>\n",
       "      <td>Iris-virginica</td>\n",
       "    </tr>\n",
       "    <tr>\n",
       "      <th>148</th>\n",
       "      <td>0.429934</td>\n",
       "      <td>0.796521</td>\n",
       "      <td>0.928537</td>\n",
       "      <td>1.440481</td>\n",
       "      <td>Iris-virginica</td>\n",
       "    </tr>\n",
       "    <tr>\n",
       "      <th>149</th>\n",
       "      <td>0.068307</td>\n",
       "      <td>-0.124313</td>\n",
       "      <td>0.758821</td>\n",
       "      <td>0.786510</td>\n",
       "      <td>Iris-virginica</td>\n",
       "    </tr>\n",
       "  </tbody>\n",
       "</table>\n",
       "<p>150 rows × 5 columns</p>\n",
       "</div>"
      ],
      "text/plain": [
       "     sepal-length  sepal-width  petal-length  petal-width           class\n",
       "0       -0.896032     1.026729     -1.334348    -1.306199     Iris-setosa\n",
       "1       -1.137116    -0.124313     -1.334348    -1.306199     Iris-setosa\n",
       "2       -1.378201     0.336104     -1.390920    -1.306199     Iris-setosa\n",
       "3       -1.498743     0.105896     -1.277776    -1.306199     Iris-setosa\n",
       "4       -1.016574     1.256938     -1.334348    -1.306199     Iris-setosa\n",
       "..            ...          ...           ...          ...             ...\n",
       "145      1.032646    -0.124313      0.815393     1.440481  Iris-virginica\n",
       "146      0.550477    -1.275354      0.702249     0.917304  Iris-virginica\n",
       "147      0.791562    -0.124313      0.815393     1.048098  Iris-virginica\n",
       "148      0.429934     0.796521      0.928537     1.440481  Iris-virginica\n",
       "149      0.068307    -0.124313      0.758821     0.786510  Iris-virginica\n",
       "\n",
       "[150 rows x 5 columns]"
      ]
     },
     "execution_count": 233,
     "metadata": {},
     "output_type": "execute_result"
    }
   ],
   "source": [
    "alpha = 0.1\n",
    "q = 3\n",
    "\n",
    "#q = 3 fixé dans le papier\n",
    "\n",
    "attributes = df.columns[:-1]\n",
    "\n",
    "for x in attributes:\n",
    "    df[x] = rescaleFeature(df[x], alpha, q)\n",
    "\n",
    "df"
   ]
  },
  {
   "cell_type": "code",
   "execution_count": 234,
   "id": "2212a6e4-ba2c-4c7e-907b-5ed60bea3b53",
   "metadata": {
    "id": "57aae14e"
   },
   "outputs": [
    {
     "data": {
      "text/html": [
       "<div>\n",
       "<style scoped>\n",
       "    .dataframe tbody tr th:only-of-type {\n",
       "        vertical-align: middle;\n",
       "    }\n",
       "\n",
       "    .dataframe tbody tr th {\n",
       "        vertical-align: top;\n",
       "    }\n",
       "\n",
       "    .dataframe thead th {\n",
       "        text-align: right;\n",
       "    }\n",
       "</style>\n",
       "<table border=\"1\" class=\"dataframe\">\n",
       "  <thead>\n",
       "    <tr style=\"text-align: right;\">\n",
       "      <th></th>\n",
       "      <th>sepal-length</th>\n",
       "      <th>sepal-width</th>\n",
       "      <th>petal-length</th>\n",
       "      <th>petal-width</th>\n",
       "      <th>class</th>\n",
       "    </tr>\n",
       "  </thead>\n",
       "  <tbody>\n",
       "    <tr>\n",
       "      <th>0</th>\n",
       "      <td>-0.896032</td>\n",
       "      <td>1.026729</td>\n",
       "      <td>-1.334348</td>\n",
       "      <td>-1.306199</td>\n",
       "      <td>00</td>\n",
       "    </tr>\n",
       "    <tr>\n",
       "      <th>1</th>\n",
       "      <td>-1.137116</td>\n",
       "      <td>-0.124313</td>\n",
       "      <td>-1.334348</td>\n",
       "      <td>-1.306199</td>\n",
       "      <td>00</td>\n",
       "    </tr>\n",
       "    <tr>\n",
       "      <th>2</th>\n",
       "      <td>-1.378201</td>\n",
       "      <td>0.336104</td>\n",
       "      <td>-1.390920</td>\n",
       "      <td>-1.306199</td>\n",
       "      <td>00</td>\n",
       "    </tr>\n",
       "    <tr>\n",
       "      <th>3</th>\n",
       "      <td>-1.498743</td>\n",
       "      <td>0.105896</td>\n",
       "      <td>-1.277776</td>\n",
       "      <td>-1.306199</td>\n",
       "      <td>00</td>\n",
       "    </tr>\n",
       "    <tr>\n",
       "      <th>4</th>\n",
       "      <td>-1.016574</td>\n",
       "      <td>1.256938</td>\n",
       "      <td>-1.334348</td>\n",
       "      <td>-1.306199</td>\n",
       "      <td>00</td>\n",
       "    </tr>\n",
       "    <tr>\n",
       "      <th>...</th>\n",
       "      <td>...</td>\n",
       "      <td>...</td>\n",
       "      <td>...</td>\n",
       "      <td>...</td>\n",
       "      <td>...</td>\n",
       "    </tr>\n",
       "    <tr>\n",
       "      <th>145</th>\n",
       "      <td>1.032646</td>\n",
       "      <td>-0.124313</td>\n",
       "      <td>0.815393</td>\n",
       "      <td>1.440481</td>\n",
       "      <td>10</td>\n",
       "    </tr>\n",
       "    <tr>\n",
       "      <th>146</th>\n",
       "      <td>0.550477</td>\n",
       "      <td>-1.275354</td>\n",
       "      <td>0.702249</td>\n",
       "      <td>0.917304</td>\n",
       "      <td>10</td>\n",
       "    </tr>\n",
       "    <tr>\n",
       "      <th>147</th>\n",
       "      <td>0.791562</td>\n",
       "      <td>-0.124313</td>\n",
       "      <td>0.815393</td>\n",
       "      <td>1.048098</td>\n",
       "      <td>10</td>\n",
       "    </tr>\n",
       "    <tr>\n",
       "      <th>148</th>\n",
       "      <td>0.429934</td>\n",
       "      <td>0.796521</td>\n",
       "      <td>0.928537</td>\n",
       "      <td>1.440481</td>\n",
       "      <td>10</td>\n",
       "    </tr>\n",
       "    <tr>\n",
       "      <th>149</th>\n",
       "      <td>0.068307</td>\n",
       "      <td>-0.124313</td>\n",
       "      <td>0.758821</td>\n",
       "      <td>0.786510</td>\n",
       "      <td>10</td>\n",
       "    </tr>\n",
       "  </tbody>\n",
       "</table>\n",
       "<p>150 rows × 5 columns</p>\n",
       "</div>"
      ],
      "text/plain": [
       "     sepal-length  sepal-width  petal-length  petal-width class\n",
       "0       -0.896032     1.026729     -1.334348    -1.306199    00\n",
       "1       -1.137116    -0.124313     -1.334348    -1.306199    00\n",
       "2       -1.378201     0.336104     -1.390920    -1.306199    00\n",
       "3       -1.498743     0.105896     -1.277776    -1.306199    00\n",
       "4       -1.016574     1.256938     -1.334348    -1.306199    00\n",
       "..            ...          ...           ...          ...   ...\n",
       "145      1.032646    -0.124313      0.815393     1.440481    10\n",
       "146      0.550477    -1.275354      0.702249     0.917304    10\n",
       "147      0.791562    -0.124313      0.815393     1.048098    10\n",
       "148      0.429934     0.796521      0.928537     1.440481    10\n",
       "149      0.068307    -0.124313      0.758821     0.786510    10\n",
       "\n",
       "[150 rows x 5 columns]"
      ]
     },
     "execution_count": 234,
     "metadata": {},
     "output_type": "execute_result"
    }
   ],
   "source": [
    "diconvert = {\n",
    "    \"Iris-setosa\" : \"00\",\n",
    "    \"Iris-versicolor\" : \"01\",\n",
    "    \"Iris-virginica\" : \"10\"\n",
    "}\n",
    "\n",
    "df = df.replace({\"class\": diconvert})\n",
    "df"
   ]
  },
  {
   "cell_type": "code",
   "execution_count": 235,
   "id": "af4fb61b-167e-4aa4-a590-86f2a51ee501",
   "metadata": {
    "id": "57aae14e"
   },
   "outputs": [],
   "source": [
    "X = df[attributes].values\n",
    "y = df[\"class\"].values"
   ]
  },
  {
   "cell_type": "markdown",
   "id": "31fe2a8a-b57b-42f3-8e5c-842df05a0081",
   "metadata": {},
   "source": [
    "### Split"
   ]
  },
  {
   "cell_type": "code",
   "execution_count": 236,
   "id": "a6781711-4d52-43a8-8b21-7cb0f6ab419a",
   "metadata": {
    "id": "57aae14e"
   },
   "outputs": [],
   "source": [
    "train_size = 90\n",
    "test_size = 60\n",
    "\n",
    "X_train, X_test, y_train, y_test = train_test_split(X, y, test_size=test_size, train_size=train_size, stratify=y)"
   ]
  },
  {
   "cell_type": "markdown",
   "id": "954e97a9-b134-4246-91e3-357e7699d789",
   "metadata": {},
   "source": [
    "## Circuit"
   ]
  },
  {
   "cell_type": "code",
   "execution_count": 237,
   "id": "eb6b2bdd",
   "metadata": {
    "id": "eb6b2bdd"
   },
   "outputs": [],
   "source": [
    "def irisCircuit(theta, omega):\n",
    "    qc = qiskit.QuantumCircuit(2, 2)\n",
    "    \n",
    "    iris_circuit = qiskit.QuantumCircuit(2)\n",
    "    for i in range(4):\n",
    "        if i : iris_circuit.cz(0, 1)\n",
    "        psiGate(iris_circuit, omega[(2*i) % 4], 0)\n",
    "        psiGate(iris_circuit, omega[(2*i+1) % 4], 1)\n",
    "        \n",
    "        iris_circuit.cz(0, 1)\n",
    "        \n",
    "        psiGate(iris_circuit, theta[(2*i)], 0)\n",
    "        psiGate(iris_circuit, theta[(2*i+1)], 1)\n",
    "        \n",
    "    qc.append(iris_circuit, range(2))\n",
    "    qc.measure(range(2), range(2))\n",
    "    \n",
    "    return qc"
   ]
  },
  {
   "cell_type": "code",
   "execution_count": 238,
   "id": "d7d5ccff-01e0-4456-9768-9f4723c1bdf1",
   "metadata": {},
   "outputs": [
    {
     "data": {
      "image/png": "[encoded data removed]",
      "text/plain": [
       "<Figure size 2879.24x284.278 with 1 Axes>"
      ]
     },
     "execution_count": 238,
     "metadata": {},
     "output_type": "execute_result"
    }
   ],
   "source": [
    "irisCircuit(np.zeros(8), np.zeros(4)).decompose().draw(\"mpl\", fold=40)"
   ]
  },
  {
   "cell_type": "markdown",
   "id": "c5a49de3-7c4b-4a76-bcaf-ee3f42dd03ad",
   "metadata": {},
   "source": [
    "## Train"
   ]
  },
  {
   "cell_type": "code",
   "execution_count": 239,
   "id": "8db45951-258f-4e0e-84fb-1535e4153541",
   "metadata": {},
   "outputs": [],
   "source": [
    "iris_classifier = QuantumClassifier(irisCircuit, ['00', '01', '10'], 8)"
   ]
  },
  {
   "cell_type": "code",
   "execution_count": 240,
   "id": "18debf5b",
   "metadata": {},
   "outputs": [
    {
     "name": "stdout",
     "output_type": "stream",
     "text": [
      "loss: 1.1669126656913802\n",
      "loss: 1.1133952808337106\n",
      "loss: 1.1361752829848457\n",
      "loss: 1.0964493331396872\n",
      "loss: 1.0846504555637404\n",
      "loss: 1.069530850147901\n",
      "loss: 1.1114340540965268\n",
      "loss: 1.0997272056517944\n",
      "loss: 1.112152709075683\n",
      "loss: 1.0992870402961246\n",
      "loss: 1.0648450215950191\n",
      "loss: 1.0808955605486499\n",
      "loss: 1.0746095507109872\n",
      "loss: 1.0858447831534064\n",
      "loss: 1.0526437980974217\n",
      "loss: 1.0331980077890337\n",
      "loss: 1.0267183325637796\n",
      "loss: 1.0230148139130872\n",
      "loss: 1.0360104503754601\n",
      "loss: 1.0247290929322912\n"
     ]
    }
   ],
   "source": [
    "opt = iris_classifier.fit(X_train, y_train, nshots=250, maxiter=20)"
   ]
  },
  {
   "cell_type": "code",
   "execution_count": 241,
   "id": "f8f6895d",
   "metadata": {},
   "outputs": [
    {
     "name": "stdout",
     "output_type": "stream",
     "text": [
      "loss: 1.0247125227003666\n",
      "loss: 1.0811536520191696\n",
      "loss: 1.046395804776049\n",
      "loss: 1.003841793406955\n",
      "loss: 1.029779913977585\n",
      "loss: 0.981762467977035\n",
      "loss: 1.0368702732214352\n",
      "loss: 1.084623489387093\n",
      "loss: 1.1109391619596714\n",
      "loss: 0.9528650382993441\n",
      "loss: 1.054157800035725\n",
      "loss: 0.9766988880536243\n",
      "loss: 0.9963300933116126\n",
      "loss: 0.9744644266458065\n",
      "loss: 0.9405918452382166\n",
      "loss: 0.951019738508142\n",
      "loss: 0.9267559979892538\n",
      "loss: 0.9320414427436049\n",
      "loss: 0.923669869268968\n",
      "loss: 0.9166716453119791\n",
      "loss: 0.9580231870627677\n",
      "loss: 0.9157531307435529\n",
      "loss: 0.9138312480478212\n",
      "loss: 0.9153877757098723\n",
      "loss: 0.9128143074279764\n",
      "loss: 0.9117130847942609\n",
      "loss: 0.917299830393142\n",
      "loss: 0.9116220145263646\n",
      "loss: 0.9255481739226167\n",
      "loss: 0.9080069838467989\n"
     ]
    }
   ],
   "source": [
    "opt = iris_classifier.fit(X_train, y_train, nshots=500, maxiter=30)"
   ]
  },
  {
   "cell_type": "code",
   "execution_count": 242,
   "id": "3bd95424",
   "metadata": {},
   "outputs": [
    {
     "name": "stdout",
     "output_type": "stream",
     "text": [
      "loss: 0.9040921310557912\n",
      "loss: 1.0124784579609238\n",
      "loss: 0.996077342645491\n",
      "loss: 0.9846354156818906\n",
      "loss: 0.975979554937655\n",
      "loss: 0.9603329115094449\n",
      "loss: 0.9823173230286718\n",
      "loss: 1.011297831075856\n",
      "loss: 0.9798898165682947\n",
      "loss: 0.8716378696631145\n",
      "loss: 0.9758920264725268\n",
      "loss: 0.900390509505879\n",
      "loss: 0.9323859245163558\n",
      "loss: 0.8862894598432907\n",
      "loss: 0.8739964110529976\n",
      "loss: 0.9066305760975584\n",
      "loss: 0.9012264674379755\n",
      "loss: 0.8550140918160821\n",
      "loss: 0.8848020335314533\n",
      "loss: 0.8788322249988124\n",
      "loss: 0.8464289176594701\n",
      "loss: 0.844855840320046\n",
      "loss: 0.8659275332024808\n",
      "loss: 0.8389610714655463\n",
      "loss: 0.7940879067877246\n",
      "loss: 0.8140074989366402\n",
      "loss: 0.8130777979945658\n",
      "loss: 0.8127168797998986\n",
      "loss: 0.7894084847200185\n",
      "loss: 0.791743395861162\n",
      "loss: 0.7883371250419068\n",
      "loss: 0.7833984511702\n",
      "loss: 0.7938362204448192\n",
      "loss: 0.7933406421390438\n",
      "loss: 0.7724668985249533\n",
      "loss: 0.7636355232036517\n",
      "loss: 0.7651298211944907\n",
      "loss: 0.7688906298890534\n",
      "loss: 0.7781882618774846\n",
      "loss: 0.7610888484085356\n",
      "loss: 0.7509015033464824\n",
      "loss: 0.7624656353356872\n",
      "loss: 0.7516669260336298\n",
      "loss: 0.7543850202282694\n",
      "loss: 0.7419606392944701\n",
      "loss: 0.758708917448905\n",
      "loss: 0.7426040499579939\n",
      "loss: 0.7441181202536252\n",
      "loss: 0.7453431113882143\n",
      "loss: 0.7450089756542482\n",
      "loss: 0.7414481754450013\n",
      "loss: 0.744835617356704\n",
      "loss: 0.743087258981782\n",
      "loss: 0.7412200445962828\n",
      "loss: 0.7410332485842905\n",
      "loss: 0.7444528462360229\n",
      "loss: 0.7379174817970546\n",
      "loss: 0.7428536139447524\n",
      "loss: 0.7395944499429494\n",
      "loss: 0.7328275267914732\n",
      "loss: 0.7331494276934171\n",
      "loss: 0.735810588086987\n",
      "loss: 0.7357230997182505\n",
      "loss: 0.7361339926978299\n",
      "loss: 0.7378296325259841\n",
      "loss: 0.7336373981302472\n",
      "loss: 0.7359940312357353\n",
      "loss: 0.7348842160351955\n",
      "loss: 0.7340188471256045\n",
      "loss: 0.7333301430982849\n"
     ]
    }
   ],
   "source": [
    "opt = iris_classifier.fit(X_train, y_train, nshots=750, maxiter=70)"
   ]
  },
  {
   "cell_type": "markdown",
   "id": "b518ffea-ca72-4822-ba89-b94ca822a88b",
   "metadata": {},
   "source": [
    "## Compute results"
   ]
  },
  {
   "cell_type": "code",
   "execution_count": 243,
   "id": "c9ee17ee-6ab8-46fc-b332-adc2bf602ffa",
   "metadata": {},
   "outputs": [
    {
     "data": {
      "text/plain": [
       "0.9111111111111111"
      ]
     },
     "execution_count": 243,
     "metadata": {},
     "output_type": "execute_result"
    }
   ],
   "source": [
    "y_pred = iris_classifier.predict(X_train)\n",
    "iris_classifier.compute_accuracy(y_pred, y_train)"
   ]
  },
  {
   "cell_type": "code",
   "execution_count": 244,
   "id": "63ce36fe",
   "metadata": {
    "id": "63ce36fe"
   },
   "outputs": [
    {
     "data": {
      "text/plain": [
       "0.8666666666666667"
      ]
     },
     "execution_count": 244,
     "metadata": {},
     "output_type": "execute_result"
    }
   ],
   "source": [
    "y_pred = iris_classifier.predict(X_test)\n",
    "iris_classifier.compute_accuracy(y_pred, y_test)"
   ]
  },
  {
   "cell_type": "markdown",
   "id": "594a00a8",
   "metadata": {},
   "source": [
    "# Gaussian XOR"
   ]
  },
  {
   "cell_type": "markdown",
   "id": "a29b036d-f86c-4858-95ba-1919b481bde2",
   "metadata": {},
   "source": [
    "## Construct dataset"
   ]
  },
  {
   "cell_type": "markdown",
   "id": "f4880313-5115-43e7-a127-1f03bd9932ed",
   "metadata": {},
   "source": [
    "### Generate dataset"
   ]
  },
  {
   "cell_type": "code",
   "execution_count": 299,
   "id": "1b4a5dfd-756d-472c-8c76-67ad03f51b29",
   "metadata": {},
   "outputs": [],
   "source": [
    "import numpy as np\n",
    "import math"
   ]
  },
  {
   "cell_type": "code",
   "execution_count": 300,
   "id": "ed504155-5c7b-4a49-82f9-36230dc58e91",
   "metadata": {},
   "outputs": [],
   "source": [
    "def generate_gaussian_point(x, y) :\n",
    "    pick_x = np.random.normal(loc=x, scale = 0.5)\n",
    "    pick_y = np.random.normal(loc=y, scale = 0.5)\n",
    "    return [pick_x, pick_y]"
   ]
  },
  {
   "cell_type": "code",
   "execution_count": 301,
   "id": "3557a9fa-08ee-427d-ad1d-3e4d95ec704a",
   "metadata": {},
   "outputs": [],
   "source": [
    "#dans le papier ils utilisent 1.5 et non pi / 2, a tester...\n",
    "\n",
    "center1 = (-np.pi / 2, 0)\n",
    "center2 = (np.pi / 2, 0)\n",
    "center3 = (0, -np.pi / 2)\n",
    "center4 = (0, np.pi / 2)\n",
    "\n",
    "centers = [center1, center2, center3, center4]\n"
   ]
  },
  {
   "cell_type": "code",
   "execution_count": 302,
   "id": "cd7cd6a7-ee55-479f-953c-ca177528195a",
   "metadata": {},
   "outputs": [],
   "source": [
    "X_train = []\n",
    "y_train = []\n",
    "\n",
    "for i in range(20) :\n",
    "    X_train.append(generate_gaussian_point(*center1))\n",
    "    y_train.append(0)\n",
    "    \n",
    "    X_train.append(generate_gaussian_point(*center2))\n",
    "    y_train.append(0)\n",
    "    \n",
    "    X_train.append(generate_gaussian_point(*center3))\n",
    "    y_train.append(1)\n",
    "    \n",
    "    X_train.append(generate_gaussian_point(*center4))\n",
    "    y_train.append(1)\n",
    "    \n",
    "X_train = np.array(X_train)\n",
    "y_train = np.array(y_train)"
   ]
  },
  {
   "cell_type": "code",
   "execution_count": 303,
   "id": "7e20849e-fa00-4529-bcd8-98b82b6c5c91",
   "metadata": {},
   "outputs": [],
   "source": [
    "lin = np.linspace(-np.pi, np.pi, num = 50)\n",
    "X_test = np.array([[x, y] for x in lin for y in lin])\n",
    "\n",
    "y_test = [1 if abs(el[0]) < abs(el[1]) else 0 for el in X_test]"
   ]
  },
  {
   "cell_type": "code",
   "execution_count": 304,
   "id": "da085843-21ee-4f8d-9659-a35efa02eeea",
   "metadata": {},
   "outputs": [
    {
     "data": {
      "text/plain": [
       "(-3.141592653589793, 3.141592653589793)"
      ]
     },
     "execution_count": 304,
     "metadata": {},
     "output_type": "execute_result"
    },
    {
     "data": {
      "image/png": "[encoded data removed]",
      "text/plain": [
       "<Figure size 500x500 with 1 Axes>"
      ]
     },
     "metadata": {},
     "output_type": "display_data"
    }
   ],
   "source": [
    "import matplotlib.pyplot as plt\n",
    "\n",
    "plt.rcParams['figure.figsize'] = [5,5]\n",
    "\n",
    "c = [\"blue\" if el==0 else \"red\" for el in y_train]\n",
    "\n",
    "plt.scatter(X_train[:, 0], X_train[:, 1], color=c)\n",
    "\n",
    "x,y = zip(*centers)\n",
    "plt.scatter(x, y, color='green')\n",
    "\n",
    "\n",
    "\n",
    "x = np.linspace(-np.pi, np.pi, 100)\n",
    "y = x\n",
    "y2 = - x\n",
    "\n",
    "plt.plot(x,y)\n",
    "plt.plot(x,y2)\n",
    "\n",
    "plt.xlim([-np.pi, np.pi])\n",
    "plt.ylim([-np.pi, np.pi])"
   ]
  },
  {
   "cell_type": "markdown",
   "id": "be653f45-5374-416f-8523-23d20d13e76e",
   "metadata": {},
   "source": [
    "### Preprocess"
   ]
  },
  {
   "cell_type": "code",
   "execution_count": 305,
   "id": "4b899521-2e4f-4506-ac17-7d91799d1a4e",
   "metadata": {},
   "outputs": [
    {
     "data": {
      "text/plain": [
       "['00', '00', '10', '10', '00', '00', '10', '10', '00', '00']"
      ]
     },
     "execution_count": 305,
     "metadata": {},
     "output_type": "execute_result"
    }
   ],
   "source": [
    "diconvert = {\n",
    "    0 : \"00\",\n",
    "    1 : \"10\",\n",
    "}\n",
    "\n",
    "new_y_train = [diconvert[x] for x in y_train]\n",
    "new_y_test = [diconvert[x] for x in y_test]\n",
    "\n",
    "y_train = new_y_train\n",
    "y_test = new_y_test\n",
    "\n",
    "y_train[:10]"
   ]
  },
  {
   "cell_type": "markdown",
   "id": "12164653-08fd-4ac3-9127-86598882d3ec",
   "metadata": {},
   "source": [
    "## Circuit"
   ]
  },
  {
   "cell_type": "code",
   "execution_count": 306,
   "id": "1210de68-21a9-4e47-b9b3-c74e3f636826",
   "metadata": {},
   "outputs": [],
   "source": [
    "def xorCircuit(theta, omega):\n",
    "    qc = qiskit.QuantumCircuit(2, 2)\n",
    "    \n",
    "    xor_circuit = qiskit.QuantumCircuit(2)\n",
    "    \n",
    "    psiGate(xor_circuit, omega[0], 0)\n",
    "    psiGate(xor_circuit, omega[1], 1)\n",
    "    \n",
    "    for i in range(2):\n",
    "        xor_circuit.cz(0, 1)\n",
    "        psiGate(xor_circuit, theta[2*i], 0)\n",
    "        psiGate(xor_circuit, theta[2*i+1], 1)\n",
    "        \n",
    "    \n",
    "    qc.append(xor_circuit, range(2))\n",
    "    qc.measure(range(2), range(2))\n",
    "    return qc"
   ]
  },
  {
   "cell_type": "code",
   "execution_count": 307,
   "id": "6463dcfa-ea6d-41ec-9270-80b725cae6c5",
   "metadata": {},
   "outputs": [
    {
     "data": {
      "image/png": "[encoded data removed]",
      "text/plain": [
       "<Figure size 1207.02x284.278 with 1 Axes>"
      ]
     },
     "execution_count": 307,
     "metadata": {},
     "output_type": "execute_result"
    }
   ],
   "source": [
    "xorCircuit(np.zeros(8), np.zeros(4)).decompose().draw(\"mpl\", fold=40)"
   ]
  },
  {
   "cell_type": "markdown",
   "id": "f3f4ba1d-0841-454a-995c-9c0b6c7d84ab",
   "metadata": {},
   "source": [
    "## Train"
   ]
  },
  {
   "cell_type": "code",
   "execution_count": 308,
   "id": "06b82f55-5806-45d4-aa7b-839cc99bf82e",
   "metadata": {},
   "outputs": [],
   "source": [
    "xor_classifier = QuantumClassifier(xorCircuit, ['00', '10'], 4)"
   ]
  },
  {
   "cell_type": "code",
   "execution_count": 309,
   "id": "83080e8f",
   "metadata": {},
   "outputs": [
    {
     "name": "stdout",
     "output_type": "stream",
     "text": [
      "loss: 0.8131509379496025\n",
      "loss: 0.8892204966882591\n",
      "loss: 0.7097682462678473\n",
      "loss: 0.6537833862085284\n",
      "loss: 0.7402802448859329\n",
      "loss: 0.5937778415021291\n",
      "loss: 0.648290562970335\n",
      "loss: 0.6046673410423591\n",
      "loss: 0.5943283603438072\n",
      "loss: 0.599124170226472\n",
      "loss: 0.5925126511016047\n",
      "loss: 0.5925209570159826\n",
      "loss: 0.5978874805605312\n",
      "loss: 0.5935529748295348\n",
      "loss: 0.5861475495809898\n",
      "loss: 0.5748318505583325\n",
      "loss: 0.5772844617820188\n",
      "loss: 0.5767230240103806\n",
      "loss: 0.5696447765473365\n",
      "loss: 0.5563051707440391\n",
      "loss: 0.5518937568219829\n",
      "loss: 0.5493575761147221\n",
      "loss: 0.5475149751021638\n",
      "loss: 0.5578037715611063\n",
      "loss: 0.558237136914294\n",
      "loss: 0.5326676043368723\n",
      "loss: 0.5190138709056981\n",
      "loss: 0.5095987989614359\n",
      "loss: 0.5018612543675485\n",
      "loss: 0.509904374880509\n",
      "loss: 0.5084761704174522\n",
      "loss: 0.49347659199046595\n",
      "loss: 0.49500676322281106\n",
      "loss: 0.49428731170193546\n",
      "loss: 0.4938560345195199\n",
      "loss: 0.48954997199556816\n",
      "loss: 0.49621083941132993\n",
      "loss: 0.49295901837478306\n",
      "loss: 0.4934084205230563\n",
      "loss: 0.4937218425820114\n",
      "loss: 0.4924777004065043\n",
      "loss: 0.49275345542521454\n",
      "loss: 0.49118590161363657\n",
      "loss: 0.49143885697374745\n",
      "loss: 0.49317858635732337\n",
      "loss: 0.49293336724373926\n",
      "loss: 0.4931710989259515\n",
      "loss: 0.4927025441468852\n",
      "loss: 0.49437161181957984\n",
      "loss: 0.4914404063470946\n",
      "loss: 0.4925116045939502\n",
      "loss: 0.4916628101231305\n",
      "loss: 0.49374272077553594\n",
      "loss: 0.4917866928978272\n",
      "loss: 0.492588818366841\n",
      "loss: 0.49435847581247155\n",
      "loss: 0.4939719149419643\n",
      "loss: 0.49079004542413196\n",
      "loss: 0.4922614025662953\n",
      "loss: 0.49323814586707454\n",
      "loss: 0.4937346470448635\n",
      "loss: 0.49647477439428006\n",
      "loss: 0.4903916189932522\n",
      "loss: 0.4936903554607538\n",
      "loss: 0.4922447397584012\n",
      "loss: 0.4940572179926117\n",
      "loss: 0.49246152871665033\n"
     ]
    },
    {
     "data": {
      "text/plain": [
       "     fun: 0.49246152871665033\n",
       "   maxcv: 0.0\n",
       " message: 'Optimization terminated successfully.'\n",
       "    nfev: 67\n",
       "  status: 1\n",
       " success: True\n",
       "       x: array([1.63645721, 6.28125485, 1.62789707, 3.06187493])"
      ]
     },
     "execution_count": 309,
     "metadata": {},
     "output_type": "execute_result"
    }
   ],
   "source": [
    "xor_opt = xor_classifier.fit(X_train, y_train, nshots=250, maxiter=80)\n",
    "xor_opt"
   ]
  },
  {
   "cell_type": "markdown",
   "id": "d96cafbc-bd77-429a-b5df-736332b0ee93",
   "metadata": {},
   "source": [
    "## Compute results"
   ]
  },
  {
   "cell_type": "code",
   "execution_count": 310,
   "id": "8c527cb7-3e5e-4e23-b26f-0f5a3a49f593",
   "metadata": {},
   "outputs": [
    {
     "data": {
      "text/plain": [
       "1.0"
      ]
     },
     "execution_count": 310,
     "metadata": {},
     "output_type": "execute_result"
    }
   ],
   "source": [
    "y_pred = xor_classifier.predict(X_train)\n",
    "xor_classifier.compute_accuracy(y_pred, y_train)"
   ]
  },
  {
   "cell_type": "code",
   "execution_count": 311,
   "id": "6cd3cff5-963d-4cb8-89a8-c37e7301ee4c",
   "metadata": {},
   "outputs": [],
   "source": [
    "y_pred = xor_classifier.predict(X_test)"
   ]
  },
  {
   "cell_type": "code",
   "execution_count": 312,
   "id": "e9172fc7-455c-4e77-ac7c-0a33e129fdd7",
   "metadata": {},
   "outputs": [
    {
     "data": {
      "text/plain": [
       "(-3.141592653589793, 3.141592653589793)"
      ]
     },
     "execution_count": 312,
     "metadata": {},
     "output_type": "execute_result"
    },
    {
     "data": {
      "image/png": "[encoded data removed]",
      "text/plain": [
       "<Figure size 500x500 with 1 Axes>"
      ]
     },
     "metadata": {},
     "output_type": "display_data"
    }
   ],
   "source": [
    "plt.rcParams['figure.figsize'] = [5,5]\n",
    "\n",
    "\n",
    "c = [\"blue\" if el==\"00\" else \"red\" for el in y_pred]\n",
    "plt.scatter(X_test[:, 0], X_test[:, 1], color=c)\n",
    "\n",
    "x = np.linspace(-np.pi, np.pi, 100)\n",
    "y = x\n",
    "y2 = - x\n",
    "\n",
    "plt.plot(x,y)\n",
    "plt.plot(x,y2)\n",
    "\n",
    "plt.xlim([-np.pi, np.pi])\n",
    "plt.ylim([-np.pi, np.pi])"
   ]
  },
  {
   "cell_type": "code",
   "execution_count": 313,
   "id": "93652479-2d63-434b-b98f-4981d9f4f4e5",
   "metadata": {},
   "outputs": [
    {
     "data": {
      "text/plain": [
       "0.9512"
      ]
     },
     "execution_count": 313,
     "metadata": {},
     "output_type": "execute_result"
    }
   ],
   "source": [
    "xor_classifier.compute_accuracy(y_pred, y_test)"
   ]
  },
  {
   "cell_type": "markdown",
   "id": "0893ebed-4f33-4034-946a-ab189a739a16",
   "metadata": {
    "tags": []
   },
   "source": [
    "## Compare with GaussianNB"
   ]
  },
  {
   "cell_type": "code",
   "execution_count": 753,
   "id": "17d19981",
   "metadata": {},
   "outputs": [],
   "source": [
    "from sklearn.naive_bayes import GaussianNB"
   ]
  },
  {
   "cell_type": "code",
   "execution_count": 754,
   "id": "3b5eaa7f",
   "metadata": {},
   "outputs": [],
   "source": [
    "gaussianNb = GaussianNB()\n",
    "\n",
    "X_train = dataset[:, :2]\n",
    "y_train = dataset[:,2]\n",
    "\n",
    "gaussianNb.fit(X_train, y_train)\n",
    "\n",
    "y_test = [1 if abs(el[0]) < abs(el[1]) else 0 for el in X_test]\n",
    "\n",
    "score = gaussianNb.score(X_test, y_test)"
   ]
  },
  {
   "cell_type": "code",
   "execution_count": 755,
   "id": "af20f30d",
   "metadata": {},
   "outputs": [
    {
     "data": {
      "text/plain": [
       "0.916"
      ]
     },
     "execution_count": 755,
     "metadata": {},
     "output_type": "execute_result"
    }
   ],
   "source": [
    "score"
   ]
  },
  {
   "cell_type": "markdown",
   "id": "ce1db633",
   "metadata": {},
   "source": [
    "# Skin segmentation"
   ]
  },
  {
   "cell_type": "markdown",
   "id": "a62411e2-5434-4ab1-bcf6-b2ab7c3aa87c",
   "metadata": {},
   "source": [
    "## Construct dataset"
   ]
  },
  {
   "cell_type": "markdown",
   "id": "a806873e-a831-43a6-97e2-5e13b643f7e1",
   "metadata": {},
   "source": [
    "### Import dataset"
   ]
  },
  {
   "cell_type": "code",
   "execution_count": 315,
   "id": "b746d70f-04bc-40a8-91b2-0afd872eaf39",
   "metadata": {},
   "outputs": [
    {
     "data": {
      "text/html": [
       "<div>\n",
       "<style scoped>\n",
       "    .dataframe tbody tr th:only-of-type {\n",
       "        vertical-align: middle;\n",
       "    }\n",
       "\n",
       "    .dataframe tbody tr th {\n",
       "        vertical-align: top;\n",
       "    }\n",
       "\n",
       "    .dataframe thead th {\n",
       "        text-align: right;\n",
       "    }\n",
       "</style>\n",
       "<table border=\"1\" class=\"dataframe\">\n",
       "  <thead>\n",
       "    <tr style=\"text-align: right;\">\n",
       "      <th></th>\n",
       "      <th>0</th>\n",
       "      <th>1</th>\n",
       "      <th>2</th>\n",
       "      <th>3</th>\n",
       "    </tr>\n",
       "  </thead>\n",
       "  <tbody>\n",
       "    <tr>\n",
       "      <th>0</th>\n",
       "      <td>74</td>\n",
       "      <td>85</td>\n",
       "      <td>123</td>\n",
       "      <td>1</td>\n",
       "    </tr>\n",
       "    <tr>\n",
       "      <th>1</th>\n",
       "      <td>73</td>\n",
       "      <td>84</td>\n",
       "      <td>122</td>\n",
       "      <td>1</td>\n",
       "    </tr>\n",
       "    <tr>\n",
       "      <th>2</th>\n",
       "      <td>72</td>\n",
       "      <td>83</td>\n",
       "      <td>121</td>\n",
       "      <td>1</td>\n",
       "    </tr>\n",
       "    <tr>\n",
       "      <th>3</th>\n",
       "      <td>70</td>\n",
       "      <td>81</td>\n",
       "      <td>119</td>\n",
       "      <td>1</td>\n",
       "    </tr>\n",
       "    <tr>\n",
       "      <th>4</th>\n",
       "      <td>70</td>\n",
       "      <td>81</td>\n",
       "      <td>119</td>\n",
       "      <td>1</td>\n",
       "    </tr>\n",
       "    <tr>\n",
       "      <th>...</th>\n",
       "      <td>...</td>\n",
       "      <td>...</td>\n",
       "      <td>...</td>\n",
       "      <td>...</td>\n",
       "    </tr>\n",
       "    <tr>\n",
       "      <th>245052</th>\n",
       "      <td>163</td>\n",
       "      <td>162</td>\n",
       "      <td>112</td>\n",
       "      <td>2</td>\n",
       "    </tr>\n",
       "    <tr>\n",
       "      <th>245053</th>\n",
       "      <td>163</td>\n",
       "      <td>162</td>\n",
       "      <td>112</td>\n",
       "      <td>2</td>\n",
       "    </tr>\n",
       "    <tr>\n",
       "      <th>245054</th>\n",
       "      <td>163</td>\n",
       "      <td>162</td>\n",
       "      <td>112</td>\n",
       "      <td>2</td>\n",
       "    </tr>\n",
       "    <tr>\n",
       "      <th>245055</th>\n",
       "      <td>163</td>\n",
       "      <td>162</td>\n",
       "      <td>112</td>\n",
       "      <td>2</td>\n",
       "    </tr>\n",
       "    <tr>\n",
       "      <th>245056</th>\n",
       "      <td>255</td>\n",
       "      <td>255</td>\n",
       "      <td>255</td>\n",
       "      <td>2</td>\n",
       "    </tr>\n",
       "  </tbody>\n",
       "</table>\n",
       "<p>245057 rows × 4 columns</p>\n",
       "</div>"
      ],
      "text/plain": [
       "          0    1    2  3\n",
       "0        74   85  123  1\n",
       "1        73   84  122  1\n",
       "2        72   83  121  1\n",
       "3        70   81  119  1\n",
       "4        70   81  119  1\n",
       "...     ...  ...  ... ..\n",
       "245052  163  162  112  2\n",
       "245053  163  162  112  2\n",
       "245054  163  162  112  2\n",
       "245055  163  162  112  2\n",
       "245056  255  255  255  2\n",
       "\n",
       "[245057 rows x 4 columns]"
      ]
     },
     "execution_count": 315,
     "metadata": {},
     "output_type": "execute_result"
    }
   ],
   "source": [
    "df = pd.read_csv(\"Skin_NonSkin.txt\", sep='\\t', header=None)\n",
    "df"
   ]
  },
  {
   "cell_type": "markdown",
   "id": "a47f2640-509d-45c3-ab4d-85a52774166d",
   "metadata": {},
   "source": [
    "### Preprocess"
   ]
  },
  {
   "cell_type": "code",
   "execution_count": 316,
   "id": "57e59a3c-0a4c-4bd3-abee-b080ba0fe86e",
   "metadata": {},
   "outputs": [
    {
     "data": {
      "text/html": [
       "<div>\n",
       "<style scoped>\n",
       "    .dataframe tbody tr th:only-of-type {\n",
       "        vertical-align: middle;\n",
       "    }\n",
       "\n",
       "    .dataframe tbody tr th {\n",
       "        vertical-align: top;\n",
       "    }\n",
       "\n",
       "    .dataframe thead th {\n",
       "        text-align: right;\n",
       "    }\n",
       "</style>\n",
       "<table border=\"1\" class=\"dataframe\">\n",
       "  <thead>\n",
       "    <tr style=\"text-align: right;\">\n",
       "      <th></th>\n",
       "      <th>0</th>\n",
       "      <th>1</th>\n",
       "      <th>2</th>\n",
       "      <th>3</th>\n",
       "    </tr>\n",
       "  </thead>\n",
       "  <tbody>\n",
       "    <tr>\n",
       "      <th>0</th>\n",
       "      <td>-0.816021</td>\n",
       "      <td>-0.788476</td>\n",
       "      <td>-0.002429</td>\n",
       "      <td>1</td>\n",
       "    </tr>\n",
       "    <tr>\n",
       "      <th>1</th>\n",
       "      <td>-0.832001</td>\n",
       "      <td>-0.805073</td>\n",
       "      <td>-0.016139</td>\n",
       "      <td>1</td>\n",
       "    </tr>\n",
       "    <tr>\n",
       "      <th>2</th>\n",
       "      <td>-0.847981</td>\n",
       "      <td>-0.821670</td>\n",
       "      <td>-0.029849</td>\n",
       "      <td>1</td>\n",
       "    </tr>\n",
       "    <tr>\n",
       "      <th>3</th>\n",
       "      <td>-0.879941</td>\n",
       "      <td>-0.854863</td>\n",
       "      <td>-0.057269</td>\n",
       "      <td>1</td>\n",
       "    </tr>\n",
       "    <tr>\n",
       "      <th>4</th>\n",
       "      <td>-0.879941</td>\n",
       "      <td>-0.854863</td>\n",
       "      <td>-0.057269</td>\n",
       "      <td>1</td>\n",
       "    </tr>\n",
       "    <tr>\n",
       "      <th>...</th>\n",
       "      <td>...</td>\n",
       "      <td>...</td>\n",
       "      <td>...</td>\n",
       "      <td>...</td>\n",
       "    </tr>\n",
       "    <tr>\n",
       "      <th>245052</th>\n",
       "      <td>0.606191</td>\n",
       "      <td>0.489488</td>\n",
       "      <td>-0.153241</td>\n",
       "      <td>2</td>\n",
       "    </tr>\n",
       "    <tr>\n",
       "      <th>245053</th>\n",
       "      <td>0.606191</td>\n",
       "      <td>0.489488</td>\n",
       "      <td>-0.153241</td>\n",
       "      <td>2</td>\n",
       "    </tr>\n",
       "    <tr>\n",
       "      <th>245054</th>\n",
       "      <td>0.606191</td>\n",
       "      <td>0.489488</td>\n",
       "      <td>-0.153241</td>\n",
       "      <td>2</td>\n",
       "    </tr>\n",
       "    <tr>\n",
       "      <th>245055</th>\n",
       "      <td>0.606191</td>\n",
       "      <td>0.489488</td>\n",
       "      <td>-0.153241</td>\n",
       "      <td>2</td>\n",
       "    </tr>\n",
       "    <tr>\n",
       "      <th>245056</th>\n",
       "      <td>2.076342</td>\n",
       "      <td>2.033002</td>\n",
       "      <td>1.807314</td>\n",
       "      <td>2</td>\n",
       "    </tr>\n",
       "  </tbody>\n",
       "</table>\n",
       "<p>245057 rows × 4 columns</p>\n",
       "</div>"
      ],
      "text/plain": [
       "               0         1         2  3\n",
       "0      -0.816021 -0.788476 -0.002429  1\n",
       "1      -0.832001 -0.805073 -0.016139  1\n",
       "2      -0.847981 -0.821670 -0.029849  1\n",
       "3      -0.879941 -0.854863 -0.057269  1\n",
       "4      -0.879941 -0.854863 -0.057269  1\n",
       "...          ...       ...       ... ..\n",
       "245052  0.606191  0.489488 -0.153241  2\n",
       "245053  0.606191  0.489488 -0.153241  2\n",
       "245054  0.606191  0.489488 -0.153241  2\n",
       "245055  0.606191  0.489488 -0.153241  2\n",
       "245056  2.076342  2.033002  1.807314  2\n",
       "\n",
       "[245057 rows x 4 columns]"
      ]
     },
     "execution_count": 316,
     "metadata": {},
     "output_type": "execute_result"
    }
   ],
   "source": [
    "alpha = 0.1\n",
    "q = 3\n",
    "\n",
    "attributes = df.columns[:-1]\n",
    "\n",
    "for x in attributes:\n",
    "    df[x] = rescaleFeature(df[x], alpha, q)\n",
    "\n",
    "df"
   ]
  },
  {
   "cell_type": "code",
   "execution_count": 317,
   "id": "c00141ec-9719-487d-acb9-391bbed36483",
   "metadata": {},
   "outputs": [
    {
     "data": {
      "text/html": [
       "<div>\n",
       "<style scoped>\n",
       "    .dataframe tbody tr th:only-of-type {\n",
       "        vertical-align: middle;\n",
       "    }\n",
       "\n",
       "    .dataframe tbody tr th {\n",
       "        vertical-align: top;\n",
       "    }\n",
       "\n",
       "    .dataframe thead th {\n",
       "        text-align: right;\n",
       "    }\n",
       "</style>\n",
       "<table border=\"1\" class=\"dataframe\">\n",
       "  <thead>\n",
       "    <tr style=\"text-align: right;\">\n",
       "      <th></th>\n",
       "      <th>0</th>\n",
       "      <th>1</th>\n",
       "      <th>2</th>\n",
       "      <th>3</th>\n",
       "    </tr>\n",
       "  </thead>\n",
       "  <tbody>\n",
       "    <tr>\n",
       "      <th>0</th>\n",
       "      <td>-0.816021</td>\n",
       "      <td>-0.788476</td>\n",
       "      <td>-0.002429</td>\n",
       "      <td>000</td>\n",
       "    </tr>\n",
       "    <tr>\n",
       "      <th>1</th>\n",
       "      <td>-0.832001</td>\n",
       "      <td>-0.805073</td>\n",
       "      <td>-0.016139</td>\n",
       "      <td>000</td>\n",
       "    </tr>\n",
       "    <tr>\n",
       "      <th>2</th>\n",
       "      <td>-0.847981</td>\n",
       "      <td>-0.821670</td>\n",
       "      <td>-0.029849</td>\n",
       "      <td>000</td>\n",
       "    </tr>\n",
       "    <tr>\n",
       "      <th>3</th>\n",
       "      <td>-0.879941</td>\n",
       "      <td>-0.854863</td>\n",
       "      <td>-0.057269</td>\n",
       "      <td>000</td>\n",
       "    </tr>\n",
       "    <tr>\n",
       "      <th>4</th>\n",
       "      <td>-0.879941</td>\n",
       "      <td>-0.854863</td>\n",
       "      <td>-0.057269</td>\n",
       "      <td>000</td>\n",
       "    </tr>\n",
       "    <tr>\n",
       "      <th>...</th>\n",
       "      <td>...</td>\n",
       "      <td>...</td>\n",
       "      <td>...</td>\n",
       "      <td>...</td>\n",
       "    </tr>\n",
       "    <tr>\n",
       "      <th>245052</th>\n",
       "      <td>0.606191</td>\n",
       "      <td>0.489488</td>\n",
       "      <td>-0.153241</td>\n",
       "      <td>111</td>\n",
       "    </tr>\n",
       "    <tr>\n",
       "      <th>245053</th>\n",
       "      <td>0.606191</td>\n",
       "      <td>0.489488</td>\n",
       "      <td>-0.153241</td>\n",
       "      <td>111</td>\n",
       "    </tr>\n",
       "    <tr>\n",
       "      <th>245054</th>\n",
       "      <td>0.606191</td>\n",
       "      <td>0.489488</td>\n",
       "      <td>-0.153241</td>\n",
       "      <td>111</td>\n",
       "    </tr>\n",
       "    <tr>\n",
       "      <th>245055</th>\n",
       "      <td>0.606191</td>\n",
       "      <td>0.489488</td>\n",
       "      <td>-0.153241</td>\n",
       "      <td>111</td>\n",
       "    </tr>\n",
       "    <tr>\n",
       "      <th>245056</th>\n",
       "      <td>2.076342</td>\n",
       "      <td>2.033002</td>\n",
       "      <td>1.807314</td>\n",
       "      <td>111</td>\n",
       "    </tr>\n",
       "  </tbody>\n",
       "</table>\n",
       "<p>245057 rows × 4 columns</p>\n",
       "</div>"
      ],
      "text/plain": [
       "               0         1         2    3\n",
       "0      -0.816021 -0.788476 -0.002429  000\n",
       "1      -0.832001 -0.805073 -0.016139  000\n",
       "2      -0.847981 -0.821670 -0.029849  000\n",
       "3      -0.879941 -0.854863 -0.057269  000\n",
       "4      -0.879941 -0.854863 -0.057269  000\n",
       "...          ...       ...       ...  ...\n",
       "245052  0.606191  0.489488 -0.153241  111\n",
       "245053  0.606191  0.489488 -0.153241  111\n",
       "245054  0.606191  0.489488 -0.153241  111\n",
       "245055  0.606191  0.489488 -0.153241  111\n",
       "245056  2.076342  2.033002  1.807314  111\n",
       "\n",
       "[245057 rows x 4 columns]"
      ]
     },
     "execution_count": 317,
     "metadata": {},
     "output_type": "execute_result"
    }
   ],
   "source": [
    "diconvert = {\n",
    "    1 : \"000\",\n",
    "    2 : \"111\"\n",
    "}\n",
    "\n",
    "df = df.replace({3: diconvert})\n",
    "df"
   ]
  },
  {
   "cell_type": "code",
   "execution_count": 318,
   "id": "c6279e6b-8150-4925-aca3-d700cc862e43",
   "metadata": {},
   "outputs": [],
   "source": [
    "X = df[attributes].values\n",
    "y = df[3].values"
   ]
  },
  {
   "cell_type": "markdown",
   "id": "ddd39ecb-4c42-436f-a4ea-12370d56eade",
   "metadata": {},
   "source": [
    "### Split"
   ]
  },
  {
   "cell_type": "code",
   "execution_count": 319,
   "id": "1459c192-1dc0-4b81-bf53-91d2265e59f9",
   "metadata": {},
   "outputs": [],
   "source": [
    "train_size = 600\n",
    "test_size = 400\n",
    "\n",
    "X_train, X_test, y_train, y_test = train_test_split(X, y, test_size=test_size, train_size=train_size, stratify=y)"
   ]
  },
  {
   "cell_type": "markdown",
   "id": "c3dc42f2-e578-47d4-9e71-d6ab05bf551f",
   "metadata": {},
   "source": [
    "## Circuit"
   ]
  },
  {
   "cell_type": "code",
   "execution_count": 321,
   "id": "b7e4a6f5",
   "metadata": {},
   "outputs": [],
   "source": [
    "def skinSegCircuit(theta, omega):\n",
    "    qc = qiskit.QuantumCircuit(3, 3)\n",
    "    \n",
    "    skin_seg_circuit = qiskit.QuantumCircuit(3)\n",
    "    psiGate(skin_seg_circuit, omega[0], 0)\n",
    "    psiGate(skin_seg_circuit, omega[1], 1)\n",
    "    psiGate(skin_seg_circuit, omega[2], 2)\n",
    "    \n",
    "    skin_seg_circuit.cz(0, 2)\n",
    "    \n",
    "    psiGate(skin_seg_circuit, theta[0], 0)\n",
    "    psiGate(skin_seg_circuit, theta[1], 2)\n",
    "    \n",
    "    skin_seg_circuit.cz(0, 1)\n",
    "    \n",
    "    psiGate(skin_seg_circuit, theta[2], 0)\n",
    "    psiGate(skin_seg_circuit, theta[3], 1)\n",
    "    \n",
    "    skin_seg_circuit.cz(1, 2)\n",
    "    \n",
    "    psiGate(skin_seg_circuit, theta[4], 1)\n",
    "    psiGate(skin_seg_circuit, theta[5], 2)\n",
    "    \n",
    "    qc.append(skin_seg_circuit, range(3))\n",
    "    qc.measure(range(3), range(3))\n",
    "    \n",
    "    return qc"
   ]
  },
  {
   "cell_type": "code",
   "execution_count": 322,
   "id": "8328d2d2-3081-475c-852a-bfc851b10447",
   "metadata": {},
   "outputs": [
    {
     "data": {
      "image/png": "[encoded data removed]",
      "text/plain": [
       "<Figure size 1625.27x367.889 with 1 Axes>"
      ]
     },
     "execution_count": 322,
     "metadata": {},
     "output_type": "execute_result"
    }
   ],
   "source": [
    "skinSegCircuit(np.zeros(6), np.zeros(3)).decompose().draw(\"mpl\", fold=40)"
   ]
  },
  {
   "cell_type": "markdown",
   "id": "72112546-bb45-420b-9d3c-e35680d48e3d",
   "metadata": {},
   "source": [
    "## Train"
   ]
  },
  {
   "cell_type": "code",
   "execution_count": 333,
   "id": "d6220966-501a-46a6-9a79-f9e315f6a155",
   "metadata": {},
   "outputs": [],
   "source": [
    "skin_classifier = QuantumClassifier(skinSegCircuit, ['000', '111'], 6, optimizer_method = \"COBYLA\")"
   ]
  },
  {
   "cell_type": "code",
   "execution_count": 334,
   "id": "7f3dc839-2ff7-4579-a2be-590ebadb9bcf",
   "metadata": {},
   "outputs": [
    {
     "name": "stdout",
     "output_type": "stream",
     "text": [
      "loss: 0.6650483604996839\n",
      "loss: 0.6675175016831364\n",
      "loss: 0.6972538585680467\n",
      "loss: 0.6791740504448985\n",
      "loss: 0.6547804879521013\n",
      "loss: 0.6564633350450325\n",
      "loss: 0.5993471070742034\n",
      "loss: 0.6042808657959565\n",
      "loss: 0.6026699583597022\n",
      "loss: 0.6119096691993093\n",
      "loss: 0.5894564324868558\n",
      "loss: 0.5978884413634947\n",
      "loss: 0.6071162983651737\n",
      "loss: 0.6029805041923589\n",
      "loss: 0.576176569358152\n",
      "loss: 0.5731879088552685\n",
      "loss: 0.5831723073067888\n",
      "loss: 0.5838886923037673\n",
      "loss: 0.5678345711394414\n",
      "loss: 0.5559171922727886\n",
      "loss: 0.5544914548294805\n",
      "loss: 0.5606880887987754\n",
      "loss: 0.5604646286762086\n",
      "loss: 0.552652594456309\n",
      "loss: 0.5539360191011823\n",
      "loss: 0.5563808936929407\n",
      "loss: 0.5517161329129118\n",
      "loss: 0.5540141901745105\n",
      "loss: 0.5539332733975073\n",
      "loss: 0.5511153608440162\n",
      "loss: 0.5513593014324748\n",
      "loss: 0.5523598996691819\n",
      "loss: 0.5529028631245968\n",
      "loss: 0.5503309950358483\n",
      "loss: 0.5496003062573585\n",
      "loss: 0.548488323251386\n",
      "loss: 0.549551733214751\n",
      "loss: 0.549455485717304\n",
      "loss: 0.5492568753893904\n",
      "loss: 0.5489229631131685\n",
      "loss: 0.549582673892188\n",
      "loss: 0.5477985275564627\n",
      "loss: 0.5483023183513243\n",
      "loss: 0.5472909779214569\n",
      "loss: 0.5473392974064747\n",
      "loss: 0.5475524340767891\n",
      "loss: 0.5479917979850306\n",
      "loss: 0.5479263556173879\n",
      "loss: 0.5476763197521594\n",
      "loss: 0.5475408383188176\n",
      "loss: 0.5472393307402571\n",
      "loss: 0.5483924459495021\n",
      "loss: 0.5487177592184671\n",
      "loss: 0.5492363903119861\n",
      "loss: 0.5489502251838335\n",
      "loss: 0.5478380759027999\n",
      "loss: 0.5480918049559194\n",
      "loss: 0.5475210433628517\n",
      "loss: 0.5479191288003487\n",
      "loss: 0.5469826165614535\n"
     ]
    },
    {
     "data": {
      "text/plain": [
       "     fun: 0.5469826165614535\n",
       "   maxcv: 0.0\n",
       " message: 'Maximum number of function evaluations has been exceeded.'\n",
       "    nfev: 60\n",
       "  status: 2\n",
       " success: False\n",
       "       x: array([5.78218354, 1.83243978, 5.93577892, 6.82300215, 6.88906438,\n",
       "       7.54226803])"
      ]
     },
     "execution_count": 334,
     "metadata": {},
     "output_type": "execute_result"
    }
   ],
   "source": [
    "opt = skin_classifier.fit(X_train, y_train, nshots=250, maxiter=60)\n",
    "opt"
   ]
  },
  {
   "cell_type": "markdown",
   "id": "ae836b3c-61b3-4f6a-a8d4-54fb4a86d50e",
   "metadata": {},
   "source": [
    "## Compute results"
   ]
  },
  {
   "cell_type": "code",
   "execution_count": 335,
   "id": "670b08b1-06c3-4b14-9e59-3bd6df9137ad",
   "metadata": {},
   "outputs": [
    {
     "data": {
      "text/plain": [
       "0.71"
      ]
     },
     "execution_count": 335,
     "metadata": {},
     "output_type": "execute_result"
    }
   ],
   "source": [
    "y_pred = skin_classifier.predict(X_train)\n",
    "skin_classifier.compute_accuracy(y_pred, y_train)"
   ]
  },
  {
   "cell_type": "code",
   "execution_count": 336,
   "id": "105af9f8-c92c-4467-b448-5e5d1b26efe2",
   "metadata": {},
   "outputs": [
    {
     "data": {
      "text/plain": [
       "0.71"
      ]
     },
     "execution_count": 336,
     "metadata": {},
     "output_type": "execute_result"
    }
   ],
   "source": [
    "y_pred = skin_classifier.predict(X_test)\n",
    "skin_classifier.compute_accuracy(y_pred, y_test)"
   ]
  },
  {
   "cell_type": "markdown",
   "id": "c72282df",
   "metadata": {},
   "source": [
    "# Synthetic dataset with 4 classes"
   ]
  },
  {
   "cell_type": "markdown",
   "id": "28ee9433-f509-4da6-8bf8-603397c7f27b",
   "metadata": {},
   "source": [
    "## Construct dataset"
   ]
  },
  {
   "cell_type": "markdown",
   "id": "f3396b6b-b0c6-46f7-9225-be4c2e85da76",
   "metadata": {},
   "source": [
    "### Generate dataset"
   ]
  },
  {
   "cell_type": "code",
   "execution_count": 352,
   "id": "af39fec1-63cc-49e8-ab35-bd4c49dbbe61",
   "metadata": {},
   "outputs": [],
   "source": [
    "from sklearn.datasets import make_classification\n",
    "\n",
    "X, y = make_classification(n_samples=5000, n_features=2, n_informative=2, n_redundant=0, n_clusters_per_class=1, n_classes=4)"
   ]
  },
  {
   "cell_type": "markdown",
   "id": "9d5bc927-d579-43fc-a350-3d81bdcffc82",
   "metadata": {},
   "source": [
    "### Preprocess"
   ]
  },
  {
   "cell_type": "code",
   "execution_count": 354,
   "id": "84695d82-e54b-4a2d-a361-e7ee849a76c6",
   "metadata": {},
   "outputs": [
    {
     "data": {
      "text/plain": [
       "array([[-1.29214804,  1.40760177],\n",
       "       [ 1.03234535,  0.80398178],\n",
       "       [-0.21579835, -0.71224043],\n",
       "       [ 0.56397006,  0.54379044],\n",
       "       [-0.85388759, -2.01820387],\n",
       "       [ 1.10631195,  1.16048008],\n",
       "       [-0.37165698,  0.57868321],\n",
       "       [ 1.41948381, -1.19889306],\n",
       "       [-0.61330491, -0.31278072],\n",
       "       [-1.2986241 ,  0.047761  ]])"
      ]
     },
     "execution_count": 354,
     "metadata": {},
     "output_type": "execute_result"
    }
   ],
   "source": [
    "alpha = 0.1\n",
    "q = 3\n",
    "\n",
    "\n",
    "X[:, 0] = rescaleFeature(X[:, 0], alpha, q)\n",
    "X[:, 1] = rescaleFeature(X[:, 1], alpha, q)\n",
    "\n",
    "X[:10]"
   ]
  },
  {
   "cell_type": "code",
   "execution_count": 360,
   "id": "ba9631f6-962e-4eb3-9504-bf16f2de65f9",
   "metadata": {},
   "outputs": [
    {
     "data": {
      "text/plain": [
       "['01', '11', '10', '11', '00', '11', '01', '10', '10', '00']"
      ]
     },
     "execution_count": 360,
     "metadata": {},
     "output_type": "execute_result"
    }
   ],
   "source": [
    "new_y = []\n",
    "\n",
    "diconvert = {\n",
    "    0 : \"00\",\n",
    "    1 : \"01\",\n",
    "    2 : '10',\n",
    "    3 : '11'\n",
    "}\n",
    "\n",
    "for el in y:\n",
    "    new_y.append(diconvert[el])\n",
    "\n",
    "y = new_y\n",
    "\n",
    "y[:10]"
   ]
  },
  {
   "cell_type": "markdown",
   "id": "91221c6c-51b7-4e3b-80cf-72f9cc7f437e",
   "metadata": {},
   "source": [
    "### Split"
   ]
  },
  {
   "cell_type": "code",
   "execution_count": 361,
   "id": "6277c260-9f49-473d-8c85-0d3898a54d90",
   "metadata": {},
   "outputs": [],
   "source": [
    "train_size = 0.6\n",
    "test_size = 0.4\n",
    "\n",
    "X_train, X_test, y_train, y_test = train_test_split(X, y, test_size=test_size, train_size=train_size, stratify=y)"
   ]
  },
  {
   "cell_type": "markdown",
   "id": "4ce15c85-6328-4545-8eca-6b9caf8bc47f",
   "metadata": {},
   "source": [
    "## Circuit"
   ]
  },
  {
   "cell_type": "code",
   "execution_count": 364,
   "id": "a70ab528",
   "metadata": {},
   "outputs": [],
   "source": [
    "def syntheticCircuit(theta, omega):\n",
    "    qc = qiskit.QuantumCircuit(2, 2)\n",
    "\n",
    "    synthetic_circuit = qiskit.QuantumCircuit(2)\n",
    "    for i in range(2):\n",
    "        if i : synthetic_circuit.cz(0, 1)\n",
    "        \n",
    "        psiGate(synthetic_circuit, omega[0], 0)\n",
    "        psiGate(synthetic_circuit, omega[1], 1)\n",
    "        synthetic_circuit.cz(0, 1)\n",
    "        \n",
    "        psiGate(synthetic_circuit, theta[(6*i)], 0)\n",
    "        psiGate(synthetic_circuit, theta[(6*i+1)], 1)\n",
    "        synthetic_circuit.cz(0, 1)\n",
    "        \n",
    "        psiGate(synthetic_circuit, omega[0], 0)\n",
    "        psiGate(synthetic_circuit, omega[1], 1)\n",
    "        synthetic_circuit.cz(0, 1)\n",
    "        \n",
    "        psiGate(synthetic_circuit, theta[(6*i+2)], 0)\n",
    "        psiGate(synthetic_circuit, theta[(6*i+3)], 1)\n",
    "        synthetic_circuit.cz(0, 1)\n",
    "        \n",
    "        psiGate(synthetic_circuit, theta[(6*i+4)], 0)\n",
    "        psiGate(synthetic_circuit, theta[(6*i+5)], 1)\n",
    "    \n",
    "    qc.append(synthetic_circuit, range(2))\n",
    "    qc.measure(range(2), range(2))\n",
    "    \n",
    "    return qc"
   ]
  },
  {
   "cell_type": "code",
   "execution_count": 366,
   "id": "10ca6433",
   "metadata": {},
   "outputs": [
    {
     "data": {
      "image/png": "[encoded data removed]",
      "text/plain": [
       "<Figure size 3548.13x284.278 with 1 Axes>"
      ]
     },
     "execution_count": 366,
     "metadata": {},
     "output_type": "execute_result"
    }
   ],
   "source": [
    "syntheticCircuit(np.zeros(12), np.zeros(2)).decompose().draw(\"mpl\", fold=50)"
   ]
  },
  {
   "cell_type": "markdown",
   "id": "38ae20d8-dbdc-43b0-8ac0-884e11164b3f",
   "metadata": {},
   "source": [
    "## Train"
   ]
  },
  {
   "cell_type": "code",
   "execution_count": 367,
   "id": "79d6cef6-1823-43a9-928f-4b2527c02485",
   "metadata": {},
   "outputs": [],
   "source": [
    "synthetic_classifier = QuantumClassifier(syntheticCircuit, ['00', '01', '10', '11'], 12, optimizer_method = \"COBYLA\")"
   ]
  },
  {
   "cell_type": "code",
   "execution_count": 368,
   "id": "b5f837a7-2c6a-4951-ab4f-fb4e2705a62a",
   "metadata": {},
   "outputs": [
    {
     "name": "stdout",
     "output_type": "stream",
     "text": [
      "loss: 1.4623152141575837\n",
      "loss: 1.4537853958956\n",
      "loss: 1.3772279031463952\n",
      "loss: 1.3687571872023179\n",
      "loss: 1.4280420995982455\n",
      "loss: 1.3214823700991758\n",
      "loss: 1.348019215118249\n",
      "loss: 1.3570660322932164\n",
      "loss: 1.2740285895407695\n",
      "loss: 1.3373436490692039\n",
      "loss: 1.2712272387917116\n",
      "loss: 1.3602352843840373\n",
      "loss: 1.2608350871493033\n",
      "loss: 1.3076699692348084\n",
      "loss: 1.2704456192389677\n",
      "loss: 1.2290482047470002\n",
      "loss: 1.2384417025343695\n",
      "loss: 1.371691444156307\n",
      "loss: 1.2361558700795485\n",
      "loss: 1.2689345091468867\n",
      "loss: 1.2489544109242248\n",
      "loss: 1.241757278730224\n",
      "loss: 1.2349674360687954\n",
      "loss: 1.231725941821295\n",
      "loss: 1.2190762598021525\n",
      "loss: 1.2343558006671533\n",
      "loss: 1.2223941310919304\n",
      "loss: 1.2133748193394074\n",
      "loss: 1.2364914929218367\n",
      "loss: 1.2265828963850807\n",
      "loss: 1.2133622374955346\n",
      "loss: 1.2162934076635492\n",
      "loss: 1.2809920305677494\n",
      "loss: 1.2087998221852594\n",
      "loss: 1.2100685824915713\n",
      "loss: 1.1932010416774617\n",
      "loss: 1.1912325152194103\n",
      "loss: 1.1965949214197156\n",
      "loss: 1.1788449990697731\n",
      "loss: 1.178226534716483\n",
      "loss: 1.155906093697457\n",
      "loss: 1.1560336126910542\n",
      "loss: 1.1594399995900166\n",
      "loss: 1.140283345962756\n",
      "loss: 1.1412100140696269\n",
      "loss: 1.1501645011319226\n",
      "loss: 1.1408524390187897\n",
      "loss: 1.1387081655715119\n",
      "loss: 1.1410153852049472\n",
      "loss: 1.1418000655907217\n",
      "loss: 1.1301269130188136\n",
      "loss: 1.1445023855017862\n",
      "loss: 1.1386208870404941\n",
      "loss: 1.1150654961042517\n",
      "loss: 1.1188582295175369\n",
      "loss: 1.121099850208653\n",
      "loss: 1.127719983087894\n",
      "loss: 1.1151403721398334\n",
      "loss: 1.114023686788318\n",
      "loss: 1.1080872824197443\n"
     ]
    },
    {
     "data": {
      "text/plain": [
       "     fun: 1.1080872824197443\n",
       "   maxcv: 0.0\n",
       " message: 'Maximum number of function evaluations has been exceeded.'\n",
       "    nfev: 60\n",
       "  status: 2\n",
       " success: False\n",
       "       x: array([4.96029031, 5.14418624, 5.24956794, 4.54360843, 6.98430387,\n",
       "       0.92068341, 4.1398482 , 5.88286199, 5.15626578, 5.79871654,\n",
       "       4.40396239, 3.55160734])"
      ]
     },
     "execution_count": 368,
     "metadata": {},
     "output_type": "execute_result"
    }
   ],
   "source": [
    "opt = synthetic_classifier.fit(X_train, y_train, nshots=250, maxiter=60)\n",
    "opt"
   ]
  },
  {
   "cell_type": "markdown",
   "id": "03ae5122-cc8b-4fc7-9098-fbfec9a234da",
   "metadata": {},
   "source": [
    "## Compute results"
   ]
  },
  {
   "cell_type": "code",
   "execution_count": 369,
   "id": "4e885cdd-b176-4f5d-8cd2-723b8fa31773",
   "metadata": {},
   "outputs": [
    {
     "data": {
      "text/plain": [
       "0.6763333333333333"
      ]
     },
     "execution_count": 369,
     "metadata": {},
     "output_type": "execute_result"
    }
   ],
   "source": [
    "y_pred = synthetic_classifier.predict(X_train)\n",
    "synthetic_classifier.compute_accuracy(y_pred, y_train)"
   ]
  },
  {
   "cell_type": "code",
   "execution_count": 370,
   "id": "a3f695c9-4592-432e-b838-637992870670",
   "metadata": {},
   "outputs": [
    {
     "data": {
      "text/plain": [
       "0.671"
      ]
     },
     "execution_count": 370,
     "metadata": {},
     "output_type": "execute_result"
    }
   ],
   "source": [
    "y_pred = synthetic_classifier.predict(X_test)\n",
    "synthetic_classifier.compute_accuracy(y_pred, y_test)"
   ]
  },
  {
   "cell_type": "markdown",
   "id": "298bacf2-bf15-4810-b9ea-cc6a6c460f82",
   "metadata": {},
   "source": [
    "# Run on IBM Quantum Computer"
   ]
  },
  {
   "cell_type": "code",
   "execution_count": null,
   "id": "4cd250c0",
   "metadata": {
    "id": "4cd250c0"
   },
   "outputs": [],
   "source": [
    "TOKEN = ..."
   ]
  },
  {
   "cell_type": "code",
   "execution_count": null,
   "id": "f597aa8d",
   "metadata": {
    "id": "f597aa8d"
   },
   "outputs": [
    {
     "ename": "IBMQAccountCredentialsInvalidToken",
     "evalue": "'Invalid IBM Quantum Experience token found: \"Ellipsis\" of type <class \\'ellipsis\\'>.'",
     "output_type": "error",
     "traceback": [
      "\u001b[0;31m---------------------------------------------------------------------------\u001b[0m",
      "\u001b[0;31mIBMQAccountCredentialsInvalidToken\u001b[0m        Traceback (most recent call last)",
      "\u001b[1;32m/home/marius/epita/ING3/QML/QML/qml.ipynb Cell 29\u001b[0m in \u001b[0;36m<cell line: 1>\u001b[0;34m()\u001b[0m\n\u001b[0;32m----> <a href='vscode-notebook-cell://wsl%2Bubuntu/home/marius/epita/ING3/QML/QML/qml.ipynb#X46sdnNjb2RlLXJlbW90ZQ%3D%3D?line=0'>1</a>\u001b[0m qiskit\u001b[39m.\u001b[39;49mIBMQ\u001b[39m.\u001b[39;49msave_account(TOKEN, overwrite\u001b[39m=\u001b[39;49m\u001b[39mTrue\u001b[39;49;00m) \n\u001b[1;32m      <a href='vscode-notebook-cell://wsl%2Bubuntu/home/marius/epita/ING3/QML/QML/qml.ipynb#X46sdnNjb2RlLXJlbW90ZQ%3D%3D?line=1'>2</a>\u001b[0m provider \u001b[39m=\u001b[39m qiskit\u001b[39m.\u001b[39mIBMQ\u001b[39m.\u001b[39mload_account()\n\u001b[1;32m      <a href='vscode-notebook-cell://wsl%2Bubuntu/home/marius/epita/ING3/QML/QML/qml.ipynb#X46sdnNjb2RlLXJlbW90ZQ%3D%3D?line=2'>3</a>\u001b[0m backend \u001b[39m=\u001b[39m qiskit\u001b[39m.\u001b[39mproviders\u001b[39m.\u001b[39mibmq\u001b[39m.\u001b[39mleast_busy(provider\u001b[39m.\u001b[39mbackends())\n",
      "File \u001b[0;32m~/.pyenv/versions/3.9.10/lib/python3.9/site-packages/qiskit/providers/ibmq/ibmqfactory.py:257\u001b[0m, in \u001b[0;36mIBMQFactory.save_account\u001b[0;34m(token, url, hub, group, project, overwrite, **kwargs)\u001b[0m\n\u001b[1;32m    253\u001b[0m     \u001b[39mraise\u001b[39;00m IBMQAccountCredentialsInvalidUrl(\n\u001b[1;32m    254\u001b[0m         \u001b[39m'\u001b[39m\u001b[39mInvalid IBM Q Experience credentials found. \u001b[39m\u001b[39m'\u001b[39m \u001b[39m+\u001b[39m UPDATE_ACCOUNT_TEXT)\n\u001b[1;32m    256\u001b[0m \u001b[39mif\u001b[39;00m \u001b[39mnot\u001b[39;00m token \u001b[39mor\u001b[39;00m \u001b[39mnot\u001b[39;00m \u001b[39misinstance\u001b[39m(token, \u001b[39mstr\u001b[39m):\n\u001b[0;32m--> 257\u001b[0m     \u001b[39mraise\u001b[39;00m IBMQAccountCredentialsInvalidToken(\n\u001b[1;32m    258\u001b[0m         \u001b[39m'\u001b[39m\u001b[39mInvalid IBM Quantum Experience token \u001b[39m\u001b[39m'\u001b[39m\n\u001b[1;32m    259\u001b[0m         \u001b[39m'\u001b[39m\u001b[39mfound: \u001b[39m\u001b[39m\"\u001b[39m\u001b[39m{}\u001b[39;00m\u001b[39m\"\u001b[39m\u001b[39m of type \u001b[39m\u001b[39m{}\u001b[39;00m\u001b[39m.\u001b[39m\u001b[39m'\u001b[39m\u001b[39m.\u001b[39mformat(token, \u001b[39mtype\u001b[39m(token)))\n\u001b[1;32m    261\u001b[0m \u001b[39m# If any `hub`, `group`, or `project` is specified, make sure all parameters are set.\u001b[39;00m\n\u001b[1;32m    262\u001b[0m \u001b[39mif\u001b[39;00m \u001b[39many\u001b[39m([hub, group, project]) \u001b[39mand\u001b[39;00m \u001b[39mnot\u001b[39;00m \u001b[39mall\u001b[39m([hub, group, project]):\n",
      "\u001b[0;31mIBMQAccountCredentialsInvalidToken\u001b[0m: 'Invalid IBM Quantum Experience token found: \"Ellipsis\" of type <class \\'ellipsis\\'>.'"
     ]
    }
   ],
   "source": [
    "qiskit.IBMQ.save_account(TOKEN, overwrite=True) \n",
    "provider = qiskit.IBMQ.load_account()\n",
    "backend = qiskit.providers.ibmq.least_busy(provider.backends())\n",
    "\n",
    "mapped_circuit = qiskit.transpile(circuit, backend=backend)\n",
    "qobj = qiskit.assemble(mapped_circuit, backend=backend, shots=1024)"
   ]
  },
  {
   "cell_type": "code",
   "execution_count": null,
   "id": "28QMhcWdjscr",
   "metadata": {
    "id": "28QMhcWdjscr"
   },
   "outputs": [],
   "source": [
    "# execute the circuit\n",
    "job = backend.run(qobj)\n"
   ]
  },
  {
   "cell_type": "code",
   "execution_count": null,
   "id": "GYnzFJyMkGLt",
   "metadata": {
    "colab": {
     "base_uri": "https://localhost:8080/"
    },
    "id": "GYnzFJyMkGLt",
    "outputId": "10499c52-276c-4261-9106-ab92827e821b"
   },
   "outputs": [],
   "source": [
    "job.status()\n"
   ]
  },
  {
   "cell_type": "code",
   "execution_count": null,
   "id": "J-lZKs9wkRX5",
   "metadata": {
    "id": "J-lZKs9wkRX5"
   },
   "outputs": [],
   "source": [
    "ID = job.job_id()"
   ]
  },
  {
   "cell_type": "code",
   "execution_count": null,
   "id": "z7xJye4aoULQ",
   "metadata": {
    "id": "z7xJye4aoULQ"
   },
   "outputs": [],
   "source": [
    "job = backend.retrieve_job(ID)"
   ]
  },
  {
   "cell_type": "code",
   "execution_count": null,
   "id": "tZ5hsNGCnjgc",
   "metadata": {
    "id": "tZ5hsNGCnjgc"
   },
   "outputs": [],
   "source": [
    "result = job.result()"
   ]
  },
  {
   "cell_type": "code",
   "execution_count": null,
   "id": "aAtWad3Dkuz4",
   "metadata": {
    "id": "aAtWad3Dkuz4"
   },
   "outputs": [],
   "source": [
    "counts = result.get_counts()"
   ]
  },
  {
   "cell_type": "code",
   "execution_count": null,
   "id": "-qmEcVexnn4W",
   "metadata": {
    "colab": {
     "base_uri": "https://localhost:8080/"
    },
    "id": "-qmEcVexnn4W",
    "outputId": "790f4bab-7be6-4171-f976-8b67d2b2f945"
   },
   "outputs": [],
   "source": [
    "counts"
   ]
  }
 ],
 "metadata": {
  "colab": {
   "provenance": []
  },
  "kernelspec": {
   "display_name": "Python 3 (ipykernel)",
   "language": "python",
   "name": "python3"
  },
  "language_info": {
   "codemirror_mode": {
    "name": "ipython",
    "version": 3
   },
   "file_extension": ".py",
   "mimetype": "text/x-python",
   "name": "python",
   "nbconvert_exporter": "python",
   "pygments_lexer": "ipython3",
   "version": "3.10.8"
  },
  "vscode": {
   "interpreter": {
    "hash": "51b4e9700471eaf1a5d76c11bef0601667b05397081ebf41f03a2cf9585ff4ea"
   }
  }
 },
 "nbformat": 4,
 "nbformat_minor": 5
}
