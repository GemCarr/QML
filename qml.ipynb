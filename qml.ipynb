{
 "cells": [
  {
   "cell_type": "markdown",
   "id": "73349bb2-01fb-44a4-b725-251eca576c71",
   "metadata": {},
   "source": [
    "# QML Project"
   ]
  },
  {
   "cell_type": "markdown",
   "id": "48166b94-d8d7-4d64-8352-129c2c2ed737",
   "metadata": {},
   "source": [
    "```\n",
    "AUTHORS\n",
    "Charlie BROSSE  \n",
    "Guillaume CARRIERE  \n",
    "Marius DUBOSC\n",
    "```"
   ]
  },
  {
   "cell_type": "markdown",
   "id": "73f36b46",
   "metadata": {
    "id": "73f36b46"
   },
   "source": [
    "invisibleL'objectif du projet et de reproduire les circuits et les résultats obtenus dans le papier \"Polyadic Quantum Classifier\" (https://arxiv.org/abs/2007.14044)"
   ]
  },
  {
   "cell_type": "code",
   "execution_count": 1,
   "id": "wvj_1vHtjBbB",
   "metadata": {
    "id": "wvj_1vHtjBbB"
   },
   "outputs": [
    {
     "name": "stdout",
     "output_type": "stream",
     "text": [
      "Requirement already satisfied: qiskit in /home/marius/.pyenv/versions/3.9.10/lib/python3.9/site-packages (0.39.5)\n",
      "Requirement already satisfied: qiskit-aer==0.11.2 in /home/marius/.pyenv/versions/3.9.10/lib/python3.9/site-packages (from qiskit) (0.11.2)\n",
      "Requirement already satisfied: qiskit-terra==0.22.4 in /home/marius/.pyenv/versions/3.9.10/lib/python3.9/site-packages (from qiskit) (0.22.4)\n",
      "Requirement already satisfied: qiskit-ibmq-provider==0.19.2 in /home/marius/.pyenv/versions/3.9.10/lib/python3.9/site-packages (from qiskit) (0.19.2)\n",
      "Requirement already satisfied: numpy>=1.16.3 in /home/marius/.local/lib/python3.9/site-packages (from qiskit-aer==0.11.2->qiskit) (1.22.3)\n",
      "Requirement already satisfied: scipy>=1.0 in /home/marius/.pyenv/versions/3.9.10/lib/python3.9/site-packages (from qiskit-aer==0.11.2->qiskit) (1.8.1)\n",
      "Requirement already satisfied: websocket-client>=1.0.1 in /home/marius/.local/lib/python3.9/site-packages (from qiskit-ibmq-provider==0.19.2->qiskit) (1.3.2)\n",
      "Requirement already satisfied: requests>=2.19 in /home/marius/.local/lib/python3.9/site-packages (from qiskit-ibmq-provider==0.19.2->qiskit) (2.27.1)\n",
      "Requirement already satisfied: requests-ntlm>=1.1.0 in /home/marius/.pyenv/versions/3.9.10/lib/python3.9/site-packages (from qiskit-ibmq-provider==0.19.2->qiskit) (1.1.0)\n",
      "Requirement already satisfied: python-dateutil>=2.8.0 in /home/marius/.local/lib/python3.9/site-packages (from qiskit-ibmq-provider==0.19.2->qiskit) (2.8.2)\n",
      "Requirement already satisfied: websockets>=10.0 in /home/marius/.pyenv/versions/3.9.10/lib/python3.9/site-packages (from qiskit-ibmq-provider==0.19.2->qiskit) (10.4)\n",
      "Requirement already satisfied: urllib3>=1.21.1 in /home/marius/.pyenv/versions/3.9.10/lib/python3.9/site-packages (from qiskit-ibmq-provider==0.19.2->qiskit) (1.26.9)\n",
      "Requirement already satisfied: retworkx>=0.11.0 in /home/marius/.pyenv/versions/3.9.10/lib/python3.9/site-packages (from qiskit-terra==0.22.4->qiskit) (0.12.0)\n",
      "Requirement already satisfied: tweedledum<2.0,>=1.1 in /home/marius/.pyenv/versions/3.9.10/lib/python3.9/site-packages (from qiskit-terra==0.22.4->qiskit) (1.1.1)\n",
      "Requirement already satisfied: stevedore>=3.0.0 in /home/marius/.pyenv/versions/3.9.10/lib/python3.9/site-packages (from qiskit-terra==0.22.4->qiskit) (4.1.1)\n",
      "Requirement already satisfied: dill>=0.3 in /home/marius/.pyenv/versions/3.9.10/lib/python3.9/site-packages (from qiskit-terra==0.22.4->qiskit) (0.3.5.1)\n",
      "Requirement already satisfied: psutil>=5 in /home/marius/.pyenv/versions/3.9.10/lib/python3.9/site-packages (from qiskit-terra==0.22.4->qiskit) (5.9.4)\n",
      "Requirement already satisfied: symengine>=0.9 in /home/marius/.pyenv/versions/3.9.10/lib/python3.9/site-packages (from qiskit-terra==0.22.4->qiskit) (0.9.2)\n",
      "Requirement already satisfied: ply>=3.10 in /home/marius/.pyenv/versions/3.9.10/lib/python3.9/site-packages (from qiskit-terra==0.22.4->qiskit) (3.11)\n",
      "Requirement already satisfied: sympy>=1.3 in /home/marius/.pyenv/versions/3.9.10/lib/python3.9/site-packages (from qiskit-terra==0.22.4->qiskit) (1.11.1)\n",
      "Requirement already satisfied: six>=1.5 in /home/marius/.local/lib/python3.9/site-packages (from python-dateutil>=2.8.0->qiskit-ibmq-provider==0.19.2->qiskit) (1.16.0)\n",
      "Requirement already satisfied: charset-normalizer~=2.0.0 in /home/marius/.local/lib/python3.9/site-packages (from requests>=2.19->qiskit-ibmq-provider==0.19.2->qiskit) (2.0.12)\n",
      "Requirement already satisfied: idna<4,>=2.5 in /home/marius/.local/lib/python3.9/site-packages (from requests>=2.19->qiskit-ibmq-provider==0.19.2->qiskit) (3.3)\n",
      "Requirement already satisfied: certifi>=2017.4.17 in /home/marius/.pyenv/versions/3.9.10/lib/python3.9/site-packages (from requests>=2.19->qiskit-ibmq-provider==0.19.2->qiskit) (2022.5.18.1)\n",
      "Requirement already satisfied: ntlm-auth>=1.0.2 in /home/marius/.pyenv/versions/3.9.10/lib/python3.9/site-packages (from requests-ntlm>=1.1.0->qiskit-ibmq-provider==0.19.2->qiskit) (1.5.0)\n",
      "Requirement already satisfied: cryptography>=1.3 in /home/marius/.pyenv/versions/3.9.10/lib/python3.9/site-packages (from requests-ntlm>=1.1.0->qiskit-ibmq-provider==0.19.2->qiskit) (38.0.3)\n",
      "Requirement already satisfied: rustworkx==0.12.0 in /home/marius/.pyenv/versions/3.9.10/lib/python3.9/site-packages (from retworkx>=0.11.0->qiskit-terra==0.22.4->qiskit) (0.12.0)\n",
      "Requirement already satisfied: pbr!=2.1.0,>=2.0.0 in /home/marius/.pyenv/versions/3.9.10/lib/python3.9/site-packages (from stevedore>=3.0.0->qiskit-terra==0.22.4->qiskit) (5.11.0)\n",
      "Requirement already satisfied: mpmath>=0.19 in /home/marius/.pyenv/versions/3.9.10/lib/python3.9/site-packages (from sympy>=1.3->qiskit-terra==0.22.4->qiskit) (1.2.1)\n",
      "Requirement already satisfied: cffi>=1.12 in /home/marius/.local/lib/python3.9/site-packages (from cryptography>=1.3->requests-ntlm>=1.1.0->qiskit-ibmq-provider==0.19.2->qiskit) (1.15.0)\n",
      "Requirement already satisfied: pycparser in /home/marius/.local/lib/python3.9/site-packages (from cffi>=1.12->cryptography>=1.3->requests-ntlm>=1.1.0->qiskit-ibmq-provider==0.19.2->qiskit) (2.21)\n"
     ]
    }
   ],
   "source": [
    "!pip3 install qiskit --upgrade"
   ]
  },
  {
   "cell_type": "code",
   "execution_count": 75,
   "id": "ee7f8b50",
   "metadata": {
    "id": "ee7f8b50"
   },
   "outputs": [],
   "source": [
    "import qiskit\n",
    "from scipy.special import erfinv\n",
    "import numpy as np\n",
    "import pandas as pd\n",
    "import scipy as sp\n",
    "from sklearn.model_selection import train_test_split\n",
    "import time\n",
    "from qiskit.providers.ibmq.managed import IBMQJobManager\n",
    "\n",
    "qs = qiskit.Aer.get_backend('qasm_simulator')"
   ]
  },
  {
   "cell_type": "markdown",
   "id": "801e5e59-f8a7-4088-bc0a-9f454353d6cf",
   "metadata": {},
   "source": [
    "# Useful functions"
   ]
  },
  {
   "cell_type": "markdown",
   "id": "c36a7a73-13c8-4e34-a07b-fd60f783f630",
   "metadata": {},
   "source": [
    "## Preprocessing functions"
   ]
  },
  {
   "cell_type": "code",
   "execution_count": 2,
   "id": "a37e0fb4-d140-4e14-9698-eaea02edcda6",
   "metadata": {
    "tags": []
   },
   "outputs": [],
   "source": [
    "def standardise(x):\n",
    "    return (x - np.mean(x)) / np.std(x)\n",
    "\n",
    "def rescaleFeature(x, alpha, q):\n",
    "    return (1-alpha/2) * (np.pi/q) * standardise(x)"
   ]
  },
  {
   "cell_type": "markdown",
   "id": "f24482ee-0bea-4a78-952c-5d737c316ac0",
   "metadata": {},
   "source": [
    "## Circuit functions"
   ]
  },
  {
   "cell_type": "code",
   "execution_count": 3,
   "id": "3632e066-2792-4b8d-9f1e-7de5580c4c3e",
   "metadata": {},
   "outputs": [],
   "source": [
    "def psiGate(qc, param, bit):\n",
    "    qc.rx(np.pi/2, bit)\n",
    "    qc.rz(param, bit)\n",
    "    qc.rx(np.pi/2, bit)"
   ]
  },
  {
   "cell_type": "markdown",
   "id": "a37df251-b80f-4622-bd67-98ac74536e9e",
   "metadata": {},
   "source": [
    "# Quantum Classifier Class"
   ]
  },
  {
   "cell_type": "code",
   "execution_count": 4,
   "id": "2b6dcbe3-4e17-4cb5-a37f-1304194f0986",
   "metadata": {},
   "outputs": [],
   "source": [
    "def logSoftmax(label, job_results, bitstrings, nshots) :\n",
    "    if label in job_results :\n",
    "        e = np.exp(job_results[label] / nshots)\n",
    "    else :\n",
    "        e = 1\n",
    "        \n",
    "    s = 0\n",
    "    for bitstring in bitstrings :\n",
    "        if bitstring in job_results :\n",
    "            s += np.exp(job_results[bitstring] / nshots)\n",
    "        else :\n",
    "            s += 1 \n",
    "            \n",
    "    return -np.log(e / s)\n"
   ]
  },
  {
   "cell_type": "code",
   "execution_count": 160,
   "id": "59165a3f-58b4-496a-8e0c-6f80c7a72f71",
   "metadata": {},
   "outputs": [],
   "source": [
    "class QuantumClassifier:\n",
    "\n",
    "    def __init__(self, circuit_builder, bitstrings, theta_size, loss_function = logSoftmax, optimizer_method = \"COBYLA\"):\n",
    "        self.circuit_builder = circuit_builder\n",
    "        self.circuit=None\n",
    "        self.bitstrings = bitstrings\n",
    "        self.theta_size = theta_size\n",
    "        self.loss_function = loss_function\n",
    "        self.optimizer_method = optimizer_method\n",
    "        self.theta = None\n",
    "        self.nshots = 100\n",
    "        \n",
    "    \n",
    "    # Training functions\n",
    "    def executeJob(self, circuit):\n",
    "        job = qiskit.execute(circuit, shots=self.nshots, backend=qs)\n",
    "        return  job.result().get_counts()\n",
    "    \n",
    "    def build_circuit(self, theta, X, y):\n",
    "        omega = X\n",
    "\n",
    "        self.circuit = self.circuit_builder(theta, omega)\n",
    "        return self.circuit\n",
    "\n",
    "    def runCircuit(self, theta, X, y):#, backend=None):\n",
    "        self.build_circuit(theta, X, y)\n",
    "        job_results = self.executeJob(self.circuit)\n",
    "        label = y\n",
    "        \n",
    "        # if backend is not None:\n",
    "        #     mapped_circuit = qiskit.transpile(self.circuit, backend=backend)\n",
    "        #     qobj = qiskit.assemble(mapped_circuit, backend=backend, shots=self.nshots)\n",
    "        #     job = backend.run(qobj)\n",
    "        #     while(job.status().name != 'DONE'):\n",
    "        #         time.sleep(0.1)\n",
    "        #     ID = job.job_id()\n",
    "        #     job = backend.retrieve_job(ID)\n",
    "        #     job_results = job.result().get_counts()\n",
    "        return self.loss_function(label, job_results, self.bitstrings, self.nshots)\n",
    "        \n",
    "        \n",
    "    def lossBatch(self, theta, X, y, backend=None):\n",
    "    \n",
    "        total_loss = 0\n",
    "\n",
    "        batch = list(zip(X, y))\n",
    "\n",
    "        if backend is None:\n",
    "            for X_el, y_el in zip(X, y) :\n",
    "                total_loss += self.runCircuit(theta, X_el, y_el)\n",
    "        else:\n",
    "            circuit_list=[self.build_circuit(theta,X_el, y_el) for (X_el, y_el) in zip(X, y)]\n",
    "            circs = qiskit.transpile(circuit_list, backend=backend)\n",
    "            job_manager = IBMQJobManager()\n",
    "            job_set = job_manager.run(circs, backend=backend, nam='iris')\n",
    "            while(job_set.statuses()[0].name != 'DONE'):\n",
    "                time.sleep(0.1)\n",
    "                \n",
    "            results = job_set.results()\n",
    "            for i in range(len(y)):\n",
    "                total_loss+=self.loss_function(y[i], results.get_counts(i), self.bitstrings, self.nshots)\n",
    "\n",
    "        total_loss /= len(y)\n",
    "        \n",
    "        print(\"loss: \" + str(total_loss))\n",
    "        \n",
    "        return total_loss\n",
    "        \n",
    "    def fit(self, X, y, nshots=100, maxiter=20, theta=None, backend=None):\n",
    "        \n",
    "        if theta is not None:\n",
    "            self.theta = theta\n",
    "            \n",
    "        if self.theta is None:\n",
    "            self.theta = np.random.uniform(0, 2 * np.pi, self.theta_size)            \n",
    "            \n",
    "        self.nshots = nshots\n",
    "\n",
    "        opt = sp.optimize.minimize(\n",
    "            fun=lambda params : self.lossBatch(params, X, y, backend),\n",
    "            x0=self.theta,\n",
    "            method=self.optimizer_method,\n",
    "            options={'maxiter': maxiter}\n",
    "        )\n",
    "        \n",
    "        self.theta = opt.x\n",
    "        \n",
    "        return opt\n",
    "    \n",
    "    # Testing functions\n",
    "    def argmaxJobResults(self, job_results):\n",
    "        max_label_value = None\n",
    "        max_label = None\n",
    "    \n",
    "        for label in job_results :\n",
    "            if label in self.bitstrings and (max_label_value is None or job_results[label] >= max_label_value) :\n",
    "                max_label = label\n",
    "                max_label_value = job_results[label]\n",
    "        return max_label\n",
    "    \n",
    "    def predict(self, X, theta=None, nshots=100):\n",
    "        \n",
    "        if theta is not None:\n",
    "            self.theta = theta\n",
    "            \n",
    "        self.nshots = nshots\n",
    "        \n",
    "        y_pred = []\n",
    "        \n",
    "        for omega in X :    \n",
    "            self.circuit = self.circuit_builder(self.theta, omega)\n",
    "            job_results = self.executeJob(self.circuit)\n",
    "            y_pred.append(self.argmaxJobResults(job_results))\n",
    "\n",
    "        return y_pred\n",
    "\n",
    "    def compute_accuracy(self, y_pred, y) :\n",
    "        correct = 0\n",
    "\n",
    "        for y_pred_el, y_el in zip(y_pred, y) :\n",
    "            if y_pred_el == y_el :\n",
    "                correct += 1\n",
    "        \n",
    "        return correct / len(y)"
   ]
  },
  {
   "cell_type": "markdown",
   "id": "a1b906b7",
   "metadata": {},
   "source": [
    "# IRIS"
   ]
  },
  {
   "cell_type": "markdown",
   "id": "39ec5b24",
   "metadata": {
    "id": "39ec5b24"
   },
   "source": [
    "## Construct dataset"
   ]
  },
  {
   "cell_type": "markdown",
   "id": "6f8ead7e-1123-4902-98df-6fcb5c2e5559",
   "metadata": {},
   "source": [
    "### Import dataset"
   ]
  },
  {
   "cell_type": "code",
   "execution_count": 6,
   "id": "e7b1fdae-a728-4d14-ae01-b8a6fb56d215",
   "metadata": {},
   "outputs": [
    {
     "data": {
      "text/html": [
       "<div>\n",
       "<style scoped>\n",
       "    .dataframe tbody tr th:only-of-type {\n",
       "        vertical-align: middle;\n",
       "    }\n",
       "\n",
       "    .dataframe tbody tr th {\n",
       "        vertical-align: top;\n",
       "    }\n",
       "\n",
       "    .dataframe thead th {\n",
       "        text-align: right;\n",
       "    }\n",
       "</style>\n",
       "<table border=\"1\" class=\"dataframe\">\n",
       "  <thead>\n",
       "    <tr style=\"text-align: right;\">\n",
       "      <th></th>\n",
       "      <th>sepal-length</th>\n",
       "      <th>sepal-width</th>\n",
       "      <th>petal-length</th>\n",
       "      <th>petal-width</th>\n",
       "      <th>class</th>\n",
       "    </tr>\n",
       "  </thead>\n",
       "  <tbody>\n",
       "    <tr>\n",
       "      <th>0</th>\n",
       "      <td>5.1</td>\n",
       "      <td>3.5</td>\n",
       "      <td>1.4</td>\n",
       "      <td>0.2</td>\n",
       "      <td>Iris-setosa</td>\n",
       "    </tr>\n",
       "    <tr>\n",
       "      <th>1</th>\n",
       "      <td>4.9</td>\n",
       "      <td>3.0</td>\n",
       "      <td>1.4</td>\n",
       "      <td>0.2</td>\n",
       "      <td>Iris-setosa</td>\n",
       "    </tr>\n",
       "    <tr>\n",
       "      <th>2</th>\n",
       "      <td>4.7</td>\n",
       "      <td>3.2</td>\n",
       "      <td>1.3</td>\n",
       "      <td>0.2</td>\n",
       "      <td>Iris-setosa</td>\n",
       "    </tr>\n",
       "    <tr>\n",
       "      <th>3</th>\n",
       "      <td>4.6</td>\n",
       "      <td>3.1</td>\n",
       "      <td>1.5</td>\n",
       "      <td>0.2</td>\n",
       "      <td>Iris-setosa</td>\n",
       "    </tr>\n",
       "    <tr>\n",
       "      <th>4</th>\n",
       "      <td>5.0</td>\n",
       "      <td>3.6</td>\n",
       "      <td>1.4</td>\n",
       "      <td>0.2</td>\n",
       "      <td>Iris-setosa</td>\n",
       "    </tr>\n",
       "    <tr>\n",
       "      <th>...</th>\n",
       "      <td>...</td>\n",
       "      <td>...</td>\n",
       "      <td>...</td>\n",
       "      <td>...</td>\n",
       "      <td>...</td>\n",
       "    </tr>\n",
       "    <tr>\n",
       "      <th>145</th>\n",
       "      <td>6.7</td>\n",
       "      <td>3.0</td>\n",
       "      <td>5.2</td>\n",
       "      <td>2.3</td>\n",
       "      <td>Iris-virginica</td>\n",
       "    </tr>\n",
       "    <tr>\n",
       "      <th>146</th>\n",
       "      <td>6.3</td>\n",
       "      <td>2.5</td>\n",
       "      <td>5.0</td>\n",
       "      <td>1.9</td>\n",
       "      <td>Iris-virginica</td>\n",
       "    </tr>\n",
       "    <tr>\n",
       "      <th>147</th>\n",
       "      <td>6.5</td>\n",
       "      <td>3.0</td>\n",
       "      <td>5.2</td>\n",
       "      <td>2.0</td>\n",
       "      <td>Iris-virginica</td>\n",
       "    </tr>\n",
       "    <tr>\n",
       "      <th>148</th>\n",
       "      <td>6.2</td>\n",
       "      <td>3.4</td>\n",
       "      <td>5.4</td>\n",
       "      <td>2.3</td>\n",
       "      <td>Iris-virginica</td>\n",
       "    </tr>\n",
       "    <tr>\n",
       "      <th>149</th>\n",
       "      <td>5.9</td>\n",
       "      <td>3.0</td>\n",
       "      <td>5.1</td>\n",
       "      <td>1.8</td>\n",
       "      <td>Iris-virginica</td>\n",
       "    </tr>\n",
       "  </tbody>\n",
       "</table>\n",
       "<p>150 rows × 5 columns</p>\n",
       "</div>"
      ],
      "text/plain": [
       "     sepal-length  sepal-width  petal-length  petal-width           class\n",
       "0             5.1          3.5           1.4          0.2     Iris-setosa\n",
       "1             4.9          3.0           1.4          0.2     Iris-setosa\n",
       "2             4.7          3.2           1.3          0.2     Iris-setosa\n",
       "3             4.6          3.1           1.5          0.2     Iris-setosa\n",
       "4             5.0          3.6           1.4          0.2     Iris-setosa\n",
       "..            ...          ...           ...          ...             ...\n",
       "145           6.7          3.0           5.2          2.3  Iris-virginica\n",
       "146           6.3          2.5           5.0          1.9  Iris-virginica\n",
       "147           6.5          3.0           5.2          2.0  Iris-virginica\n",
       "148           6.2          3.4           5.4          2.3  Iris-virginica\n",
       "149           5.9          3.0           5.1          1.8  Iris-virginica\n",
       "\n",
       "[150 rows x 5 columns]"
      ]
     },
     "execution_count": 6,
     "metadata": {},
     "output_type": "execute_result"
    }
   ],
   "source": [
    "df_iris = pd.read_csv(\"iris.data\")\n",
    "df_iris"
   ]
  },
  {
   "cell_type": "markdown",
   "id": "cf73ca45-ee64-48a5-a42e-edfaf8d11946",
   "metadata": {},
   "source": [
    "### Preprocess"
   ]
  },
  {
   "cell_type": "code",
   "execution_count": 7,
   "id": "1401a0fe-cff1-4d5e-85dc-56e9b4b088f5",
   "metadata": {
    "id": "57aae14e"
   },
   "outputs": [
    {
     "data": {
      "text/html": [
       "<div>\n",
       "<style scoped>\n",
       "    .dataframe tbody tr th:only-of-type {\n",
       "        vertical-align: middle;\n",
       "    }\n",
       "\n",
       "    .dataframe tbody tr th {\n",
       "        vertical-align: top;\n",
       "    }\n",
       "\n",
       "    .dataframe thead th {\n",
       "        text-align: right;\n",
       "    }\n",
       "</style>\n",
       "<table border=\"1\" class=\"dataframe\">\n",
       "  <thead>\n",
       "    <tr style=\"text-align: right;\">\n",
       "      <th></th>\n",
       "      <th>sepal-length</th>\n",
       "      <th>sepal-width</th>\n",
       "      <th>petal-length</th>\n",
       "      <th>petal-width</th>\n",
       "      <th>class</th>\n",
       "    </tr>\n",
       "  </thead>\n",
       "  <tbody>\n",
       "    <tr>\n",
       "      <th>0</th>\n",
       "      <td>-0.896032</td>\n",
       "      <td>1.026729</td>\n",
       "      <td>-1.334348</td>\n",
       "      <td>-1.306199</td>\n",
       "      <td>Iris-setosa</td>\n",
       "    </tr>\n",
       "    <tr>\n",
       "      <th>1</th>\n",
       "      <td>-1.137116</td>\n",
       "      <td>-0.124313</td>\n",
       "      <td>-1.334348</td>\n",
       "      <td>-1.306199</td>\n",
       "      <td>Iris-setosa</td>\n",
       "    </tr>\n",
       "    <tr>\n",
       "      <th>2</th>\n",
       "      <td>-1.378201</td>\n",
       "      <td>0.336104</td>\n",
       "      <td>-1.390920</td>\n",
       "      <td>-1.306199</td>\n",
       "      <td>Iris-setosa</td>\n",
       "    </tr>\n",
       "    <tr>\n",
       "      <th>3</th>\n",
       "      <td>-1.498743</td>\n",
       "      <td>0.105896</td>\n",
       "      <td>-1.277776</td>\n",
       "      <td>-1.306199</td>\n",
       "      <td>Iris-setosa</td>\n",
       "    </tr>\n",
       "    <tr>\n",
       "      <th>4</th>\n",
       "      <td>-1.016574</td>\n",
       "      <td>1.256938</td>\n",
       "      <td>-1.334348</td>\n",
       "      <td>-1.306199</td>\n",
       "      <td>Iris-setosa</td>\n",
       "    </tr>\n",
       "    <tr>\n",
       "      <th>...</th>\n",
       "      <td>...</td>\n",
       "      <td>...</td>\n",
       "      <td>...</td>\n",
       "      <td>...</td>\n",
       "      <td>...</td>\n",
       "    </tr>\n",
       "    <tr>\n",
       "      <th>145</th>\n",
       "      <td>1.032646</td>\n",
       "      <td>-0.124313</td>\n",
       "      <td>0.815393</td>\n",
       "      <td>1.440481</td>\n",
       "      <td>Iris-virginica</td>\n",
       "    </tr>\n",
       "    <tr>\n",
       "      <th>146</th>\n",
       "      <td>0.550477</td>\n",
       "      <td>-1.275354</td>\n",
       "      <td>0.702249</td>\n",
       "      <td>0.917304</td>\n",
       "      <td>Iris-virginica</td>\n",
       "    </tr>\n",
       "    <tr>\n",
       "      <th>147</th>\n",
       "      <td>0.791562</td>\n",
       "      <td>-0.124313</td>\n",
       "      <td>0.815393</td>\n",
       "      <td>1.048098</td>\n",
       "      <td>Iris-virginica</td>\n",
       "    </tr>\n",
       "    <tr>\n",
       "      <th>148</th>\n",
       "      <td>0.429934</td>\n",
       "      <td>0.796521</td>\n",
       "      <td>0.928537</td>\n",
       "      <td>1.440481</td>\n",
       "      <td>Iris-virginica</td>\n",
       "    </tr>\n",
       "    <tr>\n",
       "      <th>149</th>\n",
       "      <td>0.068307</td>\n",
       "      <td>-0.124313</td>\n",
       "      <td>0.758821</td>\n",
       "      <td>0.786510</td>\n",
       "      <td>Iris-virginica</td>\n",
       "    </tr>\n",
       "  </tbody>\n",
       "</table>\n",
       "<p>150 rows × 5 columns</p>\n",
       "</div>"
      ],
      "text/plain": [
       "     sepal-length  sepal-width  petal-length  petal-width           class\n",
       "0       -0.896032     1.026729     -1.334348    -1.306199     Iris-setosa\n",
       "1       -1.137116    -0.124313     -1.334348    -1.306199     Iris-setosa\n",
       "2       -1.378201     0.336104     -1.390920    -1.306199     Iris-setosa\n",
       "3       -1.498743     0.105896     -1.277776    -1.306199     Iris-setosa\n",
       "4       -1.016574     1.256938     -1.334348    -1.306199     Iris-setosa\n",
       "..            ...          ...           ...          ...             ...\n",
       "145      1.032646    -0.124313      0.815393     1.440481  Iris-virginica\n",
       "146      0.550477    -1.275354      0.702249     0.917304  Iris-virginica\n",
       "147      0.791562    -0.124313      0.815393     1.048098  Iris-virginica\n",
       "148      0.429934     0.796521      0.928537     1.440481  Iris-virginica\n",
       "149      0.068307    -0.124313      0.758821     0.786510  Iris-virginica\n",
       "\n",
       "[150 rows x 5 columns]"
      ]
     },
     "execution_count": 7,
     "metadata": {},
     "output_type": "execute_result"
    }
   ],
   "source": [
    "alpha = 0.1\n",
    "q = 3\n",
    "\n",
    "#q = 3 fixé dans le papier\n",
    "\n",
    "attributes = df_iris.columns[:-1]\n",
    "\n",
    "for x in attributes:\n",
    "    df_iris[x] = rescaleFeature(df_iris[x], alpha, q)\n",
    "\n",
    "df_iris"
   ]
  },
  {
   "cell_type": "code",
   "execution_count": 8,
   "id": "2212a6e4-ba2c-4c7e-907b-5ed60bea3b53",
   "metadata": {
    "id": "57aae14e"
   },
   "outputs": [
    {
     "data": {
      "text/html": [
       "<div>\n",
       "<style scoped>\n",
       "    .dataframe tbody tr th:only-of-type {\n",
       "        vertical-align: middle;\n",
       "    }\n",
       "\n",
       "    .dataframe tbody tr th {\n",
       "        vertical-align: top;\n",
       "    }\n",
       "\n",
       "    .dataframe thead th {\n",
       "        text-align: right;\n",
       "    }\n",
       "</style>\n",
       "<table border=\"1\" class=\"dataframe\">\n",
       "  <thead>\n",
       "    <tr style=\"text-align: right;\">\n",
       "      <th></th>\n",
       "      <th>sepal-length</th>\n",
       "      <th>sepal-width</th>\n",
       "      <th>petal-length</th>\n",
       "      <th>petal-width</th>\n",
       "      <th>class</th>\n",
       "    </tr>\n",
       "  </thead>\n",
       "  <tbody>\n",
       "    <tr>\n",
       "      <th>0</th>\n",
       "      <td>-0.896032</td>\n",
       "      <td>1.026729</td>\n",
       "      <td>-1.334348</td>\n",
       "      <td>-1.306199</td>\n",
       "      <td>00</td>\n",
       "    </tr>\n",
       "    <tr>\n",
       "      <th>1</th>\n",
       "      <td>-1.137116</td>\n",
       "      <td>-0.124313</td>\n",
       "      <td>-1.334348</td>\n",
       "      <td>-1.306199</td>\n",
       "      <td>00</td>\n",
       "    </tr>\n",
       "    <tr>\n",
       "      <th>2</th>\n",
       "      <td>-1.378201</td>\n",
       "      <td>0.336104</td>\n",
       "      <td>-1.390920</td>\n",
       "      <td>-1.306199</td>\n",
       "      <td>00</td>\n",
       "    </tr>\n",
       "    <tr>\n",
       "      <th>3</th>\n",
       "      <td>-1.498743</td>\n",
       "      <td>0.105896</td>\n",
       "      <td>-1.277776</td>\n",
       "      <td>-1.306199</td>\n",
       "      <td>00</td>\n",
       "    </tr>\n",
       "    <tr>\n",
       "      <th>4</th>\n",
       "      <td>-1.016574</td>\n",
       "      <td>1.256938</td>\n",
       "      <td>-1.334348</td>\n",
       "      <td>-1.306199</td>\n",
       "      <td>00</td>\n",
       "    </tr>\n",
       "    <tr>\n",
       "      <th>...</th>\n",
       "      <td>...</td>\n",
       "      <td>...</td>\n",
       "      <td>...</td>\n",
       "      <td>...</td>\n",
       "      <td>...</td>\n",
       "    </tr>\n",
       "    <tr>\n",
       "      <th>145</th>\n",
       "      <td>1.032646</td>\n",
       "      <td>-0.124313</td>\n",
       "      <td>0.815393</td>\n",
       "      <td>1.440481</td>\n",
       "      <td>10</td>\n",
       "    </tr>\n",
       "    <tr>\n",
       "      <th>146</th>\n",
       "      <td>0.550477</td>\n",
       "      <td>-1.275354</td>\n",
       "      <td>0.702249</td>\n",
       "      <td>0.917304</td>\n",
       "      <td>10</td>\n",
       "    </tr>\n",
       "    <tr>\n",
       "      <th>147</th>\n",
       "      <td>0.791562</td>\n",
       "      <td>-0.124313</td>\n",
       "      <td>0.815393</td>\n",
       "      <td>1.048098</td>\n",
       "      <td>10</td>\n",
       "    </tr>\n",
       "    <tr>\n",
       "      <th>148</th>\n",
       "      <td>0.429934</td>\n",
       "      <td>0.796521</td>\n",
       "      <td>0.928537</td>\n",
       "      <td>1.440481</td>\n",
       "      <td>10</td>\n",
       "    </tr>\n",
       "    <tr>\n",
       "      <th>149</th>\n",
       "      <td>0.068307</td>\n",
       "      <td>-0.124313</td>\n",
       "      <td>0.758821</td>\n",
       "      <td>0.786510</td>\n",
       "      <td>10</td>\n",
       "    </tr>\n",
       "  </tbody>\n",
       "</table>\n",
       "<p>150 rows × 5 columns</p>\n",
       "</div>"
      ],
      "text/plain": [
       "     sepal-length  sepal-width  petal-length  petal-width class\n",
       "0       -0.896032     1.026729     -1.334348    -1.306199    00\n",
       "1       -1.137116    -0.124313     -1.334348    -1.306199    00\n",
       "2       -1.378201     0.336104     -1.390920    -1.306199    00\n",
       "3       -1.498743     0.105896     -1.277776    -1.306199    00\n",
       "4       -1.016574     1.256938     -1.334348    -1.306199    00\n",
       "..            ...          ...           ...          ...   ...\n",
       "145      1.032646    -0.124313      0.815393     1.440481    10\n",
       "146      0.550477    -1.275354      0.702249     0.917304    10\n",
       "147      0.791562    -0.124313      0.815393     1.048098    10\n",
       "148      0.429934     0.796521      0.928537     1.440481    10\n",
       "149      0.068307    -0.124313      0.758821     0.786510    10\n",
       "\n",
       "[150 rows x 5 columns]"
      ]
     },
     "execution_count": 8,
     "metadata": {},
     "output_type": "execute_result"
    }
   ],
   "source": [
    "diconvert = {\n",
    "    \"Iris-setosa\" : \"00\",\n",
    "    \"Iris-versicolor\" : \"01\",\n",
    "    \"Iris-virginica\" : \"10\"\n",
    "}\n",
    "\n",
    "df_iris = df_iris.replace({\"class\": diconvert})\n",
    "df_iris"
   ]
  },
  {
   "cell_type": "code",
   "execution_count": 9,
   "id": "af4fb61b-167e-4aa4-a590-86f2a51ee501",
   "metadata": {
    "id": "57aae14e"
   },
   "outputs": [],
   "source": [
    "X_iris = df_iris[attributes].values\n",
    "y_iris = df_iris[\"class\"].values"
   ]
  },
  {
   "cell_type": "markdown",
   "id": "31fe2a8a-b57b-42f3-8e5c-842df05a0081",
   "metadata": {},
   "source": [
    "### Split"
   ]
  },
  {
   "cell_type": "code",
   "execution_count": 10,
   "id": "a6781711-4d52-43a8-8b21-7cb0f6ab419a",
   "metadata": {
    "id": "57aae14e"
   },
   "outputs": [],
   "source": [
    "train_size = 90\n",
    "test_size = 60\n",
    "\n",
    "X_train_iris, X_test_iris, y_train_iris, y_test_iris = train_test_split(X_iris, y_iris, test_size=test_size, train_size=train_size, stratify=y_iris)"
   ]
  },
  {
   "cell_type": "markdown",
   "id": "954e97a9-b134-4246-91e3-357e7699d789",
   "metadata": {},
   "source": [
    "## Circuit"
   ]
  },
  {
   "cell_type": "code",
   "execution_count": 11,
   "id": "eb6b2bdd",
   "metadata": {
    "id": "eb6b2bdd"
   },
   "outputs": [],
   "source": [
    "def irisCircuit(theta, omega):\n",
    "    qc = qiskit.QuantumCircuit(2, 2)\n",
    "    \n",
    "    iris_circuit = qiskit.QuantumCircuit(2)\n",
    "    for i in range(4):\n",
    "        if i : iris_circuit.cz(0, 1)\n",
    "        psiGate(iris_circuit, omega[(2*i) % 4], 0)\n",
    "        psiGate(iris_circuit, omega[(2*i+1) % 4], 1)\n",
    "        \n",
    "        iris_circuit.cz(0, 1)\n",
    "        \n",
    "        psiGate(iris_circuit, theta[(2*i)], 0)\n",
    "        psiGate(iris_circuit, theta[(2*i+1)], 1)\n",
    "        \n",
    "    qc.append(iris_circuit, range(2))\n",
    "    qc.measure(range(2), range(2))\n",
    "    \n",
    "    return qc"
   ]
  },
  {
   "cell_type": "code",
   "execution_count": 12,
   "id": "d7d5ccff-01e0-4456-9768-9f4723c1bdf1",
   "metadata": {},
   "outputs": [
    {
     "data": {
      "image/png": "[encoded data removed]",
      "text/plain": [
       "<Figure size 2073.05x204.68 with 1 Axes>"
      ]
     },
     "execution_count": 12,
     "metadata": {},
     "output_type": "execute_result"
    }
   ],
   "source": [
    "irisCircuit(np.zeros(8), np.zeros(4)).decompose().draw(\"mpl\", fold=40)"
   ]
  },
  {
   "cell_type": "markdown",
   "id": "c5a49de3-7c4b-4a76-bcaf-ee3f42dd03ad",
   "metadata": {},
   "source": [
    "## Train"
   ]
  },
  {
   "cell_type": "code",
   "execution_count": 14,
   "id": "8db45951-258f-4e0e-84fb-1535e4153541",
   "metadata": {},
   "outputs": [],
   "source": [
    "iris_classifier = QuantumClassifier(irisCircuit, ['00', '01', '10'], 8)"
   ]
  },
  {
   "cell_type": "code",
   "execution_count": 15,
   "id": "18debf5b",
   "metadata": {},
   "outputs": [
    {
     "name": "stdout",
     "output_type": "stream",
     "text": [
      "loss: 1.175811759254159\n",
      "loss: 1.1896338127937047\n",
      "loss: 1.19581358461027\n",
      "loss: 1.1347985606615043\n",
      "loss: 1.0408848437804168\n",
      "loss: 0.983859771787368\n",
      "loss: 1.103831560461905\n",
      "loss: 1.0162322505079942\n",
      "loss: 0.9779502747660407\n",
      "loss: 1.0734267025241582\n",
      "loss: 0.9717268313987769\n",
      "loss: 0.9999130287047288\n",
      "loss: 0.932813906943001\n",
      "loss: 0.9494630657106204\n",
      "loss: 0.9468327461305661\n",
      "loss: 0.9635379252501236\n",
      "loss: 0.9543052009116323\n",
      "loss: 0.9451035317667277\n",
      "loss: 0.9509956617056228\n",
      "loss: 0.9278282939174113\n"
     ]
    }
   ],
   "source": [
    "opt_iris = iris_classifier.fit(X_train_iris, y_train_iris, nshots=250, maxiter=20)"
   ]
  },
  {
   "cell_type": "code",
   "execution_count": 16,
   "id": "f8f6895d",
   "metadata": {},
   "outputs": [
    {
     "name": "stdout",
     "output_type": "stream",
     "text": [
      "loss: 0.922614633055638\n",
      "loss: 0.9744471984237355\n",
      "loss: 1.0078556093436286\n",
      "loss: 0.9537027836085555\n",
      "loss: 1.0058145135138794\n",
      "loss: 0.9538254036571503\n",
      "loss: 1.0029002613174\n",
      "loss: 1.0226577910998178\n",
      "loss: 1.0057770122441088\n",
      "loss: 0.9554914214779937\n",
      "loss: 0.9215857278150008\n",
      "loss: 0.9216883103929681\n",
      "loss: 0.9142386585269189\n",
      "loss: 0.9253251176440193\n",
      "loss: 0.9151961754937749\n",
      "loss: 0.914433343897233\n",
      "loss: 0.9162055808025138\n",
      "loss: 0.9117504786439301\n",
      "loss: 0.9136384589808669\n",
      "loss: 0.8914675921200197\n",
      "loss: 0.8881529993230061\n",
      "loss: 0.882777173703356\n",
      "loss: 0.8867026981052963\n",
      "loss: 0.8824051888662753\n",
      "loss: 0.8864412586335376\n",
      "loss: 0.8823278646777084\n",
      "loss: 0.8903293300569418\n",
      "loss: 0.8833404197601696\n",
      "loss: 0.8877827904266167\n",
      "loss: 0.8853740903452941\n"
     ]
    }
   ],
   "source": [
    "opt_iris = iris_classifier.fit(X_train_iris, y_train_iris, nshots=500, maxiter=30)"
   ]
  },
  {
   "cell_type": "code",
   "execution_count": 17,
   "id": "3bd95424",
   "metadata": {},
   "outputs": [
    {
     "name": "stdout",
     "output_type": "stream",
     "text": [
      "loss: 0.883233437725923\n",
      "loss: 0.9529052171113899\n",
      "loss: 0.9557908005092287\n",
      "loss: 0.9441808152668172\n",
      "loss: 0.9537243953669478\n",
      "loss: 0.9554837165999202\n",
      "loss: 0.9561481641447385\n",
      "loss: 0.9412639349046944\n",
      "loss: 0.9640941625158733\n",
      "loss: 0.9334617883808849\n",
      "loss: 0.8949762231968851\n",
      "loss: 0.8883877130179492\n",
      "loss: 0.8852364028234985\n",
      "loss: 0.8836355543596509\n",
      "loss: 0.8861222768633603\n",
      "loss: 0.8963103475497429\n",
      "loss: 0.8851007797606305\n",
      "loss: 0.8847622468479006\n",
      "loss: 0.8869183079120475\n",
      "loss: 0.8843000868803926\n",
      "loss: 0.88421733639921\n",
      "loss: 0.8835621103598829\n",
      "loss: 0.8805270842910026\n",
      "loss: 0.8807012320594786\n",
      "loss: 0.8834605756173982\n",
      "loss: 0.8811981143116235\n",
      "loss: 0.882998776913469\n",
      "loss: 0.8831033152910944\n",
      "loss: 0.8814482268338738\n",
      "loss: 0.8819917467798332\n",
      "loss: 0.8825211655121178\n",
      "loss: 0.8832017199656264\n",
      "loss: 0.8816780191653396\n",
      "loss: 0.883174455825304\n",
      "loss: 0.8837979575102639\n",
      "loss: 0.880726129800895\n",
      "loss: 0.8816389832958836\n",
      "loss: 0.880644512001272\n",
      "loss: 0.8811908765575189\n",
      "loss: 0.8813682452406555\n",
      "loss: 0.8805874294565454\n",
      "loss: 0.8823419642432896\n",
      "loss: 0.882343039549172\n",
      "loss: 0.8825180844722078\n",
      "loss: 0.8816707066802952\n",
      "loss: 0.8835927905302089\n",
      "loss: 0.8817432585042444\n",
      "loss: 0.8828119115593527\n",
      "loss: 0.8818133639469132\n",
      "loss: 0.8825986860819603\n",
      "loss: 0.8809450946457164\n",
      "loss: 0.8814393928214648\n",
      "loss: 0.8821173596770419\n",
      "loss: 0.8808957021215312\n",
      "loss: 0.8822155727129225\n",
      "loss: 0.8806280553568303\n",
      "loss: 0.8838811956595752\n",
      "loss: 0.8846182830356472\n",
      "loss: 0.8818217332352144\n",
      "loss: 0.881200243376245\n",
      "loss: 0.8827653004210313\n",
      "loss: 0.8809929637607874\n",
      "loss: 0.8823408587359353\n",
      "loss: 0.8818825179839207\n",
      "loss: 0.8825943702369379\n",
      "loss: 0.8830018216692344\n",
      "loss: 0.8811316231931612\n",
      "loss: 0.8826250780210695\n",
      "loss: 0.8851310886009449\n",
      "loss: 0.8812651551654359\n"
     ]
    }
   ],
   "source": [
    "opt_iris = iris_classifier.fit(X_train_iris, y_train_iris, nshots=750, maxiter=70)"
   ]
  },
  {
   "cell_type": "markdown",
   "id": "b518ffea-ca72-4822-ba89-b94ca822a88b",
   "metadata": {},
   "source": [
    "## Compute results"
   ]
  },
  {
   "cell_type": "code",
   "execution_count": 18,
   "id": "c9ee17ee-6ab8-46fc-b332-adc2bf602ffa",
   "metadata": {},
   "outputs": [
    {
     "data": {
      "text/plain": [
       "0.7"
      ]
     },
     "execution_count": 18,
     "metadata": {},
     "output_type": "execute_result"
    }
   ],
   "source": [
    "y_pred_iris = iris_classifier.predict(X_train_iris)\n",
    "iris_classifier.compute_accuracy(y_pred_iris, y_train_iris)"
   ]
  },
  {
   "cell_type": "code",
   "execution_count": 19,
   "id": "63ce36fe",
   "metadata": {
    "id": "63ce36fe"
   },
   "outputs": [
    {
     "data": {
      "text/plain": [
       "0.6333333333333333"
      ]
     },
     "execution_count": 19,
     "metadata": {},
     "output_type": "execute_result"
    }
   ],
   "source": [
    "y_pred_iris = iris_classifier.predict(X_test_iris)\n",
    "iris_classifier.compute_accuracy(y_pred_iris, y_test_iris)"
   ]
  },
  {
   "cell_type": "markdown",
   "id": "594a00a8",
   "metadata": {},
   "source": [
    "# Gaussian XOR"
   ]
  },
  {
   "cell_type": "markdown",
   "id": "a29b036d-f86c-4858-95ba-1919b481bde2",
   "metadata": {},
   "source": [
    "## Construct dataset"
   ]
  },
  {
   "cell_type": "markdown",
   "id": "f4880313-5115-43e7-a127-1f03bd9932ed",
   "metadata": {},
   "source": [
    "### Generate dataset"
   ]
  },
  {
   "cell_type": "code",
   "execution_count": 20,
   "id": "1b4a5dfd-756d-472c-8c76-67ad03f51b29",
   "metadata": {},
   "outputs": [],
   "source": [
    "import numpy as np\n",
    "import math"
   ]
  },
  {
   "cell_type": "code",
   "execution_count": 21,
   "id": "ed504155-5c7b-4a49-82f9-36230dc58e91",
   "metadata": {},
   "outputs": [],
   "source": [
    "def generate_gaussian_point(x, y) :\n",
    "    pick_x = np.random.normal(loc=x, scale = 0.5)\n",
    "    pick_y = np.random.normal(loc=y, scale = 0.5)\n",
    "    return [pick_x, pick_y]"
   ]
  },
  {
   "cell_type": "code",
   "execution_count": 22,
   "id": "3557a9fa-08ee-427d-ad1d-3e4d95ec704a",
   "metadata": {},
   "outputs": [],
   "source": [
    "#dans le papier ils utilisent 1.5 et non pi / 2, a tester...\n",
    "\n",
    "center1 = (-np.pi / 2, 0)\n",
    "center2 = (np.pi / 2, 0)\n",
    "center3 = (0, -np.pi / 2)\n",
    "center4 = (0, np.pi / 2)\n",
    "\n",
    "centers = [center1, center2, center3, center4]\n"
   ]
  },
  {
   "cell_type": "code",
   "execution_count": 23,
   "id": "cd7cd6a7-ee55-479f-953c-ca177528195a",
   "metadata": {},
   "outputs": [],
   "source": [
    "X_train_xor = []\n",
    "y_train_xor = []\n",
    "\n",
    "for i in range(20) :\n",
    "    X_train_xor.append(generate_gaussian_point(*center1))\n",
    "    y_train_xor.append(0)\n",
    "    \n",
    "    X_train_xor.append(generate_gaussian_point(*center2))\n",
    "    y_train_xor.append(0)\n",
    "    \n",
    "    X_train_xor.append(generate_gaussian_point(*center3))\n",
    "    y_train_xor.append(1)\n",
    "    \n",
    "    X_train_xor.append(generate_gaussian_point(*center4))\n",
    "    y_train_xor.append(1)\n",
    "    \n",
    "X_train_xor = np.array(X_train_xor)\n",
    "y_train_xor = np.array(y_train_xor)"
   ]
  },
  {
   "cell_type": "code",
   "execution_count": 24,
   "id": "7e20849e-fa00-4529-bcd8-98b82b6c5c91",
   "metadata": {},
   "outputs": [],
   "source": [
    "lin = np.linspace(-np.pi, np.pi, num = 50)\n",
    "X_test_xor = np.array([[x, y] for x in lin for y in lin])\n",
    "\n",
    "y_test_xor = [1 if abs(el[0]) < abs(el[1]) else 0 for el in X_test_xor]"
   ]
  },
  {
   "cell_type": "code",
   "execution_count": 25,
   "id": "da085843-21ee-4f8d-9659-a35efa02eeea",
   "metadata": {},
   "outputs": [
    {
     "data": {
      "text/plain": [
       "(-3.141592653589793, 3.141592653589793)"
      ]
     },
     "execution_count": 25,
     "metadata": {},
     "output_type": "execute_result"
    },
    {
     "data": {
      "image/png": "[encoded data removed]",
      "text/plain": [
       "<Figure size 360x360 with 1 Axes>"
      ]
     },
     "metadata": {
      "needs_background": "light"
     },
     "output_type": "display_data"
    }
   ],
   "source": [
    "import matplotlib.pyplot as plt\n",
    "\n",
    "plt.rcParams['figure.figsize'] = [5,5]\n",
    "\n",
    "c = [\"blue\" if el==0 else \"red\" for el in y_train_xor]\n",
    "\n",
    "plt.scatter(X_train_xor[:, 0], X_train_xor[:, 1], color=c)\n",
    "\n",
    "x,y = zip(*centers)\n",
    "plt.scatter(x, y, color='green')\n",
    "\n",
    "\n",
    "\n",
    "x = np.linspace(-np.pi, np.pi, 100)\n",
    "y = x\n",
    "y2 = - x\n",
    "\n",
    "plt.plot(x,y)\n",
    "plt.plot(x,y2)\n",
    "\n",
    "plt.xlim([-np.pi, np.pi])\n",
    "plt.ylim([-np.pi, np.pi])"
   ]
  },
  {
   "cell_type": "markdown",
   "id": "be653f45-5374-416f-8523-23d20d13e76e",
   "metadata": {},
   "source": [
    "### Preprocess"
   ]
  },
  {
   "cell_type": "code",
   "execution_count": 26,
   "id": "4b899521-2e4f-4506-ac17-7d91799d1a4e",
   "metadata": {},
   "outputs": [
    {
     "data": {
      "text/plain": [
       "['00', '00', '10', '10', '00', '00', '10', '10', '00', '00']"
      ]
     },
     "execution_count": 26,
     "metadata": {},
     "output_type": "execute_result"
    }
   ],
   "source": [
    "diconvert = {\n",
    "    0 : \"00\",\n",
    "    1 : \"10\",\n",
    "}\n",
    "\n",
    "new_y_train_xor = [diconvert[x] for x in y_train_xor]\n",
    "new_y_test_xor = [diconvert[x] for x in y_test_xor]\n",
    "\n",
    "y_train_xor = new_y_train_xor\n",
    "y_test_xor = new_y_test_xor\n",
    "\n",
    "y_train_xor[:10]"
   ]
  },
  {
   "cell_type": "markdown",
   "id": "12164653-08fd-4ac3-9127-86598882d3ec",
   "metadata": {},
   "source": [
    "## Circuit"
   ]
  },
  {
   "cell_type": "code",
   "execution_count": 27,
   "id": "1210de68-21a9-4e47-b9b3-c74e3f636826",
   "metadata": {},
   "outputs": [],
   "source": [
    "def xorCircuit(theta, omega):\n",
    "    qc = qiskit.QuantumCircuit(2, 2)\n",
    "    \n",
    "    xor_circuit = qiskit.QuantumCircuit(2)\n",
    "    \n",
    "    psiGate(xor_circuit, omega[0], 0)\n",
    "    psiGate(xor_circuit, omega[1], 1)\n",
    "    \n",
    "    for i in range(2):\n",
    "        xor_circuit.cz(0, 1)\n",
    "        psiGate(xor_circuit, theta[2*i], 0)\n",
    "        psiGate(xor_circuit, theta[2*i+1], 1)\n",
    "        \n",
    "    \n",
    "    qc.append(xor_circuit, range(2))\n",
    "    qc.measure(range(2), range(2))\n",
    "    return qc"
   ]
  },
  {
   "cell_type": "code",
   "execution_count": 28,
   "id": "6463dcfa-ea6d-41ec-9270-80b725cae6c5",
   "metadata": {},
   "outputs": [
    {
     "data": {
      "image/png": "[encoded data removed]",
      "text/plain": [
       "<Figure size 869.052x204.68 with 1 Axes>"
      ]
     },
     "execution_count": 28,
     "metadata": {},
     "output_type": "execute_result"
    }
   ],
   "source": [
    "xorCircuit(np.zeros(8), np.zeros(4)).decompose().draw(\"mpl\", fold=40)"
   ]
  },
  {
   "cell_type": "markdown",
   "id": "f3f4ba1d-0841-454a-995c-9c0b6c7d84ab",
   "metadata": {},
   "source": [
    "## Train"
   ]
  },
  {
   "cell_type": "code",
   "execution_count": 29,
   "id": "06b82f55-5806-45d4-aa7b-839cc99bf82e",
   "metadata": {},
   "outputs": [],
   "source": [
    "xor_classifier = QuantumClassifier(xorCircuit, ['00', '10'], 4)"
   ]
  },
  {
   "cell_type": "code",
   "execution_count": 30,
   "id": "83080e8f",
   "metadata": {},
   "outputs": [
    {
     "name": "stdout",
     "output_type": "stream",
     "text": [
      "loss: 0.6727512178859979\n",
      "loss: 0.6849869676166216\n",
      "loss: 0.7006662448216698\n",
      "loss: 0.6290489235415447\n",
      "loss: 0.6377358507400109\n",
      "loss: 0.6716811128731204\n",
      "loss: 0.6285963278014398\n",
      "loss: 0.6254443137593345\n",
      "loss: 0.6302813028446386\n",
      "loss: 0.6363983796688504\n",
      "loss: 0.6250260435984829\n",
      "loss: 0.6329105764582554\n",
      "loss: 0.6277053523098954\n",
      "loss: 0.6066448824688462\n",
      "loss: 0.5952367133002955\n",
      "loss: 0.5854014177784589\n",
      "loss: 0.5708585821597263\n",
      "loss: 0.5594610558321371\n",
      "loss: 0.5574811978486798\n",
      "loss: 0.5818127507823861\n",
      "loss: 0.5510744909423072\n",
      "loss: 0.5292524168829524\n",
      "loss: 0.5203397681860087\n",
      "loss: 0.5120133489649807\n",
      "loss: 0.5024822893414654\n",
      "loss: 0.5114489052036391\n",
      "loss: 0.5000449173646556\n",
      "loss: 0.5004535432784012\n",
      "loss: 0.4994738897659488\n",
      "loss: 0.5029990783972033\n",
      "loss: 0.5005420358416723\n",
      "loss: 0.502246858683995\n",
      "loss: 0.49686018934812415\n",
      "loss: 0.4992346972060844\n",
      "loss: 0.49801788069335784\n",
      "loss: 0.4982024385128847\n",
      "loss: 0.4992656597245572\n",
      "loss: 0.4992033488633771\n",
      "loss: 0.49927772247130264\n",
      "loss: 0.49871668125985325\n",
      "loss: 0.4989020418524882\n",
      "loss: 0.49934249781810036\n",
      "loss: 0.49800299815221444\n",
      "loss: 0.49943856314920076\n",
      "loss: 0.5002926926406274\n",
      "loss: 0.4989693316493987\n",
      "loss: 0.4996495883201203\n",
      "loss: 0.49938396225409826\n",
      "loss: 0.4989981501020024\n",
      "loss: 0.4993756004467584\n",
      "loss: 0.49904095995703057\n",
      "loss: 0.49985927351934994\n",
      "loss: 0.49790834909822024\n",
      "loss: 0.49932115872449934\n",
      "loss: 0.4990909238108581\n",
      "loss: 0.5006051839015886\n",
      "loss: 0.4999929503719479\n",
      "loss: 0.5000245048206102\n",
      "loss: 0.49811047242370304\n",
      "loss: 0.499811597137767\n",
      "loss: 0.4981132645349976\n",
      "loss: 0.5013710334891119\n"
     ]
    },
    {
     "data": {
      "text/plain": [
       "     fun: 0.5013710334891119\n",
       "   maxcv: 0.0\n",
       " message: 'Optimization terminated successfully.'\n",
       "    nfev: 62\n",
       "  status: 1\n",
       " success: True\n",
       "       x: array([4.71774308, 3.23938298, 7.97271532, 6.30367674])"
      ]
     },
     "execution_count": 30,
     "metadata": {},
     "output_type": "execute_result"
    }
   ],
   "source": [
    "xor_opt = xor_classifier.fit(X_train_xor, y_train_xor, nshots=250, maxiter=80)\n",
    "xor_opt"
   ]
  },
  {
   "cell_type": "markdown",
   "id": "d96cafbc-bd77-429a-b5df-736332b0ee93",
   "metadata": {},
   "source": [
    "## Compute results"
   ]
  },
  {
   "cell_type": "code",
   "execution_count": 31,
   "id": "8c527cb7-3e5e-4e23-b26f-0f5a3a49f593",
   "metadata": {},
   "outputs": [
    {
     "data": {
      "text/plain": [
       "1.0"
      ]
     },
     "execution_count": 31,
     "metadata": {},
     "output_type": "execute_result"
    }
   ],
   "source": [
    "y_pred_xor = xor_classifier.predict(X_train_xor)\n",
    "xor_classifier.compute_accuracy(y_pred_xor, y_train_xor)"
   ]
  },
  {
   "cell_type": "code",
   "execution_count": 32,
   "id": "6cd3cff5-963d-4cb8-89a8-c37e7301ee4c",
   "metadata": {},
   "outputs": [],
   "source": [
    "y_pred_xor = xor_classifier.predict(X_test_xor)"
   ]
  },
  {
   "cell_type": "code",
   "execution_count": 33,
   "id": "e9172fc7-455c-4e77-ac7c-0a33e129fdd7",
   "metadata": {},
   "outputs": [
    {
     "data": {
      "text/plain": [
       "(-3.141592653589793, 3.141592653589793)"
      ]
     },
     "execution_count": 33,
     "metadata": {},
     "output_type": "execute_result"
    },
    {
     "data": {
      "image/png": "[encoded data removed]",
      "text/plain": [
       "<Figure size 360x360 with 1 Axes>"
      ]
     },
     "metadata": {
      "needs_background": "light"
     },
     "output_type": "display_data"
    }
   ],
   "source": [
    "plt.rcParams['figure.figsize'] = [5,5]\n",
    "\n",
    "\n",
    "c = [\"blue\" if el==\"00\" else \"red\" for el in y_pred_xor]\n",
    "plt.scatter(X_test_xor[:, 0], X_test_xor[:, 1], color=c)\n",
    "\n",
    "x = np.linspace(-np.pi, np.pi, 100)\n",
    "y = x\n",
    "y2 = - x\n",
    "\n",
    "plt.plot(x,y)\n",
    "plt.plot(x,y2)\n",
    "\n",
    "plt.xlim([-np.pi, np.pi])\n",
    "plt.ylim([-np.pi, np.pi])"
   ]
  },
  {
   "cell_type": "code",
   "execution_count": 34,
   "id": "93652479-2d63-434b-b98f-4981d9f4f4e5",
   "metadata": {},
   "outputs": [
    {
     "data": {
      "text/plain": [
       "0.9344"
      ]
     },
     "execution_count": 34,
     "metadata": {},
     "output_type": "execute_result"
    }
   ],
   "source": [
    "xor_classifier.compute_accuracy(y_pred_xor, y_test_xor)"
   ]
  },
  {
   "cell_type": "markdown",
   "id": "0893ebed-4f33-4034-946a-ab189a739a16",
   "metadata": {
    "tags": []
   },
   "source": [
    "## Compare with GaussianNB"
   ]
  },
  {
   "cell_type": "code",
   "execution_count": 35,
   "id": "17d19981",
   "metadata": {},
   "outputs": [],
   "source": [
    "from sklearn.naive_bayes import GaussianNB"
   ]
  },
  {
   "cell_type": "code",
   "execution_count": 36,
   "id": "3b5eaa7f",
   "metadata": {},
   "outputs": [
    {
     "name": "stderr",
     "output_type": "stream",
     "text": [
      "/home/marius/.pyenv/versions/3.9.10/lib/python3.9/site-packages/sklearn/metrics/_classification.py:217: FutureWarning: elementwise comparison failed; returning scalar instead, but in the future will perform elementwise comparison\n",
      "  score = y_true == y_pred\n"
     ]
    }
   ],
   "source": [
    "gaussianNb = GaussianNB()\n",
    "\n",
    "gaussianNb.fit(X_train_xor, y_train_xor)\n",
    "\n",
    "y_test_bayes = [1 if abs(el[0]) < abs(el[1]) else 0 for el in X_test_xor]\n",
    "\n",
    "score = gaussianNb.score(X_test_xor, y_test_bayes)"
   ]
  },
  {
   "cell_type": "code",
   "execution_count": 37,
   "id": "af20f30d",
   "metadata": {},
   "outputs": [
    {
     "data": {
      "text/plain": [
       "0.0"
      ]
     },
     "execution_count": 37,
     "metadata": {},
     "output_type": "execute_result"
    }
   ],
   "source": [
    "score"
   ]
  },
  {
   "cell_type": "markdown",
   "id": "ce1db633",
   "metadata": {},
   "source": [
    "# Skin segmentation"
   ]
  },
  {
   "cell_type": "markdown",
   "id": "a62411e2-5434-4ab1-bcf6-b2ab7c3aa87c",
   "metadata": {},
   "source": [
    "## Construct dataset"
   ]
  },
  {
   "cell_type": "markdown",
   "id": "a806873e-a831-43a6-97e2-5e13b643f7e1",
   "metadata": {},
   "source": [
    "### Import dataset"
   ]
  },
  {
   "cell_type": "code",
   "execution_count": 38,
   "id": "b746d70f-04bc-40a8-91b2-0afd872eaf39",
   "metadata": {},
   "outputs": [
    {
     "data": {
      "text/html": [
       "<div>\n",
       "<style scoped>\n",
       "    .dataframe tbody tr th:only-of-type {\n",
       "        vertical-align: middle;\n",
       "    }\n",
       "\n",
       "    .dataframe tbody tr th {\n",
       "        vertical-align: top;\n",
       "    }\n",
       "\n",
       "    .dataframe thead th {\n",
       "        text-align: right;\n",
       "    }\n",
       "</style>\n",
       "<table border=\"1\" class=\"dataframe\">\n",
       "  <thead>\n",
       "    <tr style=\"text-align: right;\">\n",
       "      <th></th>\n",
       "      <th>0</th>\n",
       "      <th>1</th>\n",
       "      <th>2</th>\n",
       "      <th>3</th>\n",
       "    </tr>\n",
       "  </thead>\n",
       "  <tbody>\n",
       "    <tr>\n",
       "      <th>0</th>\n",
       "      <td>74</td>\n",
       "      <td>85</td>\n",
       "      <td>123</td>\n",
       "      <td>1</td>\n",
       "    </tr>\n",
       "    <tr>\n",
       "      <th>1</th>\n",
       "      <td>73</td>\n",
       "      <td>84</td>\n",
       "      <td>122</td>\n",
       "      <td>1</td>\n",
       "    </tr>\n",
       "    <tr>\n",
       "      <th>2</th>\n",
       "      <td>72</td>\n",
       "      <td>83</td>\n",
       "      <td>121</td>\n",
       "      <td>1</td>\n",
       "    </tr>\n",
       "    <tr>\n",
       "      <th>3</th>\n",
       "      <td>70</td>\n",
       "      <td>81</td>\n",
       "      <td>119</td>\n",
       "      <td>1</td>\n",
       "    </tr>\n",
       "    <tr>\n",
       "      <th>4</th>\n",
       "      <td>70</td>\n",
       "      <td>81</td>\n",
       "      <td>119</td>\n",
       "      <td>1</td>\n",
       "    </tr>\n",
       "    <tr>\n",
       "      <th>...</th>\n",
       "      <td>...</td>\n",
       "      <td>...</td>\n",
       "      <td>...</td>\n",
       "      <td>...</td>\n",
       "    </tr>\n",
       "    <tr>\n",
       "      <th>245052</th>\n",
       "      <td>163</td>\n",
       "      <td>162</td>\n",
       "      <td>112</td>\n",
       "      <td>2</td>\n",
       "    </tr>\n",
       "    <tr>\n",
       "      <th>245053</th>\n",
       "      <td>163</td>\n",
       "      <td>162</td>\n",
       "      <td>112</td>\n",
       "      <td>2</td>\n",
       "    </tr>\n",
       "    <tr>\n",
       "      <th>245054</th>\n",
       "      <td>163</td>\n",
       "      <td>162</td>\n",
       "      <td>112</td>\n",
       "      <td>2</td>\n",
       "    </tr>\n",
       "    <tr>\n",
       "      <th>245055</th>\n",
       "      <td>163</td>\n",
       "      <td>162</td>\n",
       "      <td>112</td>\n",
       "      <td>2</td>\n",
       "    </tr>\n",
       "    <tr>\n",
       "      <th>245056</th>\n",
       "      <td>255</td>\n",
       "      <td>255</td>\n",
       "      <td>255</td>\n",
       "      <td>2</td>\n",
       "    </tr>\n",
       "  </tbody>\n",
       "</table>\n",
       "<p>245057 rows × 4 columns</p>\n",
       "</div>"
      ],
      "text/plain": [
       "          0    1    2  3\n",
       "0        74   85  123  1\n",
       "1        73   84  122  1\n",
       "2        72   83  121  1\n",
       "3        70   81  119  1\n",
       "4        70   81  119  1\n",
       "...     ...  ...  ... ..\n",
       "245052  163  162  112  2\n",
       "245053  163  162  112  2\n",
       "245054  163  162  112  2\n",
       "245055  163  162  112  2\n",
       "245056  255  255  255  2\n",
       "\n",
       "[245057 rows x 4 columns]"
      ]
     },
     "execution_count": 38,
     "metadata": {},
     "output_type": "execute_result"
    }
   ],
   "source": [
    "df_skin = pd.read_csv(\"Skin_NonSkin.txt\", sep='\\t', header=None)\n",
    "df_skin"
   ]
  },
  {
   "cell_type": "markdown",
   "id": "a47f2640-509d-45c3-ab4d-85a52774166d",
   "metadata": {},
   "source": [
    "### Preprocess"
   ]
  },
  {
   "cell_type": "code",
   "execution_count": 39,
   "id": "57e59a3c-0a4c-4bd3-abee-b080ba0fe86e",
   "metadata": {},
   "outputs": [
    {
     "data": {
      "text/html": [
       "<div>\n",
       "<style scoped>\n",
       "    .dataframe tbody tr th:only-of-type {\n",
       "        vertical-align: middle;\n",
       "    }\n",
       "\n",
       "    .dataframe tbody tr th {\n",
       "        vertical-align: top;\n",
       "    }\n",
       "\n",
       "    .dataframe thead th {\n",
       "        text-align: right;\n",
       "    }\n",
       "</style>\n",
       "<table border=\"1\" class=\"dataframe\">\n",
       "  <thead>\n",
       "    <tr style=\"text-align: right;\">\n",
       "      <th></th>\n",
       "      <th>0</th>\n",
       "      <th>1</th>\n",
       "      <th>2</th>\n",
       "      <th>3</th>\n",
       "    </tr>\n",
       "  </thead>\n",
       "  <tbody>\n",
       "    <tr>\n",
       "      <th>0</th>\n",
       "      <td>-0.816021</td>\n",
       "      <td>-0.788476</td>\n",
       "      <td>-0.002429</td>\n",
       "      <td>1</td>\n",
       "    </tr>\n",
       "    <tr>\n",
       "      <th>1</th>\n",
       "      <td>-0.832001</td>\n",
       "      <td>-0.805073</td>\n",
       "      <td>-0.016139</td>\n",
       "      <td>1</td>\n",
       "    </tr>\n",
       "    <tr>\n",
       "      <th>2</th>\n",
       "      <td>-0.847981</td>\n",
       "      <td>-0.821670</td>\n",
       "      <td>-0.029849</td>\n",
       "      <td>1</td>\n",
       "    </tr>\n",
       "    <tr>\n",
       "      <th>3</th>\n",
       "      <td>-0.879941</td>\n",
       "      <td>-0.854863</td>\n",
       "      <td>-0.057269</td>\n",
       "      <td>1</td>\n",
       "    </tr>\n",
       "    <tr>\n",
       "      <th>4</th>\n",
       "      <td>-0.879941</td>\n",
       "      <td>-0.854863</td>\n",
       "      <td>-0.057269</td>\n",
       "      <td>1</td>\n",
       "    </tr>\n",
       "    <tr>\n",
       "      <th>...</th>\n",
       "      <td>...</td>\n",
       "      <td>...</td>\n",
       "      <td>...</td>\n",
       "      <td>...</td>\n",
       "    </tr>\n",
       "    <tr>\n",
       "      <th>245052</th>\n",
       "      <td>0.606191</td>\n",
       "      <td>0.489488</td>\n",
       "      <td>-0.153241</td>\n",
       "      <td>2</td>\n",
       "    </tr>\n",
       "    <tr>\n",
       "      <th>245053</th>\n",
       "      <td>0.606191</td>\n",
       "      <td>0.489488</td>\n",
       "      <td>-0.153241</td>\n",
       "      <td>2</td>\n",
       "    </tr>\n",
       "    <tr>\n",
       "      <th>245054</th>\n",
       "      <td>0.606191</td>\n",
       "      <td>0.489488</td>\n",
       "      <td>-0.153241</td>\n",
       "      <td>2</td>\n",
       "    </tr>\n",
       "    <tr>\n",
       "      <th>245055</th>\n",
       "      <td>0.606191</td>\n",
       "      <td>0.489488</td>\n",
       "      <td>-0.153241</td>\n",
       "      <td>2</td>\n",
       "    </tr>\n",
       "    <tr>\n",
       "      <th>245056</th>\n",
       "      <td>2.076342</td>\n",
       "      <td>2.033002</td>\n",
       "      <td>1.807314</td>\n",
       "      <td>2</td>\n",
       "    </tr>\n",
       "  </tbody>\n",
       "</table>\n",
       "<p>245057 rows × 4 columns</p>\n",
       "</div>"
      ],
      "text/plain": [
       "               0         1         2  3\n",
       "0      -0.816021 -0.788476 -0.002429  1\n",
       "1      -0.832001 -0.805073 -0.016139  1\n",
       "2      -0.847981 -0.821670 -0.029849  1\n",
       "3      -0.879941 -0.854863 -0.057269  1\n",
       "4      -0.879941 -0.854863 -0.057269  1\n",
       "...          ...       ...       ... ..\n",
       "245052  0.606191  0.489488 -0.153241  2\n",
       "245053  0.606191  0.489488 -0.153241  2\n",
       "245054  0.606191  0.489488 -0.153241  2\n",
       "245055  0.606191  0.489488 -0.153241  2\n",
       "245056  2.076342  2.033002  1.807314  2\n",
       "\n",
       "[245057 rows x 4 columns]"
      ]
     },
     "execution_count": 39,
     "metadata": {},
     "output_type": "execute_result"
    }
   ],
   "source": [
    "alpha = 0.1\n",
    "q = 3\n",
    "\n",
    "attributes = df_skin.columns[:-1]\n",
    "\n",
    "for x in attributes:\n",
    "    df_skin[x] = rescaleFeature(df_skin[x], alpha, q)\n",
    "\n",
    "df_skin"
   ]
  },
  {
   "cell_type": "code",
   "execution_count": 40,
   "id": "c00141ec-9719-487d-acb9-391bbed36483",
   "metadata": {},
   "outputs": [
    {
     "data": {
      "text/html": [
       "<div>\n",
       "<style scoped>\n",
       "    .dataframe tbody tr th:only-of-type {\n",
       "        vertical-align: middle;\n",
       "    }\n",
       "\n",
       "    .dataframe tbody tr th {\n",
       "        vertical-align: top;\n",
       "    }\n",
       "\n",
       "    .dataframe thead th {\n",
       "        text-align: right;\n",
       "    }\n",
       "</style>\n",
       "<table border=\"1\" class=\"dataframe\">\n",
       "  <thead>\n",
       "    <tr style=\"text-align: right;\">\n",
       "      <th></th>\n",
       "      <th>0</th>\n",
       "      <th>1</th>\n",
       "      <th>2</th>\n",
       "      <th>3</th>\n",
       "    </tr>\n",
       "  </thead>\n",
       "  <tbody>\n",
       "    <tr>\n",
       "      <th>0</th>\n",
       "      <td>-0.816021</td>\n",
       "      <td>-0.788476</td>\n",
       "      <td>-0.002429</td>\n",
       "      <td>000</td>\n",
       "    </tr>\n",
       "    <tr>\n",
       "      <th>1</th>\n",
       "      <td>-0.832001</td>\n",
       "      <td>-0.805073</td>\n",
       "      <td>-0.016139</td>\n",
       "      <td>000</td>\n",
       "    </tr>\n",
       "    <tr>\n",
       "      <th>2</th>\n",
       "      <td>-0.847981</td>\n",
       "      <td>-0.821670</td>\n",
       "      <td>-0.029849</td>\n",
       "      <td>000</td>\n",
       "    </tr>\n",
       "    <tr>\n",
       "      <th>3</th>\n",
       "      <td>-0.879941</td>\n",
       "      <td>-0.854863</td>\n",
       "      <td>-0.057269</td>\n",
       "      <td>000</td>\n",
       "    </tr>\n",
       "    <tr>\n",
       "      <th>4</th>\n",
       "      <td>-0.879941</td>\n",
       "      <td>-0.854863</td>\n",
       "      <td>-0.057269</td>\n",
       "      <td>000</td>\n",
       "    </tr>\n",
       "    <tr>\n",
       "      <th>...</th>\n",
       "      <td>...</td>\n",
       "      <td>...</td>\n",
       "      <td>...</td>\n",
       "      <td>...</td>\n",
       "    </tr>\n",
       "    <tr>\n",
       "      <th>245052</th>\n",
       "      <td>0.606191</td>\n",
       "      <td>0.489488</td>\n",
       "      <td>-0.153241</td>\n",
       "      <td>111</td>\n",
       "    </tr>\n",
       "    <tr>\n",
       "      <th>245053</th>\n",
       "      <td>0.606191</td>\n",
       "      <td>0.489488</td>\n",
       "      <td>-0.153241</td>\n",
       "      <td>111</td>\n",
       "    </tr>\n",
       "    <tr>\n",
       "      <th>245054</th>\n",
       "      <td>0.606191</td>\n",
       "      <td>0.489488</td>\n",
       "      <td>-0.153241</td>\n",
       "      <td>111</td>\n",
       "    </tr>\n",
       "    <tr>\n",
       "      <th>245055</th>\n",
       "      <td>0.606191</td>\n",
       "      <td>0.489488</td>\n",
       "      <td>-0.153241</td>\n",
       "      <td>111</td>\n",
       "    </tr>\n",
       "    <tr>\n",
       "      <th>245056</th>\n",
       "      <td>2.076342</td>\n",
       "      <td>2.033002</td>\n",
       "      <td>1.807314</td>\n",
       "      <td>111</td>\n",
       "    </tr>\n",
       "  </tbody>\n",
       "</table>\n",
       "<p>245057 rows × 4 columns</p>\n",
       "</div>"
      ],
      "text/plain": [
       "               0         1         2    3\n",
       "0      -0.816021 -0.788476 -0.002429  000\n",
       "1      -0.832001 -0.805073 -0.016139  000\n",
       "2      -0.847981 -0.821670 -0.029849  000\n",
       "3      -0.879941 -0.854863 -0.057269  000\n",
       "4      -0.879941 -0.854863 -0.057269  000\n",
       "...          ...       ...       ...  ...\n",
       "245052  0.606191  0.489488 -0.153241  111\n",
       "245053  0.606191  0.489488 -0.153241  111\n",
       "245054  0.606191  0.489488 -0.153241  111\n",
       "245055  0.606191  0.489488 -0.153241  111\n",
       "245056  2.076342  2.033002  1.807314  111\n",
       "\n",
       "[245057 rows x 4 columns]"
      ]
     },
     "execution_count": 40,
     "metadata": {},
     "output_type": "execute_result"
    }
   ],
   "source": [
    "diconvert = {\n",
    "    1 : \"000\",\n",
    "    2 : \"111\"\n",
    "}\n",
    "\n",
    "df_skin = df_skin.replace({3: diconvert})\n",
    "df_skin"
   ]
  },
  {
   "cell_type": "code",
   "execution_count": 41,
   "id": "c6279e6b-8150-4925-aca3-d700cc862e43",
   "metadata": {},
   "outputs": [],
   "source": [
    "X_skin = df_skin[attributes].values\n",
    "y_skin = df_skin[3].values"
   ]
  },
  {
   "cell_type": "markdown",
   "id": "ddd39ecb-4c42-436f-a4ea-12370d56eade",
   "metadata": {},
   "source": [
    "### Split"
   ]
  },
  {
   "cell_type": "code",
   "execution_count": 42,
   "id": "1459c192-1dc0-4b81-bf53-91d2265e59f9",
   "metadata": {},
   "outputs": [],
   "source": [
    "train_size = 600\n",
    "test_size = 400\n",
    "\n",
    "X_train_skin, X_test_skin, y_train_skin, y_test_skin = train_test_split(X_skin, y_skin, test_size=test_size, train_size=train_size, stratify=y_skin)"
   ]
  },
  {
   "cell_type": "markdown",
   "id": "c3dc42f2-e578-47d4-9e71-d6ab05bf551f",
   "metadata": {},
   "source": [
    "## Circuit"
   ]
  },
  {
   "cell_type": "code",
   "execution_count": 43,
   "id": "b7e4a6f5",
   "metadata": {},
   "outputs": [],
   "source": [
    "def skinSegCircuit(theta, omega):\n",
    "    qc = qiskit.QuantumCircuit(3, 3)\n",
    "    \n",
    "    skin_seg_circuit = qiskit.QuantumCircuit(3)\n",
    "    psiGate(skin_seg_circuit, omega[0], 0)\n",
    "    psiGate(skin_seg_circuit, omega[1], 1)\n",
    "    psiGate(skin_seg_circuit, omega[2], 2)\n",
    "    \n",
    "    skin_seg_circuit.cz(0, 2)\n",
    "    \n",
    "    psiGate(skin_seg_circuit, theta[0], 0)\n",
    "    psiGate(skin_seg_circuit, theta[1], 2)\n",
    "    \n",
    "    skin_seg_circuit.cz(0, 1)\n",
    "    \n",
    "    psiGate(skin_seg_circuit, theta[2], 0)\n",
    "    psiGate(skin_seg_circuit, theta[3], 1)\n",
    "    \n",
    "    skin_seg_circuit.cz(1, 2)\n",
    "    \n",
    "    psiGate(skin_seg_circuit, theta[4], 1)\n",
    "    psiGate(skin_seg_circuit, theta[5], 2)\n",
    "    \n",
    "    qc.append(skin_seg_circuit, range(3))\n",
    "    qc.measure(range(3), range(3))\n",
    "    \n",
    "    return qc"
   ]
  },
  {
   "cell_type": "code",
   "execution_count": 44,
   "id": "8328d2d2-3081-475c-852a-bfc851b10447",
   "metadata": {},
   "outputs": [
    {
     "data": {
      "image/png": "[encoded data removed]",
      "text/plain": [
       "<Figure size 1170.2x264.88 with 1 Axes>"
      ]
     },
     "execution_count": 44,
     "metadata": {},
     "output_type": "execute_result"
    }
   ],
   "source": [
    "skinSegCircuit(np.zeros(6), np.zeros(3)).decompose().draw(\"mpl\", fold=40)"
   ]
  },
  {
   "cell_type": "markdown",
   "id": "72112546-bb45-420b-9d3c-e35680d48e3d",
   "metadata": {},
   "source": [
    "## Train"
   ]
  },
  {
   "cell_type": "code",
   "execution_count": 45,
   "id": "d6220966-501a-46a6-9a79-f9e315f6a155",
   "metadata": {},
   "outputs": [],
   "source": [
    "skin_classifier = QuantumClassifier(skinSegCircuit, ['000', '111'], 6, optimizer_method = \"COBYLA\")"
   ]
  },
  {
   "cell_type": "code",
   "execution_count": 46,
   "id": "7f3dc839-2ff7-4579-a2be-590ebadb9bcf",
   "metadata": {},
   "outputs": [
    {
     "name": "stdout",
     "output_type": "stream",
     "text": [
      "loss: 0.6701361485099194\n",
      "loss: 0.6482730147870641\n",
      "loss: 0.5829088211264652\n",
      "loss: 0.6309382330952783\n",
      "loss: 0.6395877818963921\n",
      "loss: 0.5903789543382211\n",
      "loss: 0.6262598320391334\n",
      "loss: 0.5764247744457908\n",
      "loss: 0.5679844543346729\n",
      "loss: 0.5642782923318688\n",
      "loss: 0.5669398653145312\n",
      "loss: 0.572713512602962\n",
      "loss: 0.5691537577214733\n",
      "loss: 0.571046981009535\n",
      "loss: 0.5772067696496066\n",
      "loss: 0.5595190344687692\n",
      "loss: 0.5685152913180402\n",
      "loss: 0.561653108088007\n",
      "loss: 0.5682708880674517\n",
      "loss: 0.5597626013703754\n",
      "loss: 0.5595769625534134\n",
      "loss: 0.5624875364496943\n",
      "loss: 0.5601247000952102\n",
      "loss: 0.5592298039554486\n",
      "loss: 0.5585982535574996\n",
      "loss: 0.5613000945852242\n",
      "loss: 0.5594929419046305\n",
      "loss: 0.5578073083580053\n",
      "loss: 0.5576594412255238\n",
      "loss: 0.5578505407434711\n",
      "loss: 0.5568443171432278\n",
      "loss: 0.5571327459411247\n",
      "loss: 0.5573131273021399\n",
      "loss: 0.5593087722191082\n",
      "loss: 0.5583451699242923\n",
      "loss: 0.5580916510439434\n",
      "loss: 0.5582757272242604\n",
      "loss: 0.5568193218627963\n",
      "loss: 0.5578139245526358\n",
      "loss: 0.557346251262718\n",
      "loss: 0.5569108914461759\n",
      "loss: 0.557533059416095\n",
      "loss: 0.5581334352517\n",
      "loss: 0.5572244980144244\n",
      "loss: 0.5568439716490255\n",
      "loss: 0.5573109502494765\n",
      "loss: 0.5577938484383957\n",
      "loss: 0.5576484906882453\n",
      "loss: 0.5567293329447264\n",
      "loss: 0.557136674002104\n",
      "loss: 0.5563209222016805\n",
      "loss: 0.5579651726241696\n",
      "loss: 0.5580147739197641\n",
      "loss: 0.5570209982939286\n",
      "loss: 0.5577945005723347\n",
      "loss: 0.5563829660654848\n",
      "loss: 0.557283397975281\n",
      "loss: 0.5568578319191021\n",
      "loss: 0.5567841592675492\n",
      "loss: 0.5598135633232713\n"
     ]
    },
    {
     "data": {
      "text/plain": [
       "     fun: 0.5563209222016805\n",
       "   maxcv: 0.0\n",
       " message: 'Maximum number of function evaluations has been exceeded.'\n",
       "    nfev: 60\n",
       "  status: 2\n",
       " success: False\n",
       "       x: array([3.77551162, 1.76634907, 1.84893081, 0.42331581, 6.36559731,\n",
       "       1.21957303])"
      ]
     },
     "execution_count": 46,
     "metadata": {},
     "output_type": "execute_result"
    }
   ],
   "source": [
    "opt_skin = skin_classifier.fit(X_train_skin, y_train_skin, nshots=250, maxiter=60)\n",
    "opt_skin"
   ]
  },
  {
   "cell_type": "markdown",
   "id": "ae836b3c-61b3-4f6a-a8d4-54fb4a86d50e",
   "metadata": {},
   "source": [
    "## Compute results"
   ]
  },
  {
   "cell_type": "code",
   "execution_count": 47,
   "id": "670b08b1-06c3-4b14-9e59-3bd6df9137ad",
   "metadata": {},
   "outputs": [
    {
     "data": {
      "text/plain": [
       "0.7633333333333333"
      ]
     },
     "execution_count": 47,
     "metadata": {},
     "output_type": "execute_result"
    }
   ],
   "source": [
    "y_pred_skin = skin_classifier.predict(X_train_skin)\n",
    "skin_classifier.compute_accuracy(y_pred_skin, y_train_skin)"
   ]
  },
  {
   "cell_type": "code",
   "execution_count": 48,
   "id": "105af9f8-c92c-4467-b448-5e5d1b26efe2",
   "metadata": {},
   "outputs": [
    {
     "data": {
      "text/plain": [
       "0.765"
      ]
     },
     "execution_count": 48,
     "metadata": {},
     "output_type": "execute_result"
    }
   ],
   "source": [
    "y_pred_skin = skin_classifier.predict(X_test_skin)\n",
    "skin_classifier.compute_accuracy(y_pred_skin, y_test_skin)"
   ]
  },
  {
   "cell_type": "markdown",
   "id": "c72282df",
   "metadata": {},
   "source": [
    "# Synthetic dataset with 4 classes"
   ]
  },
  {
   "cell_type": "markdown",
   "id": "28ee9433-f509-4da6-8bf8-603397c7f27b",
   "metadata": {},
   "source": [
    "## Construct dataset"
   ]
  },
  {
   "cell_type": "markdown",
   "id": "f3396b6b-b0c6-46f7-9225-be4c2e85da76",
   "metadata": {},
   "source": [
    "### Generate dataset"
   ]
  },
  {
   "cell_type": "code",
   "execution_count": 49,
   "id": "af39fec1-63cc-49e8-ab35-bd4c49dbbe61",
   "metadata": {},
   "outputs": [],
   "source": [
    "from sklearn.datasets import make_classification\n",
    "\n",
    "X_synth, y_synth = make_classification(n_samples=5000, n_features=2, n_informative=2, n_redundant=0, n_clusters_per_class=1, n_classes=4)"
   ]
  },
  {
   "cell_type": "markdown",
   "id": "9d5bc927-d579-43fc-a350-3d81bdcffc82",
   "metadata": {},
   "source": [
    "### Preprocess"
   ]
  },
  {
   "cell_type": "code",
   "execution_count": 50,
   "id": "84695d82-e54b-4a2d-a361-e7ee849a76c6",
   "metadata": {},
   "outputs": [
    {
     "data": {
      "text/plain": [
       "array([[ 0.15505987, -0.97720709],\n",
       "       [ 1.00931127, -0.90823314],\n",
       "       [-1.08262049,  0.0685308 ],\n",
       "       [-0.04628961, -0.37447602],\n",
       "       [-1.65435673, -1.32976695],\n",
       "       [ 0.66331631, -0.90473259],\n",
       "       [-1.75688154,  0.70670701],\n",
       "       [-0.92358878,  0.30012004],\n",
       "       [ 0.9587178 ,  0.26828799],\n",
       "       [-0.78454676,  0.8012891 ]])"
      ]
     },
     "execution_count": 50,
     "metadata": {},
     "output_type": "execute_result"
    }
   ],
   "source": [
    "alpha = 0.1\n",
    "q = 3\n",
    "\n",
    "\n",
    "X_synth[:, 0] = rescaleFeature(X_synth[:, 0], alpha, q)\n",
    "X_synth[:, 1] = rescaleFeature(X_synth[:, 1], alpha, q)\n",
    "\n",
    "X_synth[:10]"
   ]
  },
  {
   "cell_type": "code",
   "execution_count": 51,
   "id": "ba9631f6-962e-4eb3-9504-bf16f2de65f9",
   "metadata": {},
   "outputs": [
    {
     "data": {
      "text/plain": [
       "['01', '01', '10', '01', '00', '01', '10', '00', '11', '10']"
      ]
     },
     "execution_count": 51,
     "metadata": {},
     "output_type": "execute_result"
    }
   ],
   "source": [
    "new_y_synth = []\n",
    "\n",
    "diconvert = {\n",
    "    0 : \"00\",\n",
    "    1 : \"01\",\n",
    "    2 : '10',\n",
    "    3 : '11'\n",
    "}\n",
    "\n",
    "for el in y_synth:\n",
    "    new_y_synth.append(diconvert[el])\n",
    "\n",
    "y_synth = new_y_synth\n",
    "\n",
    "y_synth[:10]"
   ]
  },
  {
   "cell_type": "markdown",
   "id": "91221c6c-51b7-4e3b-80cf-72f9cc7f437e",
   "metadata": {},
   "source": [
    "### Split"
   ]
  },
  {
   "cell_type": "code",
   "execution_count": 52,
   "id": "6277c260-9f49-473d-8c85-0d3898a54d90",
   "metadata": {},
   "outputs": [],
   "source": [
    "train_size = 0.6\n",
    "test_size = 0.4\n",
    "\n",
    "X_train_synth, X_test_synth, y_train_synth, y_test_synth = train_test_split(X_synth, y_synth, test_size=test_size, train_size=train_size, stratify=y_synth)"
   ]
  },
  {
   "cell_type": "markdown",
   "id": "4ce15c85-6328-4545-8eca-6b9caf8bc47f",
   "metadata": {},
   "source": [
    "## Circuit"
   ]
  },
  {
   "cell_type": "code",
   "execution_count": 53,
   "id": "a70ab528",
   "metadata": {},
   "outputs": [],
   "source": [
    "def syntheticCircuit(theta, omega):\n",
    "    qc = qiskit.QuantumCircuit(2, 2)\n",
    "\n",
    "    synthetic_circuit = qiskit.QuantumCircuit(2)\n",
    "    for i in range(2):\n",
    "        if i : synthetic_circuit.cz(0, 1)\n",
    "        \n",
    "        psiGate(synthetic_circuit, omega[0], 0)\n",
    "        psiGate(synthetic_circuit, omega[1], 1)\n",
    "        synthetic_circuit.cz(0, 1)\n",
    "        \n",
    "        psiGate(synthetic_circuit, theta[(6*i)], 0)\n",
    "        psiGate(synthetic_circuit, theta[(6*i+1)], 1)\n",
    "        synthetic_circuit.cz(0, 1)\n",
    "        \n",
    "        psiGate(synthetic_circuit, omega[0], 0)\n",
    "        psiGate(synthetic_circuit, omega[1], 1)\n",
    "        synthetic_circuit.cz(0, 1)\n",
    "        \n",
    "        psiGate(synthetic_circuit, theta[(6*i+2)], 0)\n",
    "        psiGate(synthetic_circuit, theta[(6*i+3)], 1)\n",
    "        synthetic_circuit.cz(0, 1)\n",
    "        \n",
    "        psiGate(synthetic_circuit, theta[(6*i+4)], 0)\n",
    "        psiGate(synthetic_circuit, theta[(6*i+5)], 1)\n",
    "    \n",
    "    qc.append(synthetic_circuit, range(2))\n",
    "    qc.measure(range(2), range(2))\n",
    "    \n",
    "    return qc"
   ]
  },
  {
   "cell_type": "code",
   "execution_count": 54,
   "id": "10ca6433",
   "metadata": {},
   "outputs": [
    {
     "data": {
      "image/png": "[encoded data removed]",
      "text/plain": [
       "<Figure size 2554.65x204.68 with 1 Axes>"
      ]
     },
     "execution_count": 54,
     "metadata": {},
     "output_type": "execute_result"
    }
   ],
   "source": [
    "syntheticCircuit(np.zeros(12), np.zeros(2)).decompose().draw(\"mpl\", fold=50)"
   ]
  },
  {
   "cell_type": "markdown",
   "id": "38ae20d8-dbdc-43b0-8ac0-884e11164b3f",
   "metadata": {},
   "source": [
    "## Train"
   ]
  },
  {
   "cell_type": "code",
   "execution_count": 55,
   "id": "79d6cef6-1823-43a9-928f-4b2527c02485",
   "metadata": {},
   "outputs": [],
   "source": [
    "synthetic_classifier = QuantumClassifier(syntheticCircuit, ['00', '01', '10', '11'], 12, optimizer_method = \"COBYLA\")"
   ]
  },
  {
   "cell_type": "code",
   "execution_count": 165,
   "id": "b5f837a7-2c6a-4951-ab4f-fb4e2705a62a",
   "metadata": {},
   "outputs": [],
   "source": [
    "opt_synth = synthetic_classifier.fit(X_train_synth, y_train_synth, nshots=250, maxiter=60)\n",
    "opt_synth"
   ]
  },
  {
   "cell_type": "markdown",
   "id": "03ae5122-cc8b-4fc7-9098-fbfec9a234da",
   "metadata": {},
   "source": [
    "## Compute results"
   ]
  },
  {
   "cell_type": "code",
   "execution_count": null,
   "id": "4e885cdd-b176-4f5d-8cd2-723b8fa31773",
   "metadata": {},
   "outputs": [
    {
     "data": {
      "text/plain": [
       "0.6763333333333333"
      ]
     },
     "execution_count": 369,
     "metadata": {},
     "output_type": "execute_result"
    }
   ],
   "source": [
    "y_pred_synth = synthetic_classifier.predict(X_train_synth)\n",
    "synthetic_classifier.compute_accuracy(y_pred_synth, y_train_synth)"
   ]
  },
  {
   "cell_type": "code",
   "execution_count": null,
   "id": "a3f695c9-4592-432e-b838-637992870670",
   "metadata": {},
   "outputs": [
    {
     "data": {
      "text/plain": [
       "0.671"
      ]
     },
     "execution_count": 370,
     "metadata": {},
     "output_type": "execute_result"
    }
   ],
   "source": [
    "y_pred_synth = synthetic_classifier.predict(X_test_synth)\n",
    "synthetic_classifier.compute_accuracy(y_pred_synth, y_test_synth)"
   ]
  },
  {
   "cell_type": "markdown",
   "id": "298bacf2-bf15-4810-b9ea-cc6a6c460f82",
   "metadata": {},
   "source": [
    "# Run on IBM Quantum Computer"
   ]
  },
  {
   "cell_type": "code",
   "execution_count": 111,
   "id": "4cd250c0",
   "metadata": {
    "id": "4cd250c0"
   },
   "outputs": [
    {
     "name": "stderr",
     "output_type": "stream",
     "text": [
      "ibmqfactory.load_account:WARNING:2023-01-20 21:52:21,522: Credentials are already in use. The existing account in the session will be replaced.\n"
     ]
    }
   ],
   "source": [
    "TOKEN = \"a9e80916023230fb39159420e5dd02f5b990b0b0b6de16364350b822082c4c8b2fefa2195d742c878f71f8d7771c103c2204729cffbf56145670d539c15e9dda\"\n",
    "qiskit.IBMQ.save_account(TOKEN, overwrite=True) \n",
    "provider = qiskit.IBMQ.load_account()\n",
    "backend = qiskit.providers.ibmq.least_busy(provider.backends())\n",
    "# backend = provider.get_backend('ibmq_qasm_simulator')"
   ]
  },
  {
   "attachments": {},
   "cell_type": "markdown",
   "id": "ec3f65aa",
   "metadata": {},
   "source": [
    "## IRIS"
   ]
  },
  {
   "cell_type": "code",
   "execution_count": 163,
   "id": "bdfeddcf",
   "metadata": {},
   "outputs": [],
   "source": [
    "iris_classifier = QuantumClassifier(irisCircuit, ['00', '01', '10'], 8)\n"
   ]
  },
  {
   "cell_type": "code",
   "execution_count": 164,
   "id": "b017e675",
   "metadata": {},
   "outputs": [
    {
     "name": "stdout",
     "output_type": "stream",
     "text": [
      "loss: 4.251313164485948\n",
      "loss: 2.8896047651923658\n",
      "loss: 4.257516165983766\n",
      "loss: 4.804427558562162\n",
      "loss: 4.036089449958713\n",
      "loss: 2.0910323144621015\n",
      "loss: 3.186667598693079\n",
      "loss: 2.4149131942956665\n",
      "loss: 1.6302902117206979\n",
      "loss: 3.443870333125019\n",
      "loss: 1.1969088301900697\n",
      "loss: 1.3991346551422161\n",
      "loss: 1.3470176232400297\n",
      "loss: 1.6368378255853586\n",
      "loss: 0.742849940906313\n",
      "loss: 1.1355607697739092\n",
      "loss: 0.9086087311890021\n",
      "loss: 0.7560336157394774\n",
      "loss: 0.807268024551553\n",
      "loss: 0.3616025167024722\n"
     ]
    }
   ],
   "source": [
    "opt_iris = iris_classifier.fit(X_train_iris, y_train_iris, nshots=250, maxiter=20, backend=backend)"
   ]
  },
  {
   "cell_type": "code",
   "execution_count": 129,
   "id": "47cb76ee",
   "metadata": {},
   "outputs": [],
   "source": [
    "mapped_circuit = qiskit.transpile(iris_classifier.circuit, backend=backend)\n",
    "qobj = qiskit.assemble(mapped_circuit, backend=backend, shots=1024)"
   ]
  },
  {
   "cell_type": "code",
   "execution_count": 39,
   "id": "28QMhcWdjscr",
   "metadata": {
    "id": "28QMhcWdjscr"
   },
   "outputs": [],
   "source": [
    "# execute the circuit\n",
    "job = backend.run(qobj)\n"
   ]
  },
  {
   "cell_type": "code",
   "execution_count": 48,
   "id": "GYnzFJyMkGLt",
   "metadata": {
    "colab": {
     "base_uri": "https://localhost:8080/"
    },
    "id": "GYnzFJyMkGLt",
    "outputId": "10499c52-276c-4261-9106-ab92827e821b"
   },
   "outputs": [
    {
     "data": {
      "text/plain": [
       "<JobStatus.DONE: 'job has successfully run'>"
      ]
     },
     "execution_count": 48,
     "metadata": {},
     "output_type": "execute_result"
    }
   ],
   "source": [
    "status = job.status()\n",
    "status\n"
   ]
  },
  {
   "cell_type": "code",
   "execution_count": 49,
   "id": "cf12c45e",
   "metadata": {},
   "outputs": [
    {
     "data": {
      "text/plain": [
       "'DONE'"
      ]
     },
     "execution_count": 49,
     "metadata": {},
     "output_type": "execute_result"
    }
   ],
   "source": [
    "status.name"
   ]
  },
  {
   "cell_type": "code",
   "execution_count": 42,
   "id": "J-lZKs9wkRX5",
   "metadata": {
    "id": "J-lZKs9wkRX5"
   },
   "outputs": [],
   "source": [
    "ID = job.job_id()"
   ]
  },
  {
   "cell_type": "code",
   "execution_count": 34,
   "id": "z7xJye4aoULQ",
   "metadata": {
    "id": "z7xJye4aoULQ"
   },
   "outputs": [],
   "source": [
    "job = backend.retrieve_job(ID)"
   ]
  },
  {
   "cell_type": "code",
   "execution_count": 35,
   "id": "tZ5hsNGCnjgc",
   "metadata": {
    "id": "tZ5hsNGCnjgc"
   },
   "outputs": [],
   "source": [
    "result = job.result()"
   ]
  },
  {
   "cell_type": "code",
   "execution_count": 36,
   "id": "aAtWad3Dkuz4",
   "metadata": {
    "id": "aAtWad3Dkuz4"
   },
   "outputs": [],
   "source": [
    "counts = result.get_counts()"
   ]
  },
  {
   "cell_type": "code",
   "execution_count": 37,
   "id": "-qmEcVexnn4W",
   "metadata": {
    "colab": {
     "base_uri": "https://localhost:8080/"
    },
    "id": "-qmEcVexnn4W",
    "outputId": "790f4bab-7be6-4171-f976-8b67d2b2f945"
   },
   "outputs": [
    {
     "data": {
      "text/plain": [
       "{'00': 141, '01': 370, '10': 509, '11': 4}"
      ]
     },
     "execution_count": 37,
     "metadata": {},
     "output_type": "execute_result"
    }
   ],
   "source": [
    "counts"
   ]
  },
  {
   "cell_type": "code",
   "execution_count": null,
   "id": "f7662695",
   "metadata": {},
   "outputs": [],
   "source": []
  }
 ],
 "metadata": {
  "colab": {
   "provenance": []
  },
  "kernelspec": {
   "display_name": "Python 3 (ipykernel)",
   "language": "python",
   "name": "python3"
  },
  "language_info": {
   "codemirror_mode": {
    "name": "ipython",
    "version": 3
   },
   "file_extension": ".py",
   "mimetype": "text/x-python",
   "name": "python",
   "nbconvert_exporter": "python",
   "pygments_lexer": "ipython3",
   "version": "3.9.10"
  },
  "vscode": {
   "interpreter": {
    "hash": "51b4e9700471eaf1a5d76c11bef0601667b05397081ebf41f03a2cf9585ff4ea"
   }
  }
 },
 "nbformat": 4,
 "nbformat_minor": 5
}
