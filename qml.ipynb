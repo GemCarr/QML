{
 "cells": [
  {
   "cell_type": "markdown",
   "id": "73f36b46",
   "metadata": {
    "id": "73f36b46"
   },
   "source": [
    "https://arxiv.org/abs/2007.14044"
   ]
  },
  {
   "cell_type": "code",
   "execution_count": 42,
   "id": "wvj_1vHtjBbB",
   "metadata": {
    "id": "wvj_1vHtjBbB"
   },
   "outputs": [
    {
     "name": "stdout",
     "output_type": "stream",
     "text": [
      "Requirement already satisfied: qiskit in /home/marius/.pyenv/versions/3.9.10/lib/python3.9/site-packages (0.39.5)\n",
      "Requirement already satisfied: qiskit-terra==0.22.4 in /home/marius/.pyenv/versions/3.9.10/lib/python3.9/site-packages (from qiskit) (0.22.4)\n",
      "Requirement already satisfied: qiskit-aer==0.11.2 in /home/marius/.pyenv/versions/3.9.10/lib/python3.9/site-packages (from qiskit) (0.11.2)\n",
      "Requirement already satisfied: qiskit-ibmq-provider==0.19.2 in /home/marius/.pyenv/versions/3.9.10/lib/python3.9/site-packages (from qiskit) (0.19.2)\n",
      "Requirement already satisfied: scipy>=1.0 in /home/marius/.pyenv/versions/3.9.10/lib/python3.9/site-packages (from qiskit-aer==0.11.2->qiskit) (1.8.1)\n",
      "Requirement already satisfied: numpy>=1.16.3 in /home/marius/.local/lib/python3.9/site-packages (from qiskit-aer==0.11.2->qiskit) (1.22.3)\n",
      "Requirement already satisfied: python-dateutil>=2.8.0 in /home/marius/.local/lib/python3.9/site-packages (from qiskit-ibmq-provider==0.19.2->qiskit) (2.8.2)\n",
      "Requirement already satisfied: websockets>=10.0 in /home/marius/.pyenv/versions/3.9.10/lib/python3.9/site-packages (from qiskit-ibmq-provider==0.19.2->qiskit) (10.4)\n",
      "Requirement already satisfied: urllib3>=1.21.1 in /home/marius/.pyenv/versions/3.9.10/lib/python3.9/site-packages (from qiskit-ibmq-provider==0.19.2->qiskit) (1.26.9)\n",
      "Requirement already satisfied: requests-ntlm>=1.1.0 in /home/marius/.pyenv/versions/3.9.10/lib/python3.9/site-packages (from qiskit-ibmq-provider==0.19.2->qiskit) (1.1.0)\n",
      "Requirement already satisfied: requests>=2.19 in /home/marius/.local/lib/python3.9/site-packages (from qiskit-ibmq-provider==0.19.2->qiskit) (2.27.1)\n",
      "Requirement already satisfied: websocket-client>=1.0.1 in /home/marius/.local/lib/python3.9/site-packages (from qiskit-ibmq-provider==0.19.2->qiskit) (1.3.2)\n",
      "Requirement already satisfied: stevedore>=3.0.0 in /home/marius/.pyenv/versions/3.9.10/lib/python3.9/site-packages (from qiskit-terra==0.22.4->qiskit) (4.1.1)\n",
      "Requirement already satisfied: psutil>=5 in /home/marius/.pyenv/versions/3.9.10/lib/python3.9/site-packages (from qiskit-terra==0.22.4->qiskit) (5.9.4)\n",
      "Requirement already satisfied: symengine>=0.9 in /home/marius/.pyenv/versions/3.9.10/lib/python3.9/site-packages (from qiskit-terra==0.22.4->qiskit) (0.9.2)\n",
      "Requirement already satisfied: sympy>=1.3 in /home/marius/.pyenv/versions/3.9.10/lib/python3.9/site-packages (from qiskit-terra==0.22.4->qiskit) (1.11.1)\n",
      "Requirement already satisfied: tweedledum<2.0,>=1.1 in /home/marius/.pyenv/versions/3.9.10/lib/python3.9/site-packages (from qiskit-terra==0.22.4->qiskit) (1.1.1)\n",
      "Requirement already satisfied: dill>=0.3 in /home/marius/.pyenv/versions/3.9.10/lib/python3.9/site-packages (from qiskit-terra==0.22.4->qiskit) (0.3.5.1)\n",
      "Requirement already satisfied: retworkx>=0.11.0 in /home/marius/.pyenv/versions/3.9.10/lib/python3.9/site-packages (from qiskit-terra==0.22.4->qiskit) (0.12.0)\n",
      "Requirement already satisfied: ply>=3.10 in /home/marius/.pyenv/versions/3.9.10/lib/python3.9/site-packages (from qiskit-terra==0.22.4->qiskit) (3.11)\n",
      "Requirement already satisfied: six>=1.5 in /home/marius/.local/lib/python3.9/site-packages (from python-dateutil>=2.8.0->qiskit-ibmq-provider==0.19.2->qiskit) (1.16.0)\n",
      "Requirement already satisfied: certifi>=2017.4.17 in /home/marius/.pyenv/versions/3.9.10/lib/python3.9/site-packages (from requests>=2.19->qiskit-ibmq-provider==0.19.2->qiskit) (2022.5.18.1)\n",
      "Requirement already satisfied: charset-normalizer~=2.0.0 in /home/marius/.local/lib/python3.9/site-packages (from requests>=2.19->qiskit-ibmq-provider==0.19.2->qiskit) (2.0.12)\n",
      "Requirement already satisfied: idna<4,>=2.5 in /home/marius/.local/lib/python3.9/site-packages (from requests>=2.19->qiskit-ibmq-provider==0.19.2->qiskit) (3.3)\n",
      "Requirement already satisfied: cryptography>=1.3 in /home/marius/.pyenv/versions/3.9.10/lib/python3.9/site-packages (from requests-ntlm>=1.1.0->qiskit-ibmq-provider==0.19.2->qiskit) (38.0.3)\n",
      "Requirement already satisfied: ntlm-auth>=1.0.2 in /home/marius/.pyenv/versions/3.9.10/lib/python3.9/site-packages (from requests-ntlm>=1.1.0->qiskit-ibmq-provider==0.19.2->qiskit) (1.5.0)\n",
      "Requirement already satisfied: rustworkx==0.12.0 in /home/marius/.pyenv/versions/3.9.10/lib/python3.9/site-packages (from retworkx>=0.11.0->qiskit-terra==0.22.4->qiskit) (0.12.0)\n",
      "Requirement already satisfied: pbr!=2.1.0,>=2.0.0 in /home/marius/.pyenv/versions/3.9.10/lib/python3.9/site-packages (from stevedore>=3.0.0->qiskit-terra==0.22.4->qiskit) (5.11.0)\n",
      "Requirement already satisfied: mpmath>=0.19 in /home/marius/.pyenv/versions/3.9.10/lib/python3.9/site-packages (from sympy>=1.3->qiskit-terra==0.22.4->qiskit) (1.2.1)\n",
      "Requirement already satisfied: cffi>=1.12 in /home/marius/.local/lib/python3.9/site-packages (from cryptography>=1.3->requests-ntlm>=1.1.0->qiskit-ibmq-provider==0.19.2->qiskit) (1.15.0)\n",
      "Requirement already satisfied: pycparser in /home/marius/.local/lib/python3.9/site-packages (from cffi>=1.12->cryptography>=1.3->requests-ntlm>=1.1.0->qiskit-ibmq-provider==0.19.2->qiskit) (2.21)\n"
     ]
    }
   ],
   "source": [
    "!pip3 install qiskit --upgrade"
   ]
  },
  {
   "cell_type": "code",
   "execution_count": 43,
   "id": "ee7f8b50",
   "metadata": {
    "id": "ee7f8b50"
   },
   "outputs": [],
   "source": [
    "import qiskit\n",
    "from scipy.special import erfinv\n",
    "import numpy as np\n",
    "import pandas as pd\n",
    "import scipy as sp\n",
    "from sklearn.model_selection import train_test_split\n",
    "\n",
    "qs = qiskit.Aer.get_backend('qasm_simulator')"
   ]
  },
  {
   "cell_type": "markdown",
   "id": "a1b906b7",
   "metadata": {},
   "source": [
    "# IRIS"
   ]
  },
  {
   "cell_type": "markdown",
   "id": "39ec5b24",
   "metadata": {
    "id": "39ec5b24"
   },
   "source": [
    "### Dataset"
   ]
  },
  {
   "cell_type": "code",
   "execution_count": 44,
   "id": "f3b04f14",
   "metadata": {
    "id": "f3b04f14"
   },
   "outputs": [],
   "source": [
    "diconvert = {\n",
    "    \"Iris-setosa\" : \"00\",\n",
    "    \"Iris-versicolor\" : \"01\",\n",
    "    \"Iris-virginica\" : \"10\",\n",
    "    \"NaN\" : \"11\"\n",
    "}\n",
    "\n",
    "dicinv = {diconvert[k] : k for k in diconvert} "
   ]
  },
  {
   "cell_type": "code",
   "execution_count": 45,
   "id": "547a5203",
   "metadata": {
    "id": "547a5203"
   },
   "outputs": [],
   "source": [
    "def qFactor(eps, d):\n",
    "    return erfinv(1-eps**(1/d)/2)"
   ]
  },
  {
   "cell_type": "code",
   "execution_count": 46,
   "id": "11528b59",
   "metadata": {
    "id": "11528b59"
   },
   "outputs": [],
   "source": [
    "eps = 0.01\n",
    "alpha = 0.1\n",
    "d = 4\n",
    "q = qFactor(eps, d)"
   ]
  },
  {
   "cell_type": "code",
   "execution_count": 47,
   "id": "cfceafb0-183b-48bc-ba44-462b8753ac40",
   "metadata": {},
   "outputs": [
    {
     "data": {
      "text/plain": [
       "0.9980412728799112"
      ]
     },
     "execution_count": 47,
     "metadata": {},
     "output_type": "execute_result"
    }
   ],
   "source": [
    "q"
   ]
  },
  {
   "cell_type": "code",
   "execution_count": 48,
   "id": "7f56b4bd",
   "metadata": {
    "id": "7f56b4bd"
   },
   "outputs": [],
   "source": [
    "def standardise(x):\n",
    "    return (x-np.mean(x))/np.std(x)\n",
    "\n",
    "def rescaleFeature(x):\n",
    "    return (1-alpha/2)*(np.pi/q)*standardise(x)"
   ]
  },
  {
   "cell_type": "code",
   "execution_count": 49,
   "id": "57aae14e",
   "metadata": {
    "id": "57aae14e"
   },
   "outputs": [],
   "source": [
    "df = pd.read_csv(\"iris.data\")\n",
    "attributes = df.columns[:-1]\n",
    "for x in attributes:\n",
    "    df[x] = rescaleFeature(df[x])"
   ]
  },
  {
   "cell_type": "markdown",
   "id": "954e97a9-b134-4246-91e3-357e7699d789",
   "metadata": {},
   "source": [
    "### Circuit"
   ]
  },
  {
   "cell_type": "code",
   "execution_count": 9,
   "id": "18cd1291",
   "metadata": {},
   "outputs": [],
   "source": [
    "def psiGate(qc, param, bit):\n",
    "    qc.rx(np.pi/2, bit)\n",
    "    qc.rz(param, bit)\n",
    "    qc.rx(np.pi/2, bit)"
   ]
  },
  {
   "cell_type": "code",
   "execution_count": 10,
   "id": "eb6b2bdd",
   "metadata": {
    "id": "eb6b2bdd"
   },
   "outputs": [],
   "source": [
    "def irisCircuit(theta, omega):\n",
    "    qc = qiskit.QuantumCircuit(2)\n",
    "    for i in range(4):\n",
    "        if i : qc.cz(0, 1)\n",
    "        psiGate(qc, omega[(2*i) % 4], 0)\n",
    "        psiGate(qc, omega[(2*i+1) % 4], 1)\n",
    "        qc.cz(0, 1)\n",
    "        psiGate(qc, theta[(2*i)], 0)\n",
    "        psiGate(qc, theta[(2*i+1)], 1)\n",
    "    return qc"
   ]
  },
  {
   "cell_type": "code",
   "execution_count": 11,
   "id": "de6e64bb",
   "metadata": {
    "id": "de6e64bb"
   },
   "outputs": [],
   "source": [
    "def predictionDict(circuit, theta, omega, nshots = 100):\n",
    "    qc = qiskit.QuantumCircuit(2, 2)\n",
    "    qc.append(circuit(theta, omega), range(2))\n",
    "    qc.measure(range(2), range(2))\n",
    "    \n",
    "    job = qiskit.execute(qc, shots=nshots, backend=qs)\n",
    "    c = job.result().get_counts()\n",
    "    return c\n"
   ]
  },
  {
   "cell_type": "code",
   "execution_count": 12,
   "id": "2a9dee13",
   "metadata": {
    "id": "2a9dee13"
   },
   "outputs": [],
   "source": [
    "def logSoftmax(circuit, theta, data, nshots=100):\n",
    "    omega = data[attributes].values\n",
    "    label = diconvert[data[\"class\"]]\n",
    "    c = predictionDict(circuit, theta, omega)\n",
    "    \n",
    "    if label in c:\n",
    "        e = np.exp(c[label]/nshots)\n",
    "    else :\n",
    "        e = 1\n",
    "    s = np.exp(np.array(list(c.values()))/nshots).sum()\n",
    "    return -np.log(e/s)\n"
   ]
  },
  {
   "cell_type": "code",
   "execution_count": 13,
   "id": "8f792953",
   "metadata": {
    "id": "8f792953"
   },
   "outputs": [],
   "source": [
    "def lossBatch(circuit, loss_function, theta, batch, nshots=100):\n",
    "    s = batch.apply(\n",
    "        lambda data : loss_function(circuit, theta, data, nshots=nshots),\n",
    "        axis=1\n",
    "    )\n",
    "    return s.mean()                "
   ]
  },
  {
   "cell_type": "code",
   "execution_count": 14,
   "id": "a74e18a3",
   "metadata": {
    "id": "a74e18a3"
   },
   "outputs": [],
   "source": [
    "train_size = 90\n",
    "test_size = 60\n",
    "\n",
    "trainSet, testSet = train_test_split(\n",
    "    df, test_size=test_size, train_size=train_size, stratify = df[[\"class\"]])\n",
    "testSet = pd.DataFrame(testSet)\n",
    "trainSet= pd.DataFrame(trainSet)"
   ]
  },
  {
   "cell_type": "code",
   "execution_count": 52,
   "id": "2db57442",
   "metadata": {},
   "outputs": [],
   "source": [
    "def fit(circuit, loss_function, train_set, nshots=100, maxiter=20, x=None, theta_size=8):\n",
    "    if x is None:\n",
    "        x = np.random.uniform(-np.pi, np.pi, theta_size)\n",
    "    opt = sp.optimize.minimize(\n",
    "        fun=lambda theta : lossBatch(circuit, loss_function, theta, trainSet, nshots=nshots),\n",
    "        x0 = x,\n",
    "        method='COBYLA',\n",
    "        options={'maxiter': maxiter}\n",
    "    )\n",
    "    return opt"
   ]
  },
  {
   "cell_type": "code",
   "execution_count": 51,
   "id": "18debf5b",
   "metadata": {},
   "outputs": [],
   "source": [
    "opt = fit(irisCircuit, logSoftmax, trainSet, nshots=250, maxiter=20)\n",
    "new_t = opt.x\n",
    "opt"
   ]
  },
  {
   "cell_type": "code",
   "execution_count": null,
   "id": "f8f6895d",
   "metadata": {},
   "outputs": [
    {
     "data": {
      "text/plain": [
       "     fun: 1.1970098242478293\n",
       "   maxcv: 0.0\n",
       " message: 'Maximum number of function evaluations has been exceeded.'\n",
       "    nfev: 30\n",
       "  status: 2\n",
       " success: False\n",
       "       x: array([-0.50846768,  0.80199118,  1.79622618,  2.30130033,  1.90735019,\n",
       "        2.89995828,  1.45576367,  2.28563506])"
      ]
     },
     "execution_count": 17,
     "metadata": {},
     "output_type": "execute_result"
    }
   ],
   "source": [
    "opt = fit(irisCircuit, logSoftmax, trainSet, nshots=500, maxiter=30, x=new_t)\n",
    "new_t = opt.x\n",
    "opt"
   ]
  },
  {
   "cell_type": "code",
   "execution_count": 18,
   "id": "3bd95424",
   "metadata": {},
   "outputs": [
    {
     "data": {
      "text/plain": [
       "     fun: 1.1970098242478293\n",
       "   maxcv: 0.0\n",
       " message: 'Maximum number of function evaluations has been exceeded.'\n",
       "    nfev: 30\n",
       "  status: 2\n",
       " success: False\n",
       "       x: array([-0.50846768,  0.80199118,  1.79622618,  2.30130033,  1.90735019,\n",
       "        2.89995828,  1.45576367,  2.28563506])"
      ]
     },
     "execution_count": 18,
     "metadata": {},
     "output_type": "execute_result"
    }
   ],
   "source": [
    "# opt = fit(irisCircuit, logSoftmax, trainSet, nshots=500, maxiter=70, x=new_t)\n",
    "theta_opt = opt.x\n",
    "opt"
   ]
  },
  {
   "cell_type": "code",
   "execution_count": 19,
   "id": "63ce36fe",
   "metadata": {
    "id": "63ce36fe"
   },
   "outputs": [],
   "source": [
    "def argmaxDict(c):\n",
    "    v = None\n",
    "    for key in c :\n",
    "        if v is None or c[key] >= v:\n",
    "            k = key\n",
    "            v = c[key]\n",
    "    return k"
   ]
  },
  {
   "cell_type": "code",
   "execution_count": 20,
   "id": "b1c7f009",
   "metadata": {
    "id": "b1c7f009"
   },
   "outputs": [],
   "source": [
    "def prediction(circuit, theta, omega):\n",
    "    return argmaxDict(predictionDict(circuit, theta, omega))"
   ]
  },
  {
   "cell_type": "code",
   "execution_count": 21,
   "id": "0301d0bf",
   "metadata": {
    "id": "0301d0bf"
   },
   "outputs": [],
   "source": [
    "def predictedClass(circuit, data, theta_opt):\n",
    "    omega = data[attributes].values.T\n",
    "    ypred = prediction(circuit, theta_opt, omega)\n",
    "    return dicinv[ypred]"
   ]
  },
  {
   "cell_type": "code",
   "execution_count": 22,
   "id": "49e75348",
   "metadata": {
    "id": "49e75348"
   },
   "outputs": [],
   "source": [
    "testSet[\"predicted\"] = testSet.apply(\n",
    "    lambda row : dicinv[prediction(irisCircuit, theta_opt, row[attributes].values)],\n",
    "    axis=1\n",
    ")"
   ]
  },
  {
   "cell_type": "code",
   "execution_count": 23,
   "id": "b053bd6e",
   "metadata": {
    "id": "b053bd6e"
   },
   "outputs": [
    {
     "data": {
      "text/plain": [
       "0.26666666666666666"
      ]
     },
     "execution_count": 23,
     "metadata": {},
     "output_type": "execute_result"
    }
   ],
   "source": [
    "sum(np.array(testSet[\"class\"] == testSet[\"predicted\"]))/60"
   ]
  },
  {
   "cell_type": "code",
   "execution_count": 25,
   "id": "28558937-8d05-49a7-bee4-d8cc108d709d",
   "metadata": {},
   "outputs": [],
   "source": [
    "trainSet[\"predicted\"] = trainSet.apply(\n",
    "    lambda row : dicinv[prediction(irisCircuit, theta_opt, row[attributes].values)],\n",
    "    axis=1\n",
    ")"
   ]
  },
  {
   "cell_type": "code",
   "execution_count": 26,
   "id": "08cf4bbe-4219-43dd-a647-e5939cb55a20",
   "metadata": {},
   "outputs": [
    {
     "data": {
      "text/plain": [
       "0.3333333333333333"
      ]
     },
     "execution_count": 26,
     "metadata": {},
     "output_type": "execute_result"
    }
   ],
   "source": [
    "sum(np.array(trainSet[\"class\"] == trainSet[\"predicted\"]))/60"
   ]
  },
  {
   "cell_type": "markdown",
   "id": "594a00a8",
   "metadata": {},
   "source": [
    "# Gaussian XOR"
   ]
  },
  {
   "cell_type": "markdown",
   "id": "a29b036d-f86c-4858-95ba-1919b481bde2",
   "metadata": {},
   "source": [
    "### Dataset"
   ]
  },
  {
   "cell_type": "code",
   "execution_count": 27,
   "id": "1b4a5dfd-756d-472c-8c76-67ad03f51b29",
   "metadata": {},
   "outputs": [],
   "source": [
    "import numpy as np\n",
    "import math"
   ]
  },
  {
   "cell_type": "code",
   "execution_count": 28,
   "id": "ed504155-5c7b-4a49-82f9-36230dc58e91",
   "metadata": {},
   "outputs": [],
   "source": [
    "def generate_gaussian_point(x, y, label) :\n",
    "    pick_x = np.random.normal(loc=x, scale = 0.5)\n",
    "    pick_y = np.random.normal(loc=y, scale = 0.5)\n",
    "    return (pick_x, pick_y, label)"
   ]
  },
  {
   "cell_type": "code",
   "execution_count": 29,
   "id": "3557a9fa-08ee-427d-ad1d-3e4d95ec704a",
   "metadata": {},
   "outputs": [],
   "source": [
    "point1 = (-np.pi / 2, 0)\n",
    "point2 = (np.pi / 2, 0)\n",
    "point3 = (0, -np.pi / 2)\n",
    "point4 = (0, np.pi / 2)\n",
    "\n",
    "centers = [point1, point2, point3, point4]\n"
   ]
  },
  {
   "cell_type": "code",
   "execution_count": 30,
   "id": "cd7cd6a7-ee55-479f-953c-ca177528195a",
   "metadata": {},
   "outputs": [],
   "source": [
    "points = []\n",
    "for i in range(20) :\n",
    "    points.append(generate_gaussian_point(*point1, 0))\n",
    "    points.append(generate_gaussian_point(*point2, 0))\n",
    "    points.append(generate_gaussian_point(*point3, 1))\n",
    "    points.append(generate_gaussian_point(*point4, 1))\n"
   ]
  },
  {
   "cell_type": "code",
   "execution_count": 31,
   "id": "da085843-21ee-4f8d-9659-a35efa02eeea",
   "metadata": {},
   "outputs": [
    {
     "data": {
      "text/plain": [
       "(-3.141592653589793, 3.141592653589793)"
      ]
     },
     "execution_count": 31,
     "metadata": {},
     "output_type": "execute_result"
    },
    {
     "data": {
      "image/png": "[encoded data removed]",
      "text/plain": [
       "<Figure size 360x360 with 1 Axes>"
      ]
     },
     "metadata": {
      "needs_background": "light"
     },
     "output_type": "display_data"
    }
   ],
   "source": [
    "import matplotlib.pyplot as plt\n",
    "\n",
    "plt.rcParams['figure.figsize'] = [5,5]\n",
    "\n",
    "x,y,c = zip(*points)\n",
    "c = [\"red\" if el==0 else \"blue\" for el in c]\n",
    "plt.scatter(x, y, color=c)\n",
    "x,y = zip(*centers)\n",
    "plt.scatter(x, y, color='green')\n",
    "\n",
    "\n",
    "\n",
    "x = np.linspace(-np.pi, np.pi, 100)\n",
    "y = x\n",
    "y2 = - x\n",
    "\n",
    "plt.plot(x,y)\n",
    "plt.plot(x,y2)\n",
    "\n",
    "plt.xlim([-np.pi, np.pi])\n",
    "plt.ylim([-np.pi, np.pi])"
   ]
  },
  {
   "cell_type": "code",
   "execution_count": 32,
   "id": "95597098",
   "metadata": {},
   "outputs": [],
   "source": [
    "dataset = np.array(points)"
   ]
  },
  {
   "cell_type": "code",
   "execution_count": 33,
   "id": "584d8ca5",
   "metadata": {},
   "outputs": [],
   "source": [
    "X,y = dataset[:,:2], dataset[:,2]"
   ]
  },
  {
   "cell_type": "code",
   "execution_count": 34,
   "id": "a1fae13c",
   "metadata": {},
   "outputs": [],
   "source": [
    "split = 0.8\n",
    "slice = math.floor(split * len(X))"
   ]
  },
  {
   "cell_type": "code",
   "execution_count": 35,
   "id": "5d0b3613",
   "metadata": {},
   "outputs": [
    {
     "data": {
      "text/plain": [
       "64"
      ]
     },
     "execution_count": 35,
     "metadata": {},
     "output_type": "execute_result"
    }
   ],
   "source": [
    "slice"
   ]
  },
  {
   "cell_type": "code",
   "execution_count": 36,
   "id": "e8a54e92",
   "metadata": {},
   "outputs": [],
   "source": [
    "X_train, X_test = X[slice:], X[slice:]\n",
    "y_train, y_test = y[slice:], y[slice:]"
   ]
  },
  {
   "cell_type": "code",
   "execution_count": 37,
   "id": "1210de68-21a9-4e47-b9b3-c74e3f636826",
   "metadata": {},
   "outputs": [],
   "source": [
    "def xorCircuit(theta, omega):\n",
    "    qc = qiskit.QuantumCircuit(2)\n",
    "    psiGate(qc, omega[0], 0)\n",
    "    psiGate(qc, omega[1], 1)\n",
    "    for i in range(2):\n",
    "        qc.cz(0, 1)\n",
    "        psiGate(qc, theta[2*i], 0)\n",
    "        psiGate(qc, theta[2*i+1], 1)\n",
    "    return qc"
   ]
  },
  {
   "cell_type": "code",
   "execution_count": 38,
   "id": "17d19981",
   "metadata": {},
   "outputs": [],
   "source": [
    "from sklearn.naive_bayes import GaussianNB"
   ]
  },
  {
   "cell_type": "code",
   "execution_count": 39,
   "id": "3b5eaa7f",
   "metadata": {},
   "outputs": [],
   "source": [
    "gaussianNb = GaussianNB()\n",
    "gaussianNb.fit(X_train, y_train)\n",
    "score = gaussianNb.score(X_test, y_test)"
   ]
  },
  {
   "cell_type": "code",
   "execution_count": 40,
   "id": "af20f30d",
   "metadata": {},
   "outputs": [
    {
     "data": {
      "text/plain": [
       "1.0"
      ]
     },
     "execution_count": 40,
     "metadata": {},
     "output_type": "execute_result"
    }
   ],
   "source": [
    "score"
   ]
  },
  {
   "cell_type": "code",
   "execution_count": 53,
   "id": "83080e8f",
   "metadata": {},
   "outputs": [
    {
     "data": {
      "text/plain": [
       "     fun: 1.1490154007469124\n",
       "   maxcv: 0.0\n",
       " message: 'Maximum number of function evaluations has been exceeded.'\n",
       "    nfev: 20\n",
       "  status: 2\n",
       " success: False\n",
       "       x: array([-0.1478265 , -0.18682622, -1.13044218, -0.41161908])"
      ]
     },
     "execution_count": 53,
     "metadata": {},
     "output_type": "execute_result"
    }
   ],
   "source": [
    "xor_opt = fit(xorCircuit, logSoftmax, X_train, nshots=250, maxiter=20, theta_size=4)\n",
    "new_t = xor_opt.x\n",
    "xor_opt"
   ]
  },
  {
   "cell_type": "markdown",
   "id": "ce1db633",
   "metadata": {},
   "source": [
    "# Skin segmentation"
   ]
  },
  {
   "cell_type": "code",
   "execution_count": null,
   "id": "b7e4a6f5",
   "metadata": {},
   "outputs": [],
   "source": [
    "def skinSegCircuit(theta, omega):\n",
    "    qc = qiskit.QuantumCircuit(3)\n",
    "    psiGate(qc, omega[0], 0)\n",
    "    psiGate(qc, omega[1], 1)\n",
    "    psiGate(qc, omega[2], 2)\n",
    "    \n",
    "    qc.cz(0, 2)\n",
    "    \n",
    "    psiGate(qc, theta[0], 0)\n",
    "    psiGate(qc, theta[1], 2)\n",
    "    \n",
    "    qc.cz(0, 1)\n",
    "    \n",
    "    psiGate(qc, theta[2], 0)\n",
    "    psiGate(qc, theta[3], 1)\n",
    "    \n",
    "    qc.cz(1, 2)\n",
    "    \n",
    "    psiGate(qc, theta[4], 1)\n",
    "    psiGate(qc, theta[5], 2)\n",
    "    return qc"
   ]
  },
  {
   "cell_type": "markdown",
   "id": "c72282df",
   "metadata": {},
   "source": [
    "# Synthetic dataset with 4 classes"
   ]
  },
  {
   "cell_type": "code",
   "execution_count": null,
   "id": "a70ab528",
   "metadata": {},
   "outputs": [],
   "source": [
    "def syntheticCircuit(theta, omega):\n",
    "    qc = qiskit.QuantumCircuit(2)\n",
    "    for i in range(2):\n",
    "        if i : qc.cz(0, 1)\n",
    "        psiGate(qc, omega[0], 0)\n",
    "        psiGate(qc, omega[1], 1)\n",
    "        qc.cz(0, 1)\n",
    "        psiGate(qc, theta[(6*i)], 0)\n",
    "        psiGate(qc, theta[(6*i+1)], 1)\n",
    "        qc.cz(0, 1)\n",
    "        psiGate(qc, omega[0], 0)\n",
    "        psiGate(qc, omega[1], 1)\n",
    "        qc.cz(0, 1)\n",
    "        psiGate(qc, theta[(6*i+2)], 0)\n",
    "        psiGate(qc, theta[(6*i+3)], 1)\n",
    "        qc.cz(0, 1)\n",
    "        psiGate(qc, theta[(6*i+4)], 0)\n",
    "        psiGate(qc, theta[(6*i+5)], 1)\n",
    "    return qc"
   ]
  },
  {
   "cell_type": "code",
   "execution_count": null,
   "id": "10ca6433",
   "metadata": {},
   "outputs": [],
   "source": []
  },
  {
   "cell_type": "markdown",
   "id": "298bacf2-bf15-4810-b9ea-cc6a6c460f82",
   "metadata": {},
   "source": [
    "# Run on IBM Quantum Computer"
   ]
  },
  {
   "cell_type": "code",
   "execution_count": null,
   "id": "4cd250c0",
   "metadata": {
    "id": "4cd250c0"
   },
   "outputs": [],
   "source": [
    "TOKEN = ..."
   ]
  },
  {
   "cell_type": "code",
   "execution_count": null,
   "id": "f597aa8d",
   "metadata": {
    "id": "f597aa8d"
   },
   "outputs": [
    {
     "ename": "IBMQAccountCredentialsInvalidToken",
     "evalue": "'Invalid IBM Quantum Experience token found: \"Ellipsis\" of type <class \\'ellipsis\\'>.'",
     "output_type": "error",
     "traceback": [
      "\u001b[0;31m---------------------------------------------------------------------------\u001b[0m",
      "\u001b[0;31mIBMQAccountCredentialsInvalidToken\u001b[0m        Traceback (most recent call last)",
      "\u001b[1;32m/home/marius/epita/ING3/QML/QML/qml.ipynb Cell 29\u001b[0m in \u001b[0;36m<cell line: 1>\u001b[0;34m()\u001b[0m\n\u001b[0;32m----> <a href='vscode-notebook-cell://wsl%2Bubuntu/home/marius/epita/ING3/QML/QML/qml.ipynb#X46sdnNjb2RlLXJlbW90ZQ%3D%3D?line=0'>1</a>\u001b[0m qiskit\u001b[39m.\u001b[39;49mIBMQ\u001b[39m.\u001b[39;49msave_account(TOKEN, overwrite\u001b[39m=\u001b[39;49m\u001b[39mTrue\u001b[39;49;00m) \n\u001b[1;32m      <a href='vscode-notebook-cell://wsl%2Bubuntu/home/marius/epita/ING3/QML/QML/qml.ipynb#X46sdnNjb2RlLXJlbW90ZQ%3D%3D?line=1'>2</a>\u001b[0m provider \u001b[39m=\u001b[39m qiskit\u001b[39m.\u001b[39mIBMQ\u001b[39m.\u001b[39mload_account()\n\u001b[1;32m      <a href='vscode-notebook-cell://wsl%2Bubuntu/home/marius/epita/ING3/QML/QML/qml.ipynb#X46sdnNjb2RlLXJlbW90ZQ%3D%3D?line=2'>3</a>\u001b[0m backend \u001b[39m=\u001b[39m qiskit\u001b[39m.\u001b[39mproviders\u001b[39m.\u001b[39mibmq\u001b[39m.\u001b[39mleast_busy(provider\u001b[39m.\u001b[39mbackends())\n",
      "File \u001b[0;32m~/.pyenv/versions/3.9.10/lib/python3.9/site-packages/qiskit/providers/ibmq/ibmqfactory.py:257\u001b[0m, in \u001b[0;36mIBMQFactory.save_account\u001b[0;34m(token, url, hub, group, project, overwrite, **kwargs)\u001b[0m\n\u001b[1;32m    253\u001b[0m     \u001b[39mraise\u001b[39;00m IBMQAccountCredentialsInvalidUrl(\n\u001b[1;32m    254\u001b[0m         \u001b[39m'\u001b[39m\u001b[39mInvalid IBM Q Experience credentials found. \u001b[39m\u001b[39m'\u001b[39m \u001b[39m+\u001b[39m UPDATE_ACCOUNT_TEXT)\n\u001b[1;32m    256\u001b[0m \u001b[39mif\u001b[39;00m \u001b[39mnot\u001b[39;00m token \u001b[39mor\u001b[39;00m \u001b[39mnot\u001b[39;00m \u001b[39misinstance\u001b[39m(token, \u001b[39mstr\u001b[39m):\n\u001b[0;32m--> 257\u001b[0m     \u001b[39mraise\u001b[39;00m IBMQAccountCredentialsInvalidToken(\n\u001b[1;32m    258\u001b[0m         \u001b[39m'\u001b[39m\u001b[39mInvalid IBM Quantum Experience token \u001b[39m\u001b[39m'\u001b[39m\n\u001b[1;32m    259\u001b[0m         \u001b[39m'\u001b[39m\u001b[39mfound: \u001b[39m\u001b[39m\"\u001b[39m\u001b[39m{}\u001b[39;00m\u001b[39m\"\u001b[39m\u001b[39m of type \u001b[39m\u001b[39m{}\u001b[39;00m\u001b[39m.\u001b[39m\u001b[39m'\u001b[39m\u001b[39m.\u001b[39mformat(token, \u001b[39mtype\u001b[39m(token)))\n\u001b[1;32m    261\u001b[0m \u001b[39m# If any `hub`, `group`, or `project` is specified, make sure all parameters are set.\u001b[39;00m\n\u001b[1;32m    262\u001b[0m \u001b[39mif\u001b[39;00m \u001b[39many\u001b[39m([hub, group, project]) \u001b[39mand\u001b[39;00m \u001b[39mnot\u001b[39;00m \u001b[39mall\u001b[39m([hub, group, project]):\n",
      "\u001b[0;31mIBMQAccountCredentialsInvalidToken\u001b[0m: 'Invalid IBM Quantum Experience token found: \"Ellipsis\" of type <class \\'ellipsis\\'>.'"
     ]
    }
   ],
   "source": [
    "qiskit.IBMQ.save_account(TOKEN, overwrite=True) \n",
    "provider = qiskit.IBMQ.load_account()\n",
    "backend = qiskit.providers.ibmq.least_busy(provider.backends())\n",
    "\n",
    "mapped_circuit = qiskit.transpile(circuit, backend=backend)\n",
    "qobj = qiskit.assemble(mapped_circuit, backend=backend, shots=1024)"
   ]
  },
  {
   "cell_type": "code",
   "execution_count": null,
   "id": "28QMhcWdjscr",
   "metadata": {
    "id": "28QMhcWdjscr"
   },
   "outputs": [],
   "source": [
    "# execute the circuit\n",
    "job = backend.run(qobj)\n"
   ]
  },
  {
   "cell_type": "code",
   "execution_count": null,
   "id": "GYnzFJyMkGLt",
   "metadata": {
    "colab": {
     "base_uri": "https://localhost:8080/"
    },
    "id": "GYnzFJyMkGLt",
    "outputId": "10499c52-276c-4261-9106-ab92827e821b"
   },
   "outputs": [],
   "source": [
    "job.status()\n"
   ]
  },
  {
   "cell_type": "code",
   "execution_count": null,
   "id": "J-lZKs9wkRX5",
   "metadata": {
    "id": "J-lZKs9wkRX5"
   },
   "outputs": [],
   "source": [
    "ID = job.job_id()"
   ]
  },
  {
   "cell_type": "code",
   "execution_count": null,
   "id": "z7xJye4aoULQ",
   "metadata": {
    "id": "z7xJye4aoULQ"
   },
   "outputs": [],
   "source": [
    "job = backend.retrieve_job(ID)"
   ]
  },
  {
   "cell_type": "code",
   "execution_count": null,
   "id": "tZ5hsNGCnjgc",
   "metadata": {
    "id": "tZ5hsNGCnjgc"
   },
   "outputs": [],
   "source": [
    "result = job.result()"
   ]
  },
  {
   "cell_type": "code",
   "execution_count": null,
   "id": "aAtWad3Dkuz4",
   "metadata": {
    "id": "aAtWad3Dkuz4"
   },
   "outputs": [],
   "source": [
    "counts = result.get_counts()"
   ]
  },
  {
   "cell_type": "code",
   "execution_count": null,
   "id": "-qmEcVexnn4W",
   "metadata": {
    "colab": {
     "base_uri": "https://localhost:8080/"
    },
    "id": "-qmEcVexnn4W",
    "outputId": "790f4bab-7be6-4171-f976-8b67d2b2f945"
   },
   "outputs": [],
   "source": [
    "counts"
   ]
  }
 ],
 "metadata": {
  "colab": {
   "provenance": []
  },
  "kernelspec": {
   "display_name": "Python 3 (ipykernel)",
   "language": "python",
   "name": "python3"
  },
  "language_info": {
   "codemirror_mode": {
    "name": "ipython",
    "version": 3
   },
   "file_extension": ".py",
   "mimetype": "text/x-python",
   "name": "python",
   "nbconvert_exporter": "python",
   "pygments_lexer": "ipython3",
   "version": "3.9.10"
  },
  "vscode": {
   "interpreter": {
    "hash": "51b4e9700471eaf1a5d76c11bef0601667b05397081ebf41f03a2cf9585ff4ea"
   }
  }
 },
 "nbformat": 4,
 "nbformat_minor": 5
}
