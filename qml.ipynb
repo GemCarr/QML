{
 "cells": [
  {
   "cell_type": "markdown",
   "id": "73f36b46",
   "metadata": {
    "id": "73f36b46"
   },
   "source": [
    "https://arxiv.org/abs/2007.14044"
   ]
  },
  {
   "cell_type": "code",
   "execution_count": 343,
   "id": "wvj_1vHtjBbB",
   "metadata": {
    "id": "wvj_1vHtjBbB"
   },
   "outputs": [
    {
     "name": "stdout",
     "output_type": "stream",
     "text": [
      "Defaulting to user installation because normal site-packages is not writeable\n",
      "Requirement already satisfied: qiskit in /home/guillaume/.local/lib/python3.10/site-packages (0.39.5)\n",
      "Requirement already satisfied: qiskit-aer==0.11.2 in /home/guillaume/.local/lib/python3.10/site-packages (from qiskit) (0.11.2)\n",
      "Requirement already satisfied: qiskit-terra==0.22.4 in /home/guillaume/.local/lib/python3.10/site-packages (from qiskit) (0.22.4)\n",
      "Requirement already satisfied: qiskit-ibmq-provider==0.19.2 in /home/guillaume/.local/lib/python3.10/site-packages (from qiskit) (0.19.2)\n",
      "Requirement already satisfied: scipy>=1.0 in /home/guillaume/.local/lib/python3.10/site-packages (from qiskit-aer==0.11.2->qiskit) (1.9.3)\n",
      "Requirement already satisfied: numpy>=1.16.3 in /home/guillaume/.local/lib/python3.10/site-packages (from qiskit-aer==0.11.2->qiskit) (1.23.4)\n",
      "Requirement already satisfied: python-dateutil>=2.8.0 in /home/guillaume/.local/lib/python3.10/site-packages (from qiskit-ibmq-provider==0.19.2->qiskit) (2.8.2)\n",
      "Requirement already satisfied: urllib3>=1.21.1 in /home/guillaume/.local/lib/python3.10/site-packages (from qiskit-ibmq-provider==0.19.2->qiskit) (1.26.12)\n",
      "Requirement already satisfied: requests>=2.19 in /home/guillaume/.local/lib/python3.10/site-packages (from qiskit-ibmq-provider==0.19.2->qiskit) (2.28.1)\n",
      "Requirement already satisfied: websockets>=10.0 in /home/guillaume/.local/lib/python3.10/site-packages (from qiskit-ibmq-provider==0.19.2->qiskit) (10.4)\n",
      "Requirement already satisfied: websocket-client>=1.0.1 in /home/guillaume/.local/lib/python3.10/site-packages (from qiskit-ibmq-provider==0.19.2->qiskit) (1.4.2)\n",
      "Requirement already satisfied: requests-ntlm>=1.1.0 in /home/guillaume/.local/lib/python3.10/site-packages (from qiskit-ibmq-provider==0.19.2->qiskit) (1.1.0)\n",
      "Requirement already satisfied: symengine>=0.9 in /home/guillaume/.local/lib/python3.10/site-packages (from qiskit-terra==0.22.4->qiskit) (0.9.2)\n",
      "Requirement already satisfied: retworkx>=0.11.0 in /home/guillaume/.local/lib/python3.10/site-packages (from qiskit-terra==0.22.4->qiskit) (0.12.0)\n",
      "Requirement already satisfied: ply>=3.10 in /usr/lib/python3.10/site-packages (from qiskit-terra==0.22.4->qiskit) (3.11)\n",
      "Requirement already satisfied: sympy>=1.3 in /home/guillaume/.local/lib/python3.10/site-packages (from qiskit-terra==0.22.4->qiskit) (1.11.1)\n",
      "Requirement already satisfied: stevedore>=3.0.0 in /home/guillaume/.local/lib/python3.10/site-packages (from qiskit-terra==0.22.4->qiskit) (4.1.1)\n",
      "Requirement already satisfied: psutil>=5 in /home/guillaume/.local/lib/python3.10/site-packages (from qiskit-terra==0.22.4->qiskit) (5.9.4)\n",
      "Requirement already satisfied: dill>=0.3 in /home/guillaume/.local/lib/python3.10/site-packages (from qiskit-terra==0.22.4->qiskit) (0.3.6)\n",
      "Requirement already satisfied: tweedledum<2.0,>=1.1 in /home/guillaume/.local/lib/python3.10/site-packages (from qiskit-terra==0.22.4->qiskit) (1.1.1)\n",
      "Requirement already satisfied: six>=1.5 in /home/guillaume/.local/lib/python3.10/site-packages (from python-dateutil>=2.8.0->qiskit-ibmq-provider==0.19.2->qiskit) (1.16.0)\n",
      "Requirement already satisfied: certifi>=2017.4.17 in /home/guillaume/.local/lib/python3.10/site-packages (from requests>=2.19->qiskit-ibmq-provider==0.19.2->qiskit) (2022.9.24)\n",
      "Requirement already satisfied: idna<4,>=2.5 in /home/guillaume/.local/lib/python3.10/site-packages (from requests>=2.19->qiskit-ibmq-provider==0.19.2->qiskit) (3.4)\n",
      "Requirement already satisfied: charset-normalizer<3,>=2 in /home/guillaume/.local/lib/python3.10/site-packages (from requests>=2.19->qiskit-ibmq-provider==0.19.2->qiskit) (2.1.1)\n",
      "Requirement already satisfied: ntlm-auth>=1.0.2 in /home/guillaume/.local/lib/python3.10/site-packages (from requests-ntlm>=1.1.0->qiskit-ibmq-provider==0.19.2->qiskit) (1.5.0)\n",
      "Requirement already satisfied: cryptography>=1.3 in /home/guillaume/.local/lib/python3.10/site-packages (from requests-ntlm>=1.1.0->qiskit-ibmq-provider==0.19.2->qiskit) (38.0.3)\n",
      "Requirement already satisfied: rustworkx==0.12.0 in /home/guillaume/.local/lib/python3.10/site-packages (from retworkx>=0.11.0->qiskit-terra==0.22.4->qiskit) (0.12.0)\n",
      "Requirement already satisfied: pbr!=2.1.0,>=2.0.0 in /home/guillaume/.local/lib/python3.10/site-packages (from stevedore>=3.0.0->qiskit-terra==0.22.4->qiskit) (5.11.0)\n",
      "Requirement already satisfied: mpmath>=0.19 in /home/guillaume/.local/lib/python3.10/site-packages (from sympy>=1.3->qiskit-terra==0.22.4->qiskit) (1.2.1)\n",
      "Requirement already satisfied: cffi>=1.12 in /usr/lib/python3.10/site-packages (from cryptography>=1.3->requests-ntlm>=1.1.0->qiskit-ibmq-provider==0.19.2->qiskit) (1.15.1)\n",
      "Requirement already satisfied: pycparser in /usr/lib/python3.10/site-packages (from cffi>=1.12->cryptography>=1.3->requests-ntlm>=1.1.0->qiskit-ibmq-provider==0.19.2->qiskit) (2.21)\n"
     ]
    }
   ],
   "source": [
    "!pip3 install qiskit --upgrade"
   ]
  },
  {
   "cell_type": "code",
   "execution_count": 344,
   "id": "ee7f8b50",
   "metadata": {
    "id": "ee7f8b50"
   },
   "outputs": [],
   "source": [
    "import qiskit\n",
    "from scipy.special import erfinv\n",
    "import numpy as np\n",
    "import pandas as pd\n",
    "import scipy as sp\n",
    "from sklearn.model_selection import train_test_split\n",
    "\n",
    "qs = qiskit.Aer.get_backend('qasm_simulator')"
   ]
  },
  {
   "cell_type": "markdown",
   "id": "801e5e59-f8a7-4088-bc0a-9f454353d6cf",
   "metadata": {},
   "source": [
    "# Useful functions"
   ]
  },
  {
   "cell_type": "markdown",
   "id": "c36a7a73-13c8-4e34-a07b-fd60f783f630",
   "metadata": {},
   "source": [
    "## Preprocessing functions"
   ]
  },
  {
   "cell_type": "code",
   "execution_count": 369,
   "id": "a37e0fb4-d140-4e14-9698-eaea02edcda6",
   "metadata": {
    "tags": []
   },
   "outputs": [],
   "source": [
    "def qFactor(eps, d):\n",
    "    #return erfinv(1-(eps**(1/d))/2)\n",
    "    #return np.quantile(x, 1-(eps**(1/d))/2)\n",
    "    return sp.stats.norm.ppf(1-(eps**(1/d))/2) \n",
    "\n",
    "def standardise(x):\n",
    "    return (x - np.mean(x)) / np.std(x)\n",
    "\n",
    "def rescaleFeature(x, alpha, q):\n",
    "    return (1-alpha/2) * (np.pi/q) * standardise(x)"
   ]
  },
  {
   "cell_type": "markdown",
   "id": "f24482ee-0bea-4a78-952c-5d737c316ac0",
   "metadata": {},
   "source": [
    "## Circuit functions"
   ]
  },
  {
   "cell_type": "code",
   "execution_count": 370,
   "id": "3632e066-2792-4b8d-9f1e-7de5580c4c3e",
   "metadata": {},
   "outputs": [],
   "source": [
    "def psiGate(qc, param, bit):\n",
    "    qc.rx(np.pi/2, bit)\n",
    "    qc.rz(param, bit)\n",
    "    qc.rx(np.pi/2, bit)"
   ]
  },
  {
   "cell_type": "markdown",
   "id": "a37df251-b80f-4622-bd67-98ac74536e9e",
   "metadata": {},
   "source": [
    "## Training functions"
   ]
  },
  {
   "cell_type": "code",
   "execution_count": 371,
   "id": "3e4e9b72-5c2f-4ff5-996c-e1eacc3ffff7",
   "metadata": {},
   "outputs": [],
   "source": [
    "def executeJob(circuit, nshots):\n",
    "    job = qiskit.execute(circuit, shots=nshots, backend=qs)\n",
    "    job_results = job.result().get_counts()\n",
    "    return job_results\n"
   ]
  },
  {
   "cell_type": "code",
   "execution_count": 372,
   "id": "d88d91ca-3ee0-4d5f-b42c-6cb91cea0d1d",
   "metadata": {},
   "outputs": [],
   "source": [
    "def runCircuit(circuit_builder, loss_function, theta, x, y, nshots):\n",
    "    omega = x\n",
    "    label = y\n",
    "    \n",
    "    circuit = circuit_builder(theta, omega)\n",
    "    job_results = executeJob(circuit, nshots)\n",
    "    return loss_function(label, job_results, nshots)"
   ]
  },
  {
   "cell_type": "code",
   "execution_count": 373,
   "id": "2b6dcbe3-4e17-4cb5-a37f-1304194f0986",
   "metadata": {},
   "outputs": [],
   "source": [
    "def logSoftmax(label, job_results, nshots) :\n",
    "    if label in job_results :\n",
    "        e = np.exp(job_results[label] / nshots)\n",
    "    else :\n",
    "        e = 1\n",
    "        \n",
    "    s = np.exp(np.array(list(job_results.values())) / nshots).sum()\n",
    "    return -np.log(e / s)\n"
   ]
  },
  {
   "cell_type": "code",
   "execution_count": 374,
   "id": "461d5e31-c5cb-4d01-b62f-a8d0c2e4cabf",
   "metadata": {},
   "outputs": [],
   "source": [
    "def lossBatch(circuit_builder, loss_function, theta, X, y, nshots):\n",
    "    \n",
    "    total_loss = 0\n",
    "    \n",
    "    batch = list(zip(X, y))\n",
    "    \n",
    "    for X_el, y_el in zip(X, y) :\n",
    "        total_loss += runCircuit(circuit_builder, logSoftmax, theta, X_el, y_el, nshots)\n",
    "        \n",
    "    total_loss /= len(y)\n",
    "    return total_loss"
   ]
  },
  {
   "cell_type": "code",
   "execution_count": 375,
   "id": "0831243a-ea3f-43b5-a071-eb3b13bd4ccf",
   "metadata": {},
   "outputs": [],
   "source": [
    "def fit(circuit_builder, loss_function, X, y, nshots=100, maxiter=20, theta=None, theta_size=8):\n",
    "    if theta is None:\n",
    "        theta = np.random.uniform(0, 2 * np.pi, theta_size)\n",
    "        \n",
    "    opt = sp.optimize.minimize(\n",
    "        fun=lambda params : lossBatch(circuit_builder, loss_function, params, X, y, nshots),\n",
    "        x0=theta,\n",
    "        method='COBYLA',\n",
    "        options={'maxiter': maxiter}\n",
    "    )\n",
    "    return opt"
   ]
  },
  {
   "cell_type": "markdown",
   "id": "da01de54-2b6d-40cf-a385-ac73c2af2b3f",
   "metadata": {},
   "source": [
    "## Testing functions"
   ]
  },
  {
   "cell_type": "code",
   "execution_count": 376,
   "id": "af159a74-1bf7-4421-94ec-06b122d113aa",
   "metadata": {},
   "outputs": [],
   "source": [
    "def argmaxJobResults(job_results):\n",
    "    max_label_value = None\n",
    "    \n",
    "    for label in job_results :\n",
    "        if max_label_value is None or job_results[label] >= max_label_value:\n",
    "            max_label = label\n",
    "            max_label_value = job_results[label]\n",
    "    return max_label"
   ]
  },
  {
   "cell_type": "code",
   "execution_count": 377,
   "id": "a7c74ff6-92da-4d81-a56e-34d2781a70c9",
   "metadata": {},
   "outputs": [],
   "source": [
    "def prediction(circuit_builder, theta, omega, nshots):\n",
    "    \n",
    "    circuit = circuit_builder(theta, omega)\n",
    "    job_results = executeJob(circuit, nshots)\n",
    "    return argmaxJobResults(job_results)"
   ]
  },
  {
   "cell_type": "code",
   "execution_count": 378,
   "id": "72f28b0a-450a-459a-8fda-6579543a4208",
   "metadata": {},
   "outputs": [],
   "source": [
    "def compute_accuracy(circuit_builder, theta, X, y, nshots=100) :\n",
    "    correct = 0\n",
    "    \n",
    "    for X_el, y_el in zip(X, y) :\n",
    "        y_pred = prediction(circuit_builder, theta, X_el, nshots)\n",
    "        correct += y_pred == y_el\n",
    "        \n",
    "    return correct / len(y)"
   ]
  },
  {
   "cell_type": "markdown",
   "id": "a1b906b7",
   "metadata": {},
   "source": [
    "# IRIS"
   ]
  },
  {
   "cell_type": "markdown",
   "id": "39ec5b24",
   "metadata": {
    "id": "39ec5b24"
   },
   "source": [
    "## Construct dataset"
   ]
  },
  {
   "cell_type": "markdown",
   "id": "cf73ca45-ee64-48a5-a42e-edfaf8d11946",
   "metadata": {},
   "source": [
    "### Preprocess"
   ]
  },
  {
   "cell_type": "code",
   "execution_count": 379,
   "id": "e7b1fdae-a728-4d14-ae01-b8a6fb56d215",
   "metadata": {},
   "outputs": [
    {
     "data": {
      "text/html": [
       "<div>\n",
       "<style scoped>\n",
       "    .dataframe tbody tr th:only-of-type {\n",
       "        vertical-align: middle;\n",
       "    }\n",
       "\n",
       "    .dataframe tbody tr th {\n",
       "        vertical-align: top;\n",
       "    }\n",
       "\n",
       "    .dataframe thead th {\n",
       "        text-align: right;\n",
       "    }\n",
       "</style>\n",
       "<table border=\"1\" class=\"dataframe\">\n",
       "  <thead>\n",
       "    <tr style=\"text-align: right;\">\n",
       "      <th></th>\n",
       "      <th>sepal-length</th>\n",
       "      <th>sepal-width</th>\n",
       "      <th>petal-length</th>\n",
       "      <th>petal-width</th>\n",
       "      <th>class</th>\n",
       "    </tr>\n",
       "  </thead>\n",
       "  <tbody>\n",
       "    <tr>\n",
       "      <th>0</th>\n",
       "      <td>5.1</td>\n",
       "      <td>3.5</td>\n",
       "      <td>1.4</td>\n",
       "      <td>0.2</td>\n",
       "      <td>Iris-setosa</td>\n",
       "    </tr>\n",
       "    <tr>\n",
       "      <th>1</th>\n",
       "      <td>4.9</td>\n",
       "      <td>3.0</td>\n",
       "      <td>1.4</td>\n",
       "      <td>0.2</td>\n",
       "      <td>Iris-setosa</td>\n",
       "    </tr>\n",
       "    <tr>\n",
       "      <th>2</th>\n",
       "      <td>4.7</td>\n",
       "      <td>3.2</td>\n",
       "      <td>1.3</td>\n",
       "      <td>0.2</td>\n",
       "      <td>Iris-setosa</td>\n",
       "    </tr>\n",
       "    <tr>\n",
       "      <th>3</th>\n",
       "      <td>4.6</td>\n",
       "      <td>3.1</td>\n",
       "      <td>1.5</td>\n",
       "      <td>0.2</td>\n",
       "      <td>Iris-setosa</td>\n",
       "    </tr>\n",
       "    <tr>\n",
       "      <th>4</th>\n",
       "      <td>5.0</td>\n",
       "      <td>3.6</td>\n",
       "      <td>1.4</td>\n",
       "      <td>0.2</td>\n",
       "      <td>Iris-setosa</td>\n",
       "    </tr>\n",
       "    <tr>\n",
       "      <th>...</th>\n",
       "      <td>...</td>\n",
       "      <td>...</td>\n",
       "      <td>...</td>\n",
       "      <td>...</td>\n",
       "      <td>...</td>\n",
       "    </tr>\n",
       "    <tr>\n",
       "      <th>145</th>\n",
       "      <td>6.7</td>\n",
       "      <td>3.0</td>\n",
       "      <td>5.2</td>\n",
       "      <td>2.3</td>\n",
       "      <td>Iris-virginica</td>\n",
       "    </tr>\n",
       "    <tr>\n",
       "      <th>146</th>\n",
       "      <td>6.3</td>\n",
       "      <td>2.5</td>\n",
       "      <td>5.0</td>\n",
       "      <td>1.9</td>\n",
       "      <td>Iris-virginica</td>\n",
       "    </tr>\n",
       "    <tr>\n",
       "      <th>147</th>\n",
       "      <td>6.5</td>\n",
       "      <td>3.0</td>\n",
       "      <td>5.2</td>\n",
       "      <td>2.0</td>\n",
       "      <td>Iris-virginica</td>\n",
       "    </tr>\n",
       "    <tr>\n",
       "      <th>148</th>\n",
       "      <td>6.2</td>\n",
       "      <td>3.4</td>\n",
       "      <td>5.4</td>\n",
       "      <td>2.3</td>\n",
       "      <td>Iris-virginica</td>\n",
       "    </tr>\n",
       "    <tr>\n",
       "      <th>149</th>\n",
       "      <td>5.9</td>\n",
       "      <td>3.0</td>\n",
       "      <td>5.1</td>\n",
       "      <td>1.8</td>\n",
       "      <td>Iris-virginica</td>\n",
       "    </tr>\n",
       "  </tbody>\n",
       "</table>\n",
       "<p>150 rows × 5 columns</p>\n",
       "</div>"
      ],
      "text/plain": [
       "     sepal-length  sepal-width  petal-length  petal-width           class\n",
       "0             5.1          3.5           1.4          0.2     Iris-setosa\n",
       "1             4.9          3.0           1.4          0.2     Iris-setosa\n",
       "2             4.7          3.2           1.3          0.2     Iris-setosa\n",
       "3             4.6          3.1           1.5          0.2     Iris-setosa\n",
       "4             5.0          3.6           1.4          0.2     Iris-setosa\n",
       "..            ...          ...           ...          ...             ...\n",
       "145           6.7          3.0           5.2          2.3  Iris-virginica\n",
       "146           6.3          2.5           5.0          1.9  Iris-virginica\n",
       "147           6.5          3.0           5.2          2.0  Iris-virginica\n",
       "148           6.2          3.4           5.4          2.3  Iris-virginica\n",
       "149           5.9          3.0           5.1          1.8  Iris-virginica\n",
       "\n",
       "[150 rows x 5 columns]"
      ]
     },
     "execution_count": 379,
     "metadata": {},
     "output_type": "execute_result"
    }
   ],
   "source": [
    "df = pd.read_csv(\"iris.data\")\n",
    "df"
   ]
  },
  {
   "cell_type": "code",
   "execution_count": 380,
   "id": "1401a0fe-cff1-4d5e-85dc-56e9b4b088f5",
   "metadata": {
    "id": "57aae14e"
   },
   "outputs": [
    {
     "data": {
      "text/html": [
       "<div>\n",
       "<style scoped>\n",
       "    .dataframe tbody tr th:only-of-type {\n",
       "        vertical-align: middle;\n",
       "    }\n",
       "\n",
       "    .dataframe tbody tr th {\n",
       "        vertical-align: top;\n",
       "    }\n",
       "\n",
       "    .dataframe thead th {\n",
       "        text-align: right;\n",
       "    }\n",
       "</style>\n",
       "<table border=\"1\" class=\"dataframe\">\n",
       "  <thead>\n",
       "    <tr style=\"text-align: right;\">\n",
       "      <th></th>\n",
       "      <th>sepal-length</th>\n",
       "      <th>sepal-width</th>\n",
       "      <th>petal-length</th>\n",
       "      <th>petal-width</th>\n",
       "      <th>class</th>\n",
       "    </tr>\n",
       "  </thead>\n",
       "  <tbody>\n",
       "    <tr>\n",
       "      <th>0</th>\n",
       "      <td>-0.896032</td>\n",
       "      <td>1.026729</td>\n",
       "      <td>-1.334348</td>\n",
       "      <td>-1.306199</td>\n",
       "      <td>Iris-setosa</td>\n",
       "    </tr>\n",
       "    <tr>\n",
       "      <th>1</th>\n",
       "      <td>-1.137116</td>\n",
       "      <td>-0.124313</td>\n",
       "      <td>-1.334348</td>\n",
       "      <td>-1.306199</td>\n",
       "      <td>Iris-setosa</td>\n",
       "    </tr>\n",
       "    <tr>\n",
       "      <th>2</th>\n",
       "      <td>-1.378201</td>\n",
       "      <td>0.336104</td>\n",
       "      <td>-1.390920</td>\n",
       "      <td>-1.306199</td>\n",
       "      <td>Iris-setosa</td>\n",
       "    </tr>\n",
       "    <tr>\n",
       "      <th>3</th>\n",
       "      <td>-1.498743</td>\n",
       "      <td>0.105896</td>\n",
       "      <td>-1.277776</td>\n",
       "      <td>-1.306199</td>\n",
       "      <td>Iris-setosa</td>\n",
       "    </tr>\n",
       "    <tr>\n",
       "      <th>4</th>\n",
       "      <td>-1.016574</td>\n",
       "      <td>1.256938</td>\n",
       "      <td>-1.334348</td>\n",
       "      <td>-1.306199</td>\n",
       "      <td>Iris-setosa</td>\n",
       "    </tr>\n",
       "    <tr>\n",
       "      <th>...</th>\n",
       "      <td>...</td>\n",
       "      <td>...</td>\n",
       "      <td>...</td>\n",
       "      <td>...</td>\n",
       "      <td>...</td>\n",
       "    </tr>\n",
       "    <tr>\n",
       "      <th>145</th>\n",
       "      <td>1.032646</td>\n",
       "      <td>-0.124313</td>\n",
       "      <td>0.815393</td>\n",
       "      <td>1.440481</td>\n",
       "      <td>Iris-virginica</td>\n",
       "    </tr>\n",
       "    <tr>\n",
       "      <th>146</th>\n",
       "      <td>0.550477</td>\n",
       "      <td>-1.275354</td>\n",
       "      <td>0.702249</td>\n",
       "      <td>0.917304</td>\n",
       "      <td>Iris-virginica</td>\n",
       "    </tr>\n",
       "    <tr>\n",
       "      <th>147</th>\n",
       "      <td>0.791562</td>\n",
       "      <td>-0.124313</td>\n",
       "      <td>0.815393</td>\n",
       "      <td>1.048098</td>\n",
       "      <td>Iris-virginica</td>\n",
       "    </tr>\n",
       "    <tr>\n",
       "      <th>148</th>\n",
       "      <td>0.429934</td>\n",
       "      <td>0.796521</td>\n",
       "      <td>0.928537</td>\n",
       "      <td>1.440481</td>\n",
       "      <td>Iris-virginica</td>\n",
       "    </tr>\n",
       "    <tr>\n",
       "      <th>149</th>\n",
       "      <td>0.068307</td>\n",
       "      <td>-0.124313</td>\n",
       "      <td>0.758821</td>\n",
       "      <td>0.786510</td>\n",
       "      <td>Iris-virginica</td>\n",
       "    </tr>\n",
       "  </tbody>\n",
       "</table>\n",
       "<p>150 rows × 5 columns</p>\n",
       "</div>"
      ],
      "text/plain": [
       "     sepal-length  sepal-width  petal-length  petal-width           class\n",
       "0       -0.896032     1.026729     -1.334348    -1.306199     Iris-setosa\n",
       "1       -1.137116    -0.124313     -1.334348    -1.306199     Iris-setosa\n",
       "2       -1.378201     0.336104     -1.390920    -1.306199     Iris-setosa\n",
       "3       -1.498743     0.105896     -1.277776    -1.306199     Iris-setosa\n",
       "4       -1.016574     1.256938     -1.334348    -1.306199     Iris-setosa\n",
       "..            ...          ...           ...          ...             ...\n",
       "145      1.032646    -0.124313      0.815393     1.440481  Iris-virginica\n",
       "146      0.550477    -1.275354      0.702249     0.917304  Iris-virginica\n",
       "147      0.791562    -0.124313      0.815393     1.048098  Iris-virginica\n",
       "148      0.429934     0.796521      0.928537     1.440481  Iris-virginica\n",
       "149      0.068307    -0.124313      0.758821     0.786510  Iris-virginica\n",
       "\n",
       "[150 rows x 5 columns]"
      ]
     },
     "execution_count": 380,
     "metadata": {},
     "output_type": "execute_result"
    }
   ],
   "source": [
    "alpha = 0.1\n",
    "#eps = 0.01\n",
    "#d = 4\n",
    "#q = qFactor(eps, d)\n",
    "q = 3\n",
    "\n",
    "attributes = df.columns[:-1]\n",
    "\n",
    "for x in attributes:\n",
    "    df[x] = rescaleFeature(df[x], alpha, q)\n",
    "\n",
    "df"
   ]
  },
  {
   "cell_type": "code",
   "execution_count": 381,
   "id": "2212a6e4-ba2c-4c7e-907b-5ed60bea3b53",
   "metadata": {
    "id": "57aae14e"
   },
   "outputs": [
    {
     "data": {
      "text/html": [
       "<div>\n",
       "<style scoped>\n",
       "    .dataframe tbody tr th:only-of-type {\n",
       "        vertical-align: middle;\n",
       "    }\n",
       "\n",
       "    .dataframe tbody tr th {\n",
       "        vertical-align: top;\n",
       "    }\n",
       "\n",
       "    .dataframe thead th {\n",
       "        text-align: right;\n",
       "    }\n",
       "</style>\n",
       "<table border=\"1\" class=\"dataframe\">\n",
       "  <thead>\n",
       "    <tr style=\"text-align: right;\">\n",
       "      <th></th>\n",
       "      <th>sepal-length</th>\n",
       "      <th>sepal-width</th>\n",
       "      <th>petal-length</th>\n",
       "      <th>petal-width</th>\n",
       "      <th>class</th>\n",
       "    </tr>\n",
       "  </thead>\n",
       "  <tbody>\n",
       "    <tr>\n",
       "      <th>0</th>\n",
       "      <td>-0.896032</td>\n",
       "      <td>1.026729</td>\n",
       "      <td>-1.334348</td>\n",
       "      <td>-1.306199</td>\n",
       "      <td>00</td>\n",
       "    </tr>\n",
       "    <tr>\n",
       "      <th>1</th>\n",
       "      <td>-1.137116</td>\n",
       "      <td>-0.124313</td>\n",
       "      <td>-1.334348</td>\n",
       "      <td>-1.306199</td>\n",
       "      <td>00</td>\n",
       "    </tr>\n",
       "    <tr>\n",
       "      <th>2</th>\n",
       "      <td>-1.378201</td>\n",
       "      <td>0.336104</td>\n",
       "      <td>-1.390920</td>\n",
       "      <td>-1.306199</td>\n",
       "      <td>00</td>\n",
       "    </tr>\n",
       "    <tr>\n",
       "      <th>3</th>\n",
       "      <td>-1.498743</td>\n",
       "      <td>0.105896</td>\n",
       "      <td>-1.277776</td>\n",
       "      <td>-1.306199</td>\n",
       "      <td>00</td>\n",
       "    </tr>\n",
       "    <tr>\n",
       "      <th>4</th>\n",
       "      <td>-1.016574</td>\n",
       "      <td>1.256938</td>\n",
       "      <td>-1.334348</td>\n",
       "      <td>-1.306199</td>\n",
       "      <td>00</td>\n",
       "    </tr>\n",
       "    <tr>\n",
       "      <th>...</th>\n",
       "      <td>...</td>\n",
       "      <td>...</td>\n",
       "      <td>...</td>\n",
       "      <td>...</td>\n",
       "      <td>...</td>\n",
       "    </tr>\n",
       "    <tr>\n",
       "      <th>145</th>\n",
       "      <td>1.032646</td>\n",
       "      <td>-0.124313</td>\n",
       "      <td>0.815393</td>\n",
       "      <td>1.440481</td>\n",
       "      <td>10</td>\n",
       "    </tr>\n",
       "    <tr>\n",
       "      <th>146</th>\n",
       "      <td>0.550477</td>\n",
       "      <td>-1.275354</td>\n",
       "      <td>0.702249</td>\n",
       "      <td>0.917304</td>\n",
       "      <td>10</td>\n",
       "    </tr>\n",
       "    <tr>\n",
       "      <th>147</th>\n",
       "      <td>0.791562</td>\n",
       "      <td>-0.124313</td>\n",
       "      <td>0.815393</td>\n",
       "      <td>1.048098</td>\n",
       "      <td>10</td>\n",
       "    </tr>\n",
       "    <tr>\n",
       "      <th>148</th>\n",
       "      <td>0.429934</td>\n",
       "      <td>0.796521</td>\n",
       "      <td>0.928537</td>\n",
       "      <td>1.440481</td>\n",
       "      <td>10</td>\n",
       "    </tr>\n",
       "    <tr>\n",
       "      <th>149</th>\n",
       "      <td>0.068307</td>\n",
       "      <td>-0.124313</td>\n",
       "      <td>0.758821</td>\n",
       "      <td>0.786510</td>\n",
       "      <td>10</td>\n",
       "    </tr>\n",
       "  </tbody>\n",
       "</table>\n",
       "<p>150 rows × 5 columns</p>\n",
       "</div>"
      ],
      "text/plain": [
       "     sepal-length  sepal-width  petal-length  petal-width class\n",
       "0       -0.896032     1.026729     -1.334348    -1.306199    00\n",
       "1       -1.137116    -0.124313     -1.334348    -1.306199    00\n",
       "2       -1.378201     0.336104     -1.390920    -1.306199    00\n",
       "3       -1.498743     0.105896     -1.277776    -1.306199    00\n",
       "4       -1.016574     1.256938     -1.334348    -1.306199    00\n",
       "..            ...          ...           ...          ...   ...\n",
       "145      1.032646    -0.124313      0.815393     1.440481    10\n",
       "146      0.550477    -1.275354      0.702249     0.917304    10\n",
       "147      0.791562    -0.124313      0.815393     1.048098    10\n",
       "148      0.429934     0.796521      0.928537     1.440481    10\n",
       "149      0.068307    -0.124313      0.758821     0.786510    10\n",
       "\n",
       "[150 rows x 5 columns]"
      ]
     },
     "execution_count": 381,
     "metadata": {},
     "output_type": "execute_result"
    }
   ],
   "source": [
    "diconvert = {\n",
    "    \"Iris-setosa\" : \"00\",\n",
    "    \"Iris-versicolor\" : \"01\",\n",
    "    \"Iris-virginica\" : \"10\",\n",
    "    \"NaN\" : \"11\"\n",
    "}\n",
    "\n",
    "df = df.replace({\"class\": diconvert})\n",
    "df"
   ]
  },
  {
   "cell_type": "code",
   "execution_count": 382,
   "id": "af4fb61b-167e-4aa4-a590-86f2a51ee501",
   "metadata": {
    "id": "57aae14e"
   },
   "outputs": [],
   "source": [
    "X = df[attributes].values\n",
    "y = df[\"class\"].values"
   ]
  },
  {
   "cell_type": "markdown",
   "id": "31fe2a8a-b57b-42f3-8e5c-842df05a0081",
   "metadata": {},
   "source": [
    "### Split"
   ]
  },
  {
   "cell_type": "code",
   "execution_count": 383,
   "id": "a6781711-4d52-43a8-8b21-7cb0f6ab419a",
   "metadata": {
    "id": "57aae14e"
   },
   "outputs": [],
   "source": [
    "train_size = 90\n",
    "test_size = 60\n",
    "\n",
    "X_train, X_test, y_train, y_test = train_test_split(X, y, test_size=test_size, train_size=train_size, stratify=y)"
   ]
  },
  {
   "cell_type": "markdown",
   "id": "954e97a9-b134-4246-91e3-357e7699d789",
   "metadata": {},
   "source": [
    "## Circuit"
   ]
  },
  {
   "cell_type": "code",
   "execution_count": 384,
   "id": "eb6b2bdd",
   "metadata": {
    "id": "eb6b2bdd"
   },
   "outputs": [],
   "source": [
    "def irisCircuit(theta, omega):\n",
    "    qc = qiskit.QuantumCircuit(2, 2)\n",
    "    \n",
    "    iris_circuit = qiskit.QuantumCircuit(2)\n",
    "    for i in range(4):\n",
    "        if i : iris_circuit.cz(0, 1)\n",
    "        psiGate(iris_circuit, omega[(2*i) % 4], 0)\n",
    "        psiGate(iris_circuit, omega[(2*i+1) % 4], 1)\n",
    "        iris_circuit.cz(0, 1)\n",
    "        psiGate(iris_circuit, theta[(2*i)], 0)\n",
    "        psiGate(iris_circuit, theta[(2*i+1)], 1)\n",
    "        \n",
    "    qc.append(iris_circuit, range(2))\n",
    "    qc.measure(range(2), range(2))\n",
    "    \n",
    "    return qc"
   ]
  },
  {
   "cell_type": "markdown",
   "id": "c5a49de3-7c4b-4a76-bcaf-ee3f42dd03ad",
   "metadata": {},
   "source": [
    "## Train"
   ]
  },
  {
   "cell_type": "code",
   "execution_count": 385,
   "id": "18debf5b",
   "metadata": {},
   "outputs": [
    {
     "data": {
      "text/plain": [
       "     fun: 0.9899639270031846\n",
       "   maxcv: 0.0\n",
       " message: 'Maximum number of function evaluations has been exceeded.'\n",
       "    nfev: 20\n",
       "  status: 2\n",
       " success: False\n",
       "       x: array([3.81193366, 5.6393256 , 5.99467633, 2.08830629, 3.97538269,\n",
       "       2.58881831, 3.23745846, 6.54701623])"
      ]
     },
     "execution_count": 385,
     "metadata": {},
     "output_type": "execute_result"
    }
   ],
   "source": [
    "opt = fit(irisCircuit, logSoftmax, X_train, y_train, nshots=250, maxiter=20)\n",
    "theta = opt.x\n",
    "opt"
   ]
  },
  {
   "cell_type": "code",
   "execution_count": 386,
   "id": "f8f6895d",
   "metadata": {},
   "outputs": [
    {
     "data": {
      "text/plain": [
       "     fun: 1.0011971884849833\n",
       "   maxcv: 0.0\n",
       " message: 'Maximum number of function evaluations has been exceeded.'\n",
       "    nfev: 30\n",
       "  status: 2\n",
       " success: False\n",
       "       x: array([3.8017314 , 5.63569207, 5.99166052, 2.09231511, 4.00200559,\n",
       "       2.58593759, 3.23556474, 6.53636518])"
      ]
     },
     "execution_count": 386,
     "metadata": {},
     "output_type": "execute_result"
    }
   ],
   "source": [
    "opt = fit(irisCircuit, logSoftmax, X_train, y_train, nshots=500, maxiter=30, theta=theta)\n",
    "theta = opt.x\n",
    "opt"
   ]
  },
  {
   "cell_type": "code",
   "execution_count": 387,
   "id": "3bd95424",
   "metadata": {},
   "outputs": [
    {
     "data": {
      "text/plain": [
       "     fun: 0.9476511009253262\n",
       "   maxcv: 0.0\n",
       " message: 'Maximum number of function evaluations has been exceeded.'\n",
       "    nfev: 70\n",
       "  status: 2\n",
       " success: False\n",
       "       x: array([3.7173388 , 5.90776741, 5.73699847, 2.06926945, 4.27858888,\n",
       "       2.86036542, 4.20711943, 6.92820264])"
      ]
     },
     "execution_count": 387,
     "metadata": {},
     "output_type": "execute_result"
    }
   ],
   "source": [
    "opt = fit(irisCircuit, logSoftmax, X_train, y_train, nshots=750, maxiter=70, theta=theta)\n",
    "theta = opt.x\n",
    "opt"
   ]
  },
  {
   "cell_type": "markdown",
   "id": "b518ffea-ca72-4822-ba89-b94ca822a88b",
   "metadata": {},
   "source": [
    "## Compute results"
   ]
  },
  {
   "cell_type": "code",
   "execution_count": 388,
   "id": "c9ee17ee-6ab8-46fc-b332-adc2bf602ffa",
   "metadata": {},
   "outputs": [
    {
     "data": {
      "text/plain": [
       "0.8555555555555555"
      ]
     },
     "execution_count": 388,
     "metadata": {},
     "output_type": "execute_result"
    }
   ],
   "source": [
    "compute_accuracy(irisCircuit, theta, X_train, y_train)"
   ]
  },
  {
   "cell_type": "code",
   "execution_count": 389,
   "id": "63ce36fe",
   "metadata": {
    "id": "63ce36fe"
   },
   "outputs": [
    {
     "data": {
      "text/plain": [
       "0.7166666666666667"
      ]
     },
     "execution_count": 389,
     "metadata": {},
     "output_type": "execute_result"
    }
   ],
   "source": [
    "compute_accuracy(irisCircuit, theta, X_test, y_test)"
   ]
  },
  {
   "cell_type": "markdown",
   "id": "594a00a8",
   "metadata": {},
   "source": [
    "# Gaussian XOR"
   ]
  },
  {
   "cell_type": "markdown",
   "id": "a29b036d-f86c-4858-95ba-1919b481bde2",
   "metadata": {},
   "source": [
    "### Generate dataset"
   ]
  },
  {
   "cell_type": "code",
   "execution_count": 321,
   "id": "1b4a5dfd-756d-472c-8c76-67ad03f51b29",
   "metadata": {},
   "outputs": [],
   "source": [
    "import numpy as np\n",
    "import math"
   ]
  },
  {
   "cell_type": "code",
   "execution_count": 322,
   "id": "ed504155-5c7b-4a49-82f9-36230dc58e91",
   "metadata": {},
   "outputs": [],
   "source": [
    "def generate_gaussian_point(x, y, label) :\n",
    "    pick_x = np.random.normal(loc=x, scale = 0.5)\n",
    "    pick_y = np.random.normal(loc=y, scale = 0.5)\n",
    "    return (pick_x, pick_y, label)"
   ]
  },
  {
   "cell_type": "code",
   "execution_count": 323,
   "id": "3557a9fa-08ee-427d-ad1d-3e4d95ec704a",
   "metadata": {},
   "outputs": [],
   "source": [
    "point1 = (-np.pi / 2, 0)\n",
    "point2 = (np.pi / 2, 0)\n",
    "point3 = (0, -np.pi / 2)\n",
    "point4 = (0, np.pi / 2)\n",
    "\n",
    "centers = [point1, point2, point3, point4]\n"
   ]
  },
  {
   "cell_type": "code",
   "execution_count": 324,
   "id": "cd7cd6a7-ee55-479f-953c-ca177528195a",
   "metadata": {},
   "outputs": [],
   "source": [
    "points = []\n",
    "for i in range(20) :\n",
    "    points.append(generate_gaussian_point(*point1, 0))\n",
    "    points.append(generate_gaussian_point(*point2, 0))\n",
    "    points.append(generate_gaussian_point(*point3, 1))\n",
    "    points.append(generate_gaussian_point(*point4, 1))\n"
   ]
  },
  {
   "cell_type": "code",
   "execution_count": 325,
   "id": "da085843-21ee-4f8d-9659-a35efa02eeea",
   "metadata": {},
   "outputs": [
    {
     "data": {
      "text/plain": [
       "(-3.141592653589793, 3.141592653589793)"
      ]
     },
     "execution_count": 325,
     "metadata": {},
     "output_type": "execute_result"
    },
    {
     "data": {
      "image/png": "[encoded data removed]",
      "text/plain": [
       "<Figure size 500x500 with 1 Axes>"
      ]
     },
     "metadata": {},
     "output_type": "display_data"
    }
   ],
   "source": [
    "import matplotlib.pyplot as plt\n",
    "\n",
    "plt.rcParams['figure.figsize'] = [5,5]\n",
    "\n",
    "x,y,c = zip(*points)\n",
    "c = [\"red\" if el==0 else \"blue\" for el in c]\n",
    "plt.scatter(x, y, color=c)\n",
    "x,y = zip(*centers)\n",
    "plt.scatter(x, y, color='green')\n",
    "\n",
    "\n",
    "\n",
    "x = np.linspace(-np.pi, np.pi, 100)\n",
    "y = x\n",
    "y2 = - x\n",
    "\n",
    "plt.plot(x,y)\n",
    "plt.plot(x,y2)\n",
    "\n",
    "plt.xlim([-np.pi, np.pi])\n",
    "plt.ylim([-np.pi, np.pi])"
   ]
  },
  {
   "cell_type": "code",
   "execution_count": 326,
   "id": "95597098",
   "metadata": {},
   "outputs": [
    {
     "data": {
      "text/plain": [
       "array([[-1.84941587, -0.5748816 ,  0.        ],\n",
       "       [ 1.68606489, -0.88054017,  0.        ],\n",
       "       [ 0.43015675, -2.11598781,  1.        ],\n",
       "       [ 0.47750572,  1.18863631,  1.        ],\n",
       "       [-1.39149405, -0.03403082,  0.        ],\n",
       "       [ 1.57177763, -0.47563214,  0.        ],\n",
       "       [-0.40488997, -0.98195351,  1.        ],\n",
       "       [-0.27587223,  2.3244836 ,  1.        ],\n",
       "       [-1.53369834, -0.55957948,  0.        ],\n",
       "       [ 1.76454086, -0.11026838,  0.        ]])"
      ]
     },
     "execution_count": 326,
     "metadata": {},
     "output_type": "execute_result"
    }
   ],
   "source": [
    "dataset = np.array(points)\n",
    "dataset[:10]"
   ]
  },
  {
   "cell_type": "markdown",
   "id": "be653f45-5374-416f-8523-23d20d13e76e",
   "metadata": {},
   "source": [
    "### Preprocess dataset"
   ]
  },
  {
   "cell_type": "code",
   "execution_count": 327,
   "id": "3f4d418a-cbd7-4efa-85c5-90eceb74daa6",
   "metadata": {},
   "outputs": [
    {
     "data": {
      "text/plain": [
       "array([[-3.46762069, -0.8308108 ],\n",
       "       [ 2.8812608 , -1.41082589],\n",
       "       [ 0.62594887, -3.75520084],\n",
       "       [ 0.71097634,  2.5156258 ],\n",
       "       [-2.64530215,  0.19550304],\n",
       "       [ 2.6760281 , -0.64247586],\n",
       "       [-0.87359617, -1.60326699],\n",
       "       [-0.64191105,  4.67099995],\n",
       "       [-2.90066718, -0.80177362],\n",
       "       [ 3.02218495,  0.0508353 ]])"
      ]
     },
     "execution_count": 327,
     "metadata": {},
     "output_type": "execute_result"
    }
   ],
   "source": [
    "alpha = 0.1\n",
    "eps = 0.01\n",
    "d = 2\n",
    "q = qFactor(eps, d)\n",
    "\n",
    "dataset[:,0] = rescaleFeature(dataset[:,0], alpha, q)\n",
    "dataset[:,1] = rescaleFeature(dataset[:,1], alpha, q)\n",
    "\n",
    "X = dataset[:, :2]\n",
    "X[:10]"
   ]
  },
  {
   "cell_type": "code",
   "execution_count": 308,
   "id": "4b899521-2e4f-4506-ac17-7d91799d1a4e",
   "metadata": {},
   "outputs": [
    {
     "data": {
      "text/plain": [
       "['00', '00', '10', '10', '00', '00', '10', '10', '00', '00']"
      ]
     },
     "execution_count": 308,
     "metadata": {},
     "output_type": "execute_result"
    }
   ],
   "source": [
    "diconvert = {\n",
    "    0 : \"00\",\n",
    "    1 : \"10\",\n",
    "}\n",
    "\n",
    "y = [diconvert[x] for x in dataset[:,2]]\n",
    "y[:10]"
   ]
  },
  {
   "cell_type": "markdown",
   "id": "2d0a044a-a7e3-42e8-9309-4c3ee9e446e1",
   "metadata": {},
   "source": [
    "### Split"
   ]
  },
  {
   "cell_type": "code",
   "execution_count": 309,
   "id": "a1fae13c",
   "metadata": {},
   "outputs": [],
   "source": [
    "train_size = 0.8\n",
    "test_size = 0.2\n",
    "\n",
    "X_train, X_test, y_train, y_test = train_test_split(X, y, test_size=test_size, train_size=train_size, stratify=y)"
   ]
  },
  {
   "cell_type": "markdown",
   "id": "12164653-08fd-4ac3-9127-86598882d3ec",
   "metadata": {},
   "source": [
    "## Circuit"
   ]
  },
  {
   "cell_type": "code",
   "execution_count": 310,
   "id": "1210de68-21a9-4e47-b9b3-c74e3f636826",
   "metadata": {},
   "outputs": [],
   "source": [
    "def xorCircuit(theta, omega):\n",
    "    qc = qiskit.QuantumCircuit(2, 2)\n",
    "    \n",
    "    xor_circuit = qiskit.QuantumCircuit(2)\n",
    "    \n",
    "    psiGate(xor_circuit, omega[0], 0)\n",
    "    psiGate(xor_circuit, omega[1], 1)\n",
    "    for i in range(2):\n",
    "        xor_circuit.cz(0, 1)\n",
    "        psiGate(xor_circuit, theta[2*i], 0)\n",
    "        psiGate(xor_circuit, theta[2*i+1], 1)\n",
    "        \n",
    "    \n",
    "    qc.append(xor_circuit, range(2))\n",
    "    qc.measure(range(2), range(2))\n",
    "    return qc"
   ]
  },
  {
   "cell_type": "markdown",
   "id": "f3f4ba1d-0841-454a-995c-9c0b6c7d84ab",
   "metadata": {},
   "source": [
    "## Train"
   ]
  },
  {
   "cell_type": "code",
   "execution_count": 311,
   "id": "83080e8f",
   "metadata": {},
   "outputs": [
    {
     "data": {
      "text/plain": [
       "     fun: 1.057958691471796\n",
       "   maxcv: 0.0\n",
       " message: 'Optimization terminated successfully.'\n",
       "    nfev: 50\n",
       "  status: 1\n",
       " success: True\n",
       "       x: array([2.97737613, 5.9894224 , 6.22019141, 3.36530414])"
      ]
     },
     "execution_count": 311,
     "metadata": {},
     "output_type": "execute_result"
    }
   ],
   "source": [
    "xor_opt = fit(xorCircuit, logSoftmax, X, y, nshots=250, maxiter=400, theta_size=4)\n",
    "theta = xor_opt.x\n",
    "xor_opt"
   ]
  },
  {
   "cell_type": "markdown",
   "id": "d96cafbc-bd77-429a-b5df-736332b0ee93",
   "metadata": {},
   "source": [
    "## Compute results"
   ]
  },
  {
   "cell_type": "code",
   "execution_count": 312,
   "id": "8c527cb7-3e5e-4e23-b26f-0f5a3a49f593",
   "metadata": {},
   "outputs": [
    {
     "data": {
      "text/plain": [
       "0.5125"
      ]
     },
     "execution_count": 312,
     "metadata": {},
     "output_type": "execute_result"
    }
   ],
   "source": [
    "compute_accuracy(xorCircuit, theta, X, y)"
   ]
  },
  {
   "cell_type": "code",
   "execution_count": 320,
   "id": "27a62481-17bf-4db0-8c0a-648999e3a90e",
   "metadata": {},
   "outputs": [
    {
     "data": {
      "text/plain": [
       "'00'"
      ]
     },
     "execution_count": 320,
     "metadata": {},
     "output_type": "execute_result"
    }
   ],
   "source": [
    "prediction(xorCircuit, theta, [1, 0], 100)"
   ]
  },
  {
   "cell_type": "markdown",
   "id": "0893ebed-4f33-4034-946a-ab189a739a16",
   "metadata": {
    "tags": []
   },
   "source": [
    "## Compare with GaussianNB"
   ]
  },
  {
   "cell_type": "code",
   "execution_count": 38,
   "id": "17d19981",
   "metadata": {},
   "outputs": [],
   "source": [
    "from sklearn.naive_bayes import GaussianNB"
   ]
  },
  {
   "cell_type": "code",
   "execution_count": 39,
   "id": "3b5eaa7f",
   "metadata": {},
   "outputs": [],
   "source": [
    "gaussianNb = GaussianNB()\n",
    "gaussianNb.fit(X_train, y_train)\n",
    "score = gaussianNb.score(X_test, y_test)"
   ]
  },
  {
   "cell_type": "code",
   "execution_count": 40,
   "id": "af20f30d",
   "metadata": {},
   "outputs": [
    {
     "data": {
      "text/plain": [
       "1.0"
      ]
     },
     "execution_count": 40,
     "metadata": {},
     "output_type": "execute_result"
    }
   ],
   "source": [
    "score"
   ]
  },
  {
   "cell_type": "markdown",
   "id": "ce1db633",
   "metadata": {},
   "source": [
    "# Skin segmentation"
   ]
  },
  {
   "cell_type": "code",
   "execution_count": null,
   "id": "b7e4a6f5",
   "metadata": {},
   "outputs": [],
   "source": [
    "def skinSegCircuit(theta, omega):\n",
    "    qc = qiskit.QuantumCircuit(3)\n",
    "    psiGate(qc, omega[0], 0)\n",
    "    psiGate(qc, omega[1], 1)\n",
    "    psiGate(qc, omega[2], 2)\n",
    "    \n",
    "    qc.cz(0, 2)\n",
    "    \n",
    "    psiGate(qc, theta[0], 0)\n",
    "    psiGate(qc, theta[1], 2)\n",
    "    \n",
    "    qc.cz(0, 1)\n",
    "    \n",
    "    psiGate(qc, theta[2], 0)\n",
    "    psiGate(qc, theta[3], 1)\n",
    "    \n",
    "    qc.cz(1, 2)\n",
    "    \n",
    "    psiGate(qc, theta[4], 1)\n",
    "    psiGate(qc, theta[5], 2)\n",
    "    return qc"
   ]
  },
  {
   "cell_type": "markdown",
   "id": "c72282df",
   "metadata": {},
   "source": [
    "# Synthetic dataset with 4 classes"
   ]
  },
  {
   "cell_type": "code",
   "execution_count": null,
   "id": "a70ab528",
   "metadata": {},
   "outputs": [],
   "source": [
    "def syntheticCircuit(theta, omega):\n",
    "    qc = qiskit.QuantumCircuit(2)\n",
    "    for i in range(2):\n",
    "        if i : qc.cz(0, 1)\n",
    "        psiGate(qc, omega[0], 0)\n",
    "        psiGate(qc, omega[1], 1)\n",
    "        qc.cz(0, 1)\n",
    "        psiGate(qc, theta[(6*i)], 0)\n",
    "        psiGate(qc, theta[(6*i+1)], 1)\n",
    "        qc.cz(0, 1)\n",
    "        psiGate(qc, omega[0], 0)\n",
    "        psiGate(qc, omega[1], 1)\n",
    "        qc.cz(0, 1)\n",
    "        psiGate(qc, theta[(6*i+2)], 0)\n",
    "        psiGate(qc, theta[(6*i+3)], 1)\n",
    "        qc.cz(0, 1)\n",
    "        psiGate(qc, theta[(6*i+4)], 0)\n",
    "        psiGate(qc, theta[(6*i+5)], 1)\n",
    "    return qc"
   ]
  },
  {
   "cell_type": "code",
   "execution_count": null,
   "id": "10ca6433",
   "metadata": {},
   "outputs": [],
   "source": []
  },
  {
   "cell_type": "markdown",
   "id": "298bacf2-bf15-4810-b9ea-cc6a6c460f82",
   "metadata": {},
   "source": [
    "# Run on IBM Quantum Computer"
   ]
  },
  {
   "cell_type": "code",
   "execution_count": null,
   "id": "4cd250c0",
   "metadata": {
    "id": "4cd250c0"
   },
   "outputs": [],
   "source": [
    "TOKEN = ..."
   ]
  },
  {
   "cell_type": "code",
   "execution_count": null,
   "id": "f597aa8d",
   "metadata": {
    "id": "f597aa8d"
   },
   "outputs": [
    {
     "ename": "IBMQAccountCredentialsInvalidToken",
     "evalue": "'Invalid IBM Quantum Experience token found: \"Ellipsis\" of type <class \\'ellipsis\\'>.'",
     "output_type": "error",
     "traceback": [
      "\u001b[0;31m---------------------------------------------------------------------------\u001b[0m",
      "\u001b[0;31mIBMQAccountCredentialsInvalidToken\u001b[0m        Traceback (most recent call last)",
      "\u001b[1;32m/home/marius/epita/ING3/QML/QML/qml.ipynb Cell 29\u001b[0m in \u001b[0;36m<cell line: 1>\u001b[0;34m()\u001b[0m\n\u001b[0;32m----> <a href='vscode-notebook-cell://wsl%2Bubuntu/home/marius/epita/ING3/QML/QML/qml.ipynb#X46sdnNjb2RlLXJlbW90ZQ%3D%3D?line=0'>1</a>\u001b[0m qiskit\u001b[39m.\u001b[39;49mIBMQ\u001b[39m.\u001b[39;49msave_account(TOKEN, overwrite\u001b[39m=\u001b[39;49m\u001b[39mTrue\u001b[39;49;00m) \n\u001b[1;32m      <a href='vscode-notebook-cell://wsl%2Bubuntu/home/marius/epita/ING3/QML/QML/qml.ipynb#X46sdnNjb2RlLXJlbW90ZQ%3D%3D?line=1'>2</a>\u001b[0m provider \u001b[39m=\u001b[39m qiskit\u001b[39m.\u001b[39mIBMQ\u001b[39m.\u001b[39mload_account()\n\u001b[1;32m      <a href='vscode-notebook-cell://wsl%2Bubuntu/home/marius/epita/ING3/QML/QML/qml.ipynb#X46sdnNjb2RlLXJlbW90ZQ%3D%3D?line=2'>3</a>\u001b[0m backend \u001b[39m=\u001b[39m qiskit\u001b[39m.\u001b[39mproviders\u001b[39m.\u001b[39mibmq\u001b[39m.\u001b[39mleast_busy(provider\u001b[39m.\u001b[39mbackends())\n",
      "File \u001b[0;32m~/.pyenv/versions/3.9.10/lib/python3.9/site-packages/qiskit/providers/ibmq/ibmqfactory.py:257\u001b[0m, in \u001b[0;36mIBMQFactory.save_account\u001b[0;34m(token, url, hub, group, project, overwrite, **kwargs)\u001b[0m\n\u001b[1;32m    253\u001b[0m     \u001b[39mraise\u001b[39;00m IBMQAccountCredentialsInvalidUrl(\n\u001b[1;32m    254\u001b[0m         \u001b[39m'\u001b[39m\u001b[39mInvalid IBM Q Experience credentials found. \u001b[39m\u001b[39m'\u001b[39m \u001b[39m+\u001b[39m UPDATE_ACCOUNT_TEXT)\n\u001b[1;32m    256\u001b[0m \u001b[39mif\u001b[39;00m \u001b[39mnot\u001b[39;00m token \u001b[39mor\u001b[39;00m \u001b[39mnot\u001b[39;00m \u001b[39misinstance\u001b[39m(token, \u001b[39mstr\u001b[39m):\n\u001b[0;32m--> 257\u001b[0m     \u001b[39mraise\u001b[39;00m IBMQAccountCredentialsInvalidToken(\n\u001b[1;32m    258\u001b[0m         \u001b[39m'\u001b[39m\u001b[39mInvalid IBM Quantum Experience token \u001b[39m\u001b[39m'\u001b[39m\n\u001b[1;32m    259\u001b[0m         \u001b[39m'\u001b[39m\u001b[39mfound: \u001b[39m\u001b[39m\"\u001b[39m\u001b[39m{}\u001b[39;00m\u001b[39m\"\u001b[39m\u001b[39m of type \u001b[39m\u001b[39m{}\u001b[39;00m\u001b[39m.\u001b[39m\u001b[39m'\u001b[39m\u001b[39m.\u001b[39mformat(token, \u001b[39mtype\u001b[39m(token)))\n\u001b[1;32m    261\u001b[0m \u001b[39m# If any `hub`, `group`, or `project` is specified, make sure all parameters are set.\u001b[39;00m\n\u001b[1;32m    262\u001b[0m \u001b[39mif\u001b[39;00m \u001b[39many\u001b[39m([hub, group, project]) \u001b[39mand\u001b[39;00m \u001b[39mnot\u001b[39;00m \u001b[39mall\u001b[39m([hub, group, project]):\n",
      "\u001b[0;31mIBMQAccountCredentialsInvalidToken\u001b[0m: 'Invalid IBM Quantum Experience token found: \"Ellipsis\" of type <class \\'ellipsis\\'>.'"
     ]
    }
   ],
   "source": [
    "qiskit.IBMQ.save_account(TOKEN, overwrite=True) \n",
    "provider = qiskit.IBMQ.load_account()\n",
    "backend = qiskit.providers.ibmq.least_busy(provider.backends())\n",
    "\n",
    "mapped_circuit = qiskit.transpile(circuit, backend=backend)\n",
    "qobj = qiskit.assemble(mapped_circuit, backend=backend, shots=1024)"
   ]
  },
  {
   "cell_type": "code",
   "execution_count": null,
   "id": "28QMhcWdjscr",
   "metadata": {
    "id": "28QMhcWdjscr"
   },
   "outputs": [],
   "source": [
    "# execute the circuit\n",
    "job = backend.run(qobj)\n"
   ]
  },
  {
   "cell_type": "code",
   "execution_count": null,
   "id": "GYnzFJyMkGLt",
   "metadata": {
    "colab": {
     "base_uri": "https://localhost:8080/"
    },
    "id": "GYnzFJyMkGLt",
    "outputId": "10499c52-276c-4261-9106-ab92827e821b"
   },
   "outputs": [],
   "source": [
    "job.status()\n"
   ]
  },
  {
   "cell_type": "code",
   "execution_count": null,
   "id": "J-lZKs9wkRX5",
   "metadata": {
    "id": "J-lZKs9wkRX5"
   },
   "outputs": [],
   "source": [
    "ID = job.job_id()"
   ]
  },
  {
   "cell_type": "code",
   "execution_count": null,
   "id": "z7xJye4aoULQ",
   "metadata": {
    "id": "z7xJye4aoULQ"
   },
   "outputs": [],
   "source": [
    "job = backend.retrieve_job(ID)"
   ]
  },
  {
   "cell_type": "code",
   "execution_count": null,
   "id": "tZ5hsNGCnjgc",
   "metadata": {
    "id": "tZ5hsNGCnjgc"
   },
   "outputs": [],
   "source": [
    "result = job.result()"
   ]
  },
  {
   "cell_type": "code",
   "execution_count": null,
   "id": "aAtWad3Dkuz4",
   "metadata": {
    "id": "aAtWad3Dkuz4"
   },
   "outputs": [],
   "source": [
    "counts = result.get_counts()"
   ]
  },
  {
   "cell_type": "code",
   "execution_count": null,
   "id": "-qmEcVexnn4W",
   "metadata": {
    "colab": {
     "base_uri": "https://localhost:8080/"
    },
    "id": "-qmEcVexnn4W",
    "outputId": "790f4bab-7be6-4171-f976-8b67d2b2f945"
   },
   "outputs": [],
   "source": [
    "counts"
   ]
  }
 ],
 "metadata": {
  "colab": {
   "provenance": []
  },
  "kernelspec": {
   "display_name": "Python 3 (ipykernel)",
   "language": "python",
   "name": "python3"
  },
  "language_info": {
   "codemirror_mode": {
    "name": "ipython",
    "version": 3
   },
   "file_extension": ".py",
   "mimetype": "text/x-python",
   "name": "python",
   "nbconvert_exporter": "python",
   "pygments_lexer": "ipython3",
   "version": "3.10.8"
  },
  "vscode": {
   "interpreter": {
    "hash": "51b4e9700471eaf1a5d76c11bef0601667b05397081ebf41f03a2cf9585ff4ea"
   }
  }
 },
 "nbformat": 4,
 "nbformat_minor": 5
}
