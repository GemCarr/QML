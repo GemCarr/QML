{
 "cells": [
  {
   "cell_type": "markdown",
   "id": "73f36b46",
   "metadata": {
    "id": "73f36b46"
   },
   "source": [
    "https://arxiv.org/abs/2007.14044"
   ]
  },
  {
   "cell_type": "code",
   "execution_count": 36,
   "id": "wvj_1vHtjBbB",
   "metadata": {
    "id": "wvj_1vHtjBbB"
   },
   "outputs": [
    {
     "name": "stdout",
     "output_type": "stream",
     "text": [
      "Requirement already satisfied: qiskit in /home/marius/.pyenv/versions/3.9.10/lib/python3.9/site-packages (0.39.4)\n",
      "Requirement already satisfied: qiskit-ibmq-provider==0.19.2 in /home/marius/.pyenv/versions/3.9.10/lib/python3.9/site-packages (from qiskit) (0.19.2)\n",
      "Requirement already satisfied: qiskit-aer==0.11.2 in /home/marius/.pyenv/versions/3.9.10/lib/python3.9/site-packages (from qiskit) (0.11.2)\n",
      "Requirement already satisfied: qiskit-terra==0.22.3 in /home/marius/.pyenv/versions/3.9.10/lib/python3.9/site-packages (from qiskit) (0.22.3)\n",
      "Requirement already satisfied: scipy>=1.0 in /home/marius/.pyenv/versions/3.9.10/lib/python3.9/site-packages (from qiskit-aer==0.11.2->qiskit) (1.8.1)\n",
      "Requirement already satisfied: numpy>=1.16.3 in /home/marius/.local/lib/python3.9/site-packages (from qiskit-aer==0.11.2->qiskit) (1.22.3)\n",
      "Requirement already satisfied: websockets>=10.0 in /home/marius/.pyenv/versions/3.9.10/lib/python3.9/site-packages (from qiskit-ibmq-provider==0.19.2->qiskit) (10.4)\n",
      "Requirement already satisfied: python-dateutil>=2.8.0 in /home/marius/.local/lib/python3.9/site-packages (from qiskit-ibmq-provider==0.19.2->qiskit) (2.8.2)\n",
      "Requirement already satisfied: websocket-client>=1.0.1 in /home/marius/.local/lib/python3.9/site-packages (from qiskit-ibmq-provider==0.19.2->qiskit) (1.3.2)\n",
      "Requirement already satisfied: requests>=2.19 in /home/marius/.local/lib/python3.9/site-packages (from qiskit-ibmq-provider==0.19.2->qiskit) (2.27.1)\n",
      "Requirement already satisfied: urllib3>=1.21.1 in /home/marius/.pyenv/versions/3.9.10/lib/python3.9/site-packages (from qiskit-ibmq-provider==0.19.2->qiskit) (1.26.9)\n",
      "Requirement already satisfied: requests-ntlm>=1.1.0 in /home/marius/.pyenv/versions/3.9.10/lib/python3.9/site-packages (from qiskit-ibmq-provider==0.19.2->qiskit) (1.1.0)\n",
      "Requirement already satisfied: dill>=0.3 in /home/marius/.pyenv/versions/3.9.10/lib/python3.9/site-packages (from qiskit-terra==0.22.3->qiskit) (0.3.5.1)\n",
      "Requirement already satisfied: ply>=3.10 in /home/marius/.pyenv/versions/3.9.10/lib/python3.9/site-packages (from qiskit-terra==0.22.3->qiskit) (3.11)\n",
      "Requirement already satisfied: sympy>=1.3 in /home/marius/.pyenv/versions/3.9.10/lib/python3.9/site-packages (from qiskit-terra==0.22.3->qiskit) (1.11.1)\n",
      "Requirement already satisfied: stevedore>=3.0.0 in /home/marius/.pyenv/versions/3.9.10/lib/python3.9/site-packages (from qiskit-terra==0.22.3->qiskit) (4.1.1)\n",
      "Requirement already satisfied: tweedledum<2.0,>=1.1 in /home/marius/.pyenv/versions/3.9.10/lib/python3.9/site-packages (from qiskit-terra==0.22.3->qiskit) (1.1.1)\n",
      "Requirement already satisfied: symengine>=0.9 in /home/marius/.pyenv/versions/3.9.10/lib/python3.9/site-packages (from qiskit-terra==0.22.3->qiskit) (0.9.2)\n",
      "Requirement already satisfied: retworkx>=0.11.0 in /home/marius/.pyenv/versions/3.9.10/lib/python3.9/site-packages (from qiskit-terra==0.22.3->qiskit) (0.12.0)\n",
      "Requirement already satisfied: psutil>=5 in /home/marius/.pyenv/versions/3.9.10/lib/python3.9/site-packages (from qiskit-terra==0.22.3->qiskit) (5.9.4)\n",
      "Requirement already satisfied: six>=1.5 in /home/marius/.local/lib/python3.9/site-packages (from python-dateutil>=2.8.0->qiskit-ibmq-provider==0.19.2->qiskit) (1.16.0)\n",
      "Requirement already satisfied: charset-normalizer~=2.0.0 in /home/marius/.local/lib/python3.9/site-packages (from requests>=2.19->qiskit-ibmq-provider==0.19.2->qiskit) (2.0.12)\n",
      "Requirement already satisfied: idna<4,>=2.5 in /home/marius/.local/lib/python3.9/site-packages (from requests>=2.19->qiskit-ibmq-provider==0.19.2->qiskit) (3.3)\n",
      "Requirement already satisfied: certifi>=2017.4.17 in /home/marius/.pyenv/versions/3.9.10/lib/python3.9/site-packages (from requests>=2.19->qiskit-ibmq-provider==0.19.2->qiskit) (2022.5.18.1)\n",
      "Requirement already satisfied: cryptography>=1.3 in /home/marius/.pyenv/versions/3.9.10/lib/python3.9/site-packages (from requests-ntlm>=1.1.0->qiskit-ibmq-provider==0.19.2->qiskit) (38.0.3)\n",
      "Requirement already satisfied: ntlm-auth>=1.0.2 in /home/marius/.pyenv/versions/3.9.10/lib/python3.9/site-packages (from requests-ntlm>=1.1.0->qiskit-ibmq-provider==0.19.2->qiskit) (1.5.0)\n",
      "Requirement already satisfied: rustworkx==0.12.0 in /home/marius/.pyenv/versions/3.9.10/lib/python3.9/site-packages (from retworkx>=0.11.0->qiskit-terra==0.22.3->qiskit) (0.12.0)\n",
      "Requirement already satisfied: pbr!=2.1.0,>=2.0.0 in /home/marius/.pyenv/versions/3.9.10/lib/python3.9/site-packages (from stevedore>=3.0.0->qiskit-terra==0.22.3->qiskit) (5.11.0)\n",
      "Requirement already satisfied: mpmath>=0.19 in /home/marius/.pyenv/versions/3.9.10/lib/python3.9/site-packages (from sympy>=1.3->qiskit-terra==0.22.3->qiskit) (1.2.1)\n",
      "Requirement already satisfied: cffi>=1.12 in /home/marius/.local/lib/python3.9/site-packages (from cryptography>=1.3->requests-ntlm>=1.1.0->qiskit-ibmq-provider==0.19.2->qiskit) (1.15.0)\n",
      "Requirement already satisfied: pycparser in /home/marius/.local/lib/python3.9/site-packages (from cffi>=1.12->cryptography>=1.3->requests-ntlm>=1.1.0->qiskit-ibmq-provider==0.19.2->qiskit) (2.21)\n"
     ]
    }
   ],
   "source": [
    "!pip3 install qiskit --upgrade"
   ]
  },
  {
   "cell_type": "code",
   "execution_count": 37,
   "id": "ee7f8b50",
   "metadata": {
    "id": "ee7f8b50"
   },
   "outputs": [],
   "source": [
    "import qiskit\n",
    "from scipy.special import erfinv\n",
    "import numpy as np\n",
    "import pandas as pd\n",
    "import scipy as sp\n",
    "from sklearn.model_selection import train_test_split\n",
    "\n",
    "qs = qiskit.Aer.get_backend('qasm_simulator')"
   ]
  },
  {
   "cell_type": "markdown",
   "id": "a1b906b7",
   "metadata": {},
   "source": [
    "# IRIS"
   ]
  },
  {
   "cell_type": "markdown",
   "id": "39ec5b24",
   "metadata": {
    "id": "39ec5b24"
   },
   "source": [
    "### Dataset"
   ]
  },
  {
   "cell_type": "code",
   "execution_count": 38,
   "id": "f3b04f14",
   "metadata": {
    "id": "f3b04f14"
   },
   "outputs": [],
   "source": [
    "diconvert = {\n",
    "    \"Iris-setosa\" : \"00\",\n",
    "    \"Iris-versicolor\" : \"01\",\n",
    "    \"Iris-virginica\" : \"10\",\n",
    "    \"NaN\" : \"11\"\n",
    "}\n",
    "\n",
    "dicinv = {diconvert[k] : k for k in diconvert} "
   ]
  },
  {
   "cell_type": "code",
   "execution_count": 39,
   "id": "547a5203",
   "metadata": {
    "id": "547a5203"
   },
   "outputs": [],
   "source": [
    "def qFactor(eps, d):\n",
    "    return erfinv(1-eps**(1/d)/2)"
   ]
  },
  {
   "cell_type": "code",
   "execution_count": 40,
   "id": "11528b59",
   "metadata": {
    "id": "11528b59"
   },
   "outputs": [],
   "source": [
    "eps = 0.01\n",
    "alpha = 0.1\n",
    "d = 4\n",
    "q = qFactor(eps, d)"
   ]
  },
  {
   "cell_type": "code",
   "execution_count": 41,
   "id": "cfceafb0-183b-48bc-ba44-462b8753ac40",
   "metadata": {},
   "outputs": [
    {
     "data": {
      "text/plain": [
       "0.9980412728799112"
      ]
     },
     "execution_count": 41,
     "metadata": {},
     "output_type": "execute_result"
    }
   ],
   "source": [
    "q"
   ]
  },
  {
   "cell_type": "code",
   "execution_count": 42,
   "id": "7f56b4bd",
   "metadata": {
    "id": "7f56b4bd"
   },
   "outputs": [],
   "source": [
    "def standardise(x):\n",
    "    return (x-np.mean(x))/np.std(x)\n",
    "\n",
    "def rescaleFeature(x):\n",
    "    return (1-alpha/2)*(np.pi/q)*standardise(x)"
   ]
  },
  {
   "cell_type": "code",
   "execution_count": 43,
   "id": "57aae14e",
   "metadata": {
    "id": "57aae14e"
   },
   "outputs": [],
   "source": [
    "df = pd.read_csv(\"iris.data\")\n",
    "attributes = df.columns[:-1]\n",
    "for x in attributes:\n",
    "    df[x] = rescaleFeature(df[x])"
   ]
  },
  {
   "cell_type": "markdown",
   "id": "954e97a9-b134-4246-91e3-357e7699d789",
   "metadata": {},
   "source": [
    "### Circuit"
   ]
  },
  {
   "cell_type": "code",
   "execution_count": 44,
   "id": "18cd1291",
   "metadata": {},
   "outputs": [],
   "source": [
    "def psiGate(qc, param, bit):\n",
    "    qc.rx(np.pi/2, bit)\n",
    "    qc.rz(param, bit)\n",
    "    qc.rx(np.pi/2, bit)"
   ]
  },
  {
   "cell_type": "code",
   "execution_count": 52,
   "id": "eb6b2bdd",
   "metadata": {
    "id": "eb6b2bdd"
   },
   "outputs": [],
   "source": [
    "def irisCircuit(theta, omega):\n",
    "    qc = qiskit.QuantumCircuit(2)\n",
    "    for i in range(4):\n",
    "        if i : qc.cz(0, 1)\n",
    "        psiGate(qc, omega[(2*i) % 4], 0)\n",
    "        psiGate(qc, omega[(2*i+1) % 4], 1)\n",
    "        qc.cz(0, 1)\n",
    "        psiGate(qc, theta[(2*i)], 0)\n",
    "        psiGate(qc, theta[(2*i+1)], 1)\n",
    "    return qc"
   ]
  },
  {
   "cell_type": "code",
   "execution_count": 53,
   "id": "de6e64bb",
   "metadata": {
    "id": "de6e64bb"
   },
   "outputs": [],
   "source": [
    "def predictionDict(theta, omega, nshots = 100):\n",
    "    \n",
    "    qc = qiskit.QuantumCircuit(2, 2)\n",
    "    qc.append(irisCircuit(theta, omega), range(2))\n",
    "    qc.measure(range(2), range(2))\n",
    "    \n",
    "    job = qiskit.execute(qc, shots=nshots, backend=qs)\n",
    "    c = job.result().get_counts()\n",
    "    \n",
    "    return c\n"
   ]
  },
  {
   "cell_type": "code",
   "execution_count": 54,
   "id": "2a9dee13",
   "metadata": {
    "id": "2a9dee13"
   },
   "outputs": [],
   "source": [
    "def lossFunction(theta, data, nshots=100):\n",
    "    omega = data[attributes].values\n",
    "    label = diconvert[data[\"class\"]]\n",
    "    c = predictionDict(theta, omega)\n",
    "    \n",
    "    if label in c:\n",
    "        e = np.exp(c[label]/nshots)\n",
    "    else :\n",
    "        e = 1\n",
    "    s = np.exp(np.array(list(c.values()))/nshots).sum()\n",
    "    return -np.log(e/s)\n"
   ]
  },
  {
   "cell_type": "code",
   "execution_count": 55,
   "id": "8f792953",
   "metadata": {
    "id": "8f792953"
   },
   "outputs": [],
   "source": [
    "def lossBatch(theta, batch, nshots=100):\n",
    "    s = batch.apply(\n",
    "        lambda data : lossFunction(theta, data, nshots=nshots),\n",
    "        axis=1\n",
    "    )\n",
    "    return s.mean()                "
   ]
  },
  {
   "cell_type": "code",
   "execution_count": 56,
   "id": "a74e18a3",
   "metadata": {
    "id": "a74e18a3"
   },
   "outputs": [],
   "source": [
    "train_size = 90\n",
    "test_size = 60\n",
    "\n",
    "trainSet, testSet = train_test_split(\n",
    "    df, test_size=test_size, train_size=train_size, stratify = df[[\"class\"]])\n",
    "testSet = pd.DataFrame(testSet)\n",
    "trainSet= pd.DataFrame(trainSet)"
   ]
  },
  {
   "cell_type": "code",
   "execution_count": 57,
   "id": "2db57442",
   "metadata": {},
   "outputs": [],
   "source": [
    "def fit(train_set, nshots=100, maxiter=20, x=None):\n",
    "    if x is None:\n",
    "        x = np.random.uniform(-np.pi, np.pi, 8)\n",
    "    opt = sp.optimize.minimize(\n",
    "        fun=lambda theta : lossBatch(theta, trainSet, nshots=nshots),\n",
    "        x0 = x,\n",
    "        method='COBYLA',\n",
    "        options={'maxiter': maxiter}\n",
    "    )\n",
    "    return opt"
   ]
  },
  {
   "cell_type": "code",
   "execution_count": 58,
   "id": "18debf5b",
   "metadata": {},
   "outputs": [
    {
     "data": {
      "text/plain": [
       "     fun: 1.2231008727699302\n",
       "   maxcv: 0.0\n",
       " message: 'Maximum number of function evaluations has been exceeded.'\n",
       "    nfev: 20\n",
       "  status: 2\n",
       " success: False\n",
       "       x: array([-1.06908829,  0.50742429, -1.10651772, -1.550264  ,  3.76656074,\n",
       "       -1.65519488, -1.66592888, -0.82393337])"
      ]
     },
     "execution_count": 58,
     "metadata": {},
     "output_type": "execute_result"
    }
   ],
   "source": [
    "opt = fit(trainSet, nshots=250, maxiter=20)\n",
    "new_t = opt.x\n",
    "opt"
   ]
  },
  {
   "cell_type": "code",
   "execution_count": 59,
   "id": "f8f6895d",
   "metadata": {},
   "outputs": [
    {
     "data": {
      "text/plain": [
       "     fun: 1.2010522728946589\n",
       "   maxcv: 0.0\n",
       " message: 'Maximum number of function evaluations has been exceeded.'\n",
       "    nfev: 30\n",
       "  status: 2\n",
       " success: False\n",
       "       x: array([-2.17546612,  0.09782192,  1.28325372,  0.31547863,  2.51081862,\n",
       "        1.21235548, -3.60998167,  1.26076247])"
      ]
     },
     "execution_count": 59,
     "metadata": {},
     "output_type": "execute_result"
    }
   ],
   "source": [
    "opt = fit(trainSet, nshots=500, maxiter=30)\n",
    "new_t = opt.x\n",
    "opt"
   ]
  },
  {
   "cell_type": "code",
   "execution_count": 60,
   "id": "3bd95424",
   "metadata": {},
   "outputs": [
    {
     "data": {
      "text/plain": [
       "     fun: 1.1876838915911934\n",
       "   maxcv: 0.0\n",
       " message: 'Maximum number of function evaluations has been exceeded.'\n",
       "    nfev: 70\n",
       "  status: 2\n",
       " success: False\n",
       "       x: array([ 0.14894465,  2.82410125,  2.56052379, -2.56910202,  2.31776421,\n",
       "       -2.71525959,  1.03026264, -1.26934638])"
      ]
     },
     "execution_count": 60,
     "metadata": {},
     "output_type": "execute_result"
    }
   ],
   "source": [
    "opt = fit(trainSet, nshots=500, maxiter=70)\n",
    "theta_opt = opt.x\n",
    "opt"
   ]
  },
  {
   "cell_type": "code",
   "execution_count": 61,
   "id": "63ce36fe",
   "metadata": {
    "id": "63ce36fe"
   },
   "outputs": [],
   "source": [
    "def argmaxDict(c):\n",
    "    v = None\n",
    "    for key in c :\n",
    "        if v is None or c[key] >= v:\n",
    "            k = key\n",
    "            v = c[key]\n",
    "    return k"
   ]
  },
  {
   "cell_type": "code",
   "execution_count": 62,
   "id": "b1c7f009",
   "metadata": {
    "id": "b1c7f009"
   },
   "outputs": [],
   "source": [
    "def prediction(theta, omega):\n",
    "    return argmaxDict(predictionDict(theta, omega))"
   ]
  },
  {
   "cell_type": "code",
   "execution_count": 63,
   "id": "0301d0bf",
   "metadata": {
    "id": "0301d0bf"
   },
   "outputs": [],
   "source": [
    "def predictedClass(data):\n",
    "    omega = data[attributes].values.T\n",
    "    ypred = prediction(theta_opt, omega)\n",
    "    return dicinv[ypred]"
   ]
  },
  {
   "cell_type": "code",
   "execution_count": 64,
   "id": "49e75348",
   "metadata": {
    "id": "49e75348"
   },
   "outputs": [],
   "source": [
    "testSet[\"predicted\"] = testSet.apply(\n",
    "    lambda row : dicinv[prediction(theta_opt, row[attributes].values)],\n",
    "    axis=1\n",
    ")"
   ]
  },
  {
   "cell_type": "code",
   "execution_count": 65,
   "id": "b053bd6e",
   "metadata": {
    "id": "b053bd6e"
   },
   "outputs": [
    {
     "data": {
      "text/plain": [
       "0.36666666666666664"
      ]
     },
     "execution_count": 65,
     "metadata": {},
     "output_type": "execute_result"
    }
   ],
   "source": [
    "sum(np.array(testSet[\"class\"] == testSet[\"predicted\"]))/60"
   ]
  },
  {
   "cell_type": "code",
   "execution_count": 66,
   "id": "28558937-8d05-49a7-bee4-d8cc108d709d",
   "metadata": {},
   "outputs": [],
   "source": [
    "trainSet[\"predicted\"] = trainSet.apply(\n",
    "    lambda row : dicinv[prediction(theta_opt, row[attributes].values)],\n",
    "    axis=1\n",
    ")"
   ]
  },
  {
   "cell_type": "code",
   "execution_count": null,
   "id": "08cf4bbe-4219-43dd-a647-e5939cb55a20",
   "metadata": {},
   "outputs": [],
   "source": [
    "sum(np.array(trainSet[\"class\"] == trainSet[\"predicted\"]))/60"
   ]
  },
  {
   "cell_type": "markdown",
   "id": "594a00a8",
   "metadata": {},
   "source": [
    "# Gaussian XOR"
   ]
  },
  {
   "cell_type": "markdown",
   "id": "a29b036d-f86c-4858-95ba-1919b481bde2",
   "metadata": {},
   "source": [
    "### Dataset"
   ]
  },
  {
   "cell_type": "code",
   "execution_count": 3,
   "id": "1b4a5dfd-756d-472c-8c76-67ad03f51b29",
   "metadata": {},
   "outputs": [],
   "source": [
    "import numpy as np"
   ]
  },
  {
   "cell_type": "code",
   "execution_count": 76,
   "id": "ed504155-5c7b-4a49-82f9-36230dc58e91",
   "metadata": {},
   "outputs": [],
   "source": [
    "def generate_gaussian_point(x, y, label) :\n",
    "    pick_x = np.random.normal(loc=x, scale = 0.5)\n",
    "    pick_y = np.random.normal(loc=y, scale = 0.5)\n",
    "    return (pick_x, pick_y, label)"
   ]
  },
  {
   "cell_type": "code",
   "execution_count": 77,
   "id": "3557a9fa-08ee-427d-ad1d-3e4d95ec704a",
   "metadata": {},
   "outputs": [],
   "source": [
    "point1 = (-np.pi / 2, 0)\n",
    "point2 = (np.pi / 2, 0)\n",
    "point3 = (0, -np.pi / 2)\n",
    "point4 = (0, np.pi / 2)\n",
    "\n",
    "centers = [point1, point2, point3, point4]\n"
   ]
  },
  {
   "cell_type": "code",
   "execution_count": 78,
   "id": "cd7cd6a7-ee55-479f-953c-ca177528195a",
   "metadata": {},
   "outputs": [],
   "source": [
    "points = []\n",
    "for i in range(20) :\n",
    "    points.append(generate_gaussian_point(*point1, 0))\n",
    "    points.append(generate_gaussian_point(*point2, 0))\n",
    "    points.append(generate_gaussian_point(*point3, 1))\n",
    "    points.append(generate_gaussian_point(*point4, 1))\n"
   ]
  },
  {
   "cell_type": "code",
   "execution_count": 79,
   "id": "da085843-21ee-4f8d-9659-a35efa02eeea",
   "metadata": {},
   "outputs": [
    {
     "data": {
      "text/plain": [
       "(-3.141592653589793, 3.141592653589793)"
      ]
     },
     "execution_count": 79,
     "metadata": {},
     "output_type": "execute_result"
    },
    {
     "data": {
      "image/png": "[encoded data removed]",
      "text/plain": [
       "<Figure size 500x500 with 1 Axes>"
      ]
     },
     "metadata": {},
     "output_type": "display_data"
    }
   ],
   "source": [
    "import matplotlib.pyplot as plt\n",
    "\n",
    "plt.rcParams['figure.figsize'] = [5,5]\n",
    "\n",
    "x,y,c = zip(*points)\n",
    "c = [\"red\" if el==0 else \"blue\" for el in c]\n",
    "plt.scatter(x, y, color=c)\n",
    "x,y = zip(*centers)\n",
    "plt.scatter(x, y, color='green')\n",
    "\n",
    "\n",
    "\n",
    "x = np.linspace(-np.pi, np.pi, 100)\n",
    "y = x\n",
    "y2 = - x\n",
    "\n",
    "plt.plot(x,y)\n",
    "plt.plot(x,y2)\n",
    "\n",
    "plt.xlim([-np.pi, np.pi])\n",
    "plt.ylim([-np.pi, np.pi])"
   ]
  },
  {
   "cell_type": "code",
   "execution_count": 81,
   "id": "7c582a11-dacb-4908-8207-464c62ae75b0",
   "metadata": {},
   "outputs": [
    {
     "data": {
      "text/plain": [
       "[(-2.217557694674133, 0.03114968272236184, 0),\n",
       " (1.2670395265772538, -0.010985743698995317, 0),\n",
       " (0.047819856462581134, -2.375572091741907, 1),\n",
       " (-0.8697314691863324, 1.893592355833411, 1),\n",
       " (-1.326367947634389, 0.413407441205147, 0),\n",
       " (1.9959091772031468, -0.21282562465938812, 0),\n",
       " (-0.12116806544165501, -2.133952075333033, 1),\n",
       " (-0.6418962966951353, 2.7894468906325285, 1),\n",
       " (-0.7043354682983374, -0.4292814887786577, 0),\n",
       " (1.88065762187855, 0.20248032302949465, 0),\n",
       " (-0.213595080950215, -1.5081263622162164, 1),\n",
       " (-0.7750072524693712, 2.108231709016426, 1),\n",
       " (-0.7833743686522177, 0.5687712602344087, 0),\n",
       " (1.1844804678085383, 0.08665382874899479, 0),\n",
       " (0.9554378362891315, -1.1038797343121343, 1),\n",
       " (0.13080299351324648, 0.9351454094249616, 1),\n",
       " (-1.3027369835503626, -0.5121762828641984, 0),\n",
       " (1.912441574117965, 0.3539528507766015, 0),\n",
       " (0.3111910927775056, -0.690895511107663, 1),\n",
       " (-0.3928153495187432, 1.55610787584115, 1),\n",
       " (-1.1665234356781464, -0.1982248313094562, 0),\n",
       " (0.9385704466248154, -0.5963817197748131, 0),\n",
       " (0.4468514892237023, -2.0547460498503463, 1),\n",
       " (0.16838615564986883, 0.7074253827415453, 1),\n",
       " (-1.744310930136445, 0.2779705226602041, 0),\n",
       " (2.2012770550824885, -0.12538974511740664, 0),\n",
       " (-0.4690608258691755, -2.1387622656820966, 1),\n",
       " (-0.19748659051252745, 1.428600390406459, 1),\n",
       " (-0.8837090967269755, -0.7732630464289575, 0),\n",
       " (1.2390164852363892, -0.9226792444332741, 0),\n",
       " (-0.6014276152347683, -2.2680416788025237, 1),\n",
       " (-0.23769377521705248, 1.9277655368915156, 1),\n",
       " (-1.3095989516704831, -0.6874247920196558, 0),\n",
       " (1.4853865820757914, -0.18710654196748971, 0),\n",
       " (0.40701855814819826, -1.6205115830954853, 1),\n",
       " (-0.25857536232363426, 2.033413157735132, 1),\n",
       " (-0.9623841140657141, 0.05660704579466378, 0),\n",
       " (2.3937642758151987, 0.3274008778551761, 0),\n",
       " (-0.6178719703630097, -1.678402280181961, 1),\n",
       " (0.4207553756573226, 1.6889548147386315, 1),\n",
       " (-1.514427466816597, -0.5462936821772961, 0),\n",
       " (1.6397165679436616, -0.5254525347771114, 0),\n",
       " (-0.2986773955159574, -1.8264345734128304, 1),\n",
       " (-0.02857405761138656, 1.8564890288498552, 1),\n",
       " (-1.2283881383178936, 0.8623226250430029, 0),\n",
       " (1.9529036914864082, -0.10790847704636537, 0),\n",
       " (-0.48064053858437417, -1.8615708565831957, 1),\n",
       " (-0.7871741671575592, 1.3214600199563304, 1),\n",
       " (-1.6761886578714198, 1.0706061811695409, 0),\n",
       " (1.592568245044956, -0.17929240814421069, 0),\n",
       " (0.11839213595637653, -1.625079161939338, 1),\n",
       " (-0.4116886205492761, 2.0465733617894757, 1),\n",
       " (-2.5976240279367944, -0.1369291691089374, 0),\n",
       " (1.8508733197578402, 0.6529360092247408, 0),\n",
       " (0.7431610835758038, -1.6404075007528494, 1),\n",
       " (0.6344732830338113, 2.7649030179549823, 1),\n",
       " (-1.7937434008782396, 0.04818099852202474, 0),\n",
       " (1.4195614729263857, 0.1072006337926387, 0),\n",
       " (0.20434785491380594, -1.8144864006068264, 1),\n",
       " (0.42404593381450467, 2.8938372828967736, 1),\n",
       " (-1.5035478970019711, 0.30020370965718496, 0),\n",
       " (2.7500510229316304, -0.2535484472245652, 0),\n",
       " (0.8930625339752761, -1.6619921521800038, 1),\n",
       " (0.5470222707928736, 2.052400873904533, 1),\n",
       " (-2.2519029386189566, 0.20606276335355195, 0),\n",
       " (1.8425844709467643, 0.20035531527410042, 0),\n",
       " (-0.14020724781063493, -1.7243282334727936, 1),\n",
       " (1.0957272363424981, 1.2227686231551056, 1),\n",
       " (-2.4812565766426795, -0.5002139830738407, 0),\n",
       " (1.8826825118106185, -0.19975876022745165, 0),\n",
       " (0.4676329245447061, -0.6757071713274495, 1),\n",
       " (-0.34327580280493203, 1.2408278552931087, 1),\n",
       " (-1.8863466941415072, 0.6945794912461688, 0),\n",
       " (0.9383891212088732, 0.45072499210201095, 0),\n",
       " (-0.3236267679895919, -0.9228176101701167, 1),\n",
       " (-0.36591727625796094, 2.4758407826890685, 1),\n",
       " (-1.42939672558492, 0.17729062884858177, 0),\n",
       " (1.3747337437807778, 0.2809215483623781, 0),\n",
       " (-0.427224156136093, -1.351656282920251, 1),\n",
       " (-0.07554819857531672, 1.7624177743001885, 1)]"
      ]
     },
     "execution_count": 81,
     "metadata": {},
     "output_type": "execute_result"
    }
   ],
   "source": [
    "points"
   ]
  },
  {
   "cell_type": "code",
   "execution_count": 80,
   "id": "1210de68-21a9-4e47-b9b3-c74e3f636826",
   "metadata": {},
   "outputs": [],
   "source": [
    "def xorCircuit(theta, omega):\n",
    "    qc = qiskit.QuantumCircuit(2)\n",
    "    psiGate(qc, omega[0], 0)\n",
    "    psiGate(qc, omega[1], 1)\n",
    "    for i in range(2):\n",
    "        qc.cz(0, 1)\n",
    "        psiGate(qc, theta[2*i], 0)\n",
    "        psiGate(qc, theta[2*i+1], 1)\n",
    "    return qc"
   ]
  },
  {
   "cell_type": "markdown",
   "id": "ce1db633",
   "metadata": {},
   "source": [
    "# Skin segmentation"
   ]
  },
  {
   "cell_type": "code",
   "execution_count": 66,
   "id": "b7e4a6f5",
   "metadata": {},
   "outputs": [],
   "source": [
    "def skinSegCircuit(theta, omega):\n",
    "    qc = qiskit.QuantumCircuit(3)\n",
    "    psiGate(qc, omega[0], 0)\n",
    "    psiGate(qc, omega[1], 1)\n",
    "    psiGate(qc, omega[2], 2)\n",
    "    \n",
    "    qc.cz(0, 2)\n",
    "    \n",
    "    psiGate(qc, theta[0], 0)\n",
    "    psiGate(qc, theta[1], 2)\n",
    "    \n",
    "    qc.cz(0, 1)\n",
    "    \n",
    "    psiGate(qc, theta[2], 0)\n",
    "    psiGate(qc, theta[3], 1)\n",
    "    \n",
    "    qc.cz(1, 2)\n",
    "    \n",
    "    psiGate(qc, theta[4], 1)\n",
    "    psiGate(qc, theta[5], 2)\n",
    "    return qc"
   ]
  },
  {
   "cell_type": "markdown",
   "id": "c72282df",
   "metadata": {},
   "source": [
    "# Synthetic dataset with 4 classes"
   ]
  },
  {
   "cell_type": "code",
   "execution_count": null,
   "id": "a70ab528",
   "metadata": {},
   "outputs": [],
   "source": [
    "def syntheticCircuit(theta, omega):\n",
    "    qc = qiskit.QuantumCircuit(2)\n",
    "    for i in range(2):\n",
    "        if i : qc.cz(0, 1)\n",
    "        psiGate(qc, omega[0], 0)\n",
    "        psiGate(qc, omega[1], 1)\n",
    "        qc.cz(0, 1)\n",
    "        psiGate(qc, theta[(6*i)], 0)\n",
    "        psiGate(qc, theta[(6*i+1)], 1)\n",
    "        qc.cz(0, 1)\n",
    "        psiGate(qc, omega[0], 0)\n",
    "        psiGate(qc, omega[1], 1)\n",
    "        qc.cz(0, 1)\n",
    "        psiGate(qc, theta[(6*i+2)], 0)\n",
    "        psiGate(qc, theta[(6*i+3)], 1)\n",
    "        qc.cz(0, 1)\n",
    "        psiGate(qc, theta[(6*i+4)], 0)\n",
    "        psiGate(qc, theta[(6*i+5)], 1)\n",
    "    return qc"
   ]
  },
  {
   "cell_type": "code",
   "execution_count": null,
   "id": "10ca6433",
   "metadata": {},
   "outputs": [],
   "source": []
  },
  {
   "cell_type": "markdown",
   "id": "298bacf2-bf15-4810-b9ea-cc6a6c460f82",
   "metadata": {},
   "source": [
    "# Run on IBM Quantum Computer"
   ]
  },
  {
   "cell_type": "code",
   "execution_count": 67,
   "id": "4cd250c0",
   "metadata": {
    "id": "4cd250c0"
   },
   "outputs": [],
   "source": [
    "TOKEN = ..."
   ]
  },
  {
   "cell_type": "code",
   "execution_count": 68,
   "id": "f597aa8d",
   "metadata": {
    "id": "f597aa8d"
   },
   "outputs": [
    {
     "ename": "IBMQAccountCredentialsInvalidToken",
     "evalue": "'Invalid IBM Quantum Experience token found: \"Ellipsis\" of type <class \\'ellipsis\\'>.'",
     "output_type": "error",
     "traceback": [
      "\u001b[0;31m---------------------------------------------------------------------------\u001b[0m",
      "\u001b[0;31mIBMQAccountCredentialsInvalidToken\u001b[0m        Traceback (most recent call last)",
      "\u001b[1;32m/home/marius/epita/ING3/QML/QML/qml.ipynb Cell 29\u001b[0m in \u001b[0;36m<cell line: 1>\u001b[0;34m()\u001b[0m\n\u001b[0;32m----> <a href='vscode-notebook-cell://wsl%2Bubuntu/home/marius/epita/ING3/QML/QML/qml.ipynb#X46sdnNjb2RlLXJlbW90ZQ%3D%3D?line=0'>1</a>\u001b[0m qiskit\u001b[39m.\u001b[39;49mIBMQ\u001b[39m.\u001b[39;49msave_account(TOKEN, overwrite\u001b[39m=\u001b[39;49m\u001b[39mTrue\u001b[39;49;00m) \n\u001b[1;32m      <a href='vscode-notebook-cell://wsl%2Bubuntu/home/marius/epita/ING3/QML/QML/qml.ipynb#X46sdnNjb2RlLXJlbW90ZQ%3D%3D?line=1'>2</a>\u001b[0m provider \u001b[39m=\u001b[39m qiskit\u001b[39m.\u001b[39mIBMQ\u001b[39m.\u001b[39mload_account()\n\u001b[1;32m      <a href='vscode-notebook-cell://wsl%2Bubuntu/home/marius/epita/ING3/QML/QML/qml.ipynb#X46sdnNjb2RlLXJlbW90ZQ%3D%3D?line=2'>3</a>\u001b[0m backend \u001b[39m=\u001b[39m qiskit\u001b[39m.\u001b[39mproviders\u001b[39m.\u001b[39mibmq\u001b[39m.\u001b[39mleast_busy(provider\u001b[39m.\u001b[39mbackends())\n",
      "File \u001b[0;32m~/.pyenv/versions/3.9.10/lib/python3.9/site-packages/qiskit/providers/ibmq/ibmqfactory.py:257\u001b[0m, in \u001b[0;36mIBMQFactory.save_account\u001b[0;34m(token, url, hub, group, project, overwrite, **kwargs)\u001b[0m\n\u001b[1;32m    253\u001b[0m     \u001b[39mraise\u001b[39;00m IBMQAccountCredentialsInvalidUrl(\n\u001b[1;32m    254\u001b[0m         \u001b[39m'\u001b[39m\u001b[39mInvalid IBM Q Experience credentials found. \u001b[39m\u001b[39m'\u001b[39m \u001b[39m+\u001b[39m UPDATE_ACCOUNT_TEXT)\n\u001b[1;32m    256\u001b[0m \u001b[39mif\u001b[39;00m \u001b[39mnot\u001b[39;00m token \u001b[39mor\u001b[39;00m \u001b[39mnot\u001b[39;00m \u001b[39misinstance\u001b[39m(token, \u001b[39mstr\u001b[39m):\n\u001b[0;32m--> 257\u001b[0m     \u001b[39mraise\u001b[39;00m IBMQAccountCredentialsInvalidToken(\n\u001b[1;32m    258\u001b[0m         \u001b[39m'\u001b[39m\u001b[39mInvalid IBM Quantum Experience token \u001b[39m\u001b[39m'\u001b[39m\n\u001b[1;32m    259\u001b[0m         \u001b[39m'\u001b[39m\u001b[39mfound: \u001b[39m\u001b[39m\"\u001b[39m\u001b[39m{}\u001b[39;00m\u001b[39m\"\u001b[39m\u001b[39m of type \u001b[39m\u001b[39m{}\u001b[39;00m\u001b[39m.\u001b[39m\u001b[39m'\u001b[39m\u001b[39m.\u001b[39mformat(token, \u001b[39mtype\u001b[39m(token)))\n\u001b[1;32m    261\u001b[0m \u001b[39m# If any `hub`, `group`, or `project` is specified, make sure all parameters are set.\u001b[39;00m\n\u001b[1;32m    262\u001b[0m \u001b[39mif\u001b[39;00m \u001b[39many\u001b[39m([hub, group, project]) \u001b[39mand\u001b[39;00m \u001b[39mnot\u001b[39;00m \u001b[39mall\u001b[39m([hub, group, project]):\n",
      "\u001b[0;31mIBMQAccountCredentialsInvalidToken\u001b[0m: 'Invalid IBM Quantum Experience token found: \"Ellipsis\" of type <class \\'ellipsis\\'>.'"
     ]
    }
   ],
   "source": [
    "qiskit.IBMQ.save_account(TOKEN, overwrite=True) \n",
    "provider = qiskit.IBMQ.load_account()\n",
    "backend = qiskit.providers.ibmq.least_busy(provider.backends())\n",
    "\n",
    "mapped_circuit = qiskit.transpile(circuit, backend=backend)\n",
    "qobj = qiskit.assemble(mapped_circuit, backend=backend, shots=1024)"
   ]
  },
  {
   "cell_type": "code",
   "execution_count": null,
   "id": "28QMhcWdjscr",
   "metadata": {
    "id": "28QMhcWdjscr"
   },
   "outputs": [],
   "source": [
    "# execute the circuit\n",
    "job = backend.run(qobj)\n"
   ]
  },
  {
   "cell_type": "code",
   "execution_count": null,
   "id": "GYnzFJyMkGLt",
   "metadata": {
    "colab": {
     "base_uri": "https://localhost:8080/"
    },
    "id": "GYnzFJyMkGLt",
    "outputId": "10499c52-276c-4261-9106-ab92827e821b"
   },
   "outputs": [],
   "source": [
    "job.status()\n"
   ]
  },
  {
   "cell_type": "code",
   "execution_count": null,
   "id": "J-lZKs9wkRX5",
   "metadata": {
    "id": "J-lZKs9wkRX5"
   },
   "outputs": [],
   "source": [
    "ID = job.job_id()"
   ]
  },
  {
   "cell_type": "code",
   "execution_count": null,
   "id": "z7xJye4aoULQ",
   "metadata": {
    "id": "z7xJye4aoULQ"
   },
   "outputs": [],
   "source": [
    "job = backend.retrieve_job(ID)"
   ]
  },
  {
   "cell_type": "code",
   "execution_count": null,
   "id": "tZ5hsNGCnjgc",
   "metadata": {
    "id": "tZ5hsNGCnjgc"
   },
   "outputs": [],
   "source": [
    "result = job.result()"
   ]
  },
  {
   "cell_type": "code",
   "execution_count": null,
   "id": "aAtWad3Dkuz4",
   "metadata": {
    "id": "aAtWad3Dkuz4"
   },
   "outputs": [],
   "source": [
    "counts = result.get_counts()"
   ]
  },
  {
   "cell_type": "code",
   "execution_count": null,
   "id": "-qmEcVexnn4W",
   "metadata": {
    "colab": {
     "base_uri": "https://localhost:8080/"
    },
    "id": "-qmEcVexnn4W",
    "outputId": "790f4bab-7be6-4171-f976-8b67d2b2f945"
   },
   "outputs": [],
   "source": [
    "counts"
   ]
  }
 ],
 "metadata": {
  "colab": {
   "provenance": []
  },
  "kernelspec": {
   "display_name": "Python 3 (ipykernel)",
   "language": "python",
   "name": "python3"
  },
  "language_info": {
   "codemirror_mode": {
    "name": "ipython",
    "version": 3
   },
   "file_extension": ".py",
   "mimetype": "text/x-python",
   "name": "python",
   "nbconvert_exporter": "python",
   "pygments_lexer": "ipython3",
   "version": "3.10.8"
  },
  "vscode": {
   "interpreter": {
    "hash": "51b4e9700471eaf1a5d76c11bef0601667b05397081ebf41f03a2cf9585ff4ea"
   }
  }
 },
 "nbformat": 4,
 "nbformat_minor": 5
}
